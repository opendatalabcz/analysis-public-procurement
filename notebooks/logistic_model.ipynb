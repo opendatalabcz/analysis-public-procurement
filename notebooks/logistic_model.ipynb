{
 "cells": [
  {
   "cell_type": "markdown",
   "source": [
    "## Model logistické regrese na upravené datové sadě"
   ],
   "metadata": {
    "collapsed": false
   },
   "id": "57e196b7260aadda"
  },
  {
   "cell_type": "code",
   "execution_count": 1,
   "id": "cd644c3a-7150-4b19-81f9-8f3113baad08",
   "metadata": {
    "ExecuteTime": {
     "end_time": "2024-05-15T15:54:12.231436500Z",
     "start_time": "2024-05-15T15:54:11.883248600Z"
    }
   },
   "outputs": [],
   "source": [
    "from webpages.preprocessing import Preprocessor, print_metrics\n",
    "from sklearn.linear_model import LogisticRegression\n",
    "from sklearn.preprocessing import OneHotEncoder"
   ]
  },
  {
   "cell_type": "markdown",
   "source": [
    "Načtení dat"
   ],
   "metadata": {
    "collapsed": false
   },
   "id": "fcc083740bd09fc3"
  },
  {
   "cell_type": "code",
   "outputs": [],
   "source": [
    "preprocessor = Preprocessor('../data_2')\n",
    "X_train, X_val, X_test, y_train, y_val, y_test, X_train_all, X_val_all, X_test_all = preprocessor.get_predictions_dataframe()"
   ],
   "metadata": {
    "collapsed": false,
    "ExecuteTime": {
     "end_time": "2024-05-15T15:54:44.922620800Z",
     "start_time": "2024-05-15T15:54:14.291298200Z"
    }
   },
   "id": "fe32cf20dc0de02b",
   "execution_count": 2
  },
  {
   "cell_type": "markdown",
   "source": [
    "Odstranění chybějících hodnot"
   ],
   "metadata": {
    "collapsed": false
   },
   "id": "678eca32dfc816c3"
  },
  {
   "cell_type": "code",
   "outputs": [],
   "source": [
    "X_train['is_winner'] = y_train\n",
    "X_train.dropna(inplace=True)\n",
    "y_train = X_train['is_winner']\n",
    "X_train.drop(columns=['is_winner'], inplace=True)"
   ],
   "metadata": {
    "collapsed": false,
    "ExecuteTime": {
     "end_time": "2024-05-15T15:54:46.509873Z",
     "start_time": "2024-05-15T15:54:46.470449900Z"
    }
   },
   "id": "93090a1efb4d594c",
   "execution_count": 3
  },
  {
   "cell_type": "markdown",
   "source": [
    "Vytvoření dummy proměnných"
   ],
   "metadata": {
    "collapsed": false
   },
   "id": "68fa32cb20713e33"
  },
  {
   "cell_type": "code",
   "outputs": [],
   "source": [
    "enc = OneHotEncoder(handle_unknown='ignore')\n",
    "enc.fit(X_train)\n",
    "X_train_dummies = enc.transform(X_train)"
   ],
   "metadata": {
    "collapsed": false,
    "ExecuteTime": {
     "end_time": "2024-05-15T15:54:46.851347400Z",
     "start_time": "2024-05-15T15:54:46.804994500Z"
    }
   },
   "id": "19404cb7f8788554",
   "execution_count": 4
  },
  {
   "cell_type": "code",
   "outputs": [],
   "source": [
    "y_train = y_train.astype(\"str\")"
   ],
   "metadata": {
    "collapsed": false,
    "ExecuteTime": {
     "end_time": "2024-05-15T15:54:47.380653200Z",
     "start_time": "2024-05-15T15:54:47.374731600Z"
    }
   },
   "id": "e4f450736bac52ca",
   "execution_count": 5
  },
  {
   "cell_type": "markdown",
   "source": [
    "Vytvoření a trénování modelu"
   ],
   "metadata": {
    "collapsed": false
   },
   "id": "34b1629481bb981e"
  },
  {
   "cell_type": "code",
   "outputs": [],
   "source": [
    "clf = LogisticRegression(random_state=0, max_iter=1000).fit(X_train_dummies, y_train)"
   ],
   "metadata": {
    "collapsed": false,
    "ExecuteTime": {
     "end_time": "2024-05-15T15:54:48.074673800Z",
     "start_time": "2024-05-15T15:54:47.717227700Z"
    }
   },
   "id": "67c1a55397dbaff0",
   "execution_count": 6
  },
  {
   "cell_type": "code",
   "outputs": [],
   "source": [
    "X_val['is_winner'] = y_val\n",
    "X_val.dropna(inplace=True)\n",
    "y_val = X_val['is_winner']\n",
    "X_val.drop(columns=['is_winner'], inplace=True)\n",
    "X_val_dummies = enc.transform(X_val)"
   ],
   "metadata": {
    "collapsed": false,
    "ExecuteTime": {
     "end_time": "2024-05-15T15:54:48.095561700Z",
     "start_time": "2024-05-15T15:54:48.078080300Z"
    }
   },
   "id": "6b99ec446acbe3b1",
   "execution_count": 7
  },
  {
   "cell_type": "code",
   "outputs": [],
   "source": [
    "predictions = clf.predict(X_val_dummies)"
   ],
   "metadata": {
    "collapsed": false,
    "ExecuteTime": {
     "end_time": "2024-05-15T15:54:48.607087200Z",
     "start_time": "2024-05-15T15:54:48.601393700Z"
    }
   },
   "id": "2e41aa607e30680",
   "execution_count": 8
  },
  {
   "cell_type": "markdown",
   "source": [
    "Výpis metrik"
   ],
   "metadata": {
    "collapsed": false
   },
   "id": "4721cf05b64f99e9"
  },
  {
   "cell_type": "code",
   "outputs": [
    {
     "name": "stdout",
     "output_type": "stream",
     "text": [
      "Balanced accuracy: 0.49600511801859565\n",
      "F1 score micro: 0.530952380952381\n",
      "F1 score macro: 0.4149797427720938\n",
      "RocAuc score: 0.5057948994032311\n",
      "Confusion matrix:\n"
     ]
    },
    {
     "data": {
      "text/plain": "<Figure size 640x480 with 2 Axes>",
      "image/png": "[encoded data removed]"
     },
     "metadata": {},
     "output_type": "display_data"
    }
   ],
   "source": [
    "print_metrics(clf, X_val_dummies, y_val, retype_pred=True)"
   ],
   "metadata": {
    "collapsed": false,
    "ExecuteTime": {
     "end_time": "2024-05-15T15:54:49.592100400Z",
     "start_time": "2024-05-15T15:54:49.365123800Z"
    }
   },
   "id": "86a1df582516f5e",
   "execution_count": 9
  }
 ],
 "metadata": {
  "kernelspec": {
   "display_name": "Python 3 (ipykernel)",
   "language": "python",
   "name": "python3"
  },
  "language_info": {
   "codemirror_mode": {
    "name": "ipython",
    "version": 3
   },
   "file_extension": ".py",
   "mimetype": "text/x-python",
   "name": "python",
   "nbconvert_exporter": "python",
   "pygments_lexer": "ipython3",
   "version": "3.11.3"
  }
 },
 "nbformat": 4,
 "nbformat_minor": 5
}
