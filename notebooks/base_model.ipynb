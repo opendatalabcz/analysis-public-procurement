{
 "cells": [
  {
   "cell_type": "markdown",
   "source": [
    "#### Trénování modelů na základních datech"
   ],
   "metadata": {
    "collapsed": false
   },
   "id": "d0ddcf283398c2aa"
  },
  {
   "cell_type": "code",
   "execution_count": 1,
   "id": "initial_id",
   "metadata": {
    "collapsed": true,
    "ExecuteTime": {
     "end_time": "2024-05-14T11:41:12.995946500Z",
     "start_time": "2024-05-14T11:41:08.807012600Z"
    }
   },
   "outputs": [],
   "source": [
    "import pandas as pd\n",
    "import numpy as np\n",
    "import shap\n",
    "from catboost import CatBoostClassifier\n",
    "from sklearn.model_selection import train_test_split\n",
    "import matplotlib.pyplot as plt\n",
    "%matplotlib inline\n",
    "from webpages.preprocessing import Preprocessor, print_metrics"
   ]
  },
  {
   "cell_type": "code",
   "outputs": [],
   "source": [
    "p = Preprocessor('data_2')\n",
    "dataframes = p.get_dataframes()"
   ],
   "metadata": {
    "collapsed": false,
    "ExecuteTime": {
     "end_time": "2024-05-14T11:41:13.592062100Z",
     "start_time": "2024-05-14T11:41:12.928631900Z"
    }
   },
   "id": "413b00cd521df253",
   "execution_count": 2
  },
  {
   "cell_type": "code",
   "outputs": [],
   "source": [
    "address = dataframes['address']\n",
    "company = dataframes['company']\n",
    "contract_person = dataframes['contact_person']\n",
    "contract_authority = dataframes['contracting_authority']\n",
    "offer = dataframes['offer']\n",
    "procurement = dataframes['procurement']"
   ],
   "metadata": {
    "collapsed": false,
    "ExecuteTime": {
     "end_time": "2024-05-14T11:41:13.593551200Z",
     "start_time": "2024-05-14T11:41:13.543813900Z"
    }
   },
   "id": "ef53804ee1a62845",
   "execution_count": 3
  },
  {
   "cell_type": "markdown",
   "source": [
    "Příprava dat pro trénování modelu:"
   ],
   "metadata": {
    "collapsed": false
   },
   "id": "50e94e601164d81"
  },
  {
   "cell_type": "code",
   "outputs": [],
   "source": [
    "df_for_pred = offer.copy()\n",
    "df_for_pred = pd.merge(df_for_pred, procurement, left_on='procurement_id', right_on='id', how='left')\n",
    "df_for_pred['is_winner'] = (df_for_pred['company_id'] == df_for_pred['supplier_id'])"
   ],
   "metadata": {
    "collapsed": false,
    "ExecuteTime": {
     "end_time": "2024-05-14T11:41:13.599764600Z",
     "start_time": "2024-05-14T11:41:13.551361900Z"
    }
   },
   "id": "8c4bee570d0b04f7",
   "execution_count": 4
  },
  {
   "cell_type": "code",
   "outputs": [],
   "source": [
    "df_for_pred.drop(columns=['id_x', 'id_y', 'company_id', 'procurement_id', 'contact_person_id', 'procurement_name', 'name_from_nipez_codelist', 'system_number', 'contracting_authority_id', 'supplier_id' , 'contract_price', 'contract_price_vat',\n",
    "'contract_price_with_amendments', 'contract_price_with_amendments_vat'], inplace=True)"
   ],
   "metadata": {
    "collapsed": false,
    "ExecuteTime": {
     "end_time": "2024-05-14T11:41:13.600764900Z",
     "start_time": "2024-05-14T11:41:13.579096500Z"
    }
   },
   "id": "826667236d74c370",
   "execution_count": 5
  },
  {
   "cell_type": "code",
   "outputs": [
    {
     "data": {
      "text/plain": "  is_association_of_suppliers_x is_rejected_due_too_low is_withdrawn  \\\n0                          True                   False        False   \n1                         False                   False        False   \n2                         False                   False        False   \n3                          True                   False        False   \n4                         False                   False        False   \n5                         False                   False        False   \n6                         False                   False        False   \n7                          True                   False        False   \n8                         False                   False        False   \n9                         False                   False        False   \n\n       price  price_vat bids_submission_deadline code_from_nipez_codelist  \\\n0       0.00       0.00                      NaN               15710000-8   \n1    9832.02   11897.00                      NaN               50110000-9   \n2  130000.00  130000.00                      NaN                      NaN   \n3       0.00       0.00                      NaN               90511000-2   \n4    8468.00    9314.80                      NaN               90500000-2   \n5   90525.00  109535.25                      NaN               24612000-7   \n6       0.00       0.00                      NaN               15710000-8   \n7       0.00       0.00                      NaN               15710000-8   \n8  130000.00  130000.00                      NaN               03322000-2   \n9        NaN        NaN               2023-10-03               38434520-7   \n\n  date_of_contract_close date_of_publication is_association_of_suppliers_y  \\\n0             2022-03-02          2022-03-02                         False   \n1             2023-11-23          2023-11-30                         False   \n2             2022-02-24          2022-03-02                         False   \n3             2022-03-07          2022-03-07                         False   \n4             2023-10-24          2023-10-24                         False   \n5             2022-03-31          2022-04-01                         False   \n6             2022-04-01          2022-04-01                         False   \n7             2022-04-28          2022-05-03                         False   \n8             2022-03-31          2022-04-21                         False   \n9             2023-11-08          2023-09-04                         False   \n\n  place_of_performance       public_contract_regime  \\\n0       Liberecký kraj                          NaN   \n1       Jihočeský kraj                          NaN   \n2                  NaN  Small-scale public contract   \n3       Liberecký kraj                          NaN   \n4     Středočeský kraj                          NaN   \n5       Liberecký kraj                          NaN   \n6       Liberecký kraj                          NaN   \n7       Liberecký kraj                          NaN   \n8                  NaN  Small-scale public contract   \n9    Jihomoravský kraj  Above-limit public contract   \n\n                             type  \\\n0  Public contract for deliveries   \n1    Public contract for services   \n2  Public contract for deliveries   \n3    Public contract for services   \n4    Public contract for services   \n5    Public contract for services   \n6  Public contract for deliveries   \n7  Public contract for deliveries   \n8  Public contract for deliveries   \n9  Public contract for deliveries   \n\n                                   type_of_procedure  is_winner  \n0  Zadávání VZ na základě rámcové dohody bez obno...       True  \n1  Zadávání VZ na základě rámcové dohody bez obno...       True  \n2                                     Otevřená výzva       True  \n3  Zadávání VZ na základě rámcové dohody bez obno...       True  \n4  Zadávání VZ na základě rámcové dohody bez obno...       True  \n5  Zadávání VZ na základě rámcové dohody bez obno...       True  \n6  Zadávání VZ na základě rámcové dohody bez obno...       True  \n7  Zadávání VZ na základě rámcové dohody bez obno...       True  \n8                                     Otevřená výzva       True  \n9                                    Otevřené řízení      False  ",
      "text/html": "<div>\n<style scoped>\n    .dataframe tbody tr th:only-of-type {\n        vertical-align: middle;\n    }\n\n    .dataframe tbody tr th {\n        vertical-align: top;\n    }\n\n    .dataframe thead th {\n        text-align: right;\n    }\n</style>\n<table border=\"1\" class=\"dataframe\">\n  <thead>\n    <tr style=\"text-align: right;\">\n      <th></th>\n      <th>is_association_of_suppliers_x</th>\n      <th>is_rejected_due_too_low</th>\n      <th>is_withdrawn</th>\n      <th>price</th>\n      <th>price_vat</th>\n      <th>bids_submission_deadline</th>\n      <th>code_from_nipez_codelist</th>\n      <th>date_of_contract_close</th>\n      <th>date_of_publication</th>\n      <th>is_association_of_suppliers_y</th>\n      <th>place_of_performance</th>\n      <th>public_contract_regime</th>\n      <th>type</th>\n      <th>type_of_procedure</th>\n      <th>is_winner</th>\n    </tr>\n  </thead>\n  <tbody>\n    <tr>\n      <th>0</th>\n      <td>True</td>\n      <td>False</td>\n      <td>False</td>\n      <td>0.00</td>\n      <td>0.00</td>\n      <td>NaN</td>\n      <td>15710000-8</td>\n      <td>2022-03-02</td>\n      <td>2022-03-02</td>\n      <td>False</td>\n      <td>Liberecký kraj</td>\n      <td>NaN</td>\n      <td>Public contract for deliveries</td>\n      <td>Zadávání VZ na základě rámcové dohody bez obno...</td>\n      <td>True</td>\n    </tr>\n    <tr>\n      <th>1</th>\n      <td>False</td>\n      <td>False</td>\n      <td>False</td>\n      <td>9832.02</td>\n      <td>11897.00</td>\n      <td>NaN</td>\n      <td>50110000-9</td>\n      <td>2023-11-23</td>\n      <td>2023-11-30</td>\n      <td>False</td>\n      <td>Jihočeský kraj</td>\n      <td>NaN</td>\n      <td>Public contract for services</td>\n      <td>Zadávání VZ na základě rámcové dohody bez obno...</td>\n      <td>True</td>\n    </tr>\n    <tr>\n      <th>2</th>\n      <td>False</td>\n      <td>False</td>\n      <td>False</td>\n      <td>130000.00</td>\n      <td>130000.00</td>\n      <td>NaN</td>\n      <td>NaN</td>\n      <td>2022-02-24</td>\n      <td>2022-03-02</td>\n      <td>False</td>\n      <td>NaN</td>\n      <td>Small-scale public contract</td>\n      <td>Public contract for deliveries</td>\n      <td>Otevřená výzva</td>\n      <td>True</td>\n    </tr>\n    <tr>\n      <th>3</th>\n      <td>True</td>\n      <td>False</td>\n      <td>False</td>\n      <td>0.00</td>\n      <td>0.00</td>\n      <td>NaN</td>\n      <td>90511000-2</td>\n      <td>2022-03-07</td>\n      <td>2022-03-07</td>\n      <td>False</td>\n      <td>Liberecký kraj</td>\n      <td>NaN</td>\n      <td>Public contract for services</td>\n      <td>Zadávání VZ na základě rámcové dohody bez obno...</td>\n      <td>True</td>\n    </tr>\n    <tr>\n      <th>4</th>\n      <td>False</td>\n      <td>False</td>\n      <td>False</td>\n      <td>8468.00</td>\n      <td>9314.80</td>\n      <td>NaN</td>\n      <td>90500000-2</td>\n      <td>2023-10-24</td>\n      <td>2023-10-24</td>\n      <td>False</td>\n      <td>Středočeský kraj</td>\n      <td>NaN</td>\n      <td>Public contract for services</td>\n      <td>Zadávání VZ na základě rámcové dohody bez obno...</td>\n      <td>True</td>\n    </tr>\n    <tr>\n      <th>5</th>\n      <td>False</td>\n      <td>False</td>\n      <td>False</td>\n      <td>90525.00</td>\n      <td>109535.25</td>\n      <td>NaN</td>\n      <td>24612000-7</td>\n      <td>2022-03-31</td>\n      <td>2022-04-01</td>\n      <td>False</td>\n      <td>Liberecký kraj</td>\n      <td>NaN</td>\n      <td>Public contract for services</td>\n      <td>Zadávání VZ na základě rámcové dohody bez obno...</td>\n      <td>True</td>\n    </tr>\n    <tr>\n      <th>6</th>\n      <td>False</td>\n      <td>False</td>\n      <td>False</td>\n      <td>0.00</td>\n      <td>0.00</td>\n      <td>NaN</td>\n      <td>15710000-8</td>\n      <td>2022-04-01</td>\n      <td>2022-04-01</td>\n      <td>False</td>\n      <td>Liberecký kraj</td>\n      <td>NaN</td>\n      <td>Public contract for deliveries</td>\n      <td>Zadávání VZ na základě rámcové dohody bez obno...</td>\n      <td>True</td>\n    </tr>\n    <tr>\n      <th>7</th>\n      <td>True</td>\n      <td>False</td>\n      <td>False</td>\n      <td>0.00</td>\n      <td>0.00</td>\n      <td>NaN</td>\n      <td>15710000-8</td>\n      <td>2022-04-28</td>\n      <td>2022-05-03</td>\n      <td>False</td>\n      <td>Liberecký kraj</td>\n      <td>NaN</td>\n      <td>Public contract for deliveries</td>\n      <td>Zadávání VZ na základě rámcové dohody bez obno...</td>\n      <td>True</td>\n    </tr>\n    <tr>\n      <th>8</th>\n      <td>False</td>\n      <td>False</td>\n      <td>False</td>\n      <td>130000.00</td>\n      <td>130000.00</td>\n      <td>NaN</td>\n      <td>03322000-2</td>\n      <td>2022-03-31</td>\n      <td>2022-04-21</td>\n      <td>False</td>\n      <td>NaN</td>\n      <td>Small-scale public contract</td>\n      <td>Public contract for deliveries</td>\n      <td>Otevřená výzva</td>\n      <td>True</td>\n    </tr>\n    <tr>\n      <th>9</th>\n      <td>False</td>\n      <td>False</td>\n      <td>False</td>\n      <td>NaN</td>\n      <td>NaN</td>\n      <td>2023-10-03</td>\n      <td>38434520-7</td>\n      <td>2023-11-08</td>\n      <td>2023-09-04</td>\n      <td>False</td>\n      <td>Jihomoravský kraj</td>\n      <td>Above-limit public contract</td>\n      <td>Public contract for deliveries</td>\n      <td>Otevřené řízení</td>\n      <td>False</td>\n    </tr>\n  </tbody>\n</table>\n</div>"
     },
     "execution_count": 6,
     "metadata": {},
     "output_type": "execute_result"
    }
   ],
   "source": [
    "df_for_pred.head(10)"
   ],
   "metadata": {
    "collapsed": false,
    "ExecuteTime": {
     "end_time": "2024-05-14T11:41:13.610180300Z",
     "start_time": "2024-05-14T11:41:13.589758300Z"
    }
   },
   "id": "6427aa8facb084be",
   "execution_count": 6
  },
  {
   "cell_type": "markdown",
   "source": [
    "Určení kategorických příznaků pro model CatBoost a nahrazení chybějících hodnot:"
   ],
   "metadata": {
    "collapsed": false
   },
   "id": "dd73a2b60995b14e"
  },
  {
   "cell_type": "code",
   "outputs": [],
   "source": [
    "categ = ['place_of_performance', 'public_contract_regime', 'type', 'type_of_procedure', 'code_from_nipez_codelist','date_of_contract_close', 'bids_submission_deadline', 'date_of_publication']\n",
    "for c in categ:\n",
    "    df_for_pred[c].replace({np.nan : 'Unknown'}, inplace=True)"
   ],
   "metadata": {
    "collapsed": false,
    "ExecuteTime": {
     "end_time": "2024-05-14T11:41:13.642683500Z",
     "start_time": "2024-05-14T11:41:13.605411600Z"
    }
   },
   "id": "5dacc36d3c798ef2",
   "execution_count": 7
  },
  {
   "cell_type": "markdown",
   "source": [
    "Odstranění řádků s chybějícími hodnotami:"
   ],
   "metadata": {
    "collapsed": false
   },
   "id": "3dd365d403b07fd7"
  },
  {
   "cell_type": "code",
   "outputs": [],
   "source": [
    "df_for_pred.dropna(inplace=True)"
   ],
   "metadata": {
    "collapsed": false,
    "ExecuteTime": {
     "end_time": "2024-05-14T11:41:13.686017400Z",
     "start_time": "2024-05-14T11:41:13.626865500Z"
    }
   },
   "id": "e8eeb11e515ff4d4",
   "execution_count": 8
  },
  {
   "cell_type": "markdown",
   "source": [
    "Seřazení dat podle data publikace a rozdělení na validační data:"
   ],
   "metadata": {
    "collapsed": false
   },
   "id": "2d56ae07eb79431b"
  },
  {
   "cell_type": "code",
   "outputs": [],
   "source": [
    "df_for_pred = df_for_pred.sort_values(by='date_of_publication')"
   ],
   "metadata": {
    "collapsed": false,
    "ExecuteTime": {
     "end_time": "2024-05-14T11:41:13.720414200Z",
     "start_time": "2024-05-14T11:41:13.653446700Z"
    }
   },
   "id": "3a0d0d24452e144d",
   "execution_count": 9
  },
  {
   "cell_type": "code",
   "outputs": [],
   "source": [
    "train_data = df_for_pred.drop(columns=[\"is_winner\"])\n",
    "train_labels = df_for_pred[\"is_winner\"]\n",
    "X_train_base, X_test_base, y_train_base, y_test_base = train_test_split(train_data, train_labels, test_size=0.20, shuffle=False)"
   ],
   "metadata": {
    "collapsed": false,
    "ExecuteTime": {
     "end_time": "2024-05-14T11:41:13.720414200Z",
     "start_time": "2024-05-14T11:41:13.690600100Z"
    }
   },
   "id": "ac0b6cfa449fd36",
   "execution_count": 10
  },
  {
   "cell_type": "markdown",
   "source": [
    "Natrénování základního modelu CatBoost:"
   ],
   "metadata": {
    "collapsed": false
   },
   "id": "e4529eea429dc1d8"
  },
  {
   "cell_type": "code",
   "outputs": [
    {
     "name": "stdout",
     "output_type": "stream",
     "text": [
      "0:\tlearn: 0.5405328\ttotal: 238ms\tremaining: 2.14s\n",
      "1:\tlearn: 0.5161505\ttotal: 342ms\tremaining: 1.37s\n",
      "2:\tlearn: 0.5074953\ttotal: 423ms\tremaining: 987ms\n",
      "3:\tlearn: 0.5046557\ttotal: 484ms\tremaining: 726ms\n",
      "4:\tlearn: 0.5019609\ttotal: 556ms\tremaining: 556ms\n",
      "5:\tlearn: 0.4975908\ttotal: 601ms\tremaining: 401ms\n",
      "6:\tlearn: 0.4950989\ttotal: 648ms\tremaining: 278ms\n",
      "7:\tlearn: 0.4917350\ttotal: 705ms\tremaining: 176ms\n",
      "8:\tlearn: 0.4901102\ttotal: 753ms\tremaining: 83.6ms\n",
      "9:\tlearn: 0.4893927\ttotal: 811ms\tremaining: 0us\n"
     ]
    },
    {
     "data": {
      "text/plain": "<catboost.core.CatBoostClassifier at 0x1b2278e8f90>"
     },
     "execution_count": 11,
     "metadata": {},
     "output_type": "execute_result"
    }
   ],
   "source": [
    "model_with_price = CatBoostClassifier(iterations=10,\n",
    "                           depth=7,\n",
    "                           learning_rate=1,\n",
    "                           loss_function='Logloss',\n",
    "                           verbose=True,\n",
    "                           cat_features=['place_of_performance', 'public_contract_regime', 'type', 'type_of_procedure', 'code_from_nipez_codelist','date_of_contract_close', 'date_of_publication', 'bids_submission_deadline'])\n",
    "# train the model\n",
    "model_with_price.fit(X_train_base, y_train_base)"
   ],
   "metadata": {
    "collapsed": false,
    "ExecuteTime": {
     "end_time": "2024-05-14T11:41:14.770377100Z",
     "start_time": "2024-05-14T11:41:13.705665300Z"
    }
   },
   "id": "a637a5d5a7b09aa",
   "execution_count": 11
  },
  {
   "cell_type": "code",
   "outputs": [
    {
     "name": "stdout",
     "output_type": "stream",
     "text": [
      "Metriky základního modelu CatBoost na validační množině:\n",
      "Balanced accuracy: 0.7268023897658706\n",
      "F1 score micro: 0.7256669398160794\n",
      "F1 score macro: 0.7231655628643783\n",
      "RocAuc score: 0.7937011191489565\n",
      "Confusion matrix:\n"
     ]
    },
    {
     "data": {
      "text/plain": "<Figure size 640x480 with 2 Axes>",
      "image/png": "[encoded data removed]"
     },
     "metadata": {},
     "output_type": "display_data"
    }
   ],
   "source": [
    "print(\"Metriky základního modelu CatBoost na validační množině:\")\n",
    "print_metrics(model_with_price, X_test_base, y_test_base, ptitle=\"Matice záměn pro CatBoost model na základních datech\")"
   ],
   "metadata": {
    "collapsed": false,
    "ExecuteTime": {
     "end_time": "2024-05-14T11:41:15.184601600Z",
     "start_time": "2024-05-14T11:41:14.772388600Z"
    }
   },
   "id": "4015a3bfa59765cf",
   "execution_count": 12
  },
  {
   "cell_type": "code",
   "outputs": [],
   "source": [
    "from sklearn.metrics import confusion_matrix"
   ],
   "metadata": {
    "collapsed": false,
    "ExecuteTime": {
     "end_time": "2024-05-14T11:41:15.185620400Z",
     "start_time": "2024-05-14T11:41:15.177483800Z"
    }
   },
   "id": "eca9a4d8e06e64",
   "execution_count": 13
  },
  {
   "cell_type": "code",
   "outputs": [],
   "source": [
    "predictions = model_with_price.predict(X_test_base)\n",
    "cm_catboost = confusion_matrix(y_test_base.astype(\"str\"), predictions)"
   ],
   "metadata": {
    "collapsed": false,
    "ExecuteTime": {
     "end_time": "2024-05-14T11:41:15.346161200Z",
     "start_time": "2024-05-14T11:41:15.181547700Z"
    }
   },
   "id": "b39eda524f464f70",
   "execution_count": 14
  },
  {
   "cell_type": "markdown",
   "source": [
    "Zobrazení důležitosti příznaků:"
   ],
   "metadata": {
    "collapsed": false
   },
   "id": "5343db5f88e7730f"
  },
  {
   "cell_type": "code",
   "outputs": [
    {
     "data": {
      "text/plain": "type_of_procedure                34.897792\ncode_from_nipez_codelist         15.980910\npublic_contract_regime           10.557039\nplace_of_performance              8.991075\nprice_vat                         8.117585\ntype                              7.380310\nprice                             3.110001\nis_association_of_suppliers_x     2.688404\nis_withdrawn                      2.553458\nis_association_of_suppliers_y     2.545400\nbids_submission_deadline          1.720144\ndate_of_publication               1.338343\nis_rejected_due_too_low           0.119539\ndate_of_contract_close            0.000000\ndtype: float64"
     },
     "execution_count": 15,
     "metadata": {},
     "output_type": "execute_result"
    }
   ],
   "source": [
    "importances_simple = model_with_price.get_feature_importance()\n",
    "feature_importances_simple = pd.Series(importances_simple, index=X_test_base.columns).sort_values(ascending=False)\n",
    "feature_importances_simple "
   ],
   "metadata": {
    "collapsed": false,
    "ExecuteTime": {
     "end_time": "2024-05-14T11:41:15.346161200Z",
     "start_time": "2024-05-14T11:41:15.305549200Z"
    }
   },
   "id": "f80b26e9f503aa45",
   "execution_count": 15
  },
  {
   "cell_type": "markdown",
   "source": [
    "Natrénování modelu logistické regrese:"
   ],
   "metadata": {
    "collapsed": false
   },
   "id": "e7c6093de71c6d94"
  },
  {
   "cell_type": "code",
   "outputs": [],
   "source": [
    "from sklearn.linear_model import LogisticRegression\n",
    "from sklearn.preprocessing import OneHotEncoder"
   ],
   "metadata": {
    "collapsed": false,
    "ExecuteTime": {
     "end_time": "2024-05-14T11:41:22.290748600Z",
     "start_time": "2024-05-14T11:41:22.242063Z"
    }
   },
   "id": "334ce125862d3fa",
   "execution_count": 17
  },
  {
   "cell_type": "markdown",
   "source": [
    "Převedení kategorických příznaků na dummy proměnné:"
   ],
   "metadata": {
    "collapsed": false
   },
   "id": "d19c7074e53cd734"
  },
  {
   "cell_type": "code",
   "outputs": [],
   "source": [
    "enc = OneHotEncoder(handle_unknown='ignore')\n",
    "enc.fit(X_train_base)\n",
    "X_train_dummies = enc.transform(X_train_base)"
   ],
   "metadata": {
    "collapsed": false,
    "ExecuteTime": {
     "end_time": "2024-05-14T11:41:22.389603Z",
     "start_time": "2024-05-14T11:41:22.250314700Z"
    }
   },
   "id": "19cdeaf2c90580b6",
   "execution_count": 18
  },
  {
   "cell_type": "code",
   "outputs": [],
   "source": [
    "clf = LogisticRegression(random_state=0, max_iter=1000).fit(X_train_dummies, y_train_base)"
   ],
   "metadata": {
    "collapsed": false,
    "ExecuteTime": {
     "end_time": "2024-05-14T11:41:28.115874800Z",
     "start_time": "2024-05-14T11:41:22.386598400Z"
    }
   },
   "id": "c9894cb515052ef7",
   "execution_count": 19
  },
  {
   "cell_type": "code",
   "outputs": [],
   "source": [
    "X_test_dummies = enc.transform(X_test_base)"
   ],
   "metadata": {
    "collapsed": false,
    "ExecuteTime": {
     "end_time": "2024-05-14T11:41:28.156686800Z",
     "start_time": "2024-05-14T11:41:28.115874800Z"
    }
   },
   "id": "c19be909a29a6898",
   "execution_count": 20
  },
  {
   "cell_type": "markdown",
   "source": [
    "Výpis metrik pro model logistické regrese:"
   ],
   "metadata": {
    "collapsed": false
   },
   "id": "e38315927c8e0ed2"
  },
  {
   "cell_type": "code",
   "outputs": [
    {
     "name": "stdout",
     "output_type": "stream",
     "text": [
      "Balanced accuracy: 0.7149194081155412\n",
      "F1 score micro: 0.7141946644814714\n",
      "F1 score macro: 0.7132330491860157\n",
      "RocAuc score: 0.7824047309261539\n",
      "Confusion matrix:\n"
     ]
    },
    {
     "data": {
      "text/plain": "<Figure size 640x480 with 2 Axes>",
      "image/png": "[encoded data removed]"
     },
     "metadata": {},
     "output_type": "display_data"
    }
   ],
   "source": [
    "print_metrics(clf, X_test_dummies, y_test_base, retype_pred=True)"
   ],
   "metadata": {
    "collapsed": false,
    "ExecuteTime": {
     "end_time": "2024-05-14T11:41:28.449252100Z",
     "start_time": "2024-05-14T11:41:28.154497100Z"
    }
   },
   "id": "e20e894e5d635d01",
   "execution_count": 21
  }
 ],
 "metadata": {
  "kernelspec": {
   "display_name": "Python 3",
   "language": "python",
   "name": "python3"
  },
  "language_info": {
   "codemirror_mode": {
    "name": "ipython",
    "version": 2
   },
   "file_extension": ".py",
   "mimetype": "text/x-python",
   "name": "python",
   "nbconvert_exporter": "python",
   "pygments_lexer": "ipython2",
   "version": "2.7.6"
  }
 },
 "nbformat": 4,
 "nbformat_minor": 5
}
