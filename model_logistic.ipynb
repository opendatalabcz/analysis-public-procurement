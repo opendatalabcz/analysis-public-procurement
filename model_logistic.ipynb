{
 "cells": [
  {
   "cell_type": "code",
   "execution_count": 2,
   "id": "cd644c3a-7150-4b19-81f9-8f3113baad08",
   "metadata": {
    "ExecuteTime": {
     "end_time": "2024-04-22T13:16:11.474782100Z",
     "start_time": "2024-04-22T13:16:11.454573Z"
    }
   },
   "outputs": [],
   "source": [
    "import pandas as pd\n",
    "\n",
    "from scripts import Preprocessor"
   ]
  },
  {
   "cell_type": "code",
   "outputs": [],
   "source": [
    "preprocessor = Preprocessor('data_2')\n",
    "X_train, X_val, X_test, y_train, y_val, y_test, X_train_all, X_val_all, X_test_all = preprocessor.get_predictions_dataframe()"
   ],
   "metadata": {
    "collapsed": false,
    "ExecuteTime": {
     "end_time": "2024-04-22T13:16:39.037242100Z",
     "start_time": "2024-04-22T13:16:11.478174200Z"
    }
   },
   "id": "fe32cf20dc0de02b",
   "execution_count": 3
  },
  {
   "cell_type": "code",
   "outputs": [],
   "source": [
    "# do logistic regression on give data\n",
    "from sklearn.linear_model import LogisticRegression\n",
    "from sklearn.preprocessing import OneHotEncoder, StandardScaler\n",
    "from sklearn.metrics import balanced_accuracy_score, f1_score, confusion_matrix, roc_auc_score"
   ],
   "metadata": {
    "collapsed": false,
    "ExecuteTime": {
     "end_time": "2024-04-22T13:16:39.042008900Z",
     "start_time": "2024-04-22T13:16:39.039432300Z"
    }
   },
   "id": "b7983bb8fd52f812",
   "execution_count": 4
  },
  {
   "cell_type": "code",
   "outputs": [],
   "source": [
    "X_train['is_winner'] = y_train\n",
    "X_train.dropna(inplace=True)\n",
    "y_train = X_train['is_winner']\n",
    "X_train.drop(columns=['is_winner'], inplace=True)"
   ],
   "metadata": {
    "collapsed": false,
    "ExecuteTime": {
     "end_time": "2024-04-22T13:16:39.064850300Z",
     "start_time": "2024-04-22T13:16:39.043157200Z"
    }
   },
   "id": "93090a1efb4d594c",
   "execution_count": 5
  },
  {
   "cell_type": "code",
   "outputs": [],
   "source": [
    "enc = OneHotEncoder(handle_unknown='ignore')\n",
    "enc.fit(X_train)\n",
    "X_train_dummies = enc.transform(X_train)"
   ],
   "metadata": {
    "collapsed": false,
    "ExecuteTime": {
     "end_time": "2024-04-22T13:16:39.101042Z",
     "start_time": "2024-04-22T13:16:39.067217600Z"
    }
   },
   "id": "19404cb7f8788554",
   "execution_count": 6
  },
  {
   "cell_type": "code",
   "outputs": [],
   "source": [
    "y_train = y_train.astype(\"str\")"
   ],
   "metadata": {
    "collapsed": false,
    "ExecuteTime": {
     "end_time": "2024-04-22T13:16:39.108010700Z",
     "start_time": "2024-04-22T13:16:39.102063600Z"
    }
   },
   "id": "e4f450736bac52ca",
   "execution_count": 7
  },
  {
   "cell_type": "code",
   "outputs": [],
   "source": [
    "clf = LogisticRegression(random_state=0, max_iter=1000).fit(X_train_dummies, y_train)"
   ],
   "metadata": {
    "collapsed": false,
    "ExecuteTime": {
     "end_time": "2024-04-22T13:16:39.420520500Z",
     "start_time": "2024-04-22T13:16:39.109033600Z"
    }
   },
   "id": "67c1a55397dbaff0",
   "execution_count": 8
  },
  {
   "cell_type": "code",
   "outputs": [],
   "source": [
    "X_val['is_winner'] = y_val\n",
    "X_val.dropna(inplace=True)\n",
    "y_val = X_val['is_winner']\n",
    "X_val.drop(columns=['is_winner'], inplace=True)\n",
    "X_val_dummies = enc.transform(X_val)"
   ],
   "metadata": {
    "collapsed": false,
    "ExecuteTime": {
     "end_time": "2024-04-22T13:16:39.436169500Z",
     "start_time": "2024-04-22T13:16:39.421525800Z"
    }
   },
   "id": "6b99ec446acbe3b1",
   "execution_count": 9
  },
  {
   "cell_type": "code",
   "outputs": [],
   "source": [
    "predictions = clf.predict(X_val_dummies)"
   ],
   "metadata": {
    "collapsed": false,
    "ExecuteTime": {
     "end_time": "2024-04-22T13:16:39.441797900Z",
     "start_time": "2024-04-22T13:16:39.437514300Z"
    }
   },
   "id": "2e41aa607e30680",
   "execution_count": 10
  },
  {
   "cell_type": "code",
   "outputs": [
    {
     "name": "stdout",
     "output_type": "stream",
     "text": [
      "Balanced accuracy: 0.506382529049468\n",
      "F1 score micro: 0.5392857142857143\n",
      "F1 score macro: 0.43910624164258294\n",
      "RocAuc score: 0.5100946633517596\n",
      "Confusion matrix:\n"
     ]
    },
    {
     "data": {
      "text/plain": "array([[808, 105],\n       [669,  98]], dtype=int64)"
     },
     "metadata": {},
     "output_type": "display_data"
    }
   ],
   "source": [
    "ba = balanced_accuracy_score(y_val.astype(\"str\"), predictions)\n",
    "f1_micro = f1_score(y_val.astype(\"str\"), predictions, average=\"micro\")\n",
    "f1_macro = f1_score(y_val.astype(\"str\"), predictions, average=\"macro\")\n",
    "ra = roc_auc_score(y_val.astype(\"str\"), clf.predict_proba(X_val_dummies)[:,1])\n",
    "print(f\"Balanced accuracy: {ba}\")\n",
    "print(f\"F1 score micro: {f1_micro}\")\n",
    "print(f\"F1 score macro: {f1_macro}\")\n",
    "print(f\"RocAuc score: {ra}\")\n",
    "print(\"Confusion matrix:\")\n",
    "display(confusion_matrix(y_val.astype(\"str\"), predictions))"
   ],
   "metadata": {
    "collapsed": false,
    "ExecuteTime": {
     "end_time": "2024-04-22T13:16:39.478844900Z",
     "start_time": "2024-04-22T13:16:39.442827500Z"
    }
   },
   "id": "d38d73a25553146e",
   "execution_count": 11
  },
  {
   "cell_type": "code",
   "outputs": [],
   "source": [],
   "metadata": {
    "collapsed": false,
    "ExecuteTime": {
     "end_time": "2024-04-22T13:16:39.478844900Z",
     "start_time": "2024-04-22T13:16:39.476626100Z"
    }
   },
   "id": "6b91d9d64262f118",
   "execution_count": 11
  },
  {
   "cell_type": "code",
   "outputs": [],
   "source": [],
   "metadata": {
    "collapsed": false,
    "ExecuteTime": {
     "end_time": "2024-04-22T13:16:39.484541900Z",
     "start_time": "2024-04-22T13:16:39.481030300Z"
    }
   },
   "id": "fe35a10ab024e9df",
   "execution_count": 11
  }
 ],
 "metadata": {
  "kernelspec": {
   "display_name": "Python 3 (ipykernel)",
   "language": "python",
   "name": "python3"
  },
  "language_info": {
   "codemirror_mode": {
    "name": "ipython",
    "version": 3
   },
   "file_extension": ".py",
   "mimetype": "text/x-python",
   "name": "python",
   "nbconvert_exporter": "python",
   "pygments_lexer": "ipython3",
   "version": "3.11.3"
  }
 },
 "nbformat": 4,
 "nbformat_minor": 5
}
