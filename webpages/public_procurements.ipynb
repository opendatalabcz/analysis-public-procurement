{
 "cells": [
  {
   "cell_type": "raw",
   "id": "473da0bb51aa3639",
   "metadata": {
    "collapsed": false
   },
   "source": [
    "---\n",
    "title: \"Veřejné zakázky - vizualizace dat\"\n",
    "\n",
    "format: \n",
    "    dashboard:\n",
    "        theme: flatly\n",
    "        nav-buttons:\n",
    "            - icon: linkedin\n",
    "              href: https://linkedin.com/in/martin-přibyl-86b988276\n",
    "            - icon: github\n",
    "              href: https://github.com/opendatalabcz/analysis-public-procurement\n",
    "            - icon: pin-map\n",
    "              href: https://tendermaps.opendatalab.cz/\n",
    "---"
   ]
  },
  {
   "cell_type": "code",
   "execution_count": null,
   "id": "d373e04e-0cf3-40d8-800a-55661afbfc6a",
   "metadata": {
    "execution": {
     "iopub.execute_input": "2024-07-01T15:52:50.119884Z",
     "iopub.status.busy": "2024-07-01T15:52:50.118718Z",
     "iopub.status.idle": "2024-07-01T15:52:52.262237Z",
     "shell.execute_reply": "2024-07-01T15:52:52.262237Z"
    }
   },
   "outputs": [],
   "source": [
    "import pandas as pd\n",
    "import plotly.express as px\n",
    "from itables import show\n",
    "from itables import JavascriptFunction\n",
    "import datetime\n",
    "import textwrap\n",
    "from sklearn.metrics import balanced_accuracy_score, f1_score, roc_auc_score\n",
    "from catboost import CatBoostClassifier\n",
    "from preprocessing import Preprocessor\n",
    "import plotly.io as pio\n",
    "pio.renderers.default = \"notebook_connected\"\n",
    "p = Preprocessor('./data')\n",
    "dataframes = p.get_dataframes()"
   ]
  },
  {
   "cell_type": "code",
   "execution_count": null,
   "id": "ce88f6071e887082",
   "metadata": {
    "execution": {
     "iopub.execute_input": "2024-07-01T15:52:52.265990Z",
     "iopub.status.busy": "2024-07-01T15:52:52.264982Z",
     "iopub.status.idle": "2024-07-01T15:52:52.304074Z",
     "shell.execute_reply": "2024-07-01T15:52:52.304074Z"
    }
   },
   "outputs": [],
   "source": [
    "#| echo: False\n",
    "date_now = datetime.date.today()\n",
    "date_of_actualization = datetime.date.today()\n",
    "month = (date_now - pd.DateOffset(months=1))\n",
    "year = (date_now - pd.DateOffset(years=1)).year\n",
    "previous_month = (month - pd.DateOffset(months=1))\n",
    "pr = dataframes['procurement']\n",
    "wrong_vat = dataframes['procurement'][dataframes['procurement']['contract_price_with_amendments_vat'] / dataframes['procurement']['contract_price_with_amendments'] > 1.211]\n",
    "pr.drop(wrong_vat.index, inplace=True)\n",
    "\n",
    "pr.date_of_publication = pd.to_datetime(pr.date_of_publication)\n",
    "pr.sort_values('date_of_publication',ascending=False, inplace=True)\n",
    "#get number of procurement for current month and year\n",
    "num_of_p_monthly = pr[(pr.date_of_publication.dt.month == month.month) & (pr.date_of_publication.dt.year == month.year)].shape[0]\n",
    "sum_of_contract_price = pr[(pr.date_of_publication.dt.month == month.month) & (pr.date_of_publication.dt.year == month.year)].contract_price_with_amendments_vat.sum()\n",
    "sum_of_contract_price_prev = pr[(pr.date_of_publication.dt.month == previous_month.month) & (pr.date_of_publication.dt.year == previous_month.year)].contract_price_with_amendments_vat.sum()\n",
    "diff = sum_of_contract_price - sum_of_contract_price_prev"
   ]
  },
  {
   "cell_type": "raw",
   "id": "3f37f9e853e4a58a",
   "metadata": {
    "collapsed": false
   },
   "source": [
    "# Úvod"
   ]
  },
  {
   "cell_type": "raw",
   "id": "b73de05fe0b647b4",
   "metadata": {
    "collapsed": false
   },
   "source": [
    "Tato stránka vznikla v rámci bakalářské práce na téma **Analýza výherců veřejných zakázek**. Jejím hlavím cílem je vizualizace dat o veřejných zakázkách. Data jsou získávána z [otevřených dat](https://nen.nipez.cz/verejne-zakazky) a následně zpracována pomocí skriptu v jazyce Python. Tato data jsou aktualizována jednou za měsíc. \n",
    "\n",
    "Na stránce **Veřejné zakázky** jsou k dispozici vizualizace dat za předešlý měsíc. Na stránkách **Dodavatelé** a **Zadavatelé** jsou poté k dispozici informace dodavatelích a zadavatelích, kteří získávají, resp. zadávají největší množství veřejných zakázek. \n",
    "\n",
    "Na poslední stránce **Model** jsou zobrazeny metriky modelu vytvořeného pro predikci výherců veřejných zakázek v rámci bakalářské práce. Také je zde vidět vývoj daných metrik v čase. "
   ]
  },
  {
   "cell_type": "raw",
   "id": "1a37952715b754a3",
   "metadata": {
    "collapsed": false
   },
   "source": [
    "## Row {height=50} "
   ]
  },
  {
   "cell_type": "code",
   "execution_count": null,
   "id": "c6b5014693193185",
   "metadata": {
    "execution": {
     "iopub.execute_input": "2024-07-01T15:52:52.307004Z",
     "iopub.status.busy": "2024-07-01T15:52:52.307004Z",
     "iopub.status.idle": "2024-07-01T15:52:52.311956Z",
     "shell.execute_reply": "2024-07-01T15:52:52.311956Z"
    }
   },
   "outputs": [],
   "source": [
    "print(f\"Data byla aktualizována k datu: {date_of_actualization.strftime('%d.%m.%Y')}\")"
   ]
  },
  {
   "cell_type": "raw",
   "id": "442b87dac1b4fb74",
   "metadata": {
    "collapsed": false
   },
   "source": [
    "## Row"
   ]
  },
  {
   "cell_type": "raw",
   "id": "99c48dd772899850",
   "metadata": {
    "collapsed": false
   },
   "source": [
    "<table>\n",
    "  <thead>\n",
    "    <tr>\n",
    "      <th></th>\n",
    "      <th></th>\n",
    "      <th></th>\n",
    "    </tr>\n",
    "  </thead>\n",
    "  <tbody>\n",
    "    <tr>\n",
    "    <td>PŘIBYL, Martin. Analýza výherců veřejných zakázek \\[online\\]. Praha, 2024. Bakalářská práce.  ČVUT v Praze, Fakulta informačních technologií, Katedra aplikované matematiky & OpenDataLab. Dostupné z: TBA<br>\n",
    "Kontakt: pribym12@fit.cvut.cz<br>\n",
    "Provozovatel neodpovídá za správnost a úplnost zpracovaných dat a informací, ani tato neověřuje a zříká se zodpovědnosti za veškeré škody a újmy, které by použitím těchto dat mohly vzniknout.</td>\n",
    "    <td><a href=\"https://fit.cvut.cz/cs\"><img src=\"images/logo_FIT.jpg\" width=\"150\"/></a></td>\n",
    "    <td><a href=\"https://opendatalab.cz\"><img src=\"images/open_data_lab.svg\" width=\"100\"/></a></td>\n",
    "    </tr>\n",
    "  </tbody>\n",
    "</table>"
   ]
  },
  {
   "cell_type": "raw",
   "id": "53b18b9d54e94840",
   "metadata": {
    "collapsed": false
   },
   "source": [
    "# Veřejné zakázky {scrolling=\"true\"}"
   ]
  },
  {
   "cell_type": "raw",
   "id": "985cc58ee265a5f5",
   "metadata": {
    "collapsed": false
   },
   "source": [
    "## Row"
   ]
  },
  {
   "cell_type": "markdown",
   "id": "ab4bb681c8931ad8",
   "metadata": {
    "collapsed": false
   },
   "source": [
    "**Informace o veřejných zakázkách zadaných za minulý měsíc**"
   ]
  },
  {
   "cell_type": "code",
   "execution_count": null,
   "id": "a9d39abc3be6a428",
   "metadata": {
    "execution": {
     "iopub.execute_input": "2024-07-01T15:52:52.314386Z",
     "iopub.status.busy": "2024-07-01T15:52:52.314386Z",
     "iopub.status.idle": "2024-07-01T15:52:52.323629Z",
     "shell.execute_reply": "2024-07-01T15:52:52.323629Z"
    }
   },
   "outputs": [],
   "source": [
    "#| echo: False\n",
    "pr['date_of_publication'] = pd.to_datetime(pr['date_of_publication'])"
   ]
  },
  {
   "cell_type": "raw",
   "id": "4a72729c6a0535b5",
   "metadata": {
    "collapsed": false
   },
   "source": [
    "## Row "
   ]
  },
  {
   "cell_type": "code",
   "execution_count": null,
   "id": "f4e938365f0a9be0",
   "metadata": {
    "execution": {
     "iopub.execute_input": "2024-07-01T15:52:52.327107Z",
     "iopub.status.busy": "2024-07-01T15:52:52.326108Z",
     "iopub.status.idle": "2024-07-01T15:52:52.332325Z",
     "shell.execute_reply": "2024-07-01T15:52:52.332325Z"
    }
   },
   "outputs": [],
   "source": [
    "#| component: valuebox\n",
    "#| title: Počet veřejných zakázek zadaných za minulý měsíc\n",
    "dict(\n",
    "    color = 'warning',\n",
    "    value = num_of_p_monthly\n",
    ")"
   ]
  },
  {
   "cell_type": "code",
   "execution_count": null,
   "id": "18691d987c6dd4fc",
   "metadata": {
    "execution": {
     "iopub.execute_input": "2024-07-01T15:52:52.334766Z",
     "iopub.status.busy": "2024-07-01T15:52:52.334766Z",
     "iopub.status.idle": "2024-07-01T15:52:52.339790Z",
     "shell.execute_reply": "2024-07-01T15:52:52.339277Z"
    }
   },
   "outputs": [],
   "source": [
    "#| component: valuebox\n",
    "#| title: Cena s DPH veřejných zakázek zadaných za minulý měsíc\n",
    "dict(\n",
    "    color = 'secondary',\n",
    "    value = f\"{(sum_of_contract_price / 1e9):0.2f} mld. Kč\"\n",
    ")"
   ]
  },
  {
   "cell_type": "code",
   "execution_count": null,
   "id": "2b35fb2e24b5387f",
   "metadata": {
    "execution": {
     "iopub.execute_input": "2024-07-01T15:52:52.341804Z",
     "iopub.status.busy": "2024-07-01T15:52:52.341804Z",
     "iopub.status.idle": "2024-07-01T15:52:52.346315Z",
     "shell.execute_reply": "2024-07-01T15:52:52.346315Z"
    }
   },
   "outputs": [],
   "source": [
    "#| component: valuebox\n",
    "#| title: Rozdíl oproti předchozímu měsíci\n",
    "if diff > 0:\n",
    "    c = 'success'\n",
    "    v = f\"{(diff / 1e6):0.2f} mil. Kč\"\n",
    "else:\n",
    "    c = 'danger'\n",
    "    v = f\"{(diff / 1e6):0.2f} mil. Kč\"\n",
    "dict(\n",
    "    color = c,\n",
    "    value = v\n",
    ") "
   ]
  },
  {
   "cell_type": "raw",
   "id": "da8a56c86f0719af",
   "metadata": {
    "collapsed": false
   },
   "source": [
    "## Row {height=600}"
   ]
  },
  {
   "cell_type": "code",
   "execution_count": null,
   "id": "5b133c538a655664",
   "metadata": {
    "execution": {
     "iopub.execute_input": "2024-07-01T15:52:52.349548Z",
     "iopub.status.busy": "2024-07-01T15:52:52.348487Z",
     "iopub.status.idle": "2024-07-01T15:52:52.898335Z",
     "shell.execute_reply": "2024-07-01T15:52:52.898335Z"
    }
   },
   "outputs": [],
   "source": [
    "# graph of number of procurement by month and year showing 12 most recent months and rest are hidden\n",
    "pr['year'] = pr.date_of_publication.dt.year\n",
    "pr['month'] = pr.date_of_publication.dt.month\n",
    "pr.dropna(subset=['year', 'month'], inplace=True)\n",
    "pr['month'] = pr['month'].astype(int)\n",
    "pr['year'] = pr['year'].astype(int)\n",
    "# get column of month and year combined\n",
    "pr['month_year'] = (pr['month'].astype(str)) + '-' + (pr['year'].astype(str))\n",
    "pr['month_year'] = pd.to_datetime(pr['month_year'], format='%m-%Y')\n",
    "# show only last 12 months up to date given by month\n",
    "month_str = (date_now - pd.DateOffset(months=1)).strftime('%m-%Y')\n",
    "\n",
    "data = pr.groupby('month_year').size().reset_index(name='count')\n",
    "data = data[data['month_year'] <= month_str]\n",
    "data = data.sort_values('month_year', ascending=False)\n",
    "data = data.head(12)\n",
    "fig = px.line(data, x='month_year', y='count', labels={'count':'Počet veřejných zakázek', 'month_year':'Měsíc a rok'}, text=\"count\", title='Počet veřejných zakázek za posledních 12 měsíců', template='plotly_white')\n",
    "fig.update_traces(textposition=\"top left\")\n",
    "fig.update_xaxes(\n",
    "    dtick=\"M1\",\n",
    "    tickformat=\"%m/%Y\")\n",
    "fig"
   ]
  },
  {
   "cell_type": "raw",
   "id": "db447d3022f7979",
   "metadata": {
    "collapsed": false
   },
   "source": [
    "## Row "
   ]
  },
  {
   "cell_type": "code",
   "execution_count": null,
   "id": "6570c52a61700e77",
   "metadata": {
    "execution": {
     "iopub.execute_input": "2024-07-01T15:52:52.901769Z",
     "iopub.status.busy": "2024-07-01T15:52:52.901769Z",
     "iopub.status.idle": "2024-07-01T15:52:52.964221Z",
     "shell.execute_reply": "2024-07-01T15:52:52.964221Z"
    }
   },
   "outputs": [],
   "source": [
    "# graph of sum of contract price by month and year showing 12 most recent months and rest are hidden\n",
    "data = pr.groupby('month_year').contract_price_with_amendments_vat.sum().reset_index(name='sum')\n",
    "data = data[data['month_year'] <= month]\n",
    "data = data.sort_values('month_year', ascending=False)\n",
    "data = data.head(12)\n",
    "fig = px.bar(data, x='month_year', y='sum', labels={'sum':'Celková cena veřejných zakázek [mld. Kč]', 'month_year':'Měsíc a rok'}, title='Součet cen veřejných zakázek za posledních 12 měsíců', template='plotly_white')\n",
    "fig.update_xaxes(\n",
    "    dtick=\"M1\",\n",
    "    tickformat=\"%m/%Y\")\n",
    "fig"
   ]
  },
  {
   "cell_type": "raw",
   "id": "3359a7fa66a9993",
   "metadata": {
    "collapsed": false
   },
   "source": [
    "## Row {height=600}"
   ]
  },
  {
   "cell_type": "code",
   "execution_count": null,
   "id": "6d1e6597d46e19e6",
   "metadata": {
    "execution": {
     "iopub.execute_input": "2024-07-01T15:52:52.968433Z",
     "iopub.status.busy": "2024-07-01T15:52:52.967387Z",
     "iopub.status.idle": "2024-07-01T15:52:53.018297Z",
     "shell.execute_reply": "2024-07-01T15:52:53.018297Z"
    }
   },
   "outputs": [],
   "source": [
    "# histogram of contract price for current month without outliers\n",
    "data = pr[(pr.date_of_publication.dt.month == month.month) & (pr.date_of_publication.dt.year == month.year)]\n",
    "# data = data[data.contract_price_with_amendments_vat < data.contract_price_with_amendments_vat.quantile(0.95)]\n",
    "fig = px.histogram(data, x='contract_price_with_amendments_vat', labels={'contract_price_with_amendments_vat':'Cena veřejné zakázky s DPH [mld. Kč]', 'count':'Počet zakázek'}, title='Histogram (v logaritmickém měřítku) cen veřejných zakázek za minulý měsíc', template='plotly_white', log_y=True)\n",
    "fig.update_yaxes(title_text='Počet zakázek')\n",
    "fig.update_xaxes(title_text='Cena veřejné zakázky')\n",
    "fig.update_traces(xbins=dict( \n",
    "        start=data['contract_price_with_amendments_vat'].min(),\n",
    "        end=data['contract_price_with_amendments_vat'].max()))\n",
    "fig"
   ]
  },
  {
   "cell_type": "code",
   "execution_count": null,
   "id": "a5ae6de5c44267d1",
   "metadata": {
    "execution": {
     "iopub.execute_input": "2024-07-01T15:52:53.021403Z",
     "iopub.status.busy": "2024-07-01T15:52:53.021403Z",
     "iopub.status.idle": "2024-07-01T15:52:53.089087Z",
     "shell.execute_reply": "2024-07-01T15:52:53.087957Z"
    }
   },
   "outputs": [],
   "source": [
    "#| echo: False\n",
    "def customwrap(s,width=15):\n",
    "    return \"<br>\".join(textwrap.wrap(s,width=width))\n",
    "\n",
    "translation_type = {\n",
    "    'Public contract for deliveries':'Veřejná zakázka na dodávky',\n",
    "    'Public contract for services' : 'Veřejná zakázka na služby',\n",
    "    'Public contract for construction work' : 'Veřejná zakázka na stavební práce',\n",
    "    'Service concessions' : 'Koncese na služby',\n",
    "    'Concession for construction works' : 'Koncese na stavební práce'}\n",
    "\n",
    "translation_public_regime = {'Small-scale public contract': 'Veřejná zakázka malého rozsahu',\n",
    "                             'Above-limit public contract': 'Nadlimitní veřejná zakázka',\n",
    "                             'Below-limit public contract': 'Podlimitní veřejná zakázka',\n",
    "                             'Zjednodušený režim' : 'Zjeodnušený režim',\n",
    "                             'Small-scale concession' : 'Koncese malého rozsahu',\n",
    "                             'Below-threshold public procurement besides the procurement procedure' : 'Podlimitní veřejná zakázka mimo zadávací řízení'}\n",
    "\n",
    "data = pr[(pr.date_of_publication.dt.month == month.month) & (pr.date_of_publication.dt.year == month.year)].copy()\n",
    "\n",
    "# get 5 top values of type and type of procedure based on contract price sum\n",
    "top_procedure = data.groupby(['type_of_procedure']).contract_price_with_amendments_vat.sum().reset_index()\n",
    "top_n_procedure = top_procedure.sort_values('contract_price_with_amendments_vat', ascending=False).head(9)\n",
    "top_n_procedure_names = top_n_procedure['type_of_procedure'].values\n",
    "def top_procedure_name(x):\n",
    "    if x in top_n_procedure_names:\n",
    "        return x\n",
    "    else:\n",
    "        return 'Zbylé druhy zadávacího řízení'\n",
    "data['type_of_procedure'] = data['type_of_procedure'].apply(top_procedure_name)\n",
    "\n",
    "data['type'] = data['type'].map(translation_type)\n",
    "data['public_contract_regime'] = data['public_contract_regime'].map(translation_public_regime)\n",
    "data['public_contract_regime'].fillna('Neuvedeno', inplace=True)\n",
    "data['type_of_procedure'].fillna('Neuvedeno', inplace=True)\n",
    "data['type'].fillna('Neuvedeno', inplace=True)\n",
    "\n",
    "data['type'] = data['type'].map(customwrap)\n",
    "data['public_contract_regime'] = data['public_contract_regime'].map(customwrap)\n",
    "data['type_of_procedure'] = data['type_of_procedure'].map(customwrap)\n",
    "data = data.groupby(['type', 'type_of_procedure']).contract_price_with_amendments_vat.sum().reset_index()"
   ]
  },
  {
   "cell_type": "code",
   "execution_count": null,
   "id": "ff7994f4945c03fe",
   "metadata": {
    "execution": {
     "iopub.execute_input": "2024-07-01T15:52:53.091714Z",
     "iopub.status.busy": "2024-07-01T15:52:53.091714Z",
     "iopub.status.idle": "2024-07-01T15:52:53.146723Z",
     "shell.execute_reply": "2024-07-01T15:52:53.146723Z"
    }
   },
   "outputs": [],
   "source": [
    "fig = px.bar(data, x='type', y='contract_price_with_amendments_vat', color='type_of_procedure', labels={'contract_price_with_amendments_vat':'Celková cena s DPH [mld. Kč]', 'type':'Typ veřejné zakázky', 'type_of_procedure':'Druh zadávacího řízení'}, title='Součet cen veřejných zakázek s DPH za minulý měsíc,<br>rozdělených podle typu veřejné zakázky a druhu zadávacího řízení', template='plotly_white')\n",
    "fig.update_layout(showlegend=True)\n",
    "fig.update_layout(legend=dict(\n",
    "    orientation=\"v\",\n",
    "    yanchor=\"top\",\n",
    "    y=0.99,\n",
    "    xanchor=\"left\",\n",
    "    x=0.99\n",
    "))\n",
    "fig"
   ]
  },
  {
   "cell_type": "raw",
   "id": "98a953df275138a",
   "metadata": {
    "collapsed": false
   },
   "source": [
    "## Row"
   ]
  },
  {
   "cell_type": "markdown",
   "id": "cd466c9b189d8217",
   "metadata": {
    "collapsed": false
   },
   "source": [
    "V následující tabulce jsou k dispozici informace o veřejných zakázkách zadaných za minulý měsíc."
   ]
  },
  {
   "cell_type": "raw",
   "id": "8586d88790c67221",
   "metadata": {
    "collapsed": false
   },
   "source": [
    "## Row "
   ]
  },
  {
   "cell_type": "code",
   "execution_count": null,
   "id": "d743302b72534ddf",
   "metadata": {
    "execution": {
     "iopub.execute_input": "2024-07-01T15:52:53.149732Z",
     "iopub.status.busy": "2024-07-01T15:52:53.149732Z",
     "iopub.status.idle": "2024-07-01T15:52:53.163124Z",
     "shell.execute_reply": "2024-07-01T15:52:53.163124Z"
    }
   },
   "outputs": [],
   "source": [
    "#| echo: False\n",
    "data_show = pr[(pr.date_of_publication.dt.month == month.month) & (pr.date_of_publication.dt.year == month.year)]\n",
    "data_show = data_show.drop(columns=['year', 'month', 'month_year', 'id', 'contract_price', 'contract_price_vat', 'bids_submission_deadline', 'is_association_of_suppliers', 'contact_person_id'])\n",
    "data_show = data_show.merge(dataframes['contracting_authority'], left_on='contracting_authority_id', right_on='id', suffixes=('_procurement', '_contracting_authority'), how='left')\n",
    "data_show = data_show.merge(dataframes['company'], left_on='supplier_id', right_on='id', suffixes=('_procurement', '_supplier'), how='left')\n",
    "data_show.drop(columns=['address_id_supplier', 'vat_id_number', 'id_supplier', 'address_id_procurement', 'url', 'id_procurement', 'supplier_id', 'contracting_authority_id', 'system_number', 'code_from_nipez_codelist'], inplace=True)\n",
    "data_show.rename(columns={'procurement_name':'Název veřejné zakázky', 'date_of_publication':'Datum zveřejnění', 'date_of_contract_close' : 'Datum uzavření smlouvy', 'contract_price_with_amendments_vat':'Cena veřejné zakázky s DPH [Kč]', 'contract_price_with_amendments' : 'Cena veřejné zakázky bez DPH [Kč]' , 'type':'Typ veřejné zakázky', 'type_of_procedure':'Druh zadávacího řízení', 'public_contract_regime':'Režim veřejné zakázky', 'contracting_authority_name':'Název zadavatele', 'organisation_id':'IČO dodavatele', 'company_name':'Název dodavatele', 'place_of_performance' : 'Místo výkonu', 'name_from_nipez_codelist' : 'Odvětví dle NIPEZ kódu', }, inplace=True)"
   ]
  },
  {
   "cell_type": "code",
   "execution_count": null,
   "id": "4defe6bcfd083322",
   "metadata": {
    "execution": {
     "iopub.execute_input": "2024-07-01T15:52:53.166664Z",
     "iopub.status.busy": "2024-07-01T15:52:53.166664Z",
     "iopub.status.idle": "2024-07-01T15:52:53.173185Z",
     "shell.execute_reply": "2024-07-01T15:52:53.173185Z"
    }
   },
   "outputs": [],
   "source": [
    "#| echo: False\n",
    "data_show['Typ veřejné zakázky'] = data_show['Typ veřejné zakázky'].map(translation_type)\n",
    "data_show['Režim veřejné zakázky'] = data_show['Režim veřejné zakázky'].map(translation_public_regime)\n",
    "data_show.fillna('Neuvedeno', inplace=True)"
   ]
  },
  {
   "cell_type": "code",
   "execution_count": null,
   "id": "2623223eebe5306b",
   "metadata": {
    "execution": {
     "iopub.execute_input": "2024-07-01T15:52:53.176353Z",
     "iopub.status.busy": "2024-07-01T15:52:53.176353Z",
     "iopub.status.idle": "2024-07-01T15:52:53.307941Z",
     "shell.execute_reply": "2024-07-01T15:52:53.307941Z"
    }
   },
   "outputs": [],
   "source": [
    "show(data_show, maxBytes=200*1024, showIndex=False, paging=True, search=True, tableClass=\"table table-striped table-bordered table-hover\", lengthMenu=[10])"
   ]
  },
  {
   "cell_type": "raw",
   "id": "498f70d4d1721dfb",
   "metadata": {
    "collapsed": false
   },
   "source": [
    "## Row {height=50}"
   ]
  },
  {
   "cell_type": "code",
   "execution_count": null,
   "id": "4402fe054c00a071",
   "metadata": {
    "execution": {
     "iopub.execute_input": "2024-07-01T15:52:53.316657Z",
     "iopub.status.busy": "2024-07-01T15:52:53.315649Z",
     "iopub.status.idle": "2024-07-01T15:52:53.319408Z",
     "shell.execute_reply": "2024-07-01T15:52:53.319408Z"
    }
   },
   "outputs": [],
   "source": [
    "print(f\"Data byla aktualizována k datu: {date_of_actualization.strftime('%d.%m.%Y')}\")"
   ]
  },
  {
   "cell_type": "raw",
   "id": "c3ad48c210aa32da",
   "metadata": {
    "collapsed": false
   },
   "source": [
    "## Row"
   ]
  },
  {
   "cell_type": "raw",
   "id": "5567e92a50cb6c93",
   "metadata": {
    "collapsed": false
   },
   "source": [
    "<table>\n",
    "  <thead>\n",
    "    <tr>\n",
    "      <th></th>\n",
    "      <th></th>\n",
    "      <th></th>\n",
    "    </tr>\n",
    "  </thead>\n",
    "  <tbody>\n",
    "    <tr>\n",
    "    <td>PŘIBYL, Martin. Analýza výherců veřejných zakázek \\[online\\]. Praha, 2024. Bakalářská práce.  ČVUT v Praze, Fakulta informačních technologií, Katedra aplikované matematiky & OpenDataLab. Dostupné z: TBA<br>\n",
    "Kontakt: pribym12@fit.cvut.cz<br>\n",
    "Provozovatel neodpovídá za správnost a úplnost zpracovaných dat a informací, ani tato neověřuje a zříká se zodpovědnosti za veškeré škody a újmy, které by použitím těchto dat mohly vzniknout.</td>\n",
    "    <td><a href=\"https://fit.cvut.cz/cs\"><img src=\"images/logo_FIT.jpg\" width=\"150\"/></a></td>\n",
    "    <td><a href=\"https://opendatalab.cz\"><img src=\"images/open_data_lab.svg\" width=\"100\"/></a></td>\n",
    "    </tr>\n",
    "  </tbody>\n",
    "</table>"
   ]
  },
  {
   "cell_type": "raw",
   "id": "4950cf76b6b91560",
   "metadata": {
    "collapsed": false
   },
   "source": [
    "# Dodatavatelé {scrolling=\"true\"}"
   ]
  },
  {
   "cell_type": "code",
   "execution_count": null,
   "id": "d271f4a42986815a",
   "metadata": {
    "execution": {
     "iopub.execute_input": "2024-07-01T15:52:53.322415Z",
     "iopub.status.busy": "2024-07-01T15:52:53.322415Z",
     "iopub.status.idle": "2024-07-01T15:52:53.343063Z",
     "shell.execute_reply": "2024-07-01T15:52:53.343063Z"
    }
   },
   "outputs": [],
   "source": [
    "#| echo: False\n",
    "company = dataframes['company']\n",
    "offer = dataframes['offer']\n",
    "# change index of company to id\n",
    "company.set_index('id', inplace=True)\n",
    "offer.set_index('id', inplace=True)\n",
    "\n",
    "# get number of offers for each company\n",
    "company['number_of_offers'] = offer.groupby('company_id').size()\n",
    "company['number_of_offers'].fillna(0, inplace=True)\n",
    "\n",
    "company['total_wins'] = pr.groupby('supplier_id').size()\n",
    "company['total_wins'].fillna(0, inplace=True)\n",
    "\n",
    "company['total_price'] = pr.groupby('supplier_id').contract_price_with_amendments_vat.sum()\n",
    "company['total_price'].fillna(0, inplace=True)\n",
    "\n",
    "\n",
    "avg_companies_per_procurement = offer.groupby('procurement_id').size().mean()\n",
    "mean_offer_price = offer['price'].mean()\n",
    "median_offer_price = offer['price'].median()"
   ]
  },
  {
   "cell_type": "raw",
   "id": "1d7d36eb0b9f9d06",
   "metadata": {
    "collapsed": false
   },
   "source": [
    "## Row"
   ]
  },
  {
   "cell_type": "markdown",
   "id": "4425d19a7e7f1d4f",
   "metadata": {
    "collapsed": false
   },
   "source": [
    "**Informace o dodavatelích pro trh s veřejnými zakázkami**"
   ]
  },
  {
   "cell_type": "raw",
   "id": "7453ec08f40bfed9",
   "metadata": {
    "collapsed": false
   },
   "source": [
    "## Row"
   ]
  },
  {
   "cell_type": "code",
   "execution_count": null,
   "id": "bd8d54213e524ebb",
   "metadata": {
    "execution": {
     "iopub.execute_input": "2024-07-01T15:52:53.347072Z",
     "iopub.status.busy": "2024-07-01T15:52:53.347072Z",
     "iopub.status.idle": "2024-07-01T15:52:53.351150Z",
     "shell.execute_reply": "2024-07-01T15:52:53.351150Z"
    }
   },
   "outputs": [],
   "source": [
    "#| component: valuebox\n",
    "#| title: Průměrný počet nabídek na veřejnou zakázku\n",
    "dict(\n",
    "    color = 'warning',\n",
    "    value = f\"{avg_companies_per_procurement:0.2f}\"\n",
    ")"
   ]
  },
  {
   "cell_type": "code",
   "execution_count": null,
   "id": "441f7bbc4041401e",
   "metadata": {
    "execution": {
     "iopub.execute_input": "2024-07-01T15:52:53.354158Z",
     "iopub.status.busy": "2024-07-01T15:52:53.354158Z",
     "iopub.status.idle": "2024-07-01T15:52:53.358199Z",
     "shell.execute_reply": "2024-07-01T15:52:53.358199Z"
    }
   },
   "outputs": [],
   "source": [
    "#| component: valuebox\n",
    "#| title: Průměrná cena nabídky\n",
    "dict(\n",
    "    color = 'secondary',\n",
    "    value = f\"{mean_offer_price/1e6:0.2f} mil. Kč\"\n",
    ")"
   ]
  },
  {
   "cell_type": "code",
   "execution_count": null,
   "id": "e4e550b6418e914d",
   "metadata": {
    "execution": {
     "iopub.execute_input": "2024-07-01T15:52:53.362208Z",
     "iopub.status.busy": "2024-07-01T15:52:53.361207Z",
     "iopub.status.idle": "2024-07-01T15:52:53.366514Z",
     "shell.execute_reply": "2024-07-01T15:52:53.366514Z"
    }
   },
   "outputs": [],
   "source": [
    "#| component: valuebox\n",
    "#| title: Medián ceny nabídek\n",
    "dict(\n",
    "    color = 'primary',\n",
    "    value = f\"{median_offer_price/1e3:0.2f} tis. Kč\"\n",
    ")"
   ]
  },
  {
   "cell_type": "raw",
   "id": "bae85c7dc47b90ae",
   "metadata": {
    "collapsed": false
   },
   "source": [
    "## Row"
   ]
  },
  {
   "cell_type": "code",
   "execution_count": null,
   "id": "e4ad838267ae58f0",
   "metadata": {
    "execution": {
     "iopub.execute_input": "2024-07-01T15:52:53.369523Z",
     "iopub.status.busy": "2024-07-01T15:52:53.369523Z",
     "iopub.status.idle": "2024-07-01T15:52:53.404678Z",
     "shell.execute_reply": "2024-07-01T15:52:53.404678Z"
    }
   },
   "outputs": [],
   "source": [
    "top_10_by_sum = company.sort_values('total_price', ascending=False).head(10)\n",
    "\n",
    "fig = px.bar(top_10_by_sum, x='company_name', y='total_price', labels={'total_price':'Celková cena veřejných zakázek [mld. Kč]', 'company_name':'Název dodavatele'}, title='Top 10 dodavatelů podle celkové ceny zadaných veřejných zakázek', template='plotly_white')\n",
    "fig"
   ]
  },
  {
   "cell_type": "raw",
   "id": "1273c57fcb36c54b",
   "metadata": {
    "collapsed": false
   },
   "source": [
    "## Row "
   ]
  },
  {
   "cell_type": "code",
   "execution_count": null,
   "id": "91a47f42b13a3479",
   "metadata": {
    "execution": {
     "iopub.execute_input": "2024-07-01T15:52:53.408018Z",
     "iopub.status.busy": "2024-07-01T15:52:53.408018Z",
     "iopub.status.idle": "2024-07-01T15:52:53.469044Z",
     "shell.execute_reply": "2024-07-01T15:52:53.469044Z"
    }
   },
   "outputs": [],
   "source": [
    "data = pr[pr['supplier_id'].isin(top_10_by_sum.index)]\n",
    "data = data.merge(company, left_on='supplier_id', right_index=True, suffixes=('_procurement', '_company'), how='left')\n",
    "data['type_of_procedure'] = data['type_of_procedure'].apply(top_procedure_name)\n",
    "data['type_of_procedure'] = data['type_of_procedure'].map(customwrap)\n",
    "data = data.groupby(['company_name', 'type_of_procedure']).contract_price_with_amendments_vat.sum().reset_index()\n",
    "fig = px.bar(data, x='company_name', y='contract_price_with_amendments_vat', color='type_of_procedure', labels={'contract_price_with_amendments_vat':'Celková cena s DPH [mld. Kč]', 'company_name':'Dodavatel', 'type_of_procedure':'Druh zadávacího řízení'}, title='Graf objemu vyhraných veřejných zakázek pro 10 největších dodavatelů podle typu zadávacího řízení', template='plotly_white')\n",
    "fig.update_layout(showlegend=True)\n",
    "fig.update_layout(legend=dict(\n",
    "    orientation=\"v\",\n",
    "    yanchor=\"top\",\n",
    "    y=0.99,\n",
    "    xanchor=\"left\",\n",
    "    x=0.99\n",
    "))\n",
    "fig.update_xaxes(categoryorder='total descending')\n",
    "fig"
   ]
  },
  {
   "cell_type": "raw",
   "id": "9a2af2bf7a297468",
   "metadata": {
    "collapsed": false
   },
   "source": [
    "## Row"
   ]
  },
  {
   "cell_type": "markdown",
   "id": "783be6abde5e04fe",
   "metadata": {
    "collapsed": false
   },
   "source": [
    "V následující tabulce jsou k dispozici informace o 1000 dodavatelích, kteří získali největší objem zakázek."
   ]
  },
  {
   "cell_type": "raw",
   "id": "d2f4684b93584cb0",
   "metadata": {
    "collapsed": false
   },
   "source": [
    "## Row"
   ]
  },
  {
   "cell_type": "code",
   "execution_count": null,
   "id": "1f29f9702fdf9a70",
   "metadata": {
    "execution": {
     "iopub.execute_input": "2024-07-01T15:52:53.472382Z",
     "iopub.status.busy": "2024-07-01T15:52:53.472382Z",
     "iopub.status.idle": "2024-07-01T15:52:53.480785Z",
     "shell.execute_reply": "2024-07-01T15:52:53.480785Z"
    }
   },
   "outputs": [],
   "source": [
    "#| echo: False\n",
    "data_show = company.sort_values('total_price', ascending=False).head(1000)\n",
    "data_show['mean_contract_price'] = data_show['total_price'] / data_show['total_wins']\n",
    "data_show['mean_contract_price'] = data_show['mean_contract_price'].fillna(0)\n",
    "data_show.drop(columns=['address_id'], inplace=True)\n",
    "data_show.rename(columns={'company_name':'Název dodavatele', 'number_of_offers':'Počet evidovaných nabídek', 'total_wins':'Počet vyhraných veřejných zakázek', 'total_price':'Celková cena veřejných zakázek s DPH [Kč]', 'mean_contract_price':'Průměrná cena vysoutěžené zakázky [Kč]', 'organisation_id' : 'IČO', 'vat_id_number' : 'DIČ'}, inplace=True)\n",
    "data_show.fillna('Neuvedeno', inplace=True)"
   ]
  },
  {
   "cell_type": "code",
   "execution_count": null,
   "id": "6e515e79f0e823de",
   "metadata": {
    "execution": {
     "iopub.execute_input": "2024-07-01T15:52:53.483879Z",
     "iopub.status.busy": "2024-07-01T15:52:53.483879Z",
     "iopub.status.idle": "2024-07-01T15:52:53.556162Z",
     "shell.execute_reply": "2024-07-01T15:52:53.556162Z"
    }
   },
   "outputs": [],
   "source": [
    "show(data_show, maxBytes=200*1024, showIndex=False, paging=True, search=True, tableClass=\"table table-bordered\", lengthMenu=[10])"
   ]
  },
  {
   "cell_type": "raw",
   "id": "b37a864e3405f2ca",
   "metadata": {
    "collapsed": false
   },
   "source": [
    "## Row {height=50}"
   ]
  },
  {
   "cell_type": "code",
   "execution_count": null,
   "id": "aad0e81d0bfb1cc7",
   "metadata": {
    "execution": {
     "iopub.execute_input": "2024-07-01T15:52:53.559273Z",
     "iopub.status.busy": "2024-07-01T15:52:53.559273Z",
     "iopub.status.idle": "2024-07-01T15:52:53.562728Z",
     "shell.execute_reply": "2024-07-01T15:52:53.562728Z"
    }
   },
   "outputs": [],
   "source": [
    "print(f\"Data byla aktualizována k datu: {date_of_actualization.strftime('%d.%m.%Y')}\")"
   ]
  },
  {
   "cell_type": "raw",
   "id": "2e9af224a41c9ce2",
   "metadata": {
    "collapsed": false
   },
   "source": [
    "## Row"
   ]
  },
  {
   "cell_type": "raw",
   "id": "3bf954858aa92e5b",
   "metadata": {
    "collapsed": false
   },
   "source": [
    "<table>\n",
    "  <thead>\n",
    "    <tr>\n",
    "      <th></th>\n",
    "      <th></th>\n",
    "      <th></th>\n",
    "    </tr>\n",
    "  </thead>\n",
    "  <tbody>\n",
    "    <tr>\n",
    "    <td>PŘIBYL, Martin. Analýza výherců veřejných zakázek \\[online\\]. Praha, 2024. Bakalářská práce.  ČVUT v Praze, Fakulta informačních technologií, Katedra aplikované matematiky & OpenDataLab. Dostupné z: TBA<br>\n",
    "Kontakt: pribym12@fit.cvut.cz<br>\n",
    "Provozovatel neodpovídá za správnost a úplnost zpracovaných dat a informací, ani tato neověřuje a zříká se zodpovědnosti za veškeré škody a újmy, které by použitím těchto dat mohly vzniknout.</td>\n",
    "    <td><a href=\"https://fit.cvut.cz/cs\"><img src=\"images/logo_FIT.jpg\" width=\"150\"/></a></td>\n",
    "    <td><a href=\"https://opendatalab.cz\"><img src=\"images/open_data_lab.svg\" width=\"100\"/></a></td>\n",
    "    </tr>\n",
    "  </tbody>\n",
    "</table>"
   ]
  },
  {
   "cell_type": "raw",
   "id": "5de8fb2721bb894c",
   "metadata": {
    "collapsed": false
   },
   "source": [
    "# Zadavatelé {scrolling=\"true\"}"
   ]
  },
  {
   "cell_type": "code",
   "execution_count": null,
   "id": "4f80b93b9d10d53c",
   "metadata": {
    "execution": {
     "iopub.execute_input": "2024-07-01T15:52:53.566183Z",
     "iopub.status.busy": "2024-07-01T15:52:53.565184Z",
     "iopub.status.idle": "2024-07-01T15:52:53.573491Z",
     "shell.execute_reply": "2024-07-01T15:52:53.573491Z"
    }
   },
   "outputs": [],
   "source": [
    "#| echo: False\n",
    "contracting_authority = dataframes['contracting_authority']\n",
    "contracting_authority.set_index('id', inplace=True)\n",
    "# avarage number of procurement for each contracting authority\n",
    "contracting_authority['number_of_procurements'] = pr.groupby('contracting_authority_id').size()\n",
    "contracting_authority['number_of_procurements'].fillna(0, inplace=True)\n",
    "\n",
    "contracting_authority['total_price'] = pr.groupby('contracting_authority_id').contract_price_with_amendments_vat.sum()\n",
    "contracting_authority['total_price'].fillna(0, inplace=True)\n",
    "\n",
    "\n",
    "avg_procurements_per_authority = contracting_authority['number_of_procurements'].mean()\n",
    "avg_contract_price = contracting_authority['total_price'].mean()\n",
    "median_contract_price = contracting_authority['total_price'].median()"
   ]
  },
  {
   "cell_type": "raw",
   "id": "840afe511b5d6c10",
   "metadata": {
    "collapsed": false
   },
   "source": [
    "## Row"
   ]
  },
  {
   "cell_type": "markdown",
   "id": "b1b17e83e5f4b5b8",
   "metadata": {
    "collapsed": false
   },
   "source": [
    "**Informace o zadavatelích veřejných zakázek**"
   ]
  },
  {
   "cell_type": "raw",
   "id": "7e2d0d7401679253",
   "metadata": {
    "collapsed": false
   },
   "source": [
    "## Row"
   ]
  },
  {
   "cell_type": "code",
   "execution_count": null,
   "id": "b8f83ac63effc9fb",
   "metadata": {
    "execution": {
     "iopub.execute_input": "2024-07-01T15:52:53.576569Z",
     "iopub.status.busy": "2024-07-01T15:52:53.576569Z",
     "iopub.status.idle": "2024-07-01T15:52:53.581552Z",
     "shell.execute_reply": "2024-07-01T15:52:53.581552Z"
    }
   },
   "outputs": [],
   "source": [
    "#| component: valuebox\n",
    "#| title: Průměrný počet veřejných zakázek na zadavatele\n",
    "dict(\n",
    "    color = 'warning',\n",
    "    value = f\"{avg_procurements_per_authority:0.2f}\"\n",
    ")"
   ]
  },
  {
   "cell_type": "code",
   "execution_count": null,
   "id": "508a107a344f8760",
   "metadata": {
    "execution": {
     "iopub.execute_input": "2024-07-01T15:52:53.583886Z",
     "iopub.status.busy": "2024-07-01T15:52:53.583886Z",
     "iopub.status.idle": "2024-07-01T15:52:53.588440Z",
     "shell.execute_reply": "2024-07-01T15:52:53.588440Z"
    }
   },
   "outputs": [],
   "source": [
    "#| component: valuebox\n",
    "#| title: Průměrná cena zadané veřejné zakázky\n",
    "dict(\n",
    "    color = 'secondary',\n",
    "    value = f\"{avg_contract_price/1e6:0.2f} mil. Kč\"\n",
    ")"
   ]
  },
  {
   "cell_type": "code",
   "execution_count": null,
   "id": "d15eaff0e15b6b9e",
   "metadata": {
    "execution": {
     "iopub.execute_input": "2024-07-01T15:52:53.591722Z",
     "iopub.status.busy": "2024-07-01T15:52:53.591722Z",
     "iopub.status.idle": "2024-07-01T15:52:53.595745Z",
     "shell.execute_reply": "2024-07-01T15:52:53.595745Z"
    }
   },
   "outputs": [],
   "source": [
    "#| component: valuebox\n",
    "#| title: Medián ceny zadané veřejné zakázky\n",
    "dict(\n",
    "    color = 'primary',\n",
    "    value = f\"{median_contract_price/1e6:0.2f} mil. Kč\"\n",
    ")"
   ]
  },
  {
   "cell_type": "raw",
   "id": "e355e8ce0d4e544f",
   "metadata": {
    "collapsed": false
   },
   "source": [
    "## Row"
   ]
  },
  {
   "cell_type": "code",
   "execution_count": null,
   "id": "c1c7f42dfe194254",
   "metadata": {
    "execution": {
     "iopub.execute_input": "2024-07-01T15:52:53.598004Z",
     "iopub.status.busy": "2024-07-01T15:52:53.598004Z",
     "iopub.status.idle": "2024-07-01T15:52:53.631456Z",
     "shell.execute_reply": "2024-07-01T15:52:53.631456Z"
    }
   },
   "outputs": [],
   "source": [
    "# graph of top 10 contracting authorities by sum of contract price\n",
    "top_10_by_sum = contracting_authority.sort_values('total_price', ascending=False).head(10)\n",
    "fig = px.bar(top_10_by_sum, x='contracting_authority_name', y='total_price', labels={'total_price':'Celková cena veřejných zakázek [mld. Kč]', 'contracting_authority_name':'Název zadavatele'}, title='Top 10 zadavatelů podle celkové ceny zadaných veřejných zakázek', template='plotly_white')\n",
    "fig"
   ]
  },
  {
   "cell_type": "raw",
   "id": "a87d579e012524be",
   "metadata": {
    "collapsed": false
   },
   "source": [
    "## Row"
   ]
  },
  {
   "cell_type": "code",
   "execution_count": null,
   "id": "ccf8d3e77896dc61",
   "metadata": {
    "execution": {
     "iopub.execute_input": "2024-07-01T15:52:53.634275Z",
     "iopub.status.busy": "2024-07-01T15:52:53.634275Z",
     "iopub.status.idle": "2024-07-01T15:52:53.664953Z",
     "shell.execute_reply": "2024-07-01T15:52:53.664953Z"
    }
   },
   "outputs": [],
   "source": [
    "# graph of top 10 contracting authorities by number of procurements\n",
    "top_10_by_procurements = contracting_authority.sort_values('number_of_procurements', ascending=False).head(10)\n",
    "fig = px.bar(top_10_by_procurements, x='contracting_authority_name', y='number_of_procurements', labels={'number_of_procurements':'Počet veřejných zakázek', 'contracting_authority_name':'Název zadavatele'}, title='Top 10 zadavatelů podle počtu zadaných veřejných zakázek', template='plotly_white')\n",
    "fig"
   ]
  },
  {
   "cell_type": "raw",
   "id": "14c9c992e52b064b",
   "metadata": {
    "collapsed": false
   },
   "source": [
    "## Row"
   ]
  },
  {
   "cell_type": "code",
   "execution_count": null,
   "id": "ccb83449c07d75d6",
   "metadata": {
    "execution": {
     "iopub.execute_input": "2024-07-01T15:52:53.667146Z",
     "iopub.status.busy": "2024-07-01T15:52:53.667146Z",
     "iopub.status.idle": "2024-07-01T15:52:53.901401Z",
     "shell.execute_reply": "2024-07-01T15:52:53.901401Z"
    }
   },
   "outputs": [],
   "source": [
    "# graph of top 10 contracting authorities by sum of contract price and type of procedure\n",
    "data = pr[pr['contracting_authority_id'].isin(top_10_by_sum.index)]\n",
    "data = data.merge(contracting_authority, left_on='contracting_authority_id', right_index=True, suffixes=('_procurement', '_contracting_authority'), how='left')\n",
    "data['type_of_procedure'] = data['type_of_procedure'].apply(top_procedure_name)\n",
    "data['type_of_procedure'] = data['type_of_procedure'].map(customwrap)\n",
    "data = data.groupby(['contracting_authority_name', 'type_of_procedure']).contract_price_with_amendments_vat.sum().reset_index()\n",
    "fig = px.bar(data, x='contracting_authority_name', y='contract_price_with_amendments_vat', color='type_of_procedure', labels={'contract_price_with_amendments_vat':'Celková cena s DPH [mld. Kč]', 'contracting_authority_name':'Zadavatel', 'type_of_procedure':'Druh zadávacího řízení'}, title='Graf objemu zadaných veřejných zakázek pro 10 největších zadavatelů podle typu zadávacího řízení', template='plotly_white',)\n",
    "fig.update_layout(showlegend=True)\n",
    "fig.update_layout(legend=dict(\n",
    "    orientation=\"v\",\n",
    "    yanchor=\"top\",\n",
    "    y=0.99,\n",
    "    xanchor=\"left\",\n",
    "    x=0.99\n",
    "))\n",
    "# sort x axis by sum of contract price\n",
    "fig.update_xaxes(categoryorder='total descending')\n",
    "fig"
   ]
  },
  {
   "cell_type": "raw",
   "id": "c1e485c0ff3158e5",
   "metadata": {
    "collapsed": false
   },
   "source": [
    "## Row"
   ]
  },
  {
   "cell_type": "markdown",
   "id": "b2f6baa76b0fe6c7",
   "metadata": {
    "collapsed": false
   },
   "source": [
    "V následující tabulce jsou k dispozici informace o 1000 zadavatelích, kteří zadali největší objem zakázek."
   ]
  },
  {
   "cell_type": "raw",
   "id": "639c0eba63316741",
   "metadata": {
    "collapsed": false
   },
   "source": [
    "## Row"
   ]
  },
  {
   "cell_type": "code",
   "execution_count": null,
   "id": "19dc7b2d8a1f4bf8",
   "metadata": {
    "execution": {
     "iopub.execute_input": "2024-07-01T15:52:53.905048Z",
     "iopub.status.busy": "2024-07-01T15:52:53.904038Z",
     "iopub.status.idle": "2024-07-01T15:52:53.911706Z",
     "shell.execute_reply": "2024-07-01T15:52:53.911193Z"
    }
   },
   "outputs": [],
   "source": [
    "#| echo: False\n",
    "data_show = contracting_authority.sort_values('total_price', ascending=False).head(1000)\n",
    "data_show['mean_contract_price'] = data_show['total_price'] / data_show['number_of_procurements']\n",
    "data_show['mean_contract_price'] = data_show['mean_contract_price'].fillna(0)\n",
    "data_show.drop(columns=['address_id'], inplace=True)\n",
    "data.fillna('Neuvedeno', inplace=True)\n",
    "data_show.rename(columns={'contracting_authority_name':'Název zadavatele', 'url' : 'Profil zadavatele NEN', 'number_of_procurements' : 'Počet zadaných veřejných zakázek', 'total_price' : 'Celková cena zadaných veřejných zakázek s DPH [Kč]', 'mean_contract_price' : 'Průměrná cena zadané veřejné zakázky [Kč]', 'organisation_id' : 'IČO', 'vat_id_number' : 'DIČ'}, inplace=True)"
   ]
  },
  {
   "cell_type": "code",
   "execution_count": null,
   "id": "6290a5c968b89235",
   "metadata": {
    "execution": {
     "iopub.execute_input": "2024-07-01T15:52:53.914841Z",
     "iopub.status.busy": "2024-07-01T15:52:53.913831Z",
     "iopub.status.idle": "2024-07-01T15:52:53.966808Z",
     "shell.execute_reply": "2024-07-01T15:52:53.966299Z"
    }
   },
   "outputs": [],
   "source": [
    "show(data_show, maxBytes=200*1024, showIndex=False, paging=True, search=True, tableClass=\"table table-bordered\", lengthMenu=[10])"
   ]
  },
  {
   "cell_type": "raw",
   "id": "22c3a3dba74e3815",
   "metadata": {
    "collapsed": false
   },
   "source": [
    "## Row {height=50}"
   ]
  },
  {
   "cell_type": "code",
   "execution_count": null,
   "id": "82dd604a055bf27b",
   "metadata": {
    "execution": {
     "iopub.execute_input": "2024-07-01T15:52:53.969910Z",
     "iopub.status.busy": "2024-07-01T15:52:53.968867Z",
     "iopub.status.idle": "2024-07-01T15:52:53.972955Z",
     "shell.execute_reply": "2024-07-01T15:52:53.972955Z"
    }
   },
   "outputs": [],
   "source": [
    "print(f\"Data byla aktualizována k datu: {date_of_actualization.strftime('%d.%m.%Y')}\")"
   ]
  },
  {
   "cell_type": "raw",
   "id": "9591589f15d2638",
   "metadata": {
    "collapsed": false
   },
   "source": [
    "## Row"
   ]
  },
  {
   "cell_type": "raw",
   "id": "db0b1244fd3073ab",
   "metadata": {
    "collapsed": false
   },
   "source": [
    "<table>\n",
    "  <thead>\n",
    "    <tr>\n",
    "      <th></th>\n",
    "      <th></th>\n",
    "      <th></th>\n",
    "    </tr>\n",
    "  </thead>\n",
    "  <tbody>\n",
    "    <tr>\n",
    "    <td>PŘIBYL, Martin. Analýza výherců veřejných zakázek \\[online\\]. Praha, 2024. Bakalářská práce.  ČVUT v Praze, Fakulta informačních technologií, Katedra aplikované matematiky & OpenDataLab. Dostupné z: TBA<br>\n",
    "Kontakt: pribym12@fit.cvut.cz<br>\n",
    "Provozovatel neodpovídá za správnost a úplnost zpracovaných dat a informací, ani tato neověřuje a zříká se zodpovědnosti za veškeré škody a újmy, které by použitím těchto dat mohly vzniknout.</td>\n",
    "    <td><a href=\"https://fit.cvut.cz/cs\"><img src=\"images/logo_FIT.jpg\" width=\"150\"/></a></td>\n",
    "    <td><a href=\"https://opendatalab.cz\"><img src=\"images/open_data_lab.svg\" width=\"100\"/></a></td>\n",
    "    </tr>\n",
    "  </tbody>\n",
    "</table>"
   ]
  },
  {
   "cell_type": "raw",
   "id": "824e3644eff02d95",
   "metadata": {
    "collapsed": false
   },
   "source": [
    "# Model {scrolling=\"true\"}"
   ]
  },
  {
   "cell_type": "code",
   "execution_count": null,
   "id": "78a9211f244ce554",
   "metadata": {
    "execution": {
     "iopub.execute_input": "2024-07-01T15:52:53.975427Z",
     "iopub.status.busy": "2024-07-01T15:52:53.975427Z",
     "iopub.status.idle": "2024-07-01T15:53:10.633323Z",
     "shell.execute_reply": "2024-07-01T15:53:10.633323Z"
    }
   },
   "outputs": [],
   "source": [
    "# |echo : False\n",
    "date_X, before_date_X, date_y, before_date_y, date_X_all, before_date_X_all = p.get_data_for_web(month)"
   ]
  },
  {
   "cell_type": "code",
   "execution_count": null,
   "id": "65c076d95c516a94",
   "metadata": {
    "execution": {
     "iopub.execute_input": "2024-07-01T15:53:10.636649Z",
     "iopub.status.busy": "2024-07-01T15:53:10.635562Z",
     "iopub.status.idle": "2024-07-01T15:53:10.696294Z",
     "shell.execute_reply": "2024-07-01T15:53:10.696294Z"
    }
   },
   "outputs": [],
   "source": [
    "# |echo : False\n",
    "model = CatBoostClassifier()\n",
    "model.load_model(\"catboost_model_production\")\n",
    "pred_prev_month = model.predict(date_X)\n",
    "f1 = f1_score(date_y.astype('str'), pred_prev_month, average='macro')\n",
    "ra = roc_auc_score(date_y.astype(\"str\"), model.predict_proba(date_X)[:, 1])\n",
    "ba = balanced_accuracy_score(date_y.astype('str'), pred_prev_month)"
   ]
  },
  {
   "cell_type": "raw",
   "id": "226851b334f2296",
   "metadata": {
    "collapsed": false
   },
   "source": [
    "## Row"
   ]
  },
  {
   "cell_type": "markdown",
   "id": "7ed084fcf9035892",
   "metadata": {
    "collapsed": false
   },
   "source": [
    "**Metriky modelu vytvořeného pro predikci výherců veřejných zakázek**"
   ]
  },
  {
   "cell_type": "raw",
   "id": "f355fd0421a4dfcd",
   "metadata": {
    "collapsed": false
   },
   "source": [
    "## Row"
   ]
  },
  {
   "cell_type": "code",
   "execution_count": null,
   "id": "b9daaf3dd7d87b51",
   "metadata": {
    "execution": {
     "iopub.execute_input": "2024-07-01T15:53:10.699418Z",
     "iopub.status.busy": "2024-07-01T15:53:10.699418Z",
     "iopub.status.idle": "2024-07-01T15:53:10.703997Z",
     "shell.execute_reply": "2024-07-01T15:53:10.703997Z"
    }
   },
   "outputs": [],
   "source": [
    "#| component: valuebox\n",
    "#| title: F1 score modelu na datech za minulý měsíc\n",
    "dict(\n",
    "    color = 'warning',\n",
    "    value = f\"{f1:0.3f}\"\n",
    ")"
   ]
  },
  {
   "cell_type": "code",
   "execution_count": null,
   "id": "ad9ad4d81931f760",
   "metadata": {
    "execution": {
     "iopub.execute_input": "2024-07-01T15:53:10.707299Z",
     "iopub.status.busy": "2024-07-01T15:53:10.706254Z",
     "iopub.status.idle": "2024-07-01T15:53:10.710831Z",
     "shell.execute_reply": "2024-07-01T15:53:10.710831Z"
    }
   },
   "outputs": [],
   "source": [
    "#| component: valuebox\n",
    "#| title: Balanced accuracy modelu na datech za minulý měsíc\n",
    "dict(\n",
    "    color = 'primary',\n",
    "    value = f\"{ba:0.3f}\"\n",
    ")"
   ]
  },
  {
   "cell_type": "code",
   "execution_count": null,
   "id": "1897a86e29e0af7d",
   "metadata": {
    "execution": {
     "iopub.execute_input": "2024-07-01T15:53:10.712916Z",
     "iopub.status.busy": "2024-07-01T15:53:10.712916Z",
     "iopub.status.idle": "2024-07-01T15:53:10.717370Z",
     "shell.execute_reply": "2024-07-01T15:53:10.717370Z"
    }
   },
   "outputs": [],
   "source": [
    "#| component: valuebox\n",
    "#| title: AUC score modelu na datech za minulý měsíc\n",
    "dict(\n",
    "    color = 'secondary',\n",
    "    value = f\"{ra:0.3f}\"\n",
    ")"
   ]
  },
  {
   "cell_type": "raw",
   "id": "c209b08567d06aff",
   "metadata": {
    "collapsed": false
   },
   "source": [
    "## Row"
   ]
  },
  {
   "cell_type": "code",
   "execution_count": null,
   "id": "d66ef805004b6ac3",
   "metadata": {
    "execution": {
     "iopub.execute_input": "2024-07-01T15:53:10.719719Z",
     "iopub.status.busy": "2024-07-01T15:53:10.719719Z",
     "iopub.status.idle": "2024-07-01T15:53:10.726054Z",
     "shell.execute_reply": "2024-07-01T15:53:10.726054Z"
    }
   },
   "outputs": [],
   "source": [
    "#| echo: False\n",
    "all_data = before_date_X_all.copy()\n",
    "before_date_y.reset_index(drop=True, inplace=True) \n",
    "all_data['is_winner'] = before_date_y"
   ]
  },
  {
   "cell_type": "code",
   "execution_count": null,
   "id": "4e5d6c90ee6abb31",
   "metadata": {
    "execution": {
     "iopub.execute_input": "2024-07-01T15:53:10.728440Z",
     "iopub.status.busy": "2024-07-01T15:53:10.728440Z",
     "iopub.status.idle": "2024-07-01T15:53:11.074556Z",
     "shell.execute_reply": "2024-07-01T15:53:11.074556Z"
    }
   },
   "outputs": [],
   "source": [
    "# show graph of metrics (f1, balanced accuracy, roc auc) for 12 months\n",
    "metrics = []\n",
    "metrics.append({'month':(month - pd.DateOffset(months=0)).strftime('%m-%Y'), 'f1':f1, 'roc_auc':ra, 'balanced_accuracy':ba})\n",
    "\n",
    "for i in range(1,12):\n",
    "    tmp = all_data[(all_data.date_of_publication.dt.month == (month - pd.DateOffset(months=i)).month) & (all_data.date_of_publication.dt.year == (month - pd.DateOffset(months=i)).year)]\n",
    "    idx = tmp.index\n",
    "    tmp_pred = before_date_X.loc[idx]\n",
    "    tmp_y = all_data['is_winner'].loc[idx]\n",
    "    pred = model.predict(tmp_pred)\n",
    "    f1 = f1_score(tmp_y.astype('str'), pred, average='macro')\n",
    "    ra = roc_auc_score(tmp_y.astype(\"str\"), model.predict_proba(tmp_pred)[:, 1])\n",
    "    ba = balanced_accuracy_score(tmp_y.astype('str'), pred)\n",
    "    metrics.append({'month':(month - pd.DateOffset(months=i)).strftime('%m-%Y'), 'f1':f1, 'roc_auc':ra, 'balanced_accuracy':ba})\n",
    "\n",
    "metrics = pd.DataFrame(metrics)\n",
    "# reverse order of rows\n",
    "metrics = metrics.iloc[::-1]\n",
    "metrics.rename(columns={'f1':'F1', 'roc_auc':'AUC score', 'balanced_accuracy':'Balanced accuracy'}, inplace=True)\n",
    "fig = px.line(metrics, x='month', y=['F1','AUC score', 'Balanced accuracy'], labels={'value':'Hodnota', 'month':'Měsíc a rok', 'variable':'Metrika', 'f1' : 'F1 score', 'ba' : 'Balanced accuracy', 'roc_auc': 'AUC score'}, title='Vývoj metrik modelu v čase', template='plotly_white')\n",
    "fig.update_xaxes(\n",
    "    dtick=\"M1\",\n",
    "    tickformat=\"%m/%Y\")\n",
    "fig"
   ]
  },
  {
   "cell_type": "raw",
   "id": "e897cbeebf6e533f",
   "metadata": {
    "collapsed": false
   },
   "source": [
    "## Row"
   ]
  },
  {
   "cell_type": "code",
   "execution_count": null,
   "id": "8880329617701d19",
   "metadata": {
    "execution": {
     "iopub.execute_input": "2024-07-01T15:53:11.077603Z",
     "iopub.status.busy": "2024-07-01T15:53:11.076570Z",
     "iopub.status.idle": "2024-07-01T15:53:11.099040Z",
     "shell.execute_reply": "2024-07-01T15:53:11.099040Z"
    }
   },
   "outputs": [],
   "source": [
    "#| echo: False\n",
    "data_show = date_X_all.copy()\n",
    "date_y.reset_index(drop=True, inplace=True) \n",
    "data_show['Skutečnost (je-li nabídka výherní)'] = date_y \n",
    "data_show['Predikce modelu'] = pred_prev_month\n",
    "data_show['Správnost predikce modelu'] = data_show['Skutečnost (je-li nabídka výherní)'].astype('str') == data_show['Predikce modelu']\n",
    "data_show = data_show.merge(dataframes['company'], left_on='company_id', right_on='id', suffixes=('_procurement', '_company'), how='left')\n",
    "data_show.drop(columns=['is_association_of_suppliers', 'is_rejected_due_too_low', 'is_withdrawn','company_id', 'number_of_offers_procurement', 'contract_price' , 'contract_price_vat', 'contract_price_with_amendments', 'price', 'contact_person_id','contracting_authority_id', 'address_id_x', 'id', 'url', 'address_id_y', 'total_offers', 'total_wins_procurement', 'total_procurements', 'num_of_nan', 'organisation_id_procurement', 'address_id', 'distance', 'number_of_offers_company', 'total_wins_company', 'total_price', 'publication_close_interval', 'bids_close_interval', 'contract_price_with_amendments_vat'], inplace=True)\n",
    "data_show['type'] = data_show['type'].map(translation_type)\n",
    "data_show['public_contract_regime'] = data_show['public_contract_regime'].map(translation_public_regime)\n",
    "data_show.rename(columns={'procurement_name':'Název veřejné zakázky', 'date_of_publication':'Datum zveřejnění', 'date_of_contract_close' : 'Datum uzavření smlouvy', 'type':'Typ veřejné zakázky', 'type_of_procedure':'Druh zadávacího řízení', 'public_contract_regime':'Režim veřejné zakázky', 'contracting_authority_name':'Název zadavatele', 'organisation_id':'IČO dodavatele', 'company_name':'Název dodavatele', 'place_of_performance' : 'Místo výkonu', 'code_from_nipez_codelist' : 'Kód dle číselníku NIPEZ', 'price_vat' : 'Cena bídky s DPH [Kč]', 'bids_submission_deadline' : 'Lhůta pro podání nabídky', 'vat_id_number' : 'DIČ dodavatele', 'organisation_id_company' : 'IČO dodavatele'}, inplace=True)\n",
    "data_show['Skutečnost (je-li nabídka výherní)'].replace({True:'Výherní', False:'Nevýherní'}, inplace=True)\n",
    "data_show['Predikce modelu'].replace({'True':'Výherní', 'False':'Nevýherní'}, inplace=True)\n",
    "data_show['Správnost predikce modelu'].replace({True:'Správně', False:'Špatně'}, inplace=True)\n",
    "data_show.fillna('Neuvedeno', inplace=True)\n",
    "data_show['Místo výkonu'].replace({'Unknown':'Neuvedeno'}, inplace=True)"
   ]
  },
  {
   "cell_type": "code",
   "execution_count": null,
   "id": "9c3549ef19f8513b",
   "metadata": {
    "execution": {
     "iopub.execute_input": "2024-07-01T15:53:11.102102Z",
     "iopub.status.busy": "2024-07-01T15:53:11.101047Z",
     "iopub.status.idle": "2024-07-01T15:53:11.169825Z",
     "shell.execute_reply": "2024-07-01T15:53:11.169825Z"
    }
   },
   "outputs": [],
   "source": [
    "# show(data_show, maxBytes=200*1024, showIndex=False, paging=True, search=True, tableClass=\"table table-bordered\", lengthMenu=[10])\n",
    "\n",
    "show(\n",
    "    data_show, maxBytes=200*1024, showIndex=False, paging=True, search=True, tableClass=\"table table-bordered\", lengthMenu=[10],\n",
    "    columnDefs=[\n",
    "        {\n",
    "            \"targets\": \"_all\",\n",
    "            \"createdCell\": JavascriptFunction(\n",
    "                \"\"\"\n",
    "function (td, cellData, rowData, row, col) {\n",
    "    if (cellData == \"Špatně\") {\n",
    "        $(td).css('color', 'red')\n",
    "    }\n",
    "    if (cellData == \"Správně\") {\n",
    "        $(td).css('color', 'green')\n",
    "    }\n",
    "}\n",
    "\"\"\"\n",
    "            ),\n",
    "        }\n",
    "    ],\n",
    ")"
   ]
  },
  {
   "cell_type": "raw",
   "id": "f4ad75edd569a79d",
   "metadata": {
    "collapsed": false
   },
   "source": [
    "## Row {height=50}"
   ]
  },
  {
   "cell_type": "code",
   "execution_count": null,
   "id": "dc7b3d962e5f2994",
   "metadata": {
    "execution": {
     "iopub.execute_input": "2024-07-01T15:53:11.176165Z",
     "iopub.status.busy": "2024-07-01T15:53:11.176165Z",
     "iopub.status.idle": "2024-07-01T15:53:11.179700Z",
     "shell.execute_reply": "2024-07-01T15:53:11.179700Z"
    }
   },
   "outputs": [],
   "source": [
    "print(f\"Data byla aktualizována k datu: {date_of_actualization.strftime('%d.%m.%Y')}\")"
   ]
  },
  {
   "cell_type": "raw",
   "id": "bba96b06e6891122",
   "metadata": {
    "collapsed": false
   },
   "source": [
    "## Row"
   ]
  },
  {
   "cell_type": "raw",
   "id": "230fea4e819d260",
   "metadata": {
    "collapsed": false
   },
   "source": [
    "<table>\n",
    "  <thead>\n",
    "    <tr>\n",
    "      <th></th>\n",
    "      <th></th>\n",
    "      <th></th>\n",
    "    </tr>\n",
    "  </thead>\n",
    "  <tbody>\n",
    "    <tr>\n",
    "    <td>PŘIBYL, Martin. Analýza výherců veřejných zakázek \\[online\\]. Praha, 2024. Bakalářská práce.  ČVUT v Praze, Fakulta informačních technologií, Katedra aplikované matematiky & OpenDataLab. Dostupné z: TBA<br>\n",
    "Kontakt: pribym12@fit.cvut.cz<br>\n",
    "Provozovatel neodpovídá za správnost a úplnost zpracovaných dat a informací, ani tato neověřuje a zříká se zodpovědnosti za veškeré škody a újmy, které by použitím těchto dat mohly vzniknout.</td>\n",
    "    <td><a href=\"https://fit.cvut.cz/cs\"><img src=\"images/logo_FIT.jpg\" width=\"150\"/></a></td>\n",
    "    <td><a href=\"https://opendatalab.cz\"><img src=\"images/open_data_lab.svg\" width=\"100\"/></a></td>\n",
    "    </tr>\n",
    "  </tbody>\n",
    "</table>"
   ]
  }
 ],
 "metadata": {
  "kernelspec": {
   "display_name": "Python 3 (ipykernel)",
   "language": "python",
   "name": "python3"
  },
  "language_info": {
   "codemirror_mode": {
    "name": "ipython",
    "version": 3
   },
   "file_extension": ".py",
   "mimetype": "text/x-python",
   "name": "python",
   "nbconvert_exporter": "python",
   "pygments_lexer": "ipython3",
   "version": "3.11.3"
  }
 },
 "nbformat": 4,
 "nbformat_minor": 5
}
