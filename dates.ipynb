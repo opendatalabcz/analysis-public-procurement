{
 "cells": [
  {
   "cell_type": "code",
   "execution_count": 1,
   "id": "initial_id",
   "metadata": {
    "collapsed": true,
    "ExecuteTime": {
     "end_time": "2024-03-11T10:51:05.318452400Z",
     "start_time": "2024-03-11T10:51:04.706069700Z"
    }
   },
   "outputs": [],
   "source": [
    "import pandas as pd\n",
    "import matplotlib.pyplot as plt\n",
    "import datetime as dt"
   ]
  },
  {
   "cell_type": "code",
   "outputs": [],
   "source": [
    "procurement = pd.read_csv('data_2/procurement_2.csv')"
   ],
   "metadata": {
    "collapsed": false,
    "ExecuteTime": {
     "end_time": "2024-03-11T10:51:05.543932700Z",
     "start_time": "2024-03-11T10:51:05.320687700Z"
    }
   },
   "id": "c7d42efbfc14f8c8",
   "execution_count": 2
  },
  {
   "cell_type": "code",
   "outputs": [],
   "source": [
    "procurement.dropna(subset=['date_of_contract_close', 'date_of_publication'], inplace=True)"
   ],
   "metadata": {
    "collapsed": false,
    "ExecuteTime": {
     "end_time": "2024-03-11T10:51:05.558452700Z",
     "start_time": "2024-03-11T10:51:05.542428600Z"
    }
   },
   "id": "49aa200805433c9e",
   "execution_count": 3
  },
  {
   "cell_type": "code",
   "outputs": [],
   "source": [
    "procurement[\"bids_submission_deadline\"] = pd.to_datetime(procurement[\"bids_submission_deadline\"], format='%Y-%m-%d', errors = 'coerce')\n",
    "procurement[\"date_of_contract_close\"] = pd.to_datetime(procurement[\"date_of_contract_close\"], format='%Y-%m-%d', errors = 'coerce')\n",
    "procurement[\"date_of_publication\"] = pd.to_datetime(procurement[\"date_of_publication\"], format='%Y-%m-%d', errors = 'coerce')"
   ],
   "metadata": {
    "collapsed": false,
    "ExecuteTime": {
     "end_time": "2024-03-11T10:51:05.576169300Z",
     "start_time": "2024-03-11T10:51:05.559450500Z"
    }
   },
   "id": "9550ae3af26ee9f1",
   "execution_count": 4
  },
  {
   "cell_type": "code",
   "outputs": [],
   "source": [
    "#procurement.dropna(subset=['date_of_contract_close', 'date_of_publication'], inplace=True)\n",
    "#procurement.dropna(subset=['bids_submission_deadline', 'date_of_publication'], inplace=True)"
   ],
   "metadata": {
    "collapsed": false,
    "ExecuteTime": {
     "end_time": "2024-03-11T10:51:05.602254800Z",
     "start_time": "2024-03-11T10:51:05.577172800Z"
    }
   },
   "id": "87a1411d643f39c0",
   "execution_count": 5
  },
  {
   "cell_type": "code",
   "outputs": [
    {
     "name": "stdout",
     "output_type": "stream",
     "text": [
      "<class 'pandas.core.frame.DataFrame'>\n",
      "Index: 30130 entries, 0 to 31552\n",
      "Data columns (total 20 columns):\n",
      " #   Column                              Non-Null Count  Dtype         \n",
      "---  ------                              --------------  -----         \n",
      " 0   id                                  30130 non-null  int64         \n",
      " 1   bids_submission_deadline            15438 non-null  datetime64[ns]\n",
      " 2   code_from_nipez_codelist            28540 non-null  object        \n",
      " 3   contract_price                      30130 non-null  float64       \n",
      " 4   contract_price_vat                  30130 non-null  float64       \n",
      " 5   contract_price_with_amendments      30130 non-null  float64       \n",
      " 6   contract_price_with_amendments_vat  30130 non-null  float64       \n",
      " 7   date_of_contract_close              30129 non-null  datetime64[ns]\n",
      " 8   date_of_publication                 30130 non-null  datetime64[ns]\n",
      " 9   is_association_of_suppliers         30123 non-null  object        \n",
      " 10  procurement_name                    30130 non-null  object        \n",
      " 11  name_from_nipez_codelist            28540 non-null  object        \n",
      " 12  place_of_performance                26883 non-null  object        \n",
      " 13  public_contract_regime              19988 non-null  object        \n",
      " 14  system_number                       30130 non-null  object        \n",
      " 15  type                                30113 non-null  object        \n",
      " 16  type_of_procedure                   30130 non-null  object        \n",
      " 17  contact_person_id                   30130 non-null  int64         \n",
      " 18  contracting_authority_id            30130 non-null  int64         \n",
      " 19  supplier_id                         30130 non-null  int64         \n",
      "dtypes: datetime64[ns](3), float64(4), int64(4), object(9)\n",
      "memory usage: 4.8+ MB\n"
     ]
    }
   ],
   "source": [
    "procurement.info()"
   ],
   "metadata": {
    "collapsed": false,
    "ExecuteTime": {
     "end_time": "2024-03-11T10:51:05.616244400Z",
     "start_time": "2024-03-11T10:51:05.580861400Z"
    }
   },
   "id": "db7dd1da62659b55",
   "execution_count": 6
  },
  {
   "cell_type": "code",
   "outputs": [],
   "source": [
    "procurement['publication_close_interval'] = (procurement['date_of_contract_close'] - procurement['date_of_publication']).dt.days\n",
    "procurement['bids_close_interval'] = (procurement['bids_submission_deadline'] - procurement['date_of_publication']).dt.days"
   ],
   "metadata": {
    "collapsed": false,
    "ExecuteTime": {
     "end_time": "2024-03-11T10:51:05.616244400Z",
     "start_time": "2024-03-11T10:51:05.604272600Z"
    }
   },
   "id": "af67aae73a4a54bf",
   "execution_count": 7
  },
  {
   "cell_type": "code",
   "outputs": [
    {
     "data": {
      "text/plain": "          id bids_submission_deadline code_from_nipez_codelist  \\\n0          1                      NaT               15710000-8   \n1          2                      NaT               50110000-9   \n2          3                      NaT                      NaN   \n3          4                      NaT               90511000-2   \n4          5                      NaT               90500000-2   \n...      ...                      ...                      ...   \n31548  31623                      NaT               90500000-2   \n31549  31624                      NaT               30121100-4   \n31550  31625                      NaT               09123000-7   \n31551  31626               2023-03-01               50100000-6   \n31552  31627               2023-02-16               30200000-1   \n\n       contract_price  contract_price_vat  contract_price_with_amendments  \\\n0            38973.48            44820.00                        38973.48   \n1             9832.02            11896.74                         9832.02   \n2           130000.00           130000.00                       130000.00   \n3            26580.00            32161.80                        26580.00   \n4             8468.00             9314.80                         8468.00   \n...               ...                 ...                             ...   \n31548            0.00                0.00                            0.00   \n31549            0.00                0.00                            0.00   \n31550            0.00                0.00                            0.00   \n31551       141855.33           171644.95                       141855.33   \n31552        63940.00            77367.40                        63940.00   \n\n       contract_price_with_amendments_vat date_of_contract_close  \\\n0                                44820.00             2022-03-02   \n1                                11896.74             2023-11-23   \n2                               130000.00             2022-02-24   \n3                                32161.80             2022-03-07   \n4                                 9314.80             2023-10-24   \n...                                   ...                    ...   \n31548                                0.00             2020-06-24   \n31549                                0.00             2021-06-10   \n31550                                0.00             2020-07-03   \n31551                           171644.95             2023-03-14   \n31552                            77367.40             2023-03-13   \n\n      date_of_publication is_association_of_suppliers  ...  \\\n0              2022-03-02                       False  ...   \n1              2023-11-30                       False  ...   \n2              2022-03-02                       False  ...   \n3              2022-03-07                       False  ...   \n4              2023-10-24                       False  ...   \n...                   ...                         ...  ...   \n31548          2021-03-22                       False  ...   \n31549          2021-06-20                       False  ...   \n31550          2020-07-30                       False  ...   \n31551          2023-02-15                       False  ...   \n31552          2023-02-07                       False  ...   \n\n      place_of_performance       public_contract_regime      system_number  \\\n0           Liberecký kraj                          NaN  N006/22/V00004456   \n1           Jihočeský kraj                          NaN  N006/23/V00033550   \n2                      NaN  Small-scale public contract  N006/22/V00004676   \n3           Liberecký kraj                          NaN  N006/22/V00004924   \n4         Středočeský kraj                          NaN  N006/23/V00030140   \n...                    ...                          ...                ...   \n31548   Hlavní město Praha  Small-scale public contract  N006/21/V00006509   \n31549   Hlavní město Praha  Small-scale public contract  N006/21/V00015961   \n31550      Česká republika  Above-limit public contract  N006/20/V00019093   \n31551            Jihozápad  Small-scale public contract  N006/23/V00002968   \n31552     Středočeský kraj  Small-scale public contract  N006/23/V00003309   \n\n                                 type  \\\n0      Public contract for deliveries   \n1        Public contract for services   \n2      Public contract for deliveries   \n3        Public contract for services   \n4        Public contract for services   \n...                               ...   \n31548    Public contract for services   \n31549  Public contract for deliveries   \n31550  Public contract for deliveries   \n31551    Public contract for services   \n31552  Public contract for deliveries   \n\n                                       type_of_procedure contact_person_id  \\\n0      Zadávání VZ na základě rámcové dohody bez obno...                 1   \n1      Zadávání VZ na základě rámcové dohody bez obno...                 2   \n2                                         Otevřená výzva                 1   \n3      Zadávání VZ na základě rámcové dohody bez obno...                 1   \n4      Zadávání VZ na základě rámcové dohody bez obno...                 3   \n...                                                  ...               ...   \n31548                                     Uzavřená výzva              3174   \n31549                                     Uzavřená výzva              3174   \n31550                      Jednací řízení bez uveřejnění              1559   \n31551                                     Otevřená výzva               897   \n31552                                     Otevřená výzva               717   \n\n      contracting_authority_id  supplier_id  publication_close_interval  \\\n0                            1            1                         0.0   \n1                            1            2                        -7.0   \n2                            1            3                        -6.0   \n3                            1            4                         0.0   \n4                            1            5                         0.0   \n...                        ...          ...                         ...   \n31548                      420         1162                      -271.0   \n31549                      420          585                       -10.0   \n31550                      179          874                       -27.0   \n31551                        1        12336                        27.0   \n31552                       92          398                        34.0   \n\n       bids_close_interval  \n0                      NaN  \n1                      NaN  \n2                      NaN  \n3                      NaN  \n4                      NaN  \n...                    ...  \n31548                  NaN  \n31549                  NaN  \n31550                  NaN  \n31551                 14.0  \n31552                  9.0  \n\n[30130 rows x 22 columns]",
      "text/html": "<div>\n<style scoped>\n    .dataframe tbody tr th:only-of-type {\n        vertical-align: middle;\n    }\n\n    .dataframe tbody tr th {\n        vertical-align: top;\n    }\n\n    .dataframe thead th {\n        text-align: right;\n    }\n</style>\n<table border=\"1\" class=\"dataframe\">\n  <thead>\n    <tr style=\"text-align: right;\">\n      <th></th>\n      <th>id</th>\n      <th>bids_submission_deadline</th>\n      <th>code_from_nipez_codelist</th>\n      <th>contract_price</th>\n      <th>contract_price_vat</th>\n      <th>contract_price_with_amendments</th>\n      <th>contract_price_with_amendments_vat</th>\n      <th>date_of_contract_close</th>\n      <th>date_of_publication</th>\n      <th>is_association_of_suppliers</th>\n      <th>...</th>\n      <th>place_of_performance</th>\n      <th>public_contract_regime</th>\n      <th>system_number</th>\n      <th>type</th>\n      <th>type_of_procedure</th>\n      <th>contact_person_id</th>\n      <th>contracting_authority_id</th>\n      <th>supplier_id</th>\n      <th>publication_close_interval</th>\n      <th>bids_close_interval</th>\n    </tr>\n  </thead>\n  <tbody>\n    <tr>\n      <th>0</th>\n      <td>1</td>\n      <td>NaT</td>\n      <td>15710000-8</td>\n      <td>38973.48</td>\n      <td>44820.00</td>\n      <td>38973.48</td>\n      <td>44820.00</td>\n      <td>2022-03-02</td>\n      <td>2022-03-02</td>\n      <td>False</td>\n      <td>...</td>\n      <td>Liberecký kraj</td>\n      <td>NaN</td>\n      <td>N006/22/V00004456</td>\n      <td>Public contract for deliveries</td>\n      <td>Zadávání VZ na základě rámcové dohody bez obno...</td>\n      <td>1</td>\n      <td>1</td>\n      <td>1</td>\n      <td>0.0</td>\n      <td>NaN</td>\n    </tr>\n    <tr>\n      <th>1</th>\n      <td>2</td>\n      <td>NaT</td>\n      <td>50110000-9</td>\n      <td>9832.02</td>\n      <td>11896.74</td>\n      <td>9832.02</td>\n      <td>11896.74</td>\n      <td>2023-11-23</td>\n      <td>2023-11-30</td>\n      <td>False</td>\n      <td>...</td>\n      <td>Jihočeský kraj</td>\n      <td>NaN</td>\n      <td>N006/23/V00033550</td>\n      <td>Public contract for services</td>\n      <td>Zadávání VZ na základě rámcové dohody bez obno...</td>\n      <td>2</td>\n      <td>1</td>\n      <td>2</td>\n      <td>-7.0</td>\n      <td>NaN</td>\n    </tr>\n    <tr>\n      <th>2</th>\n      <td>3</td>\n      <td>NaT</td>\n      <td>NaN</td>\n      <td>130000.00</td>\n      <td>130000.00</td>\n      <td>130000.00</td>\n      <td>130000.00</td>\n      <td>2022-02-24</td>\n      <td>2022-03-02</td>\n      <td>False</td>\n      <td>...</td>\n      <td>NaN</td>\n      <td>Small-scale public contract</td>\n      <td>N006/22/V00004676</td>\n      <td>Public contract for deliveries</td>\n      <td>Otevřená výzva</td>\n      <td>1</td>\n      <td>1</td>\n      <td>3</td>\n      <td>-6.0</td>\n      <td>NaN</td>\n    </tr>\n    <tr>\n      <th>3</th>\n      <td>4</td>\n      <td>NaT</td>\n      <td>90511000-2</td>\n      <td>26580.00</td>\n      <td>32161.80</td>\n      <td>26580.00</td>\n      <td>32161.80</td>\n      <td>2022-03-07</td>\n      <td>2022-03-07</td>\n      <td>False</td>\n      <td>...</td>\n      <td>Liberecký kraj</td>\n      <td>NaN</td>\n      <td>N006/22/V00004924</td>\n      <td>Public contract for services</td>\n      <td>Zadávání VZ na základě rámcové dohody bez obno...</td>\n      <td>1</td>\n      <td>1</td>\n      <td>4</td>\n      <td>0.0</td>\n      <td>NaN</td>\n    </tr>\n    <tr>\n      <th>4</th>\n      <td>5</td>\n      <td>NaT</td>\n      <td>90500000-2</td>\n      <td>8468.00</td>\n      <td>9314.80</td>\n      <td>8468.00</td>\n      <td>9314.80</td>\n      <td>2023-10-24</td>\n      <td>2023-10-24</td>\n      <td>False</td>\n      <td>...</td>\n      <td>Středočeský kraj</td>\n      <td>NaN</td>\n      <td>N006/23/V00030140</td>\n      <td>Public contract for services</td>\n      <td>Zadávání VZ na základě rámcové dohody bez obno...</td>\n      <td>3</td>\n      <td>1</td>\n      <td>5</td>\n      <td>0.0</td>\n      <td>NaN</td>\n    </tr>\n    <tr>\n      <th>...</th>\n      <td>...</td>\n      <td>...</td>\n      <td>...</td>\n      <td>...</td>\n      <td>...</td>\n      <td>...</td>\n      <td>...</td>\n      <td>...</td>\n      <td>...</td>\n      <td>...</td>\n      <td>...</td>\n      <td>...</td>\n      <td>...</td>\n      <td>...</td>\n      <td>...</td>\n      <td>...</td>\n      <td>...</td>\n      <td>...</td>\n      <td>...</td>\n      <td>...</td>\n      <td>...</td>\n    </tr>\n    <tr>\n      <th>31548</th>\n      <td>31623</td>\n      <td>NaT</td>\n      <td>90500000-2</td>\n      <td>0.00</td>\n      <td>0.00</td>\n      <td>0.00</td>\n      <td>0.00</td>\n      <td>2020-06-24</td>\n      <td>2021-03-22</td>\n      <td>False</td>\n      <td>...</td>\n      <td>Hlavní město Praha</td>\n      <td>Small-scale public contract</td>\n      <td>N006/21/V00006509</td>\n      <td>Public contract for services</td>\n      <td>Uzavřená výzva</td>\n      <td>3174</td>\n      <td>420</td>\n      <td>1162</td>\n      <td>-271.0</td>\n      <td>NaN</td>\n    </tr>\n    <tr>\n      <th>31549</th>\n      <td>31624</td>\n      <td>NaT</td>\n      <td>30121100-4</td>\n      <td>0.00</td>\n      <td>0.00</td>\n      <td>0.00</td>\n      <td>0.00</td>\n      <td>2021-06-10</td>\n      <td>2021-06-20</td>\n      <td>False</td>\n      <td>...</td>\n      <td>Hlavní město Praha</td>\n      <td>Small-scale public contract</td>\n      <td>N006/21/V00015961</td>\n      <td>Public contract for deliveries</td>\n      <td>Uzavřená výzva</td>\n      <td>3174</td>\n      <td>420</td>\n      <td>585</td>\n      <td>-10.0</td>\n      <td>NaN</td>\n    </tr>\n    <tr>\n      <th>31550</th>\n      <td>31625</td>\n      <td>NaT</td>\n      <td>09123000-7</td>\n      <td>0.00</td>\n      <td>0.00</td>\n      <td>0.00</td>\n      <td>0.00</td>\n      <td>2020-07-03</td>\n      <td>2020-07-30</td>\n      <td>False</td>\n      <td>...</td>\n      <td>Česká republika</td>\n      <td>Above-limit public contract</td>\n      <td>N006/20/V00019093</td>\n      <td>Public contract for deliveries</td>\n      <td>Jednací řízení bez uveřejnění</td>\n      <td>1559</td>\n      <td>179</td>\n      <td>874</td>\n      <td>-27.0</td>\n      <td>NaN</td>\n    </tr>\n    <tr>\n      <th>31551</th>\n      <td>31626</td>\n      <td>2023-03-01</td>\n      <td>50100000-6</td>\n      <td>141855.33</td>\n      <td>171644.95</td>\n      <td>141855.33</td>\n      <td>171644.95</td>\n      <td>2023-03-14</td>\n      <td>2023-02-15</td>\n      <td>False</td>\n      <td>...</td>\n      <td>Jihozápad</td>\n      <td>Small-scale public contract</td>\n      <td>N006/23/V00002968</td>\n      <td>Public contract for services</td>\n      <td>Otevřená výzva</td>\n      <td>897</td>\n      <td>1</td>\n      <td>12336</td>\n      <td>27.0</td>\n      <td>14.0</td>\n    </tr>\n    <tr>\n      <th>31552</th>\n      <td>31627</td>\n      <td>2023-02-16</td>\n      <td>30200000-1</td>\n      <td>63940.00</td>\n      <td>77367.40</td>\n      <td>63940.00</td>\n      <td>77367.40</td>\n      <td>2023-03-13</td>\n      <td>2023-02-07</td>\n      <td>False</td>\n      <td>...</td>\n      <td>Středočeský kraj</td>\n      <td>Small-scale public contract</td>\n      <td>N006/23/V00003309</td>\n      <td>Public contract for deliveries</td>\n      <td>Otevřená výzva</td>\n      <td>717</td>\n      <td>92</td>\n      <td>398</td>\n      <td>34.0</td>\n      <td>9.0</td>\n    </tr>\n  </tbody>\n</table>\n<p>30130 rows × 22 columns</p>\n</div>"
     },
     "execution_count": 8,
     "metadata": {},
     "output_type": "execute_result"
    }
   ],
   "source": [
    "procurement"
   ],
   "metadata": {
    "collapsed": false,
    "ExecuteTime": {
     "end_time": "2024-03-11T10:51:05.671360Z",
     "start_time": "2024-03-11T10:51:05.614245600Z"
    }
   },
   "id": "d0599685d3086c11",
   "execution_count": 8
  },
  {
   "cell_type": "code",
   "outputs": [
    {
     "data": {
      "text/plain": "count    30129.000000\nmean        -0.842444\nstd        195.248757\nmin      -7642.000000\n25%         -4.000000\n50%          9.000000\n75%         39.000000\nmax       1491.000000\nName: publication_close_interval, dtype: float64"
     },
     "execution_count": 9,
     "metadata": {},
     "output_type": "execute_result"
    }
   ],
   "source": [
    "procurement['publication_close_interval'].describe()"
   ],
   "metadata": {
    "collapsed": false,
    "ExecuteTime": {
     "end_time": "2024-03-11T10:51:05.672358900Z",
     "start_time": "2024-03-11T10:51:05.658804500Z"
    }
   },
   "id": "d05807ea7273b9e6",
   "execution_count": 9
  },
  {
   "cell_type": "code",
   "outputs": [
    {
     "data": {
      "text/plain": "(array([  32.,   23.,   42.,   36.,   47.,   55.,   73.,   86.,   56.,\n         106.,   79.,  105.,  133.,  112.,  168.,  164.,  235.,  242.,\n         316.,  366.,  422.,  690.,  655., 1640., 4035., 3349.,  191.,\n         292.,  668.,  872., 1540., 1238., 1200., 1003.,  781.,  820.,\n         482.,  580.,  445.,  432.,  426.,  322.,  367.,  262.,  233.,\n         200.,  255.,  202.,  167.,  223.]),\n array([-100.,  -96.,  -92.,  -88.,  -84.,  -80.,  -76.,  -72.,  -68.,\n         -64.,  -60.,  -56.,  -52.,  -48.,  -44.,  -40.,  -36.,  -32.,\n         -28.,  -24.,  -20.,  -16.,  -12.,   -8.,   -4.,    0.,    4.,\n           8.,   12.,   16.,   20.,   24.,   28.,   32.,   36.,   40.,\n          44.,   48.,   52.,   56.,   60.,   64.,   68.,   72.,   76.,\n          80.,   84.,   88.,   92.,   96.,  100.]),\n <BarContainer object of 50 artists>)"
     },
     "execution_count": 10,
     "metadata": {},
     "output_type": "execute_result"
    },
    {
     "data": {
      "text/plain": "<Figure size 640x480 with 1 Axes>",
      "image/png": "[encoded data removed]"
     },
     "metadata": {},
     "output_type": "display_data"
    }
   ],
   "source": [
    "plt.hist(procurement['publication_close_interval'], bins=50, range=(-100, 100))"
   ],
   "metadata": {
    "collapsed": false,
    "ExecuteTime": {
     "end_time": "2024-03-11T10:51:05.895265600Z",
     "start_time": "2024-03-11T10:51:05.667846300Z"
    }
   },
   "id": "b479810f2ed9a85b",
   "execution_count": 10
  },
  {
   "cell_type": "code",
   "outputs": [
    {
     "data": {
      "text/plain": "count    15438.000000\nmean        19.682990\nstd         30.347115\nmin      -1421.000000\n25%         10.000000\n50%         14.000000\n75%         23.750000\nmax        968.000000\nName: bids_close_interval, dtype: float64"
     },
     "execution_count": 11,
     "metadata": {},
     "output_type": "execute_result"
    }
   ],
   "source": [
    "procurement['bids_close_interval'].describe()"
   ],
   "metadata": {
    "collapsed": false,
    "ExecuteTime": {
     "end_time": "2024-03-11T10:51:05.904690100Z",
     "start_time": "2024-03-11T10:51:05.891449100Z"
    }
   },
   "id": "a9d2caac281904d1",
   "execution_count": 11
  },
  {
   "cell_type": "code",
   "outputs": [
    {
     "data": {
      "text/plain": "(array([0.000e+00, 3.000e+00, 0.000e+00, 0.000e+00, 0.000e+00, 1.000e+00,\n        1.000e+00, 0.000e+00, 2.000e+00, 1.000e+00, 3.000e+00, 1.000e+00,\n        2.000e+00, 5.000e+00, 7.000e+00, 4.000e+00, 4.000e+00, 9.000e+00,\n        1.200e+01, 7.000e+00, 1.200e+01, 2.500e+01, 3.200e+01, 1.020e+02,\n        2.690e+02, 1.080e+02, 2.240e+02, 4.887e+03, 3.228e+03, 1.501e+03,\n        1.107e+03, 4.910e+02, 1.149e+03, 7.410e+02, 2.930e+02, 2.240e+02,\n        1.100e+02, 9.700e+01, 7.300e+01, 9.600e+01, 7.700e+01, 4.600e+01,\n        5.600e+01, 3.500e+01, 2.900e+01, 3.000e+01, 3.200e+01, 3.300e+01,\n        1.700e+01, 1.800e+01]),\n array([-100.,  -96.,  -92.,  -88.,  -84.,  -80.,  -76.,  -72.,  -68.,\n         -64.,  -60.,  -56.,  -52.,  -48.,  -44.,  -40.,  -36.,  -32.,\n         -28.,  -24.,  -20.,  -16.,  -12.,   -8.,   -4.,    0.,    4.,\n           8.,   12.,   16.,   20.,   24.,   28.,   32.,   36.,   40.,\n          44.,   48.,   52.,   56.,   60.,   64.,   68.,   72.,   76.,\n          80.,   84.,   88.,   92.,   96.,  100.]),\n <BarContainer object of 50 artists>)"
     },
     "execution_count": 12,
     "metadata": {},
     "output_type": "execute_result"
    },
    {
     "data": {
      "text/plain": "<Figure size 640x480 with 1 Axes>",
      "image/png": "[encoded data removed]"
     },
     "metadata": {},
     "output_type": "display_data"
    }
   ],
   "source": [
    "plt.hist(procurement['bids_close_interval'], bins=50, range=(-100, 100))"
   ],
   "metadata": {
    "collapsed": false,
    "ExecuteTime": {
     "end_time": "2024-03-11T10:51:06.040151300Z",
     "start_time": "2024-03-11T10:51:05.901120400Z"
    }
   },
   "id": "cdf04645e6a01c32",
   "execution_count": 12
  }
 ],
 "metadata": {
  "kernelspec": {
   "display_name": "Python 3",
   "language": "python",
   "name": "python3"
  },
  "language_info": {
   "codemirror_mode": {
    "name": "ipython",
    "version": 2
   },
   "file_extension": ".py",
   "mimetype": "text/x-python",
   "name": "python",
   "nbconvert_exporter": "python",
   "pygments_lexer": "ipython2",
   "version": "2.7.6"
  }
 },
 "nbformat": 4,
 "nbformat_minor": 5
}
