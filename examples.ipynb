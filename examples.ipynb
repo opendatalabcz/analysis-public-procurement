{
 "cells": [
  {
   "cell_type": "code",
   "execution_count": 1,
   "metadata": {
    "collapsed": true,
    "ExecuteTime": {
     "end_time": "2024-04-16T07:09:45.557566300Z",
     "start_time": "2024-04-16T07:09:45.308056600Z"
    }
   },
   "outputs": [],
   "source": [
    "from scripts import Preprocessor\n",
    "import pandas as pd\n",
    "import numpy as np\n"
   ]
  },
  {
   "cell_type": "code",
   "execution_count": 2,
   "outputs": [],
   "source": [
    "p = Preprocessor('data_2')\n",
    "dataframes = p.get_dataframes()"
   ],
   "metadata": {
    "collapsed": false,
    "ExecuteTime": {
     "end_time": "2024-04-16T07:10:40.511641300Z",
     "start_time": "2024-04-16T07:10:39.434658400Z"
    }
   }
  },
  {
   "cell_type": "code",
   "outputs": [],
   "source": [
    "X_train, X_val, X_test, y_train, y_val, y_test, X_train_all, X_val_all, X_test_all = p.get_predictions_dataframe()"
   ],
   "metadata": {
    "collapsed": false,
    "ExecuteTime": {
     "end_time": "2024-04-16T07:14:30.974852700Z",
     "start_time": "2024-04-16T07:14:03.018853800Z"
    }
   },
   "execution_count": 3
  },
  {
   "cell_type": "code",
   "outputs": [],
   "source": [
    "df_clusters = X_train_all.copy()"
   ],
   "metadata": {
    "collapsed": false,
    "ExecuteTime": {
     "end_time": "2024-04-16T07:14:57.255128200Z",
     "start_time": "2024-04-16T07:14:57.238464900Z"
    }
   },
   "execution_count": 6
  },
  {
   "cell_type": "code",
   "outputs": [],
   "source": [],
   "metadata": {
    "collapsed": false
   }
  },
  {
   "cell_type": "code",
   "outputs": [
    {
     "ename": "TypeError",
     "evalue": "datetime64 type does not support sum operations",
     "output_type": "error",
     "traceback": [
      "\u001B[1;31m---------------------------------------------------------------------------\u001B[0m",
      "\u001B[1;31mTypeError\u001B[0m                                 Traceback (most recent call last)",
      "Cell \u001B[1;32mIn[7], line 1\u001B[0m\n\u001B[1;32m----> 1\u001B[0m \u001B[43mdf_clusters\u001B[49m\u001B[38;5;241;43m.\u001B[39;49m\u001B[43mgroupby\u001B[49m\u001B[43m(\u001B[49m\u001B[43m[\u001B[49m\u001B[38;5;124;43m'\u001B[39;49m\u001B[38;5;124;43mcompany_id\u001B[39;49m\u001B[38;5;124;43m'\u001B[39;49m\u001B[43m,\u001B[49m\u001B[43m \u001B[49m\u001B[38;5;124;43m'\u001B[39;49m\u001B[38;5;124;43mcontracting_authority_id\u001B[39;49m\u001B[38;5;124;43m'\u001B[39;49m\u001B[43m]\u001B[49m\u001B[43m)\u001B[49m\u001B[38;5;241;43m.\u001B[39;49m\u001B[43msum\u001B[49m\u001B[43m(\u001B[49m\u001B[43m)\u001B[49m\n",
      "File \u001B[1;32m~\\PycharmProjects\\bakalarka\\venv\\Lib\\site-packages\\pandas\\core\\groupby\\groupby.py:3063\u001B[0m, in \u001B[0;36mGroupBy.sum\u001B[1;34m(self, numeric_only, min_count, engine, engine_kwargs)\u001B[0m\n\u001B[0;32m   3058\u001B[0m \u001B[38;5;28;01melse\u001B[39;00m:\n\u001B[0;32m   3059\u001B[0m     \u001B[38;5;66;03m# If we are grouping on categoricals we want unobserved categories to\u001B[39;00m\n\u001B[0;32m   3060\u001B[0m     \u001B[38;5;66;03m# return zero, rather than the default of NaN which the reindexing in\u001B[39;00m\n\u001B[0;32m   3061\u001B[0m     \u001B[38;5;66;03m# _agg_general() returns. GH #31422\u001B[39;00m\n\u001B[0;32m   3062\u001B[0m     \u001B[38;5;28;01mwith\u001B[39;00m com\u001B[38;5;241m.\u001B[39mtemp_setattr(\u001B[38;5;28mself\u001B[39m, \u001B[38;5;124m\"\u001B[39m\u001B[38;5;124mobserved\u001B[39m\u001B[38;5;124m\"\u001B[39m, \u001B[38;5;28;01mTrue\u001B[39;00m):\n\u001B[1;32m-> 3063\u001B[0m         result \u001B[38;5;241m=\u001B[39m \u001B[38;5;28;43mself\u001B[39;49m\u001B[38;5;241;43m.\u001B[39;49m\u001B[43m_agg_general\u001B[49m\u001B[43m(\u001B[49m\n\u001B[0;32m   3064\u001B[0m \u001B[43m            \u001B[49m\u001B[43mnumeric_only\u001B[49m\u001B[38;5;241;43m=\u001B[39;49m\u001B[43mnumeric_only\u001B[49m\u001B[43m,\u001B[49m\n\u001B[0;32m   3065\u001B[0m \u001B[43m            \u001B[49m\u001B[43mmin_count\u001B[49m\u001B[38;5;241;43m=\u001B[39;49m\u001B[43mmin_count\u001B[49m\u001B[43m,\u001B[49m\n\u001B[0;32m   3066\u001B[0m \u001B[43m            \u001B[49m\u001B[43malias\u001B[49m\u001B[38;5;241;43m=\u001B[39;49m\u001B[38;5;124;43m\"\u001B[39;49m\u001B[38;5;124;43msum\u001B[39;49m\u001B[38;5;124;43m\"\u001B[39;49m\u001B[43m,\u001B[49m\n\u001B[0;32m   3067\u001B[0m \u001B[43m            \u001B[49m\u001B[43mnpfunc\u001B[49m\u001B[38;5;241;43m=\u001B[39;49m\u001B[43mnp\u001B[49m\u001B[38;5;241;43m.\u001B[39;49m\u001B[43msum\u001B[49m\u001B[43m,\u001B[49m\n\u001B[0;32m   3068\u001B[0m \u001B[43m        \u001B[49m\u001B[43m)\u001B[49m\n\u001B[0;32m   3070\u001B[0m     \u001B[38;5;28;01mreturn\u001B[39;00m \u001B[38;5;28mself\u001B[39m\u001B[38;5;241m.\u001B[39m_reindex_output(result, fill_value\u001B[38;5;241m=\u001B[39m\u001B[38;5;241m0\u001B[39m)\n",
      "File \u001B[1;32m~\\PycharmProjects\\bakalarka\\venv\\Lib\\site-packages\\pandas\\core\\groupby\\groupby.py:1839\u001B[0m, in \u001B[0;36mGroupBy._agg_general\u001B[1;34m(self, numeric_only, min_count, alias, npfunc)\u001B[0m\n\u001B[0;32m   1830\u001B[0m \u001B[38;5;129m@final\u001B[39m\n\u001B[0;32m   1831\u001B[0m \u001B[38;5;28;01mdef\u001B[39;00m \u001B[38;5;21m_agg_general\u001B[39m(\n\u001B[0;32m   1832\u001B[0m     \u001B[38;5;28mself\u001B[39m,\n\u001B[1;32m   (...)\u001B[0m\n\u001B[0;32m   1837\u001B[0m     npfunc: Callable,\n\u001B[0;32m   1838\u001B[0m ):\n\u001B[1;32m-> 1839\u001B[0m     result \u001B[38;5;241m=\u001B[39m \u001B[38;5;28;43mself\u001B[39;49m\u001B[38;5;241;43m.\u001B[39;49m\u001B[43m_cython_agg_general\u001B[49m\u001B[43m(\u001B[49m\n\u001B[0;32m   1840\u001B[0m \u001B[43m        \u001B[49m\u001B[43mhow\u001B[49m\u001B[38;5;241;43m=\u001B[39;49m\u001B[43malias\u001B[49m\u001B[43m,\u001B[49m\n\u001B[0;32m   1841\u001B[0m \u001B[43m        \u001B[49m\u001B[43malt\u001B[49m\u001B[38;5;241;43m=\u001B[39;49m\u001B[43mnpfunc\u001B[49m\u001B[43m,\u001B[49m\n\u001B[0;32m   1842\u001B[0m \u001B[43m        \u001B[49m\u001B[43mnumeric_only\u001B[49m\u001B[38;5;241;43m=\u001B[39;49m\u001B[43mnumeric_only\u001B[49m\u001B[43m,\u001B[49m\n\u001B[0;32m   1843\u001B[0m \u001B[43m        \u001B[49m\u001B[43mmin_count\u001B[49m\u001B[38;5;241;43m=\u001B[39;49m\u001B[43mmin_count\u001B[49m\u001B[43m,\u001B[49m\n\u001B[0;32m   1844\u001B[0m \u001B[43m    \u001B[49m\u001B[43m)\u001B[49m\n\u001B[0;32m   1845\u001B[0m     \u001B[38;5;28;01mreturn\u001B[39;00m result\u001B[38;5;241m.\u001B[39m__finalize__(\u001B[38;5;28mself\u001B[39m\u001B[38;5;241m.\u001B[39mobj, method\u001B[38;5;241m=\u001B[39m\u001B[38;5;124m\"\u001B[39m\u001B[38;5;124mgroupby\u001B[39m\u001B[38;5;124m\"\u001B[39m)\n",
      "File \u001B[1;32m~\\PycharmProjects\\bakalarka\\venv\\Lib\\site-packages\\pandas\\core\\groupby\\groupby.py:1929\u001B[0m, in \u001B[0;36mGroupBy._cython_agg_general\u001B[1;34m(self, how, alt, numeric_only, min_count, **kwargs)\u001B[0m\n\u001B[0;32m   1926\u001B[0m     result \u001B[38;5;241m=\u001B[39m \u001B[38;5;28mself\u001B[39m\u001B[38;5;241m.\u001B[39m_agg_py_fallback(how, values, ndim\u001B[38;5;241m=\u001B[39mdata\u001B[38;5;241m.\u001B[39mndim, alt\u001B[38;5;241m=\u001B[39malt)\n\u001B[0;32m   1927\u001B[0m     \u001B[38;5;28;01mreturn\u001B[39;00m result\n\u001B[1;32m-> 1929\u001B[0m new_mgr \u001B[38;5;241m=\u001B[39m \u001B[43mdata\u001B[49m\u001B[38;5;241;43m.\u001B[39;49m\u001B[43mgrouped_reduce\u001B[49m\u001B[43m(\u001B[49m\u001B[43marray_func\u001B[49m\u001B[43m)\u001B[49m\n\u001B[0;32m   1930\u001B[0m res \u001B[38;5;241m=\u001B[39m \u001B[38;5;28mself\u001B[39m\u001B[38;5;241m.\u001B[39m_wrap_agged_manager(new_mgr)\n\u001B[0;32m   1931\u001B[0m out \u001B[38;5;241m=\u001B[39m \u001B[38;5;28mself\u001B[39m\u001B[38;5;241m.\u001B[39m_wrap_aggregated_output(res)\n",
      "File \u001B[1;32m~\\PycharmProjects\\bakalarka\\venv\\Lib\\site-packages\\pandas\\core\\internals\\managers.py:1431\u001B[0m, in \u001B[0;36mBlockManager.grouped_reduce\u001B[1;34m(self, func)\u001B[0m\n\u001B[0;32m   1429\u001B[0m             result_blocks \u001B[38;5;241m=\u001B[39m extend_blocks(applied, result_blocks)\n\u001B[0;32m   1430\u001B[0m     \u001B[38;5;28;01melse\u001B[39;00m:\n\u001B[1;32m-> 1431\u001B[0m         applied \u001B[38;5;241m=\u001B[39m \u001B[43mblk\u001B[49m\u001B[38;5;241;43m.\u001B[39;49m\u001B[43mapply\u001B[49m\u001B[43m(\u001B[49m\u001B[43mfunc\u001B[49m\u001B[43m)\u001B[49m\n\u001B[0;32m   1432\u001B[0m         result_blocks \u001B[38;5;241m=\u001B[39m extend_blocks(applied, result_blocks)\n\u001B[0;32m   1434\u001B[0m \u001B[38;5;28;01mif\u001B[39;00m \u001B[38;5;28mlen\u001B[39m(result_blocks) \u001B[38;5;241m==\u001B[39m \u001B[38;5;241m0\u001B[39m:\n",
      "File \u001B[1;32m~\\PycharmProjects\\bakalarka\\venv\\Lib\\site-packages\\pandas\\core\\internals\\blocks.py:366\u001B[0m, in \u001B[0;36mBlock.apply\u001B[1;34m(self, func, **kwargs)\u001B[0m\n\u001B[0;32m    360\u001B[0m \u001B[38;5;129m@final\u001B[39m\n\u001B[0;32m    361\u001B[0m \u001B[38;5;28;01mdef\u001B[39;00m \u001B[38;5;21mapply\u001B[39m(\u001B[38;5;28mself\u001B[39m, func, \u001B[38;5;241m*\u001B[39m\u001B[38;5;241m*\u001B[39mkwargs) \u001B[38;5;241m-\u001B[39m\u001B[38;5;241m>\u001B[39m \u001B[38;5;28mlist\u001B[39m[Block]:\n\u001B[0;32m    362\u001B[0m \u001B[38;5;250m    \u001B[39m\u001B[38;5;124;03m\"\"\"\u001B[39;00m\n\u001B[0;32m    363\u001B[0m \u001B[38;5;124;03m    apply the function to my values; return a block if we are not\u001B[39;00m\n\u001B[0;32m    364\u001B[0m \u001B[38;5;124;03m    one\u001B[39;00m\n\u001B[0;32m    365\u001B[0m \u001B[38;5;124;03m    \"\"\"\u001B[39;00m\n\u001B[1;32m--> 366\u001B[0m     result \u001B[38;5;241m=\u001B[39m \u001B[43mfunc\u001B[49m\u001B[43m(\u001B[49m\u001B[38;5;28;43mself\u001B[39;49m\u001B[38;5;241;43m.\u001B[39;49m\u001B[43mvalues\u001B[49m\u001B[43m,\u001B[49m\u001B[43m \u001B[49m\u001B[38;5;241;43m*\u001B[39;49m\u001B[38;5;241;43m*\u001B[39;49m\u001B[43mkwargs\u001B[49m\u001B[43m)\u001B[49m\n\u001B[0;32m    368\u001B[0m     result \u001B[38;5;241m=\u001B[39m maybe_coerce_values(result)\n\u001B[0;32m    369\u001B[0m     \u001B[38;5;28;01mreturn\u001B[39;00m \u001B[38;5;28mself\u001B[39m\u001B[38;5;241m.\u001B[39m_split_op_result(result)\n",
      "File \u001B[1;32m~\\PycharmProjects\\bakalarka\\venv\\Lib\\site-packages\\pandas\\core\\groupby\\groupby.py:1905\u001B[0m, in \u001B[0;36mGroupBy._cython_agg_general.<locals>.array_func\u001B[1;34m(values)\u001B[0m\n\u001B[0;32m   1903\u001B[0m \u001B[38;5;28;01mdef\u001B[39;00m \u001B[38;5;21marray_func\u001B[39m(values: ArrayLike) \u001B[38;5;241m-\u001B[39m\u001B[38;5;241m>\u001B[39m ArrayLike:\n\u001B[0;32m   1904\u001B[0m     \u001B[38;5;28;01mtry\u001B[39;00m:\n\u001B[1;32m-> 1905\u001B[0m         result \u001B[38;5;241m=\u001B[39m \u001B[38;5;28;43mself\u001B[39;49m\u001B[38;5;241;43m.\u001B[39;49m\u001B[43mgrouper\u001B[49m\u001B[38;5;241;43m.\u001B[39;49m\u001B[43m_cython_operation\u001B[49m\u001B[43m(\u001B[49m\n\u001B[0;32m   1906\u001B[0m \u001B[43m            \u001B[49m\u001B[38;5;124;43m\"\u001B[39;49m\u001B[38;5;124;43maggregate\u001B[39;49m\u001B[38;5;124;43m\"\u001B[39;49m\u001B[43m,\u001B[49m\n\u001B[0;32m   1907\u001B[0m \u001B[43m            \u001B[49m\u001B[43mvalues\u001B[49m\u001B[43m,\u001B[49m\n\u001B[0;32m   1908\u001B[0m \u001B[43m            \u001B[49m\u001B[43mhow\u001B[49m\u001B[43m,\u001B[49m\n\u001B[0;32m   1909\u001B[0m \u001B[43m            \u001B[49m\u001B[43maxis\u001B[49m\u001B[38;5;241;43m=\u001B[39;49m\u001B[43mdata\u001B[49m\u001B[38;5;241;43m.\u001B[39;49m\u001B[43mndim\u001B[49m\u001B[43m \u001B[49m\u001B[38;5;241;43m-\u001B[39;49m\u001B[43m \u001B[49m\u001B[38;5;241;43m1\u001B[39;49m\u001B[43m,\u001B[49m\n\u001B[0;32m   1910\u001B[0m \u001B[43m            \u001B[49m\u001B[43mmin_count\u001B[49m\u001B[38;5;241;43m=\u001B[39;49m\u001B[43mmin_count\u001B[49m\u001B[43m,\u001B[49m\n\u001B[0;32m   1911\u001B[0m \u001B[43m            \u001B[49m\u001B[38;5;241;43m*\u001B[39;49m\u001B[38;5;241;43m*\u001B[39;49m\u001B[43mkwargs\u001B[49m\u001B[43m,\u001B[49m\n\u001B[0;32m   1912\u001B[0m \u001B[43m        \u001B[49m\u001B[43m)\u001B[49m\n\u001B[0;32m   1913\u001B[0m     \u001B[38;5;28;01mexcept\u001B[39;00m \u001B[38;5;167;01mNotImplementedError\u001B[39;00m:\n\u001B[0;32m   1914\u001B[0m         \u001B[38;5;66;03m# generally if we have numeric_only=False\u001B[39;00m\n\u001B[0;32m   1915\u001B[0m         \u001B[38;5;66;03m# and non-applicable functions\u001B[39;00m\n\u001B[0;32m   1916\u001B[0m         \u001B[38;5;66;03m# try to python agg\u001B[39;00m\n\u001B[0;32m   1917\u001B[0m         \u001B[38;5;66;03m# TODO: shouldn't min_count matter?\u001B[39;00m\n\u001B[0;32m   1918\u001B[0m         \u001B[38;5;66;03m# TODO: avoid special casing SparseArray here\u001B[39;00m\n\u001B[0;32m   1919\u001B[0m         \u001B[38;5;28;01mif\u001B[39;00m how \u001B[38;5;129;01min\u001B[39;00m [\u001B[38;5;124m\"\u001B[39m\u001B[38;5;124many\u001B[39m\u001B[38;5;124m\"\u001B[39m, \u001B[38;5;124m\"\u001B[39m\u001B[38;5;124mall\u001B[39m\u001B[38;5;124m\"\u001B[39m] \u001B[38;5;129;01mand\u001B[39;00m \u001B[38;5;28misinstance\u001B[39m(values, SparseArray):\n",
      "File \u001B[1;32m~\\PycharmProjects\\bakalarka\\venv\\Lib\\site-packages\\pandas\\core\\groupby\\ops.py:816\u001B[0m, in \u001B[0;36mBaseGrouper._cython_operation\u001B[1;34m(self, kind, values, how, axis, min_count, **kwargs)\u001B[0m\n\u001B[0;32m    814\u001B[0m ids, _, _ \u001B[38;5;241m=\u001B[39m \u001B[38;5;28mself\u001B[39m\u001B[38;5;241m.\u001B[39mgroup_info\n\u001B[0;32m    815\u001B[0m ngroups \u001B[38;5;241m=\u001B[39m \u001B[38;5;28mself\u001B[39m\u001B[38;5;241m.\u001B[39mngroups\n\u001B[1;32m--> 816\u001B[0m \u001B[38;5;28;01mreturn\u001B[39;00m \u001B[43mcy_op\u001B[49m\u001B[38;5;241;43m.\u001B[39;49m\u001B[43mcython_operation\u001B[49m\u001B[43m(\u001B[49m\n\u001B[0;32m    817\u001B[0m \u001B[43m    \u001B[49m\u001B[43mvalues\u001B[49m\u001B[38;5;241;43m=\u001B[39;49m\u001B[43mvalues\u001B[49m\u001B[43m,\u001B[49m\n\u001B[0;32m    818\u001B[0m \u001B[43m    \u001B[49m\u001B[43maxis\u001B[49m\u001B[38;5;241;43m=\u001B[39;49m\u001B[43maxis\u001B[49m\u001B[43m,\u001B[49m\n\u001B[0;32m    819\u001B[0m \u001B[43m    \u001B[49m\u001B[43mmin_count\u001B[49m\u001B[38;5;241;43m=\u001B[39;49m\u001B[43mmin_count\u001B[49m\u001B[43m,\u001B[49m\n\u001B[0;32m    820\u001B[0m \u001B[43m    \u001B[49m\u001B[43mcomp_ids\u001B[49m\u001B[38;5;241;43m=\u001B[39;49m\u001B[43mids\u001B[49m\u001B[43m,\u001B[49m\n\u001B[0;32m    821\u001B[0m \u001B[43m    \u001B[49m\u001B[43mngroups\u001B[49m\u001B[38;5;241;43m=\u001B[39;49m\u001B[43mngroups\u001B[49m\u001B[43m,\u001B[49m\n\u001B[0;32m    822\u001B[0m \u001B[43m    \u001B[49m\u001B[38;5;241;43m*\u001B[39;49m\u001B[38;5;241;43m*\u001B[39;49m\u001B[43mkwargs\u001B[49m\u001B[43m,\u001B[49m\n\u001B[0;32m    823\u001B[0m \u001B[43m\u001B[49m\u001B[43m)\u001B[49m\n",
      "File \u001B[1;32m~\\PycharmProjects\\bakalarka\\venv\\Lib\\site-packages\\pandas\\core\\groupby\\ops.py:526\u001B[0m, in \u001B[0;36mWrappedCythonOp.cython_operation\u001B[1;34m(self, values, axis, min_count, comp_ids, ngroups, **kwargs)\u001B[0m\n\u001B[0;32m    522\u001B[0m \u001B[38;5;28mself\u001B[39m\u001B[38;5;241m.\u001B[39m_validate_axis(axis, values)\n\u001B[0;32m    524\u001B[0m \u001B[38;5;28;01mif\u001B[39;00m \u001B[38;5;129;01mnot\u001B[39;00m \u001B[38;5;28misinstance\u001B[39m(values, np\u001B[38;5;241m.\u001B[39mndarray):\n\u001B[0;32m    525\u001B[0m     \u001B[38;5;66;03m# i.e. ExtensionArray\u001B[39;00m\n\u001B[1;32m--> 526\u001B[0m     \u001B[38;5;28;01mreturn\u001B[39;00m \u001B[43mvalues\u001B[49m\u001B[38;5;241;43m.\u001B[39;49m\u001B[43m_groupby_op\u001B[49m\u001B[43m(\u001B[49m\n\u001B[0;32m    527\u001B[0m \u001B[43m        \u001B[49m\u001B[43mhow\u001B[49m\u001B[38;5;241;43m=\u001B[39;49m\u001B[38;5;28;43mself\u001B[39;49m\u001B[38;5;241;43m.\u001B[39;49m\u001B[43mhow\u001B[49m\u001B[43m,\u001B[49m\n\u001B[0;32m    528\u001B[0m \u001B[43m        \u001B[49m\u001B[43mhas_dropped_na\u001B[49m\u001B[38;5;241;43m=\u001B[39;49m\u001B[38;5;28;43mself\u001B[39;49m\u001B[38;5;241;43m.\u001B[39;49m\u001B[43mhas_dropped_na\u001B[49m\u001B[43m,\u001B[49m\n\u001B[0;32m    529\u001B[0m \u001B[43m        \u001B[49m\u001B[43mmin_count\u001B[49m\u001B[38;5;241;43m=\u001B[39;49m\u001B[43mmin_count\u001B[49m\u001B[43m,\u001B[49m\n\u001B[0;32m    530\u001B[0m \u001B[43m        \u001B[49m\u001B[43mngroups\u001B[49m\u001B[38;5;241;43m=\u001B[39;49m\u001B[43mngroups\u001B[49m\u001B[43m,\u001B[49m\n\u001B[0;32m    531\u001B[0m \u001B[43m        \u001B[49m\u001B[43mids\u001B[49m\u001B[38;5;241;43m=\u001B[39;49m\u001B[43mcomp_ids\u001B[49m\u001B[43m,\u001B[49m\n\u001B[0;32m    532\u001B[0m \u001B[43m        \u001B[49m\u001B[38;5;241;43m*\u001B[39;49m\u001B[38;5;241;43m*\u001B[39;49m\u001B[43mkwargs\u001B[49m\u001B[43m,\u001B[49m\n\u001B[0;32m    533\u001B[0m \u001B[43m    \u001B[49m\u001B[43m)\u001B[49m\n\u001B[0;32m    535\u001B[0m \u001B[38;5;28;01mreturn\u001B[39;00m \u001B[38;5;28mself\u001B[39m\u001B[38;5;241m.\u001B[39m_cython_op_ndim_compat(\n\u001B[0;32m    536\u001B[0m     values,\n\u001B[0;32m    537\u001B[0m     min_count\u001B[38;5;241m=\u001B[39mmin_count,\n\u001B[1;32m   (...)\u001B[0m\n\u001B[0;32m    541\u001B[0m     \u001B[38;5;241m*\u001B[39m\u001B[38;5;241m*\u001B[39mkwargs,\n\u001B[0;32m    542\u001B[0m )\n",
      "File \u001B[1;32m~\\PycharmProjects\\bakalarka\\venv\\Lib\\site-packages\\pandas\\core\\arrays\\datetimelike.py:1637\u001B[0m, in \u001B[0;36mDatetimeLikeArrayMixin._groupby_op\u001B[1;34m(self, how, has_dropped_na, min_count, ngroups, ids, **kwargs)\u001B[0m\n\u001B[0;32m   1634\u001B[0m \u001B[38;5;28;01mif\u001B[39;00m dtype\u001B[38;5;241m.\u001B[39mkind \u001B[38;5;241m==\u001B[39m \u001B[38;5;124m\"\u001B[39m\u001B[38;5;124mM\u001B[39m\u001B[38;5;124m\"\u001B[39m:\n\u001B[0;32m   1635\u001B[0m     \u001B[38;5;66;03m# Adding/multiplying datetimes is not valid\u001B[39;00m\n\u001B[0;32m   1636\u001B[0m     \u001B[38;5;28;01mif\u001B[39;00m how \u001B[38;5;129;01min\u001B[39;00m [\u001B[38;5;124m\"\u001B[39m\u001B[38;5;124msum\u001B[39m\u001B[38;5;124m\"\u001B[39m, \u001B[38;5;124m\"\u001B[39m\u001B[38;5;124mprod\u001B[39m\u001B[38;5;124m\"\u001B[39m, \u001B[38;5;124m\"\u001B[39m\u001B[38;5;124mcumsum\u001B[39m\u001B[38;5;124m\"\u001B[39m, \u001B[38;5;124m\"\u001B[39m\u001B[38;5;124mcumprod\u001B[39m\u001B[38;5;124m\"\u001B[39m, \u001B[38;5;124m\"\u001B[39m\u001B[38;5;124mvar\u001B[39m\u001B[38;5;124m\"\u001B[39m, \u001B[38;5;124m\"\u001B[39m\u001B[38;5;124mskew\u001B[39m\u001B[38;5;124m\"\u001B[39m]:\n\u001B[1;32m-> 1637\u001B[0m         \u001B[38;5;28;01mraise\u001B[39;00m \u001B[38;5;167;01mTypeError\u001B[39;00m(\u001B[38;5;124mf\u001B[39m\u001B[38;5;124m\"\u001B[39m\u001B[38;5;124mdatetime64 type does not support \u001B[39m\u001B[38;5;132;01m{\u001B[39;00mhow\u001B[38;5;132;01m}\u001B[39;00m\u001B[38;5;124m operations\u001B[39m\u001B[38;5;124m\"\u001B[39m)\n\u001B[0;32m   1638\u001B[0m     \u001B[38;5;28;01mif\u001B[39;00m how \u001B[38;5;129;01min\u001B[39;00m [\u001B[38;5;124m\"\u001B[39m\u001B[38;5;124many\u001B[39m\u001B[38;5;124m\"\u001B[39m, \u001B[38;5;124m\"\u001B[39m\u001B[38;5;124mall\u001B[39m\u001B[38;5;124m\"\u001B[39m]:\n\u001B[0;32m   1639\u001B[0m         \u001B[38;5;66;03m# GH#34479\u001B[39;00m\n\u001B[0;32m   1640\u001B[0m         warnings\u001B[38;5;241m.\u001B[39mwarn(\n\u001B[0;32m   1641\u001B[0m             \u001B[38;5;124mf\u001B[39m\u001B[38;5;124m\"\u001B[39m\u001B[38;5;124m'\u001B[39m\u001B[38;5;132;01m{\u001B[39;00mhow\u001B[38;5;132;01m}\u001B[39;00m\u001B[38;5;124m'\u001B[39m\u001B[38;5;124m with datetime64 dtypes is deprecated and will raise in a \u001B[39m\u001B[38;5;124m\"\u001B[39m\n\u001B[0;32m   1642\u001B[0m             \u001B[38;5;124mf\u001B[39m\u001B[38;5;124m\"\u001B[39m\u001B[38;5;124mfuture version. Use (obj != pd.Timestamp(0)).\u001B[39m\u001B[38;5;132;01m{\u001B[39;00mhow\u001B[38;5;132;01m}\u001B[39;00m\u001B[38;5;124m() instead.\u001B[39m\u001B[38;5;124m\"\u001B[39m,\n\u001B[0;32m   1643\u001B[0m             \u001B[38;5;167;01mFutureWarning\u001B[39;00m,\n\u001B[0;32m   1644\u001B[0m             stacklevel\u001B[38;5;241m=\u001B[39mfind_stack_level(),\n\u001B[0;32m   1645\u001B[0m         )\n",
      "\u001B[1;31mTypeError\u001B[0m: datetime64 type does not support sum operations"
     ]
    }
   ],
   "source": [
    "df_clusters.groupby(['company_id', 'contracting_authority_id']).sum()"
   ],
   "metadata": {
    "collapsed": false
   },
   "execution_count": 7
  },
  {
   "cell_type": "code",
   "execution_count": 66,
   "outputs": [],
   "source": [
    "grouped_by_comp_id = df_clusters.groupby('company_id')\n",
    "number_of_unique_con_auth = grouped_by_comp_id[\"contracting_authority_id\"].nunique()\n",
    "grouped_by_comp_con_auth = df_clusters.groupby('contracting_authority_id')\n",
    "number_of_unique_comp_id = grouped_by_comp_con_auth[\"company_id\"].nunique()"
   ],
   "metadata": {
    "collapsed": false,
    "ExecuteTime": {
     "end_time": "2024-01-09T12:36:13.366801100Z",
     "start_time": "2024-01-09T12:36:13.222021100Z"
    }
   }
  },
  {
   "cell_type": "code",
   "execution_count": 67,
   "outputs": [
    {
     "data": {
      "text/plain": "<pandas.core.groupby.generic.DataFrameGroupBy object at 0x000001C0B337D410>"
     },
     "execution_count": 67,
     "metadata": {},
     "output_type": "execute_result"
    }
   ],
   "source": [
    "grouped_by_comp_con_auth"
   ],
   "metadata": {
    "collapsed": false,
    "ExecuteTime": {
     "end_time": "2024-01-09T12:36:13.385111600Z",
     "start_time": "2024-01-09T12:36:13.229042Z"
    }
   }
  },
  {
   "cell_type": "code",
   "execution_count": 68,
   "outputs": [
    {
     "data": {
      "text/plain": "      is_association_of_suppliers_x  is_rejected_due_too_low  is_withdrawn  \\\n25                            False                    False         False   \n38                            False                    False         False   \n557                           False                    False         False   \n586                           False                    False         False   \n618                           False                    False         False   \n1461                          False                    False         False   \n1474                          False                    False         False   \n1503                          False                    False         False   \n2144                          False                    False         False   \n2212                          False                    False         False   \n4110                          False                    False         False   \n4267                          False                    False         False   \n5117                          False                    False         False   \n6294                          False                    False         False   \n7591                          False                    False         False   \n7978                          False                    False         False   \n8279                          False                    False         False   \n8377                          False                    False         False   \n\n             price     price_vat  company_id  number_of_offers  \\\n25    1.693786e+07  2.049482e+07          26                 4   \n38    5.655473e+06  6.843122e+06          26                12   \n557   1.850525e+08  2.239135e+08          26                 4   \n586            NaN           NaN          26                 7   \n618            NaN           NaN          26                 7   \n1461  9.147739e+08           NaN          26                 6   \n1474  9.181834e+06  1.111002e+07          26                 8   \n1503  2.994623e+07  3.623493e+07          26                 5   \n2144           NaN           NaN          26                 5   \n2212  1.777565e+08  2.150854e+08          26                 9   \n4110  1.951510e+07  2.361327e+07          26                 9   \n4267  1.614435e+07  1.953466e+07          26                 6   \n5117           NaN           NaN          26                 4   \n6294           NaN           NaN          26                10   \n7591           NaN           NaN          26                17   \n7978  3.645839e+06  4.411465e+06          26                 8   \n8279           NaN           NaN          26                 5   \n8377  7.390770e+06  8.942831e+06          26                 2   \n\n     bids_submission_deadline code_from_nipez_codelist  contract_price  ...  \\\n25                 2023-05-17               45233140-2    1.597708e+07  ...   \n38                 2023-02-17               45000000-7    5.306957e+06  ...   \n557                2021-12-27               45000000-7    1.546592e+08  ...   \n586                       NaN               45232400-6    0.000000e+00  ...   \n618                       NaN               45232150-8    3.078400e+07  ...   \n1461               2020-11-20               45000000-7    7.879914e+08  ...   \n1474               2023-02-16               45000000-7    7.517363e+06  ...   \n1503               2022-11-21               45233140-2    2.994623e+07  ...   \n2144               2023-06-19               45213316-1    4.868732e+06  ...   \n2212               2021-07-27               45214200-2    1.388492e+08  ...   \n4110               2022-11-15               45233140-2    1.858560e+07  ...   \n4267               2023-02-16               45231300-8    1.614435e+07  ...   \n5117               2022-01-10               45000000-7    5.945345e+08  ...   \n6294               2023-07-17               45233162-2    1.120120e+07  ...   \n7591               2020-07-30               45000000-7    0.000000e+00  ...   \n7978               2023-07-10               45233162-2    3.598860e+06  ...   \n8279               2023-02-24               45000000-7    3.735406e+07  ...   \n8377                      NaN                      NaN    4.337554e+06  ...   \n\n                                       type               type_of_procedure  \\\n25    Public contract for construction work  Zjednodušené podlimitní řízení   \n38    Public contract for construction work  Zjednodušené podlimitní řízení   \n557   Public contract for construction work                 Otevřené řízení   \n586   Public contract for construction work                     Užší řízení   \n618   Public contract for construction work                     Užší řízení   \n1461  Public contract for construction work                 Otevřené řízení   \n1474  Public contract for construction work  Zjednodušené podlimitní řízení   \n1503  Public contract for construction work  Zjednodušené podlimitní řízení   \n2144  Public contract for construction work  Zjednodušené podlimitní řízení   \n2212  Public contract for construction work                 Otevřené řízení   \n4110  Public contract for construction work  Zjednodušené podlimitní řízení   \n4267  Public contract for construction work  Zjednodušené podlimitní řízení   \n5117  Public contract for construction work                 Otevřené řízení   \n6294  Public contract for construction work  Zjednodušené podlimitní řízení   \n7591  Public contract for construction work                     Užší řízení   \n7978  Public contract for construction work                  Otevřená výzva   \n8279  Public contract for construction work                     Užší řízení   \n8377  Public contract for construction work                  Uzavřená výzva   \n\n      contact_person_id contracting_authority_id is_winner  organisation_id  \\\n25                   11                        7     False       43005560.0   \n38                   56                       54     False       43005560.0   \n557                 170                      116     False       43005560.0   \n586                 172                      118     False       43005560.0   \n618                 181                      123     False       43005560.0   \n1461                368                        4     False       43005560.0   \n1474                240                      206     False       43005560.0   \n1503                 11                        7      True       43005560.0   \n2144                453                      238     False       43005560.0   \n2212                463                       97     False       43005560.0   \n4110                691                        7     False       43005560.0   \n4267                709                      284      True       43005560.0   \n5117                170                      116      True       43005560.0   \n6294                906                      395     False       43005560.0   \n7591               1062                      456     False       43005560.0   \n7978                552                       73     False       43005560.0   \n8279                971                      472     False       43005560.0   \n8377               1123                      285     False       43005560.0   \n\n        distance total_offers total_wins total_procurements  \n25           NaN           18          3                  3  \n38    229.373415           18          3                  1  \n557     6.527547           18          3                  2  \n586          NaN           18          3                  1  \n618          NaN           18          3                  1  \n1461    5.189248           18          3                 39  \n1474         NaN           18          3                  1  \n1503         NaN           18          3                  3  \n2144         NaN           18          3                  1  \n2212  270.990504           18          3                 13  \n4110         NaN           18          3                  3  \n4267  117.557648           18          3                 11  \n5117    6.527547           18          3                  2  \n6294         NaN           18          3                  1  \n7591         NaN           18          3                  1  \n7978  222.148031           18          3                  9  \n8279         NaN           18          3                  1  \n8377         NaN           18          3                  4  \n\n[18 rows x 28 columns]",
      "text/html": "<div>\n<style scoped>\n    .dataframe tbody tr th:only-of-type {\n        vertical-align: middle;\n    }\n\n    .dataframe tbody tr th {\n        vertical-align: top;\n    }\n\n    .dataframe thead th {\n        text-align: right;\n    }\n</style>\n<table border=\"1\" class=\"dataframe\">\n  <thead>\n    <tr style=\"text-align: right;\">\n      <th></th>\n      <th>is_association_of_suppliers_x</th>\n      <th>is_rejected_due_too_low</th>\n      <th>is_withdrawn</th>\n      <th>price</th>\n      <th>price_vat</th>\n      <th>company_id</th>\n      <th>number_of_offers</th>\n      <th>bids_submission_deadline</th>\n      <th>code_from_nipez_codelist</th>\n      <th>contract_price</th>\n      <th>...</th>\n      <th>type</th>\n      <th>type_of_procedure</th>\n      <th>contact_person_id</th>\n      <th>contracting_authority_id</th>\n      <th>is_winner</th>\n      <th>organisation_id</th>\n      <th>distance</th>\n      <th>total_offers</th>\n      <th>total_wins</th>\n      <th>total_procurements</th>\n    </tr>\n  </thead>\n  <tbody>\n    <tr>\n      <th>25</th>\n      <td>False</td>\n      <td>False</td>\n      <td>False</td>\n      <td>1.693786e+07</td>\n      <td>2.049482e+07</td>\n      <td>26</td>\n      <td>4</td>\n      <td>2023-05-17</td>\n      <td>45233140-2</td>\n      <td>1.597708e+07</td>\n      <td>...</td>\n      <td>Public contract for construction work</td>\n      <td>Zjednodušené podlimitní řízení</td>\n      <td>11</td>\n      <td>7</td>\n      <td>False</td>\n      <td>43005560.0</td>\n      <td>NaN</td>\n      <td>18</td>\n      <td>3</td>\n      <td>3</td>\n    </tr>\n    <tr>\n      <th>38</th>\n      <td>False</td>\n      <td>False</td>\n      <td>False</td>\n      <td>5.655473e+06</td>\n      <td>6.843122e+06</td>\n      <td>26</td>\n      <td>12</td>\n      <td>2023-02-17</td>\n      <td>45000000-7</td>\n      <td>5.306957e+06</td>\n      <td>...</td>\n      <td>Public contract for construction work</td>\n      <td>Zjednodušené podlimitní řízení</td>\n      <td>56</td>\n      <td>54</td>\n      <td>False</td>\n      <td>43005560.0</td>\n      <td>229.373415</td>\n      <td>18</td>\n      <td>3</td>\n      <td>1</td>\n    </tr>\n    <tr>\n      <th>557</th>\n      <td>False</td>\n      <td>False</td>\n      <td>False</td>\n      <td>1.850525e+08</td>\n      <td>2.239135e+08</td>\n      <td>26</td>\n      <td>4</td>\n      <td>2021-12-27</td>\n      <td>45000000-7</td>\n      <td>1.546592e+08</td>\n      <td>...</td>\n      <td>Public contract for construction work</td>\n      <td>Otevřené řízení</td>\n      <td>170</td>\n      <td>116</td>\n      <td>False</td>\n      <td>43005560.0</td>\n      <td>6.527547</td>\n      <td>18</td>\n      <td>3</td>\n      <td>2</td>\n    </tr>\n    <tr>\n      <th>586</th>\n      <td>False</td>\n      <td>False</td>\n      <td>False</td>\n      <td>NaN</td>\n      <td>NaN</td>\n      <td>26</td>\n      <td>7</td>\n      <td>NaN</td>\n      <td>45232400-6</td>\n      <td>0.000000e+00</td>\n      <td>...</td>\n      <td>Public contract for construction work</td>\n      <td>Užší řízení</td>\n      <td>172</td>\n      <td>118</td>\n      <td>False</td>\n      <td>43005560.0</td>\n      <td>NaN</td>\n      <td>18</td>\n      <td>3</td>\n      <td>1</td>\n    </tr>\n    <tr>\n      <th>618</th>\n      <td>False</td>\n      <td>False</td>\n      <td>False</td>\n      <td>NaN</td>\n      <td>NaN</td>\n      <td>26</td>\n      <td>7</td>\n      <td>NaN</td>\n      <td>45232150-8</td>\n      <td>3.078400e+07</td>\n      <td>...</td>\n      <td>Public contract for construction work</td>\n      <td>Užší řízení</td>\n      <td>181</td>\n      <td>123</td>\n      <td>False</td>\n      <td>43005560.0</td>\n      <td>NaN</td>\n      <td>18</td>\n      <td>3</td>\n      <td>1</td>\n    </tr>\n    <tr>\n      <th>1461</th>\n      <td>False</td>\n      <td>False</td>\n      <td>False</td>\n      <td>9.147739e+08</td>\n      <td>NaN</td>\n      <td>26</td>\n      <td>6</td>\n      <td>2020-11-20</td>\n      <td>45000000-7</td>\n      <td>7.879914e+08</td>\n      <td>...</td>\n      <td>Public contract for construction work</td>\n      <td>Otevřené řízení</td>\n      <td>368</td>\n      <td>4</td>\n      <td>False</td>\n      <td>43005560.0</td>\n      <td>5.189248</td>\n      <td>18</td>\n      <td>3</td>\n      <td>39</td>\n    </tr>\n    <tr>\n      <th>1474</th>\n      <td>False</td>\n      <td>False</td>\n      <td>False</td>\n      <td>9.181834e+06</td>\n      <td>1.111002e+07</td>\n      <td>26</td>\n      <td>8</td>\n      <td>2023-02-16</td>\n      <td>45000000-7</td>\n      <td>7.517363e+06</td>\n      <td>...</td>\n      <td>Public contract for construction work</td>\n      <td>Zjednodušené podlimitní řízení</td>\n      <td>240</td>\n      <td>206</td>\n      <td>False</td>\n      <td>43005560.0</td>\n      <td>NaN</td>\n      <td>18</td>\n      <td>3</td>\n      <td>1</td>\n    </tr>\n    <tr>\n      <th>1503</th>\n      <td>False</td>\n      <td>False</td>\n      <td>False</td>\n      <td>2.994623e+07</td>\n      <td>3.623493e+07</td>\n      <td>26</td>\n      <td>5</td>\n      <td>2022-11-21</td>\n      <td>45233140-2</td>\n      <td>2.994623e+07</td>\n      <td>...</td>\n      <td>Public contract for construction work</td>\n      <td>Zjednodušené podlimitní řízení</td>\n      <td>11</td>\n      <td>7</td>\n      <td>True</td>\n      <td>43005560.0</td>\n      <td>NaN</td>\n      <td>18</td>\n      <td>3</td>\n      <td>3</td>\n    </tr>\n    <tr>\n      <th>2144</th>\n      <td>False</td>\n      <td>False</td>\n      <td>False</td>\n      <td>NaN</td>\n      <td>NaN</td>\n      <td>26</td>\n      <td>5</td>\n      <td>2023-06-19</td>\n      <td>45213316-1</td>\n      <td>4.868732e+06</td>\n      <td>...</td>\n      <td>Public contract for construction work</td>\n      <td>Zjednodušené podlimitní řízení</td>\n      <td>453</td>\n      <td>238</td>\n      <td>False</td>\n      <td>43005560.0</td>\n      <td>NaN</td>\n      <td>18</td>\n      <td>3</td>\n      <td>1</td>\n    </tr>\n    <tr>\n      <th>2212</th>\n      <td>False</td>\n      <td>False</td>\n      <td>False</td>\n      <td>1.777565e+08</td>\n      <td>2.150854e+08</td>\n      <td>26</td>\n      <td>9</td>\n      <td>2021-07-27</td>\n      <td>45214200-2</td>\n      <td>1.388492e+08</td>\n      <td>...</td>\n      <td>Public contract for construction work</td>\n      <td>Otevřené řízení</td>\n      <td>463</td>\n      <td>97</td>\n      <td>False</td>\n      <td>43005560.0</td>\n      <td>270.990504</td>\n      <td>18</td>\n      <td>3</td>\n      <td>13</td>\n    </tr>\n    <tr>\n      <th>4110</th>\n      <td>False</td>\n      <td>False</td>\n      <td>False</td>\n      <td>1.951510e+07</td>\n      <td>2.361327e+07</td>\n      <td>26</td>\n      <td>9</td>\n      <td>2022-11-15</td>\n      <td>45233140-2</td>\n      <td>1.858560e+07</td>\n      <td>...</td>\n      <td>Public contract for construction work</td>\n      <td>Zjednodušené podlimitní řízení</td>\n      <td>691</td>\n      <td>7</td>\n      <td>False</td>\n      <td>43005560.0</td>\n      <td>NaN</td>\n      <td>18</td>\n      <td>3</td>\n      <td>3</td>\n    </tr>\n    <tr>\n      <th>4267</th>\n      <td>False</td>\n      <td>False</td>\n      <td>False</td>\n      <td>1.614435e+07</td>\n      <td>1.953466e+07</td>\n      <td>26</td>\n      <td>6</td>\n      <td>2023-02-16</td>\n      <td>45231300-8</td>\n      <td>1.614435e+07</td>\n      <td>...</td>\n      <td>Public contract for construction work</td>\n      <td>Zjednodušené podlimitní řízení</td>\n      <td>709</td>\n      <td>284</td>\n      <td>True</td>\n      <td>43005560.0</td>\n      <td>117.557648</td>\n      <td>18</td>\n      <td>3</td>\n      <td>11</td>\n    </tr>\n    <tr>\n      <th>5117</th>\n      <td>False</td>\n      <td>False</td>\n      <td>False</td>\n      <td>NaN</td>\n      <td>NaN</td>\n      <td>26</td>\n      <td>4</td>\n      <td>2022-01-10</td>\n      <td>45000000-7</td>\n      <td>5.945345e+08</td>\n      <td>...</td>\n      <td>Public contract for construction work</td>\n      <td>Otevřené řízení</td>\n      <td>170</td>\n      <td>116</td>\n      <td>True</td>\n      <td>43005560.0</td>\n      <td>6.527547</td>\n      <td>18</td>\n      <td>3</td>\n      <td>2</td>\n    </tr>\n    <tr>\n      <th>6294</th>\n      <td>False</td>\n      <td>False</td>\n      <td>False</td>\n      <td>NaN</td>\n      <td>NaN</td>\n      <td>26</td>\n      <td>10</td>\n      <td>2023-07-17</td>\n      <td>45233162-2</td>\n      <td>1.120120e+07</td>\n      <td>...</td>\n      <td>Public contract for construction work</td>\n      <td>Zjednodušené podlimitní řízení</td>\n      <td>906</td>\n      <td>395</td>\n      <td>False</td>\n      <td>43005560.0</td>\n      <td>NaN</td>\n      <td>18</td>\n      <td>3</td>\n      <td>1</td>\n    </tr>\n    <tr>\n      <th>7591</th>\n      <td>False</td>\n      <td>False</td>\n      <td>False</td>\n      <td>NaN</td>\n      <td>NaN</td>\n      <td>26</td>\n      <td>17</td>\n      <td>2020-07-30</td>\n      <td>45000000-7</td>\n      <td>0.000000e+00</td>\n      <td>...</td>\n      <td>Public contract for construction work</td>\n      <td>Užší řízení</td>\n      <td>1062</td>\n      <td>456</td>\n      <td>False</td>\n      <td>43005560.0</td>\n      <td>NaN</td>\n      <td>18</td>\n      <td>3</td>\n      <td>1</td>\n    </tr>\n    <tr>\n      <th>7978</th>\n      <td>False</td>\n      <td>False</td>\n      <td>False</td>\n      <td>3.645839e+06</td>\n      <td>4.411465e+06</td>\n      <td>26</td>\n      <td>8</td>\n      <td>2023-07-10</td>\n      <td>45233162-2</td>\n      <td>3.598860e+06</td>\n      <td>...</td>\n      <td>Public contract for construction work</td>\n      <td>Otevřená výzva</td>\n      <td>552</td>\n      <td>73</td>\n      <td>False</td>\n      <td>43005560.0</td>\n      <td>222.148031</td>\n      <td>18</td>\n      <td>3</td>\n      <td>9</td>\n    </tr>\n    <tr>\n      <th>8279</th>\n      <td>False</td>\n      <td>False</td>\n      <td>False</td>\n      <td>NaN</td>\n      <td>NaN</td>\n      <td>26</td>\n      <td>5</td>\n      <td>2023-02-24</td>\n      <td>45000000-7</td>\n      <td>3.735406e+07</td>\n      <td>...</td>\n      <td>Public contract for construction work</td>\n      <td>Užší řízení</td>\n      <td>971</td>\n      <td>472</td>\n      <td>False</td>\n      <td>43005560.0</td>\n      <td>NaN</td>\n      <td>18</td>\n      <td>3</td>\n      <td>1</td>\n    </tr>\n    <tr>\n      <th>8377</th>\n      <td>False</td>\n      <td>False</td>\n      <td>False</td>\n      <td>7.390770e+06</td>\n      <td>8.942831e+06</td>\n      <td>26</td>\n      <td>2</td>\n      <td>NaN</td>\n      <td>NaN</td>\n      <td>4.337554e+06</td>\n      <td>...</td>\n      <td>Public contract for construction work</td>\n      <td>Uzavřená výzva</td>\n      <td>1123</td>\n      <td>285</td>\n      <td>False</td>\n      <td>43005560.0</td>\n      <td>NaN</td>\n      <td>18</td>\n      <td>3</td>\n      <td>4</td>\n    </tr>\n  </tbody>\n</table>\n<p>18 rows × 28 columns</p>\n</div>"
     },
     "execution_count": 68,
     "metadata": {},
     "output_type": "execute_result"
    }
   ],
   "source": [
    "df_clusters.loc[df_clusters[\"company_id\"] == 26]"
   ],
   "metadata": {
    "collapsed": false,
    "ExecuteTime": {
     "end_time": "2024-01-09T12:36:13.390229800Z",
     "start_time": "2024-01-09T12:36:13.234310900Z"
    }
   }
  },
  {
   "cell_type": "code",
   "execution_count": 69,
   "outputs": [
    {
     "name": "stdout",
     "output_type": "stream",
     "text": [
      "<class 'pandas.core.frame.DataFrame'>\n",
      "RangeIndex: 9245 entries, 0 to 9244\n",
      "Data columns (total 14 columns):\n",
      " #   Column                         Non-Null Count  Dtype   \n",
      "---  ------                         --------------  -----   \n",
      " 0   is_association_of_suppliers_x  9245 non-null   bool    \n",
      " 1   is_rejected_due_too_low        9245 non-null   bool    \n",
      " 2   is_withdrawn                   9245 non-null   bool    \n",
      " 3   bid_price                      9245 non-null   float64 \n",
      " 4   is_association_of_suppliers_y  9245 non-null   bool    \n",
      " 5   place_of_performance           9245 non-null   category\n",
      " 6   public_contract_regime         9245 non-null   category\n",
      " 7   type                           9245 non-null   category\n",
      " 8   type_of_procedure              9245 non-null   category\n",
      " 9   is_winner                      9245 non-null   bool    \n",
      " 10  distance                       9245 non-null   category\n",
      " 11  total_offers                   9245 non-null   int64   \n",
      " 12  total_wins                     9245 non-null   int32   \n",
      " 13  total_procurements             9245 non-null   int64   \n",
      "dtypes: bool(5), category(5), float64(1), int32(1), int64(2)\n",
      "memory usage: 345.3 KB\n"
     ]
    }
   ],
   "source": [
    "df_catboost.info()"
   ],
   "metadata": {
    "collapsed": false,
    "ExecuteTime": {
     "end_time": "2024-01-09T12:36:13.403035900Z",
     "start_time": "2024-01-09T12:36:13.252158300Z"
    }
   }
  },
  {
   "cell_type": "code",
   "execution_count": 70,
   "outputs": [],
   "source": [
    "from sklearn.preprocessing import OneHotEncoder"
   ],
   "metadata": {
    "collapsed": false,
    "ExecuteTime": {
     "end_time": "2024-01-09T12:36:13.405092400Z",
     "start_time": "2024-01-09T12:36:13.261679Z"
    }
   }
  },
  {
   "cell_type": "code",
   "execution_count": 71,
   "outputs": [],
   "source": [
    "df_anomaly = df_catboost.copy()\n",
    "enc = OneHotEncoder(handle_unknown='ignore')\n",
    "X = enc.fit_transform(df_anomaly)"
   ],
   "metadata": {
    "collapsed": false,
    "ExecuteTime": {
     "end_time": "2024-01-09T12:36:13.455007900Z",
     "start_time": "2024-01-09T12:36:13.265124200Z"
    }
   }
  },
  {
   "cell_type": "code",
   "execution_count": 73,
   "outputs": [],
   "source": [
    "from pyod.models.ecod import ECOD\n"
   ],
   "metadata": {
    "collapsed": false,
    "ExecuteTime": {
     "end_time": "2024-01-09T12:36:13.926127100Z",
     "start_time": "2024-01-09T12:36:13.290954200Z"
    }
   }
  },
  {
   "cell_type": "code",
   "execution_count": 74,
   "outputs": [
    {
     "data": {
      "text/plain": "ECOD(contamination=0.1, n_jobs=1)"
     },
     "execution_count": 74,
     "metadata": {},
     "output_type": "execute_result"
    }
   ],
   "source": [
    "clf = ECOD()\n",
    "clf.fit(X.toarray())"
   ],
   "metadata": {
    "collapsed": false,
    "ExecuteTime": {
     "end_time": "2024-01-09T12:36:28.024585900Z",
     "start_time": "2024-01-09T12:36:13.912711400Z"
    }
   }
  },
  {
   "cell_type": "code",
   "execution_count": 75,
   "outputs": [
    {
     "data": {
      "text/plain": "array([0, 0, 0, ..., 0, 1, 1])"
     },
     "execution_count": 75,
     "metadata": {},
     "output_type": "execute_result"
    }
   ],
   "source": [
    "clf.labels_"
   ],
   "metadata": {
    "collapsed": false,
    "ExecuteTime": {
     "end_time": "2024-01-09T12:36:28.028339Z",
     "start_time": "2024-01-09T12:36:28.024658900Z"
    }
   }
  },
  {
   "cell_type": "code",
   "execution_count": 76,
   "outputs": [],
   "source": [
    "import torch\n",
    "import torch_geometric"
   ],
   "metadata": {
    "collapsed": false,
    "ExecuteTime": {
     "end_time": "2024-01-09T12:36:31.592475Z",
     "start_time": "2024-01-09T12:36:28.028339Z"
    }
   }
  },
  {
   "cell_type": "code",
   "outputs": [
    {
     "data": {
      "text/plain": "      id                    contracting_authority_name  \\\n0      1                           Ministerstvo obrany   \n1      2                                 Obec Budětice   \n2      3                             Nemocnice Blansko   \n3      4   Institut klinické a experimentální medicíny   \n4      5  Hasičský záchranný sbor Jihomoravského kraje   \n..   ...                                           ...   \n416  480                                     Obec Tisá   \n417  481                     Obec Sudoměřice u Bechyně   \n418  482                                  Obec Klopina   \n419  483                             Městys Černá Hora   \n420  484                                Městys Stádlec   \n\n                                              url  address_id  \n0                  https://nen.nipez.cz/profil/MO           2  \n1        https://nen.nipez.cz/profil/obecbudetice          11  \n2    https://nen.nipez.cz/profil/NemocniceBlansko          13  \n3                https://nen.nipez.cz/profil/ikem          17  \n4              https://nen.nipez.cz/profil/HZSJmK          24  \n..                                            ...         ...  \n416                                           NaN        2944  \n417    https://nen.nipez.cz/profil/obecsudomerice        3536  \n418           https://nen.nipez.cz/profil/klopina        3540  \n419         https://nen.nipez.cz/profil/CernaHora        3553  \n420           https://nen.nipez.cz/profil/stadlec        3606  \n\n[421 rows x 4 columns]",
      "text/html": "<div>\n<style scoped>\n    .dataframe tbody tr th:only-of-type {\n        vertical-align: middle;\n    }\n\n    .dataframe tbody tr th {\n        vertical-align: top;\n    }\n\n    .dataframe thead th {\n        text-align: right;\n    }\n</style>\n<table border=\"1\" class=\"dataframe\">\n  <thead>\n    <tr style=\"text-align: right;\">\n      <th></th>\n      <th>id</th>\n      <th>contracting_authority_name</th>\n      <th>url</th>\n      <th>address_id</th>\n    </tr>\n  </thead>\n  <tbody>\n    <tr>\n      <th>0</th>\n      <td>1</td>\n      <td>Ministerstvo obrany</td>\n      <td>https://nen.nipez.cz/profil/MO</td>\n      <td>2</td>\n    </tr>\n    <tr>\n      <th>1</th>\n      <td>2</td>\n      <td>Obec Budětice</td>\n      <td>https://nen.nipez.cz/profil/obecbudetice</td>\n      <td>11</td>\n    </tr>\n    <tr>\n      <th>2</th>\n      <td>3</td>\n      <td>Nemocnice Blansko</td>\n      <td>https://nen.nipez.cz/profil/NemocniceBlansko</td>\n      <td>13</td>\n    </tr>\n    <tr>\n      <th>3</th>\n      <td>4</td>\n      <td>Institut klinické a experimentální medicíny</td>\n      <td>https://nen.nipez.cz/profil/ikem</td>\n      <td>17</td>\n    </tr>\n    <tr>\n      <th>4</th>\n      <td>5</td>\n      <td>Hasičský záchranný sbor Jihomoravského kraje</td>\n      <td>https://nen.nipez.cz/profil/HZSJmK</td>\n      <td>24</td>\n    </tr>\n    <tr>\n      <th>...</th>\n      <td>...</td>\n      <td>...</td>\n      <td>...</td>\n      <td>...</td>\n    </tr>\n    <tr>\n      <th>416</th>\n      <td>480</td>\n      <td>Obec Tisá</td>\n      <td>NaN</td>\n      <td>2944</td>\n    </tr>\n    <tr>\n      <th>417</th>\n      <td>481</td>\n      <td>Obec Sudoměřice u Bechyně</td>\n      <td>https://nen.nipez.cz/profil/obecsudomerice</td>\n      <td>3536</td>\n    </tr>\n    <tr>\n      <th>418</th>\n      <td>482</td>\n      <td>Obec Klopina</td>\n      <td>https://nen.nipez.cz/profil/klopina</td>\n      <td>3540</td>\n    </tr>\n    <tr>\n      <th>419</th>\n      <td>483</td>\n      <td>Městys Černá Hora</td>\n      <td>https://nen.nipez.cz/profil/CernaHora</td>\n      <td>3553</td>\n    </tr>\n    <tr>\n      <th>420</th>\n      <td>484</td>\n      <td>Městys Stádlec</td>\n      <td>https://nen.nipez.cz/profil/stadlec</td>\n      <td>3606</td>\n    </tr>\n  </tbody>\n</table>\n<p>421 rows × 4 columns</p>\n</div>"
     },
     "execution_count": 77,
     "metadata": {},
     "output_type": "execute_result"
    }
   ],
   "source": [
    "contract_authority"
   ],
   "metadata": {
    "collapsed": false,
    "ExecuteTime": {
     "end_time": "2024-01-09T12:36:31.608377100Z",
     "start_time": "2024-01-09T12:36:31.592475Z"
    }
   },
   "execution_count": 77
  },
  {
   "cell_type": "code",
   "outputs": [
    {
     "data": {
      "text/plain": "        id vat_id_number                         company_name  \\\n0        1  CZ7303070038                           Dušan Pirc   \n1        2    CZ26031868                         CB Auto a.s.   \n2        3           NaN             Pes profesionál s. r. o.   \n3        4    CZ62738542  Severočeské komunální služby s.r.o.   \n4        5    CZ47538856                 JOHNNY SERVIS s.r.o.   \n...    ...           ...                                  ...   \n3669  3693           NaN                GASTRONOMIK KV s.r.o.   \n3670  3694    CZ27818861                  GASTRO MACH, s.r.o.   \n3671  3695    CZ26977583                         STEVY s.r.o.   \n3672  3696           NaN            Skymill Consulting s.r.o.   \n3673  3697           NaN               Kuřátková Zuzana, BcA.   \n\n      organisation_id  address_id  \n0          66442460.0           1  \n1          26031868.0           3  \n2           3566358.0           4  \n3          62738542.0           5  \n4          47538856.0           6  \n...               ...         ...  \n3669       29099528.0        3611  \n3670       27818861.0        3612  \n3671       26977583.0        3613  \n3672        6425372.0        3614  \n3673       72923628.0        3615  \n\n[3674 rows x 5 columns]",
      "text/html": "<div>\n<style scoped>\n    .dataframe tbody tr th:only-of-type {\n        vertical-align: middle;\n    }\n\n    .dataframe tbody tr th {\n        vertical-align: top;\n    }\n\n    .dataframe thead th {\n        text-align: right;\n    }\n</style>\n<table border=\"1\" class=\"dataframe\">\n  <thead>\n    <tr style=\"text-align: right;\">\n      <th></th>\n      <th>id</th>\n      <th>vat_id_number</th>\n      <th>company_name</th>\n      <th>organisation_id</th>\n      <th>address_id</th>\n    </tr>\n  </thead>\n  <tbody>\n    <tr>\n      <th>0</th>\n      <td>1</td>\n      <td>CZ7303070038</td>\n      <td>Dušan Pirc</td>\n      <td>66442460.0</td>\n      <td>1</td>\n    </tr>\n    <tr>\n      <th>1</th>\n      <td>2</td>\n      <td>CZ26031868</td>\n      <td>CB Auto a.s.</td>\n      <td>26031868.0</td>\n      <td>3</td>\n    </tr>\n    <tr>\n      <th>2</th>\n      <td>3</td>\n      <td>NaN</td>\n      <td>Pes profesionál s. r. o.</td>\n      <td>3566358.0</td>\n      <td>4</td>\n    </tr>\n    <tr>\n      <th>3</th>\n      <td>4</td>\n      <td>CZ62738542</td>\n      <td>Severočeské komunální služby s.r.o.</td>\n      <td>62738542.0</td>\n      <td>5</td>\n    </tr>\n    <tr>\n      <th>4</th>\n      <td>5</td>\n      <td>CZ47538856</td>\n      <td>JOHNNY SERVIS s.r.o.</td>\n      <td>47538856.0</td>\n      <td>6</td>\n    </tr>\n    <tr>\n      <th>...</th>\n      <td>...</td>\n      <td>...</td>\n      <td>...</td>\n      <td>...</td>\n      <td>...</td>\n    </tr>\n    <tr>\n      <th>3669</th>\n      <td>3693</td>\n      <td>NaN</td>\n      <td>GASTRONOMIK KV s.r.o.</td>\n      <td>29099528.0</td>\n      <td>3611</td>\n    </tr>\n    <tr>\n      <th>3670</th>\n      <td>3694</td>\n      <td>CZ27818861</td>\n      <td>GASTRO MACH, s.r.o.</td>\n      <td>27818861.0</td>\n      <td>3612</td>\n    </tr>\n    <tr>\n      <th>3671</th>\n      <td>3695</td>\n      <td>CZ26977583</td>\n      <td>STEVY s.r.o.</td>\n      <td>26977583.0</td>\n      <td>3613</td>\n    </tr>\n    <tr>\n      <th>3672</th>\n      <td>3696</td>\n      <td>NaN</td>\n      <td>Skymill Consulting s.r.o.</td>\n      <td>6425372.0</td>\n      <td>3614</td>\n    </tr>\n    <tr>\n      <th>3673</th>\n      <td>3697</td>\n      <td>NaN</td>\n      <td>Kuřátková Zuzana, BcA.</td>\n      <td>72923628.0</td>\n      <td>3615</td>\n    </tr>\n  </tbody>\n</table>\n<p>3674 rows × 5 columns</p>\n</div>"
     },
     "execution_count": 78,
     "metadata": {},
     "output_type": "execute_result"
    }
   ],
   "source": [
    "company"
   ],
   "metadata": {
    "collapsed": false,
    "ExecuteTime": {
     "end_time": "2024-01-09T12:36:31.616191500Z",
     "start_time": "2024-01-09T12:36:31.600066100Z"
    }
   },
   "execution_count": 78
  },
  {
   "cell_type": "code",
   "outputs": [],
   "source": [
    "CA_nodes = contract_authority['id']\n",
    "AT_nodes = company['id']"
   ],
   "metadata": {
    "collapsed": false,
    "ExecuteTime": {
     "end_time": "2024-01-09T12:36:31.619882300Z",
     "start_time": "2024-01-09T12:36:31.610477800Z"
    }
   },
   "execution_count": 79
  },
  {
   "cell_type": "code",
   "outputs": [],
   "source": [
    "df_edges = df_for_pred.copy()"
   ],
   "metadata": {
    "collapsed": false,
    "ExecuteTime": {
     "end_time": "2024-01-09T12:36:31.635078800Z",
     "start_time": "2024-01-09T12:36:31.613905400Z"
    }
   },
   "execution_count": 80
  },
  {
   "cell_type": "code",
   "outputs": [],
   "source": [
    "df_edges.drop(columns=['is_association_of_suppliers_x', 'is_association_of_suppliers_y', 'is_rejected_due_too_low', 'is_withdrawn', 'price', 'bids_submission_deadline', 'number_of_offers', 'contract_price', 'contract_price_with_amendments', 'contract_price_with_amendments_vat', 'date_of_contract_close', 'date_of_publication', 'place_of_performance', 'public_contract_regime', 'type', 'type_of_procedure', 'contact_person_id', 'organisation_id', 'distance'], inplace=True)"
   ],
   "metadata": {
    "collapsed": false,
    "ExecuteTime": {
     "end_time": "2024-01-09T12:36:31.663396100Z",
     "start_time": "2024-01-09T12:36:31.619882300Z"
    }
   },
   "execution_count": 81
  },
  {
   "cell_type": "code",
   "outputs": [],
   "source": [
    "df_edges['price_vat'] = df_edges['price_vat'].fillna(0)\n",
    "df_edges['total_wins'] = df_edges['total_wins'].fillna(0)\n",
    "df_edges['code_from_nipez_codelist'] = df_edges['code_from_nipez_codelist'].fillna('Other')"
   ],
   "metadata": {
    "collapsed": false,
    "ExecuteTime": {
     "end_time": "2024-01-09T12:36:53.070371900Z",
     "start_time": "2024-01-09T12:36:53.046718900Z"
    }
   },
   "execution_count": 83
  },
  {
   "cell_type": "code",
   "outputs": [
    {
     "name": "stdout",
     "output_type": "stream",
     "text": [
      "<class 'pandas.core.frame.DataFrame'>\n",
      "RangeIndex: 9245 entries, 0 to 9244\n",
      "Data columns (total 9 columns):\n",
      " #   Column                    Non-Null Count  Dtype  \n",
      "---  ------                    --------------  -----  \n",
      " 0   price_vat                 9245 non-null   float64\n",
      " 1   company_id                9245 non-null   int64  \n",
      " 2   code_from_nipez_codelist  9245 non-null   object \n",
      " 3   contract_price_vat        9245 non-null   float64\n",
      " 4   contracting_authority_id  9245 non-null   int64  \n",
      " 5   is_winner                 9245 non-null   bool   \n",
      " 6   total_offers              9245 non-null   int64  \n",
      " 7   total_wins                9245 non-null   int64  \n",
      " 8   total_procurements        9245 non-null   int64  \n",
      "dtypes: bool(1), float64(2), int64(5), object(1)\n",
      "memory usage: 587.0+ KB\n"
     ]
    }
   ],
   "source": [
    "df_edges.info()"
   ],
   "metadata": {
    "collapsed": false,
    "ExecuteTime": {
     "end_time": "2024-01-09T12:36:53.583762100Z",
     "start_time": "2024-01-09T12:36:53.544403600Z"
    }
   },
   "execution_count": 84
  },
  {
   "cell_type": "code",
   "outputs": [],
   "source": [
    "grouped = df_edges.groupby(['company_id', 'contracting_authority_id'])"
   ],
   "metadata": {
    "collapsed": false,
    "ExecuteTime": {
     "end_time": "2024-01-09T12:36:54.352912700Z",
     "start_time": "2024-01-09T12:36:54.333261100Z"
    }
   },
   "execution_count": 85
  },
  {
   "cell_type": "code",
   "outputs": [],
   "source": [
    "num_of_offers = grouped.count()['is_winner'].to_frame()\n",
    "num_of_offers.rename(columns={'is_winner' : 'num_of_offers'}, inplace=True)"
   ],
   "metadata": {
    "collapsed": false,
    "ExecuteTime": {
     "end_time": "2024-01-09T13:06:47.063047500Z",
     "start_time": "2024-01-09T13:06:47.004044300Z"
    }
   },
   "execution_count": 137
  },
  {
   "cell_type": "code",
   "outputs": [],
   "source": [
    "num_of_wins = grouped.sum()['is_winner'].to_frame()\n",
    "num_of_wins.rename(columns={'is_winner' : 'num_of_wins'},  inplace=True)"
   ],
   "metadata": {
    "collapsed": false,
    "ExecuteTime": {
     "end_time": "2024-01-09T13:06:47.823343800Z",
     "start_time": "2024-01-09T13:06:47.806926400Z"
    }
   },
   "execution_count": 138
  },
  {
   "cell_type": "code",
   "outputs": [],
   "source": [
    "bid_price_sum = grouped.sum()['price_vat'].to_frame()\n",
    "bid_price_sum.rename(columns={'price_vat' : 'bid_price_sum'},  inplace=True)"
   ],
   "metadata": {
    "collapsed": false,
    "ExecuteTime": {
     "end_time": "2024-01-09T13:06:48.953344400Z",
     "start_time": "2024-01-09T13:06:48.936188200Z"
    }
   },
   "execution_count": 139
  },
  {
   "cell_type": "code",
   "outputs": [],
   "source": [
    "bid_price_median = grouped.median('price_vat')['price_vat'].to_frame()\n",
    "bid_price_median.rename(columns={'price_vat' : 'bid_price_median'},  inplace=True)"
   ],
   "metadata": {
    "collapsed": false,
    "ExecuteTime": {
     "end_time": "2024-01-09T13:06:49.592241500Z",
     "start_time": "2024-01-09T13:06:49.578608700Z"
    }
   },
   "execution_count": 140
  },
  {
   "cell_type": "code",
   "outputs": [],
   "source": [
    "contract_price_sum = grouped.sum()['contract_price_vat'].to_frame()\n",
    "contract_price_sum.rename(columns={'contract_price_vat' : 'contract_price_sum'},  inplace=True)"
   ],
   "metadata": {
    "collapsed": false,
    "ExecuteTime": {
     "end_time": "2024-01-09T13:06:49.872643400Z",
     "start_time": "2024-01-09T13:06:49.858010100Z"
    }
   },
   "execution_count": 141
  },
  {
   "cell_type": "code",
   "outputs": [],
   "source": [
    "contract_price_median = grouped.median('contract_price_vat')['contract_price_vat'].to_frame()\n",
    "contract_price_median.rename(columns={'contract_price_vat' : 'contract_price_median'},  inplace=True)"
   ],
   "metadata": {
    "collapsed": false,
    "ExecuteTime": {
     "end_time": "2024-01-09T13:06:50.529570100Z",
     "start_time": "2024-01-09T13:06:50.510116Z"
    }
   },
   "execution_count": 142
  },
  {
   "cell_type": "code",
   "outputs": [],
   "source": [
    "num_of_unique_nipez = grouped.nunique('code_from_nipez_codelist')['code_from_nipez_codelist'].to_frame()\n",
    "num_of_unique_nipez.rename(columns={'code_from_nipez_codelist' : 'num_of_unique_nipez_codes'},  inplace=True)"
   ],
   "metadata": {
    "collapsed": false,
    "ExecuteTime": {
     "end_time": "2024-01-09T13:06:50.832830400Z",
     "start_time": "2024-01-09T13:06:50.804134700Z"
    }
   },
   "execution_count": 143
  },
  {
   "cell_type": "code",
   "outputs": [],
   "source": [
    "df_edges = num_of_offers.merge(num_of_wins, on=['company_id', 'contracting_authority_id'])\n",
    "df_edges = df_edges.merge(bid_price_sum, on=['company_id', 'contracting_authority_id'])\n",
    "df_edges = df_edges.merge(bid_price_median, on=['company_id', 'contracting_authority_id'])\n",
    "df_edges = df_edges.merge(contract_price_sum, on=['company_id', 'contracting_authority_id'])\n",
    "df_edges = df_edges.merge(contract_price_median, on=['company_id', 'contracting_authority_id'])\n",
    "df_edges = df_edges.merge(num_of_unique_nipez, on=['company_id', 'contracting_authority_id'])"
   ],
   "metadata": {
    "collapsed": false,
    "ExecuteTime": {
     "end_time": "2024-01-09T13:09:02.296420800Z",
     "start_time": "2024-01-09T13:09:02.233228500Z"
    }
   },
   "execution_count": 146
  },
  {
   "cell_type": "code",
   "outputs": [
    {
     "data": {
      "text/plain": "                                     num_of_offers  num_of_wins  \\\ncompany_id contracting_authority_id                               \n1          1                                     7            7   \n2          1                                     3            2   \n3          1                                     1            1   \n4          1                                     7            7   \n5          1                                    34           33   \n...                                            ...          ...   \n3692       484                                   1            0   \n3693       64                                    1            1   \n3694       64                                    1            0   \n3695       64                                    1            0   \n3696       64                                    1            0   \n\n                                     bid_price_sum  bid_price_median  \\\ncompany_id contracting_authority_id                                    \n1          1                                 16.38              0.00   \n2          1                             202841.30          11897.00   \n3          1                             130000.00         130000.00   \n4          1                              58824.15           1560.90   \n5          1                            1715061.10           1028.50   \n...                                            ...               ...   \n3692       484                          2368719.40        2368719.40   \n3693       64                           1563320.00        1563320.00   \n3694       64                           2124094.50        2124094.50   \n3695       64                           2044163.32        2044163.32   \n3696       64                           1867030.00        1867030.00   \n\n                                     contract_price_sum  \\\ncompany_id contracting_authority_id                       \n1          1                                  337707.00   \n2          1                                   90043.74   \n3          1                                  130000.00   \n4          1                                  218581.40   \n5          1                                 1484074.30   \n...                                                 ...   \n3692       484                               2176184.10   \n3693       64                                1563320.00   \n3694       64                                1563320.00   \n3695       64                                1563320.00   \n3696       64                                1563320.00   \n\n                                     contract_price_median  \\\ncompany_id contracting_authority_id                          \n1          1                                      40000.00   \n2          1                                      11896.74   \n3          1                                     130000.00   \n4          1                                      25000.00   \n5          1                                       5493.40   \n...                                                    ...   \n3692       484                                  2176184.10   \n3693       64                                   1563320.00   \n3694       64                                   1563320.00   \n3695       64                                   1563320.00   \n3696       64                                   1563320.00   \n\n                                     num_of_unique_nipez_codes  \ncompany_id contracting_authority_id                             \n1          1                                                 1  \n2          1                                                 2  \n3          1                                                 1  \n4          1                                                 1  \n5          1                                                 4  \n...                                                        ...  \n3692       484                                               1  \n3693       64                                                1  \n3694       64                                                1  \n3695       64                                                1  \n3696       64                                                1  \n\n[5259 rows x 7 columns]",
      "text/html": "<div>\n<style scoped>\n    .dataframe tbody tr th:only-of-type {\n        vertical-align: middle;\n    }\n\n    .dataframe tbody tr th {\n        vertical-align: top;\n    }\n\n    .dataframe thead th {\n        text-align: right;\n    }\n</style>\n<table border=\"1\" class=\"dataframe\">\n  <thead>\n    <tr style=\"text-align: right;\">\n      <th></th>\n      <th></th>\n      <th>num_of_offers</th>\n      <th>num_of_wins</th>\n      <th>bid_price_sum</th>\n      <th>bid_price_median</th>\n      <th>contract_price_sum</th>\n      <th>contract_price_median</th>\n      <th>num_of_unique_nipez_codes</th>\n    </tr>\n    <tr>\n      <th>company_id</th>\n      <th>contracting_authority_id</th>\n      <th></th>\n      <th></th>\n      <th></th>\n      <th></th>\n      <th></th>\n      <th></th>\n      <th></th>\n    </tr>\n  </thead>\n  <tbody>\n    <tr>\n      <th>1</th>\n      <th>1</th>\n      <td>7</td>\n      <td>7</td>\n      <td>16.38</td>\n      <td>0.00</td>\n      <td>337707.00</td>\n      <td>40000.00</td>\n      <td>1</td>\n    </tr>\n    <tr>\n      <th>2</th>\n      <th>1</th>\n      <td>3</td>\n      <td>2</td>\n      <td>202841.30</td>\n      <td>11897.00</td>\n      <td>90043.74</td>\n      <td>11896.74</td>\n      <td>2</td>\n    </tr>\n    <tr>\n      <th>3</th>\n      <th>1</th>\n      <td>1</td>\n      <td>1</td>\n      <td>130000.00</td>\n      <td>130000.00</td>\n      <td>130000.00</td>\n      <td>130000.00</td>\n      <td>1</td>\n    </tr>\n    <tr>\n      <th>4</th>\n      <th>1</th>\n      <td>7</td>\n      <td>7</td>\n      <td>58824.15</td>\n      <td>1560.90</td>\n      <td>218581.40</td>\n      <td>25000.00</td>\n      <td>1</td>\n    </tr>\n    <tr>\n      <th>5</th>\n      <th>1</th>\n      <td>34</td>\n      <td>33</td>\n      <td>1715061.10</td>\n      <td>1028.50</td>\n      <td>1484074.30</td>\n      <td>5493.40</td>\n      <td>4</td>\n    </tr>\n    <tr>\n      <th>...</th>\n      <th>...</th>\n      <td>...</td>\n      <td>...</td>\n      <td>...</td>\n      <td>...</td>\n      <td>...</td>\n      <td>...</td>\n      <td>...</td>\n    </tr>\n    <tr>\n      <th>3692</th>\n      <th>484</th>\n      <td>1</td>\n      <td>0</td>\n      <td>2368719.40</td>\n      <td>2368719.40</td>\n      <td>2176184.10</td>\n      <td>2176184.10</td>\n      <td>1</td>\n    </tr>\n    <tr>\n      <th>3693</th>\n      <th>64</th>\n      <td>1</td>\n      <td>1</td>\n      <td>1563320.00</td>\n      <td>1563320.00</td>\n      <td>1563320.00</td>\n      <td>1563320.00</td>\n      <td>1</td>\n    </tr>\n    <tr>\n      <th>3694</th>\n      <th>64</th>\n      <td>1</td>\n      <td>0</td>\n      <td>2124094.50</td>\n      <td>2124094.50</td>\n      <td>1563320.00</td>\n      <td>1563320.00</td>\n      <td>1</td>\n    </tr>\n    <tr>\n      <th>3695</th>\n      <th>64</th>\n      <td>1</td>\n      <td>0</td>\n      <td>2044163.32</td>\n      <td>2044163.32</td>\n      <td>1563320.00</td>\n      <td>1563320.00</td>\n      <td>1</td>\n    </tr>\n    <tr>\n      <th>3696</th>\n      <th>64</th>\n      <td>1</td>\n      <td>0</td>\n      <td>1867030.00</td>\n      <td>1867030.00</td>\n      <td>1563320.00</td>\n      <td>1563320.00</td>\n      <td>1</td>\n    </tr>\n  </tbody>\n</table>\n<p>5259 rows × 7 columns</p>\n</div>"
     },
     "execution_count": 147,
     "metadata": {},
     "output_type": "execute_result"
    }
   ],
   "source": [
    "df_edges"
   ],
   "metadata": {
    "collapsed": false,
    "ExecuteTime": {
     "end_time": "2024-01-09T13:09:05.104053900Z",
     "start_time": "2024-01-09T13:09:05.080197800Z"
    }
   },
   "execution_count": 147
  },
  {
   "cell_type": "code",
   "outputs": [],
   "source": [],
   "metadata": {
    "collapsed": false
   }
  }
 ],
 "metadata": {
  "kernelspec": {
   "display_name": "Python 3",
   "language": "python",
   "name": "python3"
  },
  "language_info": {
   "codemirror_mode": {
    "name": "ipython",
    "version": 2
   },
   "file_extension": ".py",
   "mimetype": "text/x-python",
   "name": "python",
   "nbconvert_exporter": "python",
   "pygments_lexer": "ipython2",
   "version": "2.7.6"
  }
 },
 "nbformat": 4,
 "nbformat_minor": 0
}
