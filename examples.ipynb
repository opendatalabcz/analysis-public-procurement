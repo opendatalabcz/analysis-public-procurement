{
 "cells": [
  {
   "cell_type": "code",
   "execution_count": 1,
   "metadata": {
    "collapsed": true,
    "ExecuteTime": {
     "end_time": "2024-01-09T12:36:06.822258200Z",
     "start_time": "2024-01-09T12:36:06.466529600Z"
    }
   },
   "outputs": [],
   "source": [
    "import numpy as np\n",
    "import pandas as pd\n",
    "from pandas import DataFrame"
   ]
  },
  {
   "cell_type": "code",
   "execution_count": 2,
   "outputs": [],
   "source": [
    "address = pd.read_csv('data/address.csv')\n",
    "company = pd.read_csv('data/company.csv')\n",
    "contract_person = pd.read_csv('data/contact_person.csv')\n",
    "contract_authority = pd.read_csv('data/contracting_authority.csv')\n",
    "offer = pd.read_csv('data/offer.csv')\n",
    "procurement = pd.read_csv('data/procurement.csv')"
   ],
   "metadata": {
    "collapsed": false,
    "ExecuteTime": {
     "end_time": "2024-01-09T12:36:06.894182Z",
     "start_time": "2024-01-09T12:36:06.812720600Z"
    }
   }
  },
  {
   "cell_type": "code",
   "execution_count": 3,
   "outputs": [],
   "source": [
    "def basic_stats(df):\n",
    "    display(df.shape)\n",
    "    display(df.describe())\n",
    "    print(f\"Missing values in %:\")\n",
    "    display(df.isna().sum() / df.shape[0] * 100)\n",
    "    display(df.head(10))\n"
   ],
   "metadata": {
    "collapsed": false,
    "ExecuteTime": {
     "end_time": "2024-01-09T12:36:06.896813800Z",
     "start_time": "2024-01-09T12:36:06.867047300Z"
    }
   }
  },
  {
   "cell_type": "code",
   "execution_count": 4,
   "outputs": [
    {
     "data": {
      "text/plain": "(3578, 9)"
     },
     "metadata": {},
     "output_type": "display_data"
    },
    {
     "data": {
      "text/plain": "                id  land_registry_number     latitude    longitude\ncount  3578.000000           3432.000000  1982.000000  1982.000000\nmean   1811.293740            899.398601    49.834196    15.506733\nstd    1036.345691            981.801996     0.424095     1.482787\nmin       1.000000              1.000000    48.144619    12.371860\n25%     915.250000            189.000000    49.558013    14.428739\n50%    1809.500000            567.000000    50.035616    14.514808\n75%    2703.750000           1272.000000    50.088154    16.643086\nmax    3615.000000           7061.000000    50.906588    19.123288",
      "text/html": "<div>\n<style scoped>\n    .dataframe tbody tr th:only-of-type {\n        vertical-align: middle;\n    }\n\n    .dataframe tbody tr th {\n        vertical-align: top;\n    }\n\n    .dataframe thead th {\n        text-align: right;\n    }\n</style>\n<table border=\"1\" class=\"dataframe\">\n  <thead>\n    <tr style=\"text-align: right;\">\n      <th></th>\n      <th>id</th>\n      <th>land_registry_number</th>\n      <th>latitude</th>\n      <th>longitude</th>\n    </tr>\n  </thead>\n  <tbody>\n    <tr>\n      <th>count</th>\n      <td>3578.000000</td>\n      <td>3432.000000</td>\n      <td>1982.000000</td>\n      <td>1982.000000</td>\n    </tr>\n    <tr>\n      <th>mean</th>\n      <td>1811.293740</td>\n      <td>899.398601</td>\n      <td>49.834196</td>\n      <td>15.506733</td>\n    </tr>\n    <tr>\n      <th>std</th>\n      <td>1036.345691</td>\n      <td>981.801996</td>\n      <td>0.424095</td>\n      <td>1.482787</td>\n    </tr>\n    <tr>\n      <th>min</th>\n      <td>1.000000</td>\n      <td>1.000000</td>\n      <td>48.144619</td>\n      <td>12.371860</td>\n    </tr>\n    <tr>\n      <th>25%</th>\n      <td>915.250000</td>\n      <td>189.000000</td>\n      <td>49.558013</td>\n      <td>14.428739</td>\n    </tr>\n    <tr>\n      <th>50%</th>\n      <td>1809.500000</td>\n      <td>567.000000</td>\n      <td>50.035616</td>\n      <td>14.514808</td>\n    </tr>\n    <tr>\n      <th>75%</th>\n      <td>2703.750000</td>\n      <td>1272.000000</td>\n      <td>50.088154</td>\n      <td>16.643086</td>\n    </tr>\n    <tr>\n      <th>max</th>\n      <td>3615.000000</td>\n      <td>7061.000000</td>\n      <td>50.906588</td>\n      <td>19.123288</td>\n    </tr>\n  </tbody>\n</table>\n</div>"
     },
     "metadata": {},
     "output_type": "display_data"
    },
    {
     "name": "stdout",
     "output_type": "stream",
     "text": [
      "Missing values in %:\n"
     ]
    },
    {
     "data": {
      "text/plain": "id                       0.000000\nbuilding_number         44.186696\ncity                     0.027949\ncountry_code            38.457239\nland_registry_number     4.080492\nlatitude                44.605925\nlongitude               44.605925\npostal_code              0.950252\nstreet                  13.834544\ndtype: float64"
     },
     "metadata": {},
     "output_type": "display_data"
    },
    {
     "data": {
      "text/plain": "   id building_number                city country_code  land_registry_number  \\\n0   1             NaN               Praha          NaN                 682.0   \n1   2               1               Praha           CZ                 221.0   \n2   3             NaN    České Budějovice          NaN                   NaN   \n3   4             NaN                 NaN          NaN                   NaN   \n4   5              91  Jablonec nad Nisou           CZ                4588.0   \n5   6             NaN               Tetín          NaN                   1.0   \n6   7             NaN           Pardubice          NaN                 107.0   \n7   8             NaN         Helvíkovice          NaN                  90.0   \n8   9              58               Praha           CZ                1552.0   \n9  10             NaN     Klatovy, 339 01          NaN                   NaN   \n\n    latitude  longitude postal_code                  street  \n0        NaN        NaN       19016              Zalešanská  \n1  50.095041  14.403276       16000               Tychonova  \n2        NaN        NaN       37005                     NaN  \n3        NaN        NaN         NaN                     NaN  \n4  50.731404  15.174121       46601               Smetanova  \n5        NaN        NaN       26601  náměstí Kněžny Ludmily  \n6        NaN        NaN       53002                     NaN  \n7        NaN        NaN       56401                     NaN  \n8  50.049737  14.458768       14100               Michelská  \n9        NaN        NaN         NaN           Ostravská 169  ",
      "text/html": "<div>\n<style scoped>\n    .dataframe tbody tr th:only-of-type {\n        vertical-align: middle;\n    }\n\n    .dataframe tbody tr th {\n        vertical-align: top;\n    }\n\n    .dataframe thead th {\n        text-align: right;\n    }\n</style>\n<table border=\"1\" class=\"dataframe\">\n  <thead>\n    <tr style=\"text-align: right;\">\n      <th></th>\n      <th>id</th>\n      <th>building_number</th>\n      <th>city</th>\n      <th>country_code</th>\n      <th>land_registry_number</th>\n      <th>latitude</th>\n      <th>longitude</th>\n      <th>postal_code</th>\n      <th>street</th>\n    </tr>\n  </thead>\n  <tbody>\n    <tr>\n      <th>0</th>\n      <td>1</td>\n      <td>NaN</td>\n      <td>Praha</td>\n      <td>NaN</td>\n      <td>682.0</td>\n      <td>NaN</td>\n      <td>NaN</td>\n      <td>19016</td>\n      <td>Zalešanská</td>\n    </tr>\n    <tr>\n      <th>1</th>\n      <td>2</td>\n      <td>1</td>\n      <td>Praha</td>\n      <td>CZ</td>\n      <td>221.0</td>\n      <td>50.095041</td>\n      <td>14.403276</td>\n      <td>16000</td>\n      <td>Tychonova</td>\n    </tr>\n    <tr>\n      <th>2</th>\n      <td>3</td>\n      <td>NaN</td>\n      <td>České Budějovice</td>\n      <td>NaN</td>\n      <td>NaN</td>\n      <td>NaN</td>\n      <td>NaN</td>\n      <td>37005</td>\n      <td>NaN</td>\n    </tr>\n    <tr>\n      <th>3</th>\n      <td>4</td>\n      <td>NaN</td>\n      <td>NaN</td>\n      <td>NaN</td>\n      <td>NaN</td>\n      <td>NaN</td>\n      <td>NaN</td>\n      <td>NaN</td>\n      <td>NaN</td>\n    </tr>\n    <tr>\n      <th>4</th>\n      <td>5</td>\n      <td>91</td>\n      <td>Jablonec nad Nisou</td>\n      <td>CZ</td>\n      <td>4588.0</td>\n      <td>50.731404</td>\n      <td>15.174121</td>\n      <td>46601</td>\n      <td>Smetanova</td>\n    </tr>\n    <tr>\n      <th>5</th>\n      <td>6</td>\n      <td>NaN</td>\n      <td>Tetín</td>\n      <td>NaN</td>\n      <td>1.0</td>\n      <td>NaN</td>\n      <td>NaN</td>\n      <td>26601</td>\n      <td>náměstí Kněžny Ludmily</td>\n    </tr>\n    <tr>\n      <th>6</th>\n      <td>7</td>\n      <td>NaN</td>\n      <td>Pardubice</td>\n      <td>NaN</td>\n      <td>107.0</td>\n      <td>NaN</td>\n      <td>NaN</td>\n      <td>53002</td>\n      <td>NaN</td>\n    </tr>\n    <tr>\n      <th>7</th>\n      <td>8</td>\n      <td>NaN</td>\n      <td>Helvíkovice</td>\n      <td>NaN</td>\n      <td>90.0</td>\n      <td>NaN</td>\n      <td>NaN</td>\n      <td>56401</td>\n      <td>NaN</td>\n    </tr>\n    <tr>\n      <th>8</th>\n      <td>9</td>\n      <td>58</td>\n      <td>Praha</td>\n      <td>CZ</td>\n      <td>1552.0</td>\n      <td>50.049737</td>\n      <td>14.458768</td>\n      <td>14100</td>\n      <td>Michelská</td>\n    </tr>\n    <tr>\n      <th>9</th>\n      <td>10</td>\n      <td>NaN</td>\n      <td>Klatovy, 339 01</td>\n      <td>NaN</td>\n      <td>NaN</td>\n      <td>NaN</td>\n      <td>NaN</td>\n      <td>NaN</td>\n      <td>Ostravská 169</td>\n    </tr>\n  </tbody>\n</table>\n</div>"
     },
     "metadata": {},
     "output_type": "display_data"
    }
   ],
   "source": [
    "basic_stats(address)"
   ],
   "metadata": {
    "collapsed": false,
    "ExecuteTime": {
     "end_time": "2024-01-09T12:36:06.950926400Z",
     "start_time": "2024-01-09T12:36:06.870947900Z"
    }
   }
  },
  {
   "cell_type": "code",
   "execution_count": 5,
   "outputs": [
    {
     "data": {
      "text/plain": "(3674, 5)"
     },
     "metadata": {},
     "output_type": "display_data"
    },
    {
     "data": {
      "text/plain": "                id  organisation_id   address_id\ncount  3674.000000     3.591000e+03  3674.000000\nmean   1860.324714     2.978224e+07  1701.784703\nstd    1061.039946     1.954525e+07  1076.105654\nmin       1.000000     4.930000e+02     1.000000\n25%     942.250000     1.496256e+07   755.750000\n50%    1860.500000     2.668712e+07  1680.000000\n75%    2778.750000     4.495440e+07  2630.750000\nmax    3697.000000     8.885864e+07  3615.000000",
      "text/html": "<div>\n<style scoped>\n    .dataframe tbody tr th:only-of-type {\n        vertical-align: middle;\n    }\n\n    .dataframe tbody tr th {\n        vertical-align: top;\n    }\n\n    .dataframe thead th {\n        text-align: right;\n    }\n</style>\n<table border=\"1\" class=\"dataframe\">\n  <thead>\n    <tr style=\"text-align: right;\">\n      <th></th>\n      <th>id</th>\n      <th>organisation_id</th>\n      <th>address_id</th>\n    </tr>\n  </thead>\n  <tbody>\n    <tr>\n      <th>count</th>\n      <td>3674.000000</td>\n      <td>3.591000e+03</td>\n      <td>3674.000000</td>\n    </tr>\n    <tr>\n      <th>mean</th>\n      <td>1860.324714</td>\n      <td>2.978224e+07</td>\n      <td>1701.784703</td>\n    </tr>\n    <tr>\n      <th>std</th>\n      <td>1061.039946</td>\n      <td>1.954525e+07</td>\n      <td>1076.105654</td>\n    </tr>\n    <tr>\n      <th>min</th>\n      <td>1.000000</td>\n      <td>4.930000e+02</td>\n      <td>1.000000</td>\n    </tr>\n    <tr>\n      <th>25%</th>\n      <td>942.250000</td>\n      <td>1.496256e+07</td>\n      <td>755.750000</td>\n    </tr>\n    <tr>\n      <th>50%</th>\n      <td>1860.500000</td>\n      <td>2.668712e+07</td>\n      <td>1680.000000</td>\n    </tr>\n    <tr>\n      <th>75%</th>\n      <td>2778.750000</td>\n      <td>4.495440e+07</td>\n      <td>2630.750000</td>\n    </tr>\n    <tr>\n      <th>max</th>\n      <td>3697.000000</td>\n      <td>8.885864e+07</td>\n      <td>3615.000000</td>\n    </tr>\n  </tbody>\n</table>\n</div>"
     },
     "metadata": {},
     "output_type": "display_data"
    },
    {
     "name": "stdout",
     "output_type": "stream",
     "text": [
      "Missing values in %:\n"
     ]
    },
    {
     "data": {
      "text/plain": "id                  0.000000\nvat_id_number      44.011976\ncompany_name        0.000000\norganisation_id     2.259118\naddress_id          0.000000\ndtype: float64"
     },
     "metadata": {},
     "output_type": "display_data"
    },
    {
     "data": {
      "text/plain": "   id vat_id_number                                 company_name  \\\n0   1  CZ7303070038                                   Dušan Pirc   \n1   2    CZ26031868                                 CB Auto a.s.   \n2   3           NaN                     Pes profesionál s. r. o.   \n3   4    CZ62738542          Severočeské komunální služby s.r.o.   \n4   5    CZ47538856                         JOHNNY SERVIS s.r.o.   \n5   6           NaN                                Explosia a.s.   \n6   7    CZ25286366                                   Dibaq a.s.   \n7   8           NaN  Royal Canin Czech & Slovak Republics s.r.o.   \n8   9           NaN                             RC-eltech s.r.o.   \n9  10           NaN                                Lada Tittlová   \n\n   organisation_id  address_id  \n0       66442460.0           1  \n1       26031868.0           3  \n2        3566358.0           4  \n3       62738542.0           5  \n4       47538856.0           6  \n5       25291581.0           7  \n6       25286366.0           8  \n7       24663913.0           9  \n8        6909981.0          10  \n9              NaN           4  ",
      "text/html": "<div>\n<style scoped>\n    .dataframe tbody tr th:only-of-type {\n        vertical-align: middle;\n    }\n\n    .dataframe tbody tr th {\n        vertical-align: top;\n    }\n\n    .dataframe thead th {\n        text-align: right;\n    }\n</style>\n<table border=\"1\" class=\"dataframe\">\n  <thead>\n    <tr style=\"text-align: right;\">\n      <th></th>\n      <th>id</th>\n      <th>vat_id_number</th>\n      <th>company_name</th>\n      <th>organisation_id</th>\n      <th>address_id</th>\n    </tr>\n  </thead>\n  <tbody>\n    <tr>\n      <th>0</th>\n      <td>1</td>\n      <td>CZ7303070038</td>\n      <td>Dušan Pirc</td>\n      <td>66442460.0</td>\n      <td>1</td>\n    </tr>\n    <tr>\n      <th>1</th>\n      <td>2</td>\n      <td>CZ26031868</td>\n      <td>CB Auto a.s.</td>\n      <td>26031868.0</td>\n      <td>3</td>\n    </tr>\n    <tr>\n      <th>2</th>\n      <td>3</td>\n      <td>NaN</td>\n      <td>Pes profesionál s. r. o.</td>\n      <td>3566358.0</td>\n      <td>4</td>\n    </tr>\n    <tr>\n      <th>3</th>\n      <td>4</td>\n      <td>CZ62738542</td>\n      <td>Severočeské komunální služby s.r.o.</td>\n      <td>62738542.0</td>\n      <td>5</td>\n    </tr>\n    <tr>\n      <th>4</th>\n      <td>5</td>\n      <td>CZ47538856</td>\n      <td>JOHNNY SERVIS s.r.o.</td>\n      <td>47538856.0</td>\n      <td>6</td>\n    </tr>\n    <tr>\n      <th>5</th>\n      <td>6</td>\n      <td>NaN</td>\n      <td>Explosia a.s.</td>\n      <td>25291581.0</td>\n      <td>7</td>\n    </tr>\n    <tr>\n      <th>6</th>\n      <td>7</td>\n      <td>CZ25286366</td>\n      <td>Dibaq a.s.</td>\n      <td>25286366.0</td>\n      <td>8</td>\n    </tr>\n    <tr>\n      <th>7</th>\n      <td>8</td>\n      <td>NaN</td>\n      <td>Royal Canin Czech &amp; Slovak Republics s.r.o.</td>\n      <td>24663913.0</td>\n      <td>9</td>\n    </tr>\n    <tr>\n      <th>8</th>\n      <td>9</td>\n      <td>NaN</td>\n      <td>RC-eltech s.r.o.</td>\n      <td>6909981.0</td>\n      <td>10</td>\n    </tr>\n    <tr>\n      <th>9</th>\n      <td>10</td>\n      <td>NaN</td>\n      <td>Lada Tittlová</td>\n      <td>NaN</td>\n      <td>4</td>\n    </tr>\n  </tbody>\n</table>\n</div>"
     },
     "metadata": {},
     "output_type": "display_data"
    }
   ],
   "source": [
    "basic_stats(company)"
   ],
   "metadata": {
    "collapsed": false,
    "ExecuteTime": {
     "end_time": "2024-01-09T12:36:07.001402100Z",
     "start_time": "2024-01-09T12:36:06.898917600Z"
    }
   }
  },
  {
   "cell_type": "code",
   "execution_count": 6,
   "outputs": [
    {
     "data": {
      "text/plain": "(1121, 5)"
     },
     "metadata": {},
     "output_type": "display_data"
    },
    {
     "data": {
      "text/plain": "                id  contracting_authority_id\ncount  1121.000000               1121.000000\nmean    603.198037                146.794826\nstd     328.453693                133.305767\nmin       1.000000                  1.000000\n25%     321.000000                  7.000000\n50%     601.000000                111.000000\n75%     881.000000                239.000000\nmax    1183.000000                484.000000",
      "text/html": "<div>\n<style scoped>\n    .dataframe tbody tr th:only-of-type {\n        vertical-align: middle;\n    }\n\n    .dataframe tbody tr th {\n        vertical-align: top;\n    }\n\n    .dataframe thead th {\n        text-align: right;\n    }\n</style>\n<table border=\"1\" class=\"dataframe\">\n  <thead>\n    <tr style=\"text-align: right;\">\n      <th></th>\n      <th>id</th>\n      <th>contracting_authority_id</th>\n    </tr>\n  </thead>\n  <tbody>\n    <tr>\n      <th>count</th>\n      <td>1121.000000</td>\n      <td>1121.000000</td>\n    </tr>\n    <tr>\n      <th>mean</th>\n      <td>603.198037</td>\n      <td>146.794826</td>\n    </tr>\n    <tr>\n      <th>std</th>\n      <td>328.453693</td>\n      <td>133.305767</td>\n    </tr>\n    <tr>\n      <th>min</th>\n      <td>1.000000</td>\n      <td>1.000000</td>\n    </tr>\n    <tr>\n      <th>25%</th>\n      <td>321.000000</td>\n      <td>7.000000</td>\n    </tr>\n    <tr>\n      <th>50%</th>\n      <td>601.000000</td>\n      <td>111.000000</td>\n    </tr>\n    <tr>\n      <th>75%</th>\n      <td>881.000000</td>\n      <td>239.000000</td>\n    </tr>\n    <tr>\n      <th>max</th>\n      <td>1183.000000</td>\n      <td>484.000000</td>\n    </tr>\n  </tbody>\n</table>\n</div>"
     },
     "metadata": {},
     "output_type": "display_data"
    },
    {
     "name": "stdout",
     "output_type": "stream",
     "text": [
      "Missing values in %:\n"
     ]
    },
    {
     "data": {
      "text/plain": "id                          0.0\nemail                       0.0\nname                        0.0\nsurname                     0.0\ncontracting_authority_id    0.0\ndtype: float64"
     },
     "metadata": {},
     "output_type": "display_data"
    },
    {
     "data": {
      "text/plain": "   id                          email     name    surname  \\\n0   1             matyasovaa@army.cz   Andrea  Matyášová   \n1   2           Igor.Mathias@army.cz     Igor    Mathias   \n2   3                 karchp@army.cz    Pavel      Karch   \n3   4  mistostarosta@obecbudetice.cz    Pavel       Huda   \n4   5               straka@nemobk.cz  Antonín     Straka   \n5   6             eva.sikova@ikem.cz      Eva     Siková   \n6   7               mlakovad@army.cz     Dana    Mlaková   \n7   8                skurekz@army.cz   Zdeněk     Škůrek   \n8   9    monika.dedicova@firebrno.cz   Monika   Dědičová   \n9  10        tatana.chajmova@cuzk.cz   Taťána   Chajmová   \n\n   contracting_authority_id  \n0                         1  \n1                         1  \n2                         1  \n3                         2  \n4                         3  \n5                         4  \n6                         1  \n7                         1  \n8                         5  \n9                         6  ",
      "text/html": "<div>\n<style scoped>\n    .dataframe tbody tr th:only-of-type {\n        vertical-align: middle;\n    }\n\n    .dataframe tbody tr th {\n        vertical-align: top;\n    }\n\n    .dataframe thead th {\n        text-align: right;\n    }\n</style>\n<table border=\"1\" class=\"dataframe\">\n  <thead>\n    <tr style=\"text-align: right;\">\n      <th></th>\n      <th>id</th>\n      <th>email</th>\n      <th>name</th>\n      <th>surname</th>\n      <th>contracting_authority_id</th>\n    </tr>\n  </thead>\n  <tbody>\n    <tr>\n      <th>0</th>\n      <td>1</td>\n      <td>matyasovaa@army.cz</td>\n      <td>Andrea</td>\n      <td>Matyášová</td>\n      <td>1</td>\n    </tr>\n    <tr>\n      <th>1</th>\n      <td>2</td>\n      <td>Igor.Mathias@army.cz</td>\n      <td>Igor</td>\n      <td>Mathias</td>\n      <td>1</td>\n    </tr>\n    <tr>\n      <th>2</th>\n      <td>3</td>\n      <td>karchp@army.cz</td>\n      <td>Pavel</td>\n      <td>Karch</td>\n      <td>1</td>\n    </tr>\n    <tr>\n      <th>3</th>\n      <td>4</td>\n      <td>mistostarosta@obecbudetice.cz</td>\n      <td>Pavel</td>\n      <td>Huda</td>\n      <td>2</td>\n    </tr>\n    <tr>\n      <th>4</th>\n      <td>5</td>\n      <td>straka@nemobk.cz</td>\n      <td>Antonín</td>\n      <td>Straka</td>\n      <td>3</td>\n    </tr>\n    <tr>\n      <th>5</th>\n      <td>6</td>\n      <td>eva.sikova@ikem.cz</td>\n      <td>Eva</td>\n      <td>Siková</td>\n      <td>4</td>\n    </tr>\n    <tr>\n      <th>6</th>\n      <td>7</td>\n      <td>mlakovad@army.cz</td>\n      <td>Dana</td>\n      <td>Mlaková</td>\n      <td>1</td>\n    </tr>\n    <tr>\n      <th>7</th>\n      <td>8</td>\n      <td>skurekz@army.cz</td>\n      <td>Zdeněk</td>\n      <td>Škůrek</td>\n      <td>1</td>\n    </tr>\n    <tr>\n      <th>8</th>\n      <td>9</td>\n      <td>monika.dedicova@firebrno.cz</td>\n      <td>Monika</td>\n      <td>Dědičová</td>\n      <td>5</td>\n    </tr>\n    <tr>\n      <th>9</th>\n      <td>10</td>\n      <td>tatana.chajmova@cuzk.cz</td>\n      <td>Taťána</td>\n      <td>Chajmová</td>\n      <td>6</td>\n    </tr>\n  </tbody>\n</table>\n</div>"
     },
     "metadata": {},
     "output_type": "display_data"
    }
   ],
   "source": [
    "basic_stats(contract_person)"
   ],
   "metadata": {
    "collapsed": false,
    "ExecuteTime": {
     "end_time": "2024-01-09T12:36:07.024448500Z",
     "start_time": "2024-01-09T12:36:06.918700800Z"
    }
   }
  },
  {
   "cell_type": "code",
   "execution_count": 7,
   "outputs": [
    {
     "data": {
      "text/plain": "(421, 4)"
     },
     "metadata": {},
     "output_type": "display_data"
    },
    {
     "data": {
      "text/plain": "               id   address_id\ncount  421.000000   421.000000\nmean   255.757720  1533.133017\nstd    125.491237  1021.438673\nmin      1.000000     2.000000\n25%    150.000000   622.000000\n50%    255.000000  1431.000000\n75%    360.000000  2429.000000\nmax    484.000000  3606.000000",
      "text/html": "<div>\n<style scoped>\n    .dataframe tbody tr th:only-of-type {\n        vertical-align: middle;\n    }\n\n    .dataframe tbody tr th {\n        vertical-align: top;\n    }\n\n    .dataframe thead th {\n        text-align: right;\n    }\n</style>\n<table border=\"1\" class=\"dataframe\">\n  <thead>\n    <tr style=\"text-align: right;\">\n      <th></th>\n      <th>id</th>\n      <th>address_id</th>\n    </tr>\n  </thead>\n  <tbody>\n    <tr>\n      <th>count</th>\n      <td>421.000000</td>\n      <td>421.000000</td>\n    </tr>\n    <tr>\n      <th>mean</th>\n      <td>255.757720</td>\n      <td>1533.133017</td>\n    </tr>\n    <tr>\n      <th>std</th>\n      <td>125.491237</td>\n      <td>1021.438673</td>\n    </tr>\n    <tr>\n      <th>min</th>\n      <td>1.000000</td>\n      <td>2.000000</td>\n    </tr>\n    <tr>\n      <th>25%</th>\n      <td>150.000000</td>\n      <td>622.000000</td>\n    </tr>\n    <tr>\n      <th>50%</th>\n      <td>255.000000</td>\n      <td>1431.000000</td>\n    </tr>\n    <tr>\n      <th>75%</th>\n      <td>360.000000</td>\n      <td>2429.000000</td>\n    </tr>\n    <tr>\n      <th>max</th>\n      <td>484.000000</td>\n      <td>3606.000000</td>\n    </tr>\n  </tbody>\n</table>\n</div>"
     },
     "metadata": {},
     "output_type": "display_data"
    },
    {
     "name": "stdout",
     "output_type": "stream",
     "text": [
      "Missing values in %:\n"
     ]
    },
    {
     "data": {
      "text/plain": "id                            0.000000\ncontracting_authority_name    0.000000\nurl                           8.313539\naddress_id                    0.000000\ndtype: float64"
     },
     "metadata": {},
     "output_type": "display_data"
    },
    {
     "data": {
      "text/plain": "   id                         contracting_authority_name  \\\n0   1                                Ministerstvo obrany   \n1   2                                      Obec Budětice   \n2   3                                  Nemocnice Blansko   \n3   4        Institut klinické a experimentální medicíny   \n4   5       Hasičský záchranný sbor Jihomoravského kraje   \n5   6                                   Zeměměřický úřad   \n6   7  Ředitelství silnic Zlínského kraje,příspěvková...   \n7  52        Hasičský záchranný sbor Středočeského kraje   \n8  53                                Město Nová Včelnice   \n9  54                            Město Lipník nad Bečvou   \n\n                                            url  address_id  \n0                https://nen.nipez.cz/profil/MO           2  \n1      https://nen.nipez.cz/profil/obecbudetice          11  \n2  https://nen.nipez.cz/profil/NemocniceBlansko          13  \n3              https://nen.nipez.cz/profil/ikem          17  \n4            https://nen.nipez.cz/profil/HZSJmK          24  \n5                https://nen.nipez.cz/profil/ZU          26  \n6              https://nen.nipez.cz/profil/RSZK          28  \n7               https://nen.nipez.cz/profil/STC          53  \n8      https://nen.nipez.cz/profil/novavcelnice          55  \n9       https://nen.nipez.cz/profil/mestolipnik          59  ",
      "text/html": "<div>\n<style scoped>\n    .dataframe tbody tr th:only-of-type {\n        vertical-align: middle;\n    }\n\n    .dataframe tbody tr th {\n        vertical-align: top;\n    }\n\n    .dataframe thead th {\n        text-align: right;\n    }\n</style>\n<table border=\"1\" class=\"dataframe\">\n  <thead>\n    <tr style=\"text-align: right;\">\n      <th></th>\n      <th>id</th>\n      <th>contracting_authority_name</th>\n      <th>url</th>\n      <th>address_id</th>\n    </tr>\n  </thead>\n  <tbody>\n    <tr>\n      <th>0</th>\n      <td>1</td>\n      <td>Ministerstvo obrany</td>\n      <td>https://nen.nipez.cz/profil/MO</td>\n      <td>2</td>\n    </tr>\n    <tr>\n      <th>1</th>\n      <td>2</td>\n      <td>Obec Budětice</td>\n      <td>https://nen.nipez.cz/profil/obecbudetice</td>\n      <td>11</td>\n    </tr>\n    <tr>\n      <th>2</th>\n      <td>3</td>\n      <td>Nemocnice Blansko</td>\n      <td>https://nen.nipez.cz/profil/NemocniceBlansko</td>\n      <td>13</td>\n    </tr>\n    <tr>\n      <th>3</th>\n      <td>4</td>\n      <td>Institut klinické a experimentální medicíny</td>\n      <td>https://nen.nipez.cz/profil/ikem</td>\n      <td>17</td>\n    </tr>\n    <tr>\n      <th>4</th>\n      <td>5</td>\n      <td>Hasičský záchranný sbor Jihomoravského kraje</td>\n      <td>https://nen.nipez.cz/profil/HZSJmK</td>\n      <td>24</td>\n    </tr>\n    <tr>\n      <th>5</th>\n      <td>6</td>\n      <td>Zeměměřický úřad</td>\n      <td>https://nen.nipez.cz/profil/ZU</td>\n      <td>26</td>\n    </tr>\n    <tr>\n      <th>6</th>\n      <td>7</td>\n      <td>Ředitelství silnic Zlínského kraje,příspěvková...</td>\n      <td>https://nen.nipez.cz/profil/RSZK</td>\n      <td>28</td>\n    </tr>\n    <tr>\n      <th>7</th>\n      <td>52</td>\n      <td>Hasičský záchranný sbor Středočeského kraje</td>\n      <td>https://nen.nipez.cz/profil/STC</td>\n      <td>53</td>\n    </tr>\n    <tr>\n      <th>8</th>\n      <td>53</td>\n      <td>Město Nová Včelnice</td>\n      <td>https://nen.nipez.cz/profil/novavcelnice</td>\n      <td>55</td>\n    </tr>\n    <tr>\n      <th>9</th>\n      <td>54</td>\n      <td>Město Lipník nad Bečvou</td>\n      <td>https://nen.nipez.cz/profil/mestolipnik</td>\n      <td>59</td>\n    </tr>\n  </tbody>\n</table>\n</div>"
     },
     "metadata": {},
     "output_type": "display_data"
    }
   ],
   "source": [
    "basic_stats(contract_authority)"
   ],
   "metadata": {
    "collapsed": false,
    "ExecuteTime": {
     "end_time": "2024-01-09T12:36:07.118042500Z",
     "start_time": "2024-01-09T12:36:06.934000500Z"
    }
   }
  },
  {
   "cell_type": "code",
   "execution_count": 8,
   "outputs": [
    {
     "data": {
      "text/plain": "(9245, 8)"
     },
     "metadata": {},
     "output_type": "display_data"
    },
    {
     "data": {
      "text/plain": "                id         price     price_vat   company_id  procurement_id\ncount  9245.000000  7.896000e+03  7.900000e+03  9245.000000     9245.000000\nmean   4651.419362  8.438423e+07  1.017015e+08  1183.305679     2384.309465\nstd    2676.688056  2.562514e+09  3.100194e+09  1011.543866     1351.703446\nmin       1.000000  0.000000e+00  0.000000e+00     1.000000        1.000000\n25%    2335.000000  1.804650e+04  2.163843e+04   300.000000     1239.000000\n50%    4646.000000  1.530058e+05  1.740371e+05   868.000000     2370.000000\n75%    6959.000000  1.149339e+06  1.212226e+06  1893.000000     3533.000000\nmax    9296.000000  1.145797e+11  1.386414e+11  3696.000000     4746.000000",
      "text/html": "<div>\n<style scoped>\n    .dataframe tbody tr th:only-of-type {\n        vertical-align: middle;\n    }\n\n    .dataframe tbody tr th {\n        vertical-align: top;\n    }\n\n    .dataframe thead th {\n        text-align: right;\n    }\n</style>\n<table border=\"1\" class=\"dataframe\">\n  <thead>\n    <tr style=\"text-align: right;\">\n      <th></th>\n      <th>id</th>\n      <th>price</th>\n      <th>price_vat</th>\n      <th>company_id</th>\n      <th>procurement_id</th>\n    </tr>\n  </thead>\n  <tbody>\n    <tr>\n      <th>count</th>\n      <td>9245.000000</td>\n      <td>7.896000e+03</td>\n      <td>7.900000e+03</td>\n      <td>9245.000000</td>\n      <td>9245.000000</td>\n    </tr>\n    <tr>\n      <th>mean</th>\n      <td>4651.419362</td>\n      <td>8.438423e+07</td>\n      <td>1.017015e+08</td>\n      <td>1183.305679</td>\n      <td>2384.309465</td>\n    </tr>\n    <tr>\n      <th>std</th>\n      <td>2676.688056</td>\n      <td>2.562514e+09</td>\n      <td>3.100194e+09</td>\n      <td>1011.543866</td>\n      <td>1351.703446</td>\n    </tr>\n    <tr>\n      <th>min</th>\n      <td>1.000000</td>\n      <td>0.000000e+00</td>\n      <td>0.000000e+00</td>\n      <td>1.000000</td>\n      <td>1.000000</td>\n    </tr>\n    <tr>\n      <th>25%</th>\n      <td>2335.000000</td>\n      <td>1.804650e+04</td>\n      <td>2.163843e+04</td>\n      <td>300.000000</td>\n      <td>1239.000000</td>\n    </tr>\n    <tr>\n      <th>50%</th>\n      <td>4646.000000</td>\n      <td>1.530058e+05</td>\n      <td>1.740371e+05</td>\n      <td>868.000000</td>\n      <td>2370.000000</td>\n    </tr>\n    <tr>\n      <th>75%</th>\n      <td>6959.000000</td>\n      <td>1.149339e+06</td>\n      <td>1.212226e+06</td>\n      <td>1893.000000</td>\n      <td>3533.000000</td>\n    </tr>\n    <tr>\n      <th>max</th>\n      <td>9296.000000</td>\n      <td>1.145797e+11</td>\n      <td>1.386414e+11</td>\n      <td>3696.000000</td>\n      <td>4746.000000</td>\n    </tr>\n  </tbody>\n</table>\n</div>"
     },
     "metadata": {},
     "output_type": "display_data"
    },
    {
     "name": "stdout",
     "output_type": "stream",
     "text": [
      "Missing values in %:\n"
     ]
    },
    {
     "data": {
      "text/plain": "id                              0.000000\nis_association_of_suppliers     0.000000\nis_rejected_due_too_low         0.000000\nis_withdrawn                    0.000000\nprice                          14.591671\nprice_vat                      14.548405\ncompany_id                      0.000000\nprocurement_id                  0.000000\ndtype: float64"
     },
     "metadata": {},
     "output_type": "display_data"
    },
    {
     "data": {
      "text/plain": "   id  is_association_of_suppliers  is_rejected_due_too_low  is_withdrawn  \\\n0   1                         True                    False         False   \n1   2                        False                    False         False   \n2   3                        False                    False         False   \n3   4                         True                    False         False   \n4   5                        False                    False         False   \n5   6                        False                    False         False   \n6   7                        False                    False         False   \n7   8                         True                    False         False   \n8   9                        False                    False         False   \n9  10                        False                    False         False   \n\n       price  price_vat  company_id  procurement_id  \n0       0.00       0.00           1               1  \n1    9832.02   11897.00           2               2  \n2  130000.00  130000.00           3               3  \n3       0.00       0.00           4               4  \n4    8468.00    9314.80           5               5  \n5   90525.00  109535.25           6               6  \n6       0.00       0.00           7               7  \n7       0.00       0.00           8               8  \n8  130000.00  130000.00          10              10  \n9        NaN        NaN          12              11  ",
      "text/html": "<div>\n<style scoped>\n    .dataframe tbody tr th:only-of-type {\n        vertical-align: middle;\n    }\n\n    .dataframe tbody tr th {\n        vertical-align: top;\n    }\n\n    .dataframe thead th {\n        text-align: right;\n    }\n</style>\n<table border=\"1\" class=\"dataframe\">\n  <thead>\n    <tr style=\"text-align: right;\">\n      <th></th>\n      <th>id</th>\n      <th>is_association_of_suppliers</th>\n      <th>is_rejected_due_too_low</th>\n      <th>is_withdrawn</th>\n      <th>price</th>\n      <th>price_vat</th>\n      <th>company_id</th>\n      <th>procurement_id</th>\n    </tr>\n  </thead>\n  <tbody>\n    <tr>\n      <th>0</th>\n      <td>1</td>\n      <td>True</td>\n      <td>False</td>\n      <td>False</td>\n      <td>0.00</td>\n      <td>0.00</td>\n      <td>1</td>\n      <td>1</td>\n    </tr>\n    <tr>\n      <th>1</th>\n      <td>2</td>\n      <td>False</td>\n      <td>False</td>\n      <td>False</td>\n      <td>9832.02</td>\n      <td>11897.00</td>\n      <td>2</td>\n      <td>2</td>\n    </tr>\n    <tr>\n      <th>2</th>\n      <td>3</td>\n      <td>False</td>\n      <td>False</td>\n      <td>False</td>\n      <td>130000.00</td>\n      <td>130000.00</td>\n      <td>3</td>\n      <td>3</td>\n    </tr>\n    <tr>\n      <th>3</th>\n      <td>4</td>\n      <td>True</td>\n      <td>False</td>\n      <td>False</td>\n      <td>0.00</td>\n      <td>0.00</td>\n      <td>4</td>\n      <td>4</td>\n    </tr>\n    <tr>\n      <th>4</th>\n      <td>5</td>\n      <td>False</td>\n      <td>False</td>\n      <td>False</td>\n      <td>8468.00</td>\n      <td>9314.80</td>\n      <td>5</td>\n      <td>5</td>\n    </tr>\n    <tr>\n      <th>5</th>\n      <td>6</td>\n      <td>False</td>\n      <td>False</td>\n      <td>False</td>\n      <td>90525.00</td>\n      <td>109535.25</td>\n      <td>6</td>\n      <td>6</td>\n    </tr>\n    <tr>\n      <th>6</th>\n      <td>7</td>\n      <td>False</td>\n      <td>False</td>\n      <td>False</td>\n      <td>0.00</td>\n      <td>0.00</td>\n      <td>7</td>\n      <td>7</td>\n    </tr>\n    <tr>\n      <th>7</th>\n      <td>8</td>\n      <td>True</td>\n      <td>False</td>\n      <td>False</td>\n      <td>0.00</td>\n      <td>0.00</td>\n      <td>8</td>\n      <td>8</td>\n    </tr>\n    <tr>\n      <th>8</th>\n      <td>9</td>\n      <td>False</td>\n      <td>False</td>\n      <td>False</td>\n      <td>130000.00</td>\n      <td>130000.00</td>\n      <td>10</td>\n      <td>10</td>\n    </tr>\n    <tr>\n      <th>9</th>\n      <td>10</td>\n      <td>False</td>\n      <td>False</td>\n      <td>False</td>\n      <td>NaN</td>\n      <td>NaN</td>\n      <td>12</td>\n      <td>11</td>\n    </tr>\n  </tbody>\n</table>\n</div>"
     },
     "metadata": {},
     "output_type": "display_data"
    }
   ],
   "source": [
    "basic_stats(offer)"
   ],
   "metadata": {
    "collapsed": false,
    "ExecuteTime": {
     "end_time": "2024-01-09T12:36:07.160525300Z",
     "start_time": "2024-01-09T12:36:06.947791100Z"
    }
   }
  },
  {
   "cell_type": "code",
   "execution_count": 9,
   "outputs": [
    {
     "data": {
      "text/plain": "(4675, 20)"
     },
     "metadata": {},
     "output_type": "display_data"
    },
    {
     "data": {
      "text/plain": "                id  contract_price  contract_price_vat  \\\ncount  4675.000000    4.675000e+03        4.675000e+03   \nmean   2373.381604    6.949599e+06        9.740506e+10   \nstd    1361.882448    5.382124e+07        6.659077e+12   \nmin       1.000000    0.000000e+00        0.000000e+00   \n25%    1196.500000    1.145000e+04        1.383635e+04   \n50%    2365.000000    1.147670e+05        1.346089e+05   \n75%    3534.500000    8.744530e+05        1.051344e+06   \nmax    4746.000000    1.505337e+09        4.553075e+14   \n\n       contract_price_with_amendments  contract_price_with_amendments_vat  \\\ncount                    4.675000e+03                        4.675000e+03   \nmean                     7.032596e+06                        9.740516e+10   \nstd                      5.435479e+07                        6.659077e+12   \nmin                      0.000000e+00                        0.000000e+00   \n25%                      1.145000e+04                        1.383635e+04   \n50%                      1.147670e+05                        1.346089e+05   \n75%                      8.744530e+05                        1.051344e+06   \nmax                      1.505337e+09                        4.553075e+14   \n\n       contact_person_id  contracting_authority_id  supplier_id  \ncount        4675.000000               4675.000000  4675.000000  \nmean          454.022674                 88.445775  1231.234652  \nstd           310.835333                115.396351  1048.143363  \nmin             1.000000                  1.000000     1.000000  \n25%           193.000000                  1.000000   309.500000  \n50%           415.000000                 52.000000   930.000000  \n75%           695.000000                146.500000  2016.000000  \nmax          1183.000000                484.000000  3697.000000  ",
      "text/html": "<div>\n<style scoped>\n    .dataframe tbody tr th:only-of-type {\n        vertical-align: middle;\n    }\n\n    .dataframe tbody tr th {\n        vertical-align: top;\n    }\n\n    .dataframe thead th {\n        text-align: right;\n    }\n</style>\n<table border=\"1\" class=\"dataframe\">\n  <thead>\n    <tr style=\"text-align: right;\">\n      <th></th>\n      <th>id</th>\n      <th>contract_price</th>\n      <th>contract_price_vat</th>\n      <th>contract_price_with_amendments</th>\n      <th>contract_price_with_amendments_vat</th>\n      <th>contact_person_id</th>\n      <th>contracting_authority_id</th>\n      <th>supplier_id</th>\n    </tr>\n  </thead>\n  <tbody>\n    <tr>\n      <th>count</th>\n      <td>4675.000000</td>\n      <td>4.675000e+03</td>\n      <td>4.675000e+03</td>\n      <td>4.675000e+03</td>\n      <td>4.675000e+03</td>\n      <td>4675.000000</td>\n      <td>4675.000000</td>\n      <td>4675.000000</td>\n    </tr>\n    <tr>\n      <th>mean</th>\n      <td>2373.381604</td>\n      <td>6.949599e+06</td>\n      <td>9.740506e+10</td>\n      <td>7.032596e+06</td>\n      <td>9.740516e+10</td>\n      <td>454.022674</td>\n      <td>88.445775</td>\n      <td>1231.234652</td>\n    </tr>\n    <tr>\n      <th>std</th>\n      <td>1361.882448</td>\n      <td>5.382124e+07</td>\n      <td>6.659077e+12</td>\n      <td>5.435479e+07</td>\n      <td>6.659077e+12</td>\n      <td>310.835333</td>\n      <td>115.396351</td>\n      <td>1048.143363</td>\n    </tr>\n    <tr>\n      <th>min</th>\n      <td>1.000000</td>\n      <td>0.000000e+00</td>\n      <td>0.000000e+00</td>\n      <td>0.000000e+00</td>\n      <td>0.000000e+00</td>\n      <td>1.000000</td>\n      <td>1.000000</td>\n      <td>1.000000</td>\n    </tr>\n    <tr>\n      <th>25%</th>\n      <td>1196.500000</td>\n      <td>1.145000e+04</td>\n      <td>1.383635e+04</td>\n      <td>1.145000e+04</td>\n      <td>1.383635e+04</td>\n      <td>193.000000</td>\n      <td>1.000000</td>\n      <td>309.500000</td>\n    </tr>\n    <tr>\n      <th>50%</th>\n      <td>2365.000000</td>\n      <td>1.147670e+05</td>\n      <td>1.346089e+05</td>\n      <td>1.147670e+05</td>\n      <td>1.346089e+05</td>\n      <td>415.000000</td>\n      <td>52.000000</td>\n      <td>930.000000</td>\n    </tr>\n    <tr>\n      <th>75%</th>\n      <td>3534.500000</td>\n      <td>8.744530e+05</td>\n      <td>1.051344e+06</td>\n      <td>8.744530e+05</td>\n      <td>1.051344e+06</td>\n      <td>695.000000</td>\n      <td>146.500000</td>\n      <td>2016.000000</td>\n    </tr>\n    <tr>\n      <th>max</th>\n      <td>4746.000000</td>\n      <td>1.505337e+09</td>\n      <td>4.553075e+14</td>\n      <td>1.505337e+09</td>\n      <td>4.553075e+14</td>\n      <td>1183.000000</td>\n      <td>484.000000</td>\n      <td>3697.000000</td>\n    </tr>\n  </tbody>\n</table>\n</div>"
     },
     "metadata": {},
     "output_type": "display_data"
    },
    {
     "name": "stdout",
     "output_type": "stream",
     "text": [
      "Missing values in %:\n"
     ]
    },
    {
     "data": {
      "text/plain": "id                                     0.000000\nbids_submission_deadline              52.834225\ncode_from_nipez_codelist               6.631016\ncontract_price                         0.000000\ncontract_price_vat                     0.000000\ncontract_price_with_amendments         0.000000\ncontract_price_with_amendments_vat     0.000000\ndate_of_contract_close                 0.064171\ndate_of_publication                    6.951872\nis_association_of_suppliers            0.000000\nprocurement_name                       0.000000\nname_from_nipez_codelist               6.631016\nplace_of_performance                  10.930481\npublic_contract_regime                38.374332\nsystem_number                          0.000000\ntype                                   0.085561\ntype_of_procedure                      0.000000\ncontact_person_id                      0.000000\ncontracting_authority_id               0.000000\nsupplier_id                            0.000000\ndtype: float64"
     },
     "metadata": {},
     "output_type": "display_data"
    },
    {
     "data": {
      "text/plain": "   id bids_submission_deadline code_from_nipez_codelist  contract_price  \\\n0   1                      NaN               15710000-8        38973.48   \n1   2                      NaN               50110000-9         9832.02   \n2   3                      NaN                      NaN       130000.00   \n3   4                      NaN               90511000-2        26580.00   \n4   5                      NaN               90500000-2         8468.00   \n5   6                      NaN               24612000-7        90525.00   \n6   7                      NaN               15710000-8       103600.35   \n7   8                      NaN               15710000-8        23508.00   \n8   9                      NaN               45000000-7      1078673.00   \n9  10                      NaN               03322000-2       130000.00   \n\n   contract_price_vat  contract_price_with_amendments  \\\n0            44820.00                        38973.48   \n1            11896.74                         9832.02   \n2           130000.00                       130000.00   \n3            32161.80                        26580.00   \n4             9314.80                         8468.00   \n5           109535.25                        90525.00   \n6           119141.40                       103600.35   \n7            27034.20                        23508.00   \n8          1305194.33                      1078673.00   \n9           130000.00                       130000.00   \n\n   contract_price_with_amendments_vat date_of_contract_close  \\\n0                            44820.00             2022-03-02   \n1                            11896.74             2023-11-23   \n2                           130000.00             2022-02-24   \n3                            32161.80             2022-03-07   \n4                             9314.80             2023-10-24   \n5                           109535.25             2022-03-31   \n6                           119141.40             2022-04-01   \n7                            27034.20             2022-04-28   \n8                          1305194.33             2023-11-24   \n9                           130000.00             2022-03-31   \n\n  date_of_publication  is_association_of_suppliers  \\\n0          2022-03-02                        False   \n1          2023-11-30                        False   \n2          2022-03-02                        False   \n3          2022-03-07                        False   \n4          2023-10-24                        False   \n5          2022-04-01                        False   \n6          2022-04-01                        False   \n7          2022-05-03                        False   \n8          2023-11-30                        False   \n9          2022-04-21                        False   \n\n                                    procurement_name  \\\n0                  Výzva k rámcové dohodě č. 12/2022   \n1  DP-RD Prohlídka s výměnou oleje Š-Karoq 4x4 VP...   \n2  Nákup služebního psa 24. 2. 2022 - hlídkový ob...   \n3                  Výzva k rámcové dohodě č. 14/2022   \n4          RD 2022/25 Servis mobilních toalet 16. dp   \n5                  Výzva k rámcové dohodě č. 17/2022   \n6                  Výzva k rámcové dohodě č. 21/2022   \n7                  Výzva k rámcové dohodě č. 23/2022   \n8           Oprava vodních zdrojů Budětice, Vlkonice   \n9  Nákup služebního psa 31. 3. 2021 speciální pac...   \n\n                            name_from_nipez_codelist place_of_performance  \\\n0   Průmyslová krmiva pro hospodářská a jiná zvířata       Liberecký kraj   \n1  Opravy a údržba motorových vozidel a příslušen...       Jihočeský kraj   \n2                                                NaN                  NaN   \n3                                        Sběr odpadu       Liberecký kraj   \n4     Služby související s likvidací odpadů a odpady     Středočeský kraj   \n5                                    Různé výbušniny       Liberecký kraj   \n6   Průmyslová krmiva pro hospodářská a jiná zvířata       Liberecký kraj   \n7   Průmyslová krmiva pro hospodářská a jiná zvířata       Liberecký kraj   \n8                                     Stavební práce        Plzeňský kraj   \n9                                Hospodářská zvířata                  NaN   \n\n        public_contract_regime      system_number  \\\n0                          NaN  N006/22/V00004456   \n1                          NaN  N006/23/V00033550   \n2  Small-scale public contract  N006/22/V00004676   \n3                          NaN  N006/22/V00004924   \n4                          NaN  N006/23/V00030140   \n5                          NaN  N006/22/V00007031   \n6                          NaN  N006/22/V00007590   \n7                          NaN  N006/22/V00009380   \n8  Small-scale public contract  N006/23/V00034233   \n9  Small-scale public contract  N006/22/V00009384   \n\n                                    type  \\\n0         Public contract for deliveries   \n1           Public contract for services   \n2         Public contract for deliveries   \n3           Public contract for services   \n4           Public contract for services   \n5           Public contract for services   \n6         Public contract for deliveries   \n7         Public contract for deliveries   \n8  Public contract for construction work   \n9         Public contract for deliveries   \n\n                                   type_of_procedure  contact_person_id  \\\n0  Zadávání VZ na základě rámcové dohody bez obno...                  1   \n1  Zadávání VZ na základě rámcové dohody bez obno...                  2   \n2                                     Otevřená výzva                  1   \n3  Zadávání VZ na základě rámcové dohody bez obno...                  1   \n4  Zadávání VZ na základě rámcové dohody bez obno...                  3   \n5  Zadávání VZ na základě rámcové dohody bez obno...                  1   \n6  Zadávání VZ na základě rámcové dohody bez obno...                  1   \n7  Zadávání VZ na základě rámcové dohody bez obno...                  1   \n8                                     Uzavřená výzva                  4   \n9                                     Otevřená výzva                  1   \n\n   contracting_authority_id  supplier_id  \n0                         1            1  \n1                         1            2  \n2                         1            3  \n3                         1            4  \n4                         1            5  \n5                         1            6  \n6                         1            7  \n7                         1            8  \n8                         2            9  \n9                         1           10  ",
      "text/html": "<div>\n<style scoped>\n    .dataframe tbody tr th:only-of-type {\n        vertical-align: middle;\n    }\n\n    .dataframe tbody tr th {\n        vertical-align: top;\n    }\n\n    .dataframe thead th {\n        text-align: right;\n    }\n</style>\n<table border=\"1\" class=\"dataframe\">\n  <thead>\n    <tr style=\"text-align: right;\">\n      <th></th>\n      <th>id</th>\n      <th>bids_submission_deadline</th>\n      <th>code_from_nipez_codelist</th>\n      <th>contract_price</th>\n      <th>contract_price_vat</th>\n      <th>contract_price_with_amendments</th>\n      <th>contract_price_with_amendments_vat</th>\n      <th>date_of_contract_close</th>\n      <th>date_of_publication</th>\n      <th>is_association_of_suppliers</th>\n      <th>procurement_name</th>\n      <th>name_from_nipez_codelist</th>\n      <th>place_of_performance</th>\n      <th>public_contract_regime</th>\n      <th>system_number</th>\n      <th>type</th>\n      <th>type_of_procedure</th>\n      <th>contact_person_id</th>\n      <th>contracting_authority_id</th>\n      <th>supplier_id</th>\n    </tr>\n  </thead>\n  <tbody>\n    <tr>\n      <th>0</th>\n      <td>1</td>\n      <td>NaN</td>\n      <td>15710000-8</td>\n      <td>38973.48</td>\n      <td>44820.00</td>\n      <td>38973.48</td>\n      <td>44820.00</td>\n      <td>2022-03-02</td>\n      <td>2022-03-02</td>\n      <td>False</td>\n      <td>Výzva k rámcové dohodě č. 12/2022</td>\n      <td>Průmyslová krmiva pro hospodářská a jiná zvířata</td>\n      <td>Liberecký kraj</td>\n      <td>NaN</td>\n      <td>N006/22/V00004456</td>\n      <td>Public contract for deliveries</td>\n      <td>Zadávání VZ na základě rámcové dohody bez obno...</td>\n      <td>1</td>\n      <td>1</td>\n      <td>1</td>\n    </tr>\n    <tr>\n      <th>1</th>\n      <td>2</td>\n      <td>NaN</td>\n      <td>50110000-9</td>\n      <td>9832.02</td>\n      <td>11896.74</td>\n      <td>9832.02</td>\n      <td>11896.74</td>\n      <td>2023-11-23</td>\n      <td>2023-11-30</td>\n      <td>False</td>\n      <td>DP-RD Prohlídka s výměnou oleje Š-Karoq 4x4 VP...</td>\n      <td>Opravy a údržba motorových vozidel a příslušen...</td>\n      <td>Jihočeský kraj</td>\n      <td>NaN</td>\n      <td>N006/23/V00033550</td>\n      <td>Public contract for services</td>\n      <td>Zadávání VZ na základě rámcové dohody bez obno...</td>\n      <td>2</td>\n      <td>1</td>\n      <td>2</td>\n    </tr>\n    <tr>\n      <th>2</th>\n      <td>3</td>\n      <td>NaN</td>\n      <td>NaN</td>\n      <td>130000.00</td>\n      <td>130000.00</td>\n      <td>130000.00</td>\n      <td>130000.00</td>\n      <td>2022-02-24</td>\n      <td>2022-03-02</td>\n      <td>False</td>\n      <td>Nákup služebního psa 24. 2. 2022 - hlídkový ob...</td>\n      <td>NaN</td>\n      <td>NaN</td>\n      <td>Small-scale public contract</td>\n      <td>N006/22/V00004676</td>\n      <td>Public contract for deliveries</td>\n      <td>Otevřená výzva</td>\n      <td>1</td>\n      <td>1</td>\n      <td>3</td>\n    </tr>\n    <tr>\n      <th>3</th>\n      <td>4</td>\n      <td>NaN</td>\n      <td>90511000-2</td>\n      <td>26580.00</td>\n      <td>32161.80</td>\n      <td>26580.00</td>\n      <td>32161.80</td>\n      <td>2022-03-07</td>\n      <td>2022-03-07</td>\n      <td>False</td>\n      <td>Výzva k rámcové dohodě č. 14/2022</td>\n      <td>Sběr odpadu</td>\n      <td>Liberecký kraj</td>\n      <td>NaN</td>\n      <td>N006/22/V00004924</td>\n      <td>Public contract for services</td>\n      <td>Zadávání VZ na základě rámcové dohody bez obno...</td>\n      <td>1</td>\n      <td>1</td>\n      <td>4</td>\n    </tr>\n    <tr>\n      <th>4</th>\n      <td>5</td>\n      <td>NaN</td>\n      <td>90500000-2</td>\n      <td>8468.00</td>\n      <td>9314.80</td>\n      <td>8468.00</td>\n      <td>9314.80</td>\n      <td>2023-10-24</td>\n      <td>2023-10-24</td>\n      <td>False</td>\n      <td>RD 2022/25 Servis mobilních toalet 16. dp</td>\n      <td>Služby související s likvidací odpadů a odpady</td>\n      <td>Středočeský kraj</td>\n      <td>NaN</td>\n      <td>N006/23/V00030140</td>\n      <td>Public contract for services</td>\n      <td>Zadávání VZ na základě rámcové dohody bez obno...</td>\n      <td>3</td>\n      <td>1</td>\n      <td>5</td>\n    </tr>\n    <tr>\n      <th>5</th>\n      <td>6</td>\n      <td>NaN</td>\n      <td>24612000-7</td>\n      <td>90525.00</td>\n      <td>109535.25</td>\n      <td>90525.00</td>\n      <td>109535.25</td>\n      <td>2022-03-31</td>\n      <td>2022-04-01</td>\n      <td>False</td>\n      <td>Výzva k rámcové dohodě č. 17/2022</td>\n      <td>Různé výbušniny</td>\n      <td>Liberecký kraj</td>\n      <td>NaN</td>\n      <td>N006/22/V00007031</td>\n      <td>Public contract for services</td>\n      <td>Zadávání VZ na základě rámcové dohody bez obno...</td>\n      <td>1</td>\n      <td>1</td>\n      <td>6</td>\n    </tr>\n    <tr>\n      <th>6</th>\n      <td>7</td>\n      <td>NaN</td>\n      <td>15710000-8</td>\n      <td>103600.35</td>\n      <td>119141.40</td>\n      <td>103600.35</td>\n      <td>119141.40</td>\n      <td>2022-04-01</td>\n      <td>2022-04-01</td>\n      <td>False</td>\n      <td>Výzva k rámcové dohodě č. 21/2022</td>\n      <td>Průmyslová krmiva pro hospodářská a jiná zvířata</td>\n      <td>Liberecký kraj</td>\n      <td>NaN</td>\n      <td>N006/22/V00007590</td>\n      <td>Public contract for deliveries</td>\n      <td>Zadávání VZ na základě rámcové dohody bez obno...</td>\n      <td>1</td>\n      <td>1</td>\n      <td>7</td>\n    </tr>\n    <tr>\n      <th>7</th>\n      <td>8</td>\n      <td>NaN</td>\n      <td>15710000-8</td>\n      <td>23508.00</td>\n      <td>27034.20</td>\n      <td>23508.00</td>\n      <td>27034.20</td>\n      <td>2022-04-28</td>\n      <td>2022-05-03</td>\n      <td>False</td>\n      <td>Výzva k rámcové dohodě č. 23/2022</td>\n      <td>Průmyslová krmiva pro hospodářská a jiná zvířata</td>\n      <td>Liberecký kraj</td>\n      <td>NaN</td>\n      <td>N006/22/V00009380</td>\n      <td>Public contract for deliveries</td>\n      <td>Zadávání VZ na základě rámcové dohody bez obno...</td>\n      <td>1</td>\n      <td>1</td>\n      <td>8</td>\n    </tr>\n    <tr>\n      <th>8</th>\n      <td>9</td>\n      <td>NaN</td>\n      <td>45000000-7</td>\n      <td>1078673.00</td>\n      <td>1305194.33</td>\n      <td>1078673.00</td>\n      <td>1305194.33</td>\n      <td>2023-11-24</td>\n      <td>2023-11-30</td>\n      <td>False</td>\n      <td>Oprava vodních zdrojů Budětice, Vlkonice</td>\n      <td>Stavební práce</td>\n      <td>Plzeňský kraj</td>\n      <td>Small-scale public contract</td>\n      <td>N006/23/V00034233</td>\n      <td>Public contract for construction work</td>\n      <td>Uzavřená výzva</td>\n      <td>4</td>\n      <td>2</td>\n      <td>9</td>\n    </tr>\n    <tr>\n      <th>9</th>\n      <td>10</td>\n      <td>NaN</td>\n      <td>03322000-2</td>\n      <td>130000.00</td>\n      <td>130000.00</td>\n      <td>130000.00</td>\n      <td>130000.00</td>\n      <td>2022-03-31</td>\n      <td>2022-04-21</td>\n      <td>False</td>\n      <td>Nákup služebního psa 31. 3. 2021 speciální pac...</td>\n      <td>Hospodářská zvířata</td>\n      <td>NaN</td>\n      <td>Small-scale public contract</td>\n      <td>N006/22/V00009384</td>\n      <td>Public contract for deliveries</td>\n      <td>Otevřená výzva</td>\n      <td>1</td>\n      <td>1</td>\n      <td>10</td>\n    </tr>\n  </tbody>\n</table>\n</div>"
     },
     "metadata": {},
     "output_type": "display_data"
    }
   ],
   "source": [
    "basic_stats(procurement)"
   ],
   "metadata": {
    "collapsed": false,
    "ExecuteTime": {
     "end_time": "2024-01-09T12:36:07.187936900Z",
     "start_time": "2024-01-09T12:36:06.971278500Z"
    }
   }
  },
  {
   "cell_type": "code",
   "execution_count": 10,
   "outputs": [],
   "source": [
    "num_of_offers = (offer['procurement_id'].value_counts()).to_frame()\n",
    "num_of_offers.rename(columns={\"count\": \"number_of_offers\"}, inplace=True)"
   ],
   "metadata": {
    "collapsed": false,
    "ExecuteTime": {
     "end_time": "2024-01-09T12:36:07.195711400Z",
     "start_time": "2024-01-09T12:36:07.004039700Z"
    }
   }
  },
  {
   "cell_type": "code",
   "execution_count": 11,
   "outputs": [],
   "source": [
    "offer_with_counts = pd.merge(offer, num_of_offers, on='procurement_id', how='outer')"
   ],
   "metadata": {
    "collapsed": false,
    "ExecuteTime": {
     "end_time": "2024-01-09T12:36:07.213021400Z",
     "start_time": "2024-01-09T12:36:07.009664200Z"
    }
   }
  },
  {
   "cell_type": "code",
   "execution_count": 12,
   "outputs": [],
   "source": [
    "df_for_pred = pd.merge(offer_with_counts, procurement, left_on='procurement_id', right_on='id', how='left')"
   ],
   "metadata": {
    "collapsed": false,
    "ExecuteTime": {
     "end_time": "2024-01-09T12:36:07.220738300Z",
     "start_time": "2024-01-09T12:36:07.015601100Z"
    }
   }
  },
  {
   "cell_type": "code",
   "execution_count": 13,
   "outputs": [],
   "source": [
    "df_for_pred['is_winner'] = (df_for_pred['company_id'] == df_for_pred['supplier_id'])"
   ],
   "metadata": {
    "collapsed": false,
    "ExecuteTime": {
     "end_time": "2024-01-09T12:36:07.250482Z",
     "start_time": "2024-01-09T12:36:07.024448500Z"
    }
   }
  },
  {
   "cell_type": "code",
   "execution_count": 14,
   "outputs": [],
   "source": [
    "df_for_pred.drop(columns=['id_y', 'procurement_id'], inplace=True)"
   ],
   "metadata": {
    "collapsed": false,
    "ExecuteTime": {
     "end_time": "2024-01-09T12:36:07.271916800Z",
     "start_time": "2024-01-09T12:36:07.030210Z"
    }
   }
  },
  {
   "cell_type": "code",
   "execution_count": 15,
   "outputs": [],
   "source": [
    "df_for_pred = pd.merge(df_for_pred, company, left_on='company_id', right_on='id', how='left')"
   ],
   "metadata": {
    "collapsed": false,
    "ExecuteTime": {
     "end_time": "2024-01-09T12:36:07.308329100Z",
     "start_time": "2024-01-09T12:36:07.035949600Z"
    }
   }
  },
  {
   "cell_type": "code",
   "execution_count": 16,
   "outputs": [],
   "source": [
    "df_for_pred.drop(columns=['id'], inplace=True)"
   ],
   "metadata": {
    "collapsed": false,
    "ExecuteTime": {
     "end_time": "2024-01-09T12:36:07.413303100Z",
     "start_time": "2024-01-09T12:36:07.045104700Z"
    }
   }
  },
  {
   "cell_type": "code",
   "execution_count": 17,
   "outputs": [],
   "source": [
    "df_for_pred.drop(columns=['supplier_id', 'id_x', 'procurement_name', 'name_from_nipez_codelist', 'system_number', 'vat_id_number', 'company_name'], inplace=True)"
   ],
   "metadata": {
    "collapsed": false,
    "ExecuteTime": {
     "end_time": "2024-01-09T12:36:07.456117200Z",
     "start_time": "2024-01-09T12:36:07.050390300Z"
    }
   }
  },
  {
   "cell_type": "code",
   "execution_count": 18,
   "outputs": [],
   "source": [
    "df_for_pred = pd.merge(df_for_pred, contract_authority, left_on='contracting_authority_id', right_on='id', how='left')"
   ],
   "metadata": {
    "collapsed": false,
    "ExecuteTime": {
     "end_time": "2024-01-09T12:36:07.493859900Z",
     "start_time": "2024-01-09T12:36:07.057675700Z"
    }
   }
  },
  {
   "cell_type": "code",
   "execution_count": 19,
   "outputs": [],
   "source": [
    "import numpy as np\n",
    "from numpy import pi, sqrt\n",
    "from math import sin, cos, atan2, radians"
   ],
   "metadata": {
    "collapsed": false,
    "ExecuteTime": {
     "end_time": "2024-01-09T12:36:07.497139800Z",
     "start_time": "2024-01-09T12:36:07.065099100Z"
    }
   }
  },
  {
   "cell_type": "code",
   "execution_count": 20,
   "outputs": [],
   "source": [
    "def get_distance(id_company, id_contracter):\n",
    "    company_address = address.loc[address['id'] == id_company]\n",
    "    contracter_address = address.loc[address['id'] == id_contracter]\n",
    "    try:\n",
    "        lat1 = radians(company_address.latitude.iloc[0])\n",
    "        lat2 = radians(contracter_address.latitude.iloc[0])\n",
    "        lon1 = radians(company_address.longitude.iloc[0])\n",
    "        lon2 = radians(contracter_address.longitude.iloc[0])\n",
    "        R = 6371\n",
    "        diff_lat = abs(lat1 - lat2)\n",
    "        diff_log = abs(lon1 - lon2)\n",
    "        a = sin(diff_lat/2)**2 + cos(lat1) * cos(lat2) * sin(diff_log/2)**2\n",
    "        c = 2 * atan2(sqrt(a), sqrt(1 - a))\n",
    "        return R * c\n",
    "    except:\n",
    "        return np.NAN"
   ],
   "metadata": {
    "collapsed": false,
    "ExecuteTime": {
     "end_time": "2024-01-09T12:36:07.520415Z",
     "start_time": "2024-01-09T12:36:07.071086400Z"
    }
   }
  },
  {
   "cell_type": "code",
   "execution_count": 21,
   "outputs": [
    {
     "data": {
      "text/plain": "nan"
     },
     "metadata": {},
     "output_type": "display_data"
    }
   ],
   "source": [
    "display(get_distance(1, 5))"
   ],
   "metadata": {
    "collapsed": false,
    "ExecuteTime": {
     "end_time": "2024-01-09T12:36:07.522863Z",
     "start_time": "2024-01-09T12:36:07.073423300Z"
    }
   }
  },
  {
   "cell_type": "code",
   "execution_count": 22,
   "outputs": [
    {
     "data": {
      "text/plain": "        id building_number                city country_code  \\\n0        1             NaN               Praha          NaN   \n1        2               1               Praha           CZ   \n2        3             NaN    České Budějovice          NaN   \n3        4             NaN                 NaN          NaN   \n4        5              91  Jablonec nad Nisou           CZ   \n...    ...             ...                 ...          ...   \n3573  3611             NaN          Nové Sedlo          NaN   \n3574  3612               9             Jeseník           CZ   \n3575  3613              20               Třešť           CZ   \n3576  3614              10        Karlovy Vary           CZ   \n3577  3615               7               Praha           CZ   \n\n      land_registry_number   latitude  longitude postal_code        street  \n0                    682.0        NaN        NaN       19016    Zalešanská  \n1                    221.0  50.095041  14.403276       16000     Tychonova  \n2                      NaN        NaN        NaN       37005           NaN  \n3                      NaN        NaN        NaN         NaN           NaN  \n4                   4588.0  50.731404  15.174121       46601     Smetanova  \n...                    ...        ...        ...         ...           ...  \n3573                 528.0        NaN        NaN       35734           NaN  \n3574                 449.0  50.218411  17.189013       79001  Za Podjezdem  \n3575                   3.0  49.292500  15.484094       58901     5. května  \n3576                 264.0  50.247251  12.833518       36017      U Hřiště  \n3577                 373.0  50.102403  14.424936       17000    U akademie  \n\n[3578 rows x 9 columns]",
      "text/html": "<div>\n<style scoped>\n    .dataframe tbody tr th:only-of-type {\n        vertical-align: middle;\n    }\n\n    .dataframe tbody tr th {\n        vertical-align: top;\n    }\n\n    .dataframe thead th {\n        text-align: right;\n    }\n</style>\n<table border=\"1\" class=\"dataframe\">\n  <thead>\n    <tr style=\"text-align: right;\">\n      <th></th>\n      <th>id</th>\n      <th>building_number</th>\n      <th>city</th>\n      <th>country_code</th>\n      <th>land_registry_number</th>\n      <th>latitude</th>\n      <th>longitude</th>\n      <th>postal_code</th>\n      <th>street</th>\n    </tr>\n  </thead>\n  <tbody>\n    <tr>\n      <th>0</th>\n      <td>1</td>\n      <td>NaN</td>\n      <td>Praha</td>\n      <td>NaN</td>\n      <td>682.0</td>\n      <td>NaN</td>\n      <td>NaN</td>\n      <td>19016</td>\n      <td>Zalešanská</td>\n    </tr>\n    <tr>\n      <th>1</th>\n      <td>2</td>\n      <td>1</td>\n      <td>Praha</td>\n      <td>CZ</td>\n      <td>221.0</td>\n      <td>50.095041</td>\n      <td>14.403276</td>\n      <td>16000</td>\n      <td>Tychonova</td>\n    </tr>\n    <tr>\n      <th>2</th>\n      <td>3</td>\n      <td>NaN</td>\n      <td>České Budějovice</td>\n      <td>NaN</td>\n      <td>NaN</td>\n      <td>NaN</td>\n      <td>NaN</td>\n      <td>37005</td>\n      <td>NaN</td>\n    </tr>\n    <tr>\n      <th>3</th>\n      <td>4</td>\n      <td>NaN</td>\n      <td>NaN</td>\n      <td>NaN</td>\n      <td>NaN</td>\n      <td>NaN</td>\n      <td>NaN</td>\n      <td>NaN</td>\n      <td>NaN</td>\n    </tr>\n    <tr>\n      <th>4</th>\n      <td>5</td>\n      <td>91</td>\n      <td>Jablonec nad Nisou</td>\n      <td>CZ</td>\n      <td>4588.0</td>\n      <td>50.731404</td>\n      <td>15.174121</td>\n      <td>46601</td>\n      <td>Smetanova</td>\n    </tr>\n    <tr>\n      <th>...</th>\n      <td>...</td>\n      <td>...</td>\n      <td>...</td>\n      <td>...</td>\n      <td>...</td>\n      <td>...</td>\n      <td>...</td>\n      <td>...</td>\n      <td>...</td>\n    </tr>\n    <tr>\n      <th>3573</th>\n      <td>3611</td>\n      <td>NaN</td>\n      <td>Nové Sedlo</td>\n      <td>NaN</td>\n      <td>528.0</td>\n      <td>NaN</td>\n      <td>NaN</td>\n      <td>35734</td>\n      <td>NaN</td>\n    </tr>\n    <tr>\n      <th>3574</th>\n      <td>3612</td>\n      <td>9</td>\n      <td>Jeseník</td>\n      <td>CZ</td>\n      <td>449.0</td>\n      <td>50.218411</td>\n      <td>17.189013</td>\n      <td>79001</td>\n      <td>Za Podjezdem</td>\n    </tr>\n    <tr>\n      <th>3575</th>\n      <td>3613</td>\n      <td>20</td>\n      <td>Třešť</td>\n      <td>CZ</td>\n      <td>3.0</td>\n      <td>49.292500</td>\n      <td>15.484094</td>\n      <td>58901</td>\n      <td>5. května</td>\n    </tr>\n    <tr>\n      <th>3576</th>\n      <td>3614</td>\n      <td>10</td>\n      <td>Karlovy Vary</td>\n      <td>CZ</td>\n      <td>264.0</td>\n      <td>50.247251</td>\n      <td>12.833518</td>\n      <td>36017</td>\n      <td>U Hřiště</td>\n    </tr>\n    <tr>\n      <th>3577</th>\n      <td>3615</td>\n      <td>7</td>\n      <td>Praha</td>\n      <td>CZ</td>\n      <td>373.0</td>\n      <td>50.102403</td>\n      <td>14.424936</td>\n      <td>17000</td>\n      <td>U akademie</td>\n    </tr>\n  </tbody>\n</table>\n<p>3578 rows × 9 columns</p>\n</div>"
     },
     "execution_count": 22,
     "metadata": {},
     "output_type": "execute_result"
    }
   ],
   "source": [
    "address"
   ],
   "metadata": {
    "collapsed": false,
    "ExecuteTime": {
     "end_time": "2024-01-09T12:36:07.547836600Z",
     "start_time": "2024-01-09T12:36:07.079887400Z"
    }
   }
  },
  {
   "cell_type": "code",
   "execution_count": 23,
   "outputs": [
    {
     "data": {
      "text/plain": "      is_association_of_suppliers_x  is_rejected_due_too_low  is_withdrawn  \\\n0                              True                    False         False   \n1                             False                    False         False   \n2                             False                    False         False   \n3                              True                    False         False   \n4                             False                    False         False   \n...                             ...                      ...           ...   \n9240                          False                    False         False   \n9241                          False                    False         False   \n9242                          False                    False         False   \n9243                          False                    False         False   \n9244                          False                    False         False   \n\n           price   price_vat  company_id  number_of_offers  \\\n0           0.00        0.00           1                 1   \n1        9832.02    11897.00           2                 1   \n2      130000.00   130000.00           3                 1   \n3           0.00        0.00           4                 1   \n4        8468.00     9314.80           5                 1   \n...          ...         ...         ...               ...   \n9240   138514.50   167602.55         536                 2   \n9241    75752.00    91659.92         118                 2   \n9242  1184815.00  1433626.15         283                 3   \n9243  1189575.00  1439385.75         263                 3   \n9244  1221125.00  1477561.25         346                 3   \n\n     bids_submission_deadline code_from_nipez_codelist  contract_price  ...  \\\n0                         NaN               15710000-8        38973.48  ...   \n1                         NaN               50110000-9         9832.02  ...   \n2                         NaN                      NaN       130000.00  ...   \n3                         NaN               90511000-2        26580.00  ...   \n4                         NaN               90500000-2         8468.00  ...   \n...                       ...                      ...             ...  ...   \n9240                      NaN               39141000-2        75752.00  ...   \n9241                      NaN               39141000-2        75752.00  ...   \n9242                      NaN               30213100-6      1184815.00  ...   \n9243                      NaN               30213100-6      1184815.00  ...   \n9244                      NaN               30213100-6      1184815.00  ...   \n\n                                      type_of_procedure  contact_person_id  \\\n0     Zadávání VZ na základě rámcové dohody bez obno...                  1   \n1     Zadávání VZ na základě rámcové dohody bez obno...                  2   \n2                                        Otevřená výzva                  1   \n3     Zadávání VZ na základě rámcové dohody bez obno...                  1   \n4     Zadávání VZ na základě rámcové dohody bez obno...                  3   \n...                                                 ...                ...   \n9240  Zadávání VZ na základě rámcové dohody s obnove...                647   \n9241  Zadávání VZ na základě rámcové dohody s obnove...                647   \n9242  Zadávání VZ na základě rámcové dohody s obnove...               1143   \n9243  Zadávání VZ na základě rámcové dohody s obnove...               1143   \n9244  Zadávání VZ na základě rámcové dohody s obnove...               1143   \n\n      contracting_authority_id is_winner organisation_id  address_id_x   id  \\\n0                            1      True      66442460.0             1    1   \n1                            1      True      26031868.0             3    1   \n2                            1      True       3566358.0             4    1   \n3                            1      True      62738542.0             5    1   \n4                            1      True      47538856.0             6    1   \n...                        ...       ...             ...           ...  ...   \n9240                       261     False       5960657.0           597  261   \n9241                       261      True      45790604.0           129  261   \n9242                       110      True      25403435.0           303  110   \n9243                       110     False        174939.0           283  110   \n9244                       110     False      45194416.0           379  110   \n\n                     contracting_authority_name  \\\n0                           Ministerstvo obrany   \n1                           Ministerstvo obrany   \n2                           Ministerstvo obrany   \n3                           Ministerstvo obrany   \n4                           Ministerstvo obrany   \n...                                         ...   \n9240  Hasičský záchranný sbor Libereckého kraje   \n9241  Hasičský záchranný sbor Libereckého kraje   \n9242                        Ministerstvo vnitra   \n9243                        Ministerstvo vnitra   \n9244                        Ministerstvo vnitra   \n\n                                     url address_id_y  \n0         https://nen.nipez.cz/profil/MO            2  \n1         https://nen.nipez.cz/profil/MO            2  \n2         https://nen.nipez.cz/profil/MO            2  \n3         https://nen.nipez.cz/profil/MO            2  \n4         https://nen.nipez.cz/profil/MO            2  \n...                                  ...          ...  \n9240  https://nen.nipez.cz/profil/HZS_LK         1553  \n9241  https://nen.nipez.cz/profil/HZS_LK         1553  \n9242    https://nen.nipez.cz/profil/MVCR          441  \n9243    https://nen.nipez.cz/profil/MVCR          441  \n9244    https://nen.nipez.cz/profil/MVCR          441  \n\n[9245 rows x 29 columns]",
      "text/html": "<div>\n<style scoped>\n    .dataframe tbody tr th:only-of-type {\n        vertical-align: middle;\n    }\n\n    .dataframe tbody tr th {\n        vertical-align: top;\n    }\n\n    .dataframe thead th {\n        text-align: right;\n    }\n</style>\n<table border=\"1\" class=\"dataframe\">\n  <thead>\n    <tr style=\"text-align: right;\">\n      <th></th>\n      <th>is_association_of_suppliers_x</th>\n      <th>is_rejected_due_too_low</th>\n      <th>is_withdrawn</th>\n      <th>price</th>\n      <th>price_vat</th>\n      <th>company_id</th>\n      <th>number_of_offers</th>\n      <th>bids_submission_deadline</th>\n      <th>code_from_nipez_codelist</th>\n      <th>contract_price</th>\n      <th>...</th>\n      <th>type_of_procedure</th>\n      <th>contact_person_id</th>\n      <th>contracting_authority_id</th>\n      <th>is_winner</th>\n      <th>organisation_id</th>\n      <th>address_id_x</th>\n      <th>id</th>\n      <th>contracting_authority_name</th>\n      <th>url</th>\n      <th>address_id_y</th>\n    </tr>\n  </thead>\n  <tbody>\n    <tr>\n      <th>0</th>\n      <td>True</td>\n      <td>False</td>\n      <td>False</td>\n      <td>0.00</td>\n      <td>0.00</td>\n      <td>1</td>\n      <td>1</td>\n      <td>NaN</td>\n      <td>15710000-8</td>\n      <td>38973.48</td>\n      <td>...</td>\n      <td>Zadávání VZ na základě rámcové dohody bez obno...</td>\n      <td>1</td>\n      <td>1</td>\n      <td>True</td>\n      <td>66442460.0</td>\n      <td>1</td>\n      <td>1</td>\n      <td>Ministerstvo obrany</td>\n      <td>https://nen.nipez.cz/profil/MO</td>\n      <td>2</td>\n    </tr>\n    <tr>\n      <th>1</th>\n      <td>False</td>\n      <td>False</td>\n      <td>False</td>\n      <td>9832.02</td>\n      <td>11897.00</td>\n      <td>2</td>\n      <td>1</td>\n      <td>NaN</td>\n      <td>50110000-9</td>\n      <td>9832.02</td>\n      <td>...</td>\n      <td>Zadávání VZ na základě rámcové dohody bez obno...</td>\n      <td>2</td>\n      <td>1</td>\n      <td>True</td>\n      <td>26031868.0</td>\n      <td>3</td>\n      <td>1</td>\n      <td>Ministerstvo obrany</td>\n      <td>https://nen.nipez.cz/profil/MO</td>\n      <td>2</td>\n    </tr>\n    <tr>\n      <th>2</th>\n      <td>False</td>\n      <td>False</td>\n      <td>False</td>\n      <td>130000.00</td>\n      <td>130000.00</td>\n      <td>3</td>\n      <td>1</td>\n      <td>NaN</td>\n      <td>NaN</td>\n      <td>130000.00</td>\n      <td>...</td>\n      <td>Otevřená výzva</td>\n      <td>1</td>\n      <td>1</td>\n      <td>True</td>\n      <td>3566358.0</td>\n      <td>4</td>\n      <td>1</td>\n      <td>Ministerstvo obrany</td>\n      <td>https://nen.nipez.cz/profil/MO</td>\n      <td>2</td>\n    </tr>\n    <tr>\n      <th>3</th>\n      <td>True</td>\n      <td>False</td>\n      <td>False</td>\n      <td>0.00</td>\n      <td>0.00</td>\n      <td>4</td>\n      <td>1</td>\n      <td>NaN</td>\n      <td>90511000-2</td>\n      <td>26580.00</td>\n      <td>...</td>\n      <td>Zadávání VZ na základě rámcové dohody bez obno...</td>\n      <td>1</td>\n      <td>1</td>\n      <td>True</td>\n      <td>62738542.0</td>\n      <td>5</td>\n      <td>1</td>\n      <td>Ministerstvo obrany</td>\n      <td>https://nen.nipez.cz/profil/MO</td>\n      <td>2</td>\n    </tr>\n    <tr>\n      <th>4</th>\n      <td>False</td>\n      <td>False</td>\n      <td>False</td>\n      <td>8468.00</td>\n      <td>9314.80</td>\n      <td>5</td>\n      <td>1</td>\n      <td>NaN</td>\n      <td>90500000-2</td>\n      <td>8468.00</td>\n      <td>...</td>\n      <td>Zadávání VZ na základě rámcové dohody bez obno...</td>\n      <td>3</td>\n      <td>1</td>\n      <td>True</td>\n      <td>47538856.0</td>\n      <td>6</td>\n      <td>1</td>\n      <td>Ministerstvo obrany</td>\n      <td>https://nen.nipez.cz/profil/MO</td>\n      <td>2</td>\n    </tr>\n    <tr>\n      <th>...</th>\n      <td>...</td>\n      <td>...</td>\n      <td>...</td>\n      <td>...</td>\n      <td>...</td>\n      <td>...</td>\n      <td>...</td>\n      <td>...</td>\n      <td>...</td>\n      <td>...</td>\n      <td>...</td>\n      <td>...</td>\n      <td>...</td>\n      <td>...</td>\n      <td>...</td>\n      <td>...</td>\n      <td>...</td>\n      <td>...</td>\n      <td>...</td>\n      <td>...</td>\n      <td>...</td>\n    </tr>\n    <tr>\n      <th>9240</th>\n      <td>False</td>\n      <td>False</td>\n      <td>False</td>\n      <td>138514.50</td>\n      <td>167602.55</td>\n      <td>536</td>\n      <td>2</td>\n      <td>NaN</td>\n      <td>39141000-2</td>\n      <td>75752.00</td>\n      <td>...</td>\n      <td>Zadávání VZ na základě rámcové dohody s obnove...</td>\n      <td>647</td>\n      <td>261</td>\n      <td>False</td>\n      <td>5960657.0</td>\n      <td>597</td>\n      <td>261</td>\n      <td>Hasičský záchranný sbor Libereckého kraje</td>\n      <td>https://nen.nipez.cz/profil/HZS_LK</td>\n      <td>1553</td>\n    </tr>\n    <tr>\n      <th>9241</th>\n      <td>False</td>\n      <td>False</td>\n      <td>False</td>\n      <td>75752.00</td>\n      <td>91659.92</td>\n      <td>118</td>\n      <td>2</td>\n      <td>NaN</td>\n      <td>39141000-2</td>\n      <td>75752.00</td>\n      <td>...</td>\n      <td>Zadávání VZ na základě rámcové dohody s obnove...</td>\n      <td>647</td>\n      <td>261</td>\n      <td>True</td>\n      <td>45790604.0</td>\n      <td>129</td>\n      <td>261</td>\n      <td>Hasičský záchranný sbor Libereckého kraje</td>\n      <td>https://nen.nipez.cz/profil/HZS_LK</td>\n      <td>1553</td>\n    </tr>\n    <tr>\n      <th>9242</th>\n      <td>False</td>\n      <td>False</td>\n      <td>False</td>\n      <td>1184815.00</td>\n      <td>1433626.15</td>\n      <td>283</td>\n      <td>3</td>\n      <td>NaN</td>\n      <td>30213100-6</td>\n      <td>1184815.00</td>\n      <td>...</td>\n      <td>Zadávání VZ na základě rámcové dohody s obnove...</td>\n      <td>1143</td>\n      <td>110</td>\n      <td>True</td>\n      <td>25403435.0</td>\n      <td>303</td>\n      <td>110</td>\n      <td>Ministerstvo vnitra</td>\n      <td>https://nen.nipez.cz/profil/MVCR</td>\n      <td>441</td>\n    </tr>\n    <tr>\n      <th>9243</th>\n      <td>False</td>\n      <td>False</td>\n      <td>False</td>\n      <td>1189575.00</td>\n      <td>1439385.75</td>\n      <td>263</td>\n      <td>3</td>\n      <td>NaN</td>\n      <td>30213100-6</td>\n      <td>1184815.00</td>\n      <td>...</td>\n      <td>Zadávání VZ na základě rámcové dohody s obnove...</td>\n      <td>1143</td>\n      <td>110</td>\n      <td>False</td>\n      <td>174939.0</td>\n      <td>283</td>\n      <td>110</td>\n      <td>Ministerstvo vnitra</td>\n      <td>https://nen.nipez.cz/profil/MVCR</td>\n      <td>441</td>\n    </tr>\n    <tr>\n      <th>9244</th>\n      <td>False</td>\n      <td>False</td>\n      <td>False</td>\n      <td>1221125.00</td>\n      <td>1477561.25</td>\n      <td>346</td>\n      <td>3</td>\n      <td>NaN</td>\n      <td>30213100-6</td>\n      <td>1184815.00</td>\n      <td>...</td>\n      <td>Zadávání VZ na základě rámcové dohody s obnove...</td>\n      <td>1143</td>\n      <td>110</td>\n      <td>False</td>\n      <td>45194416.0</td>\n      <td>379</td>\n      <td>110</td>\n      <td>Ministerstvo vnitra</td>\n      <td>https://nen.nipez.cz/profil/MVCR</td>\n      <td>441</td>\n    </tr>\n  </tbody>\n</table>\n<p>9245 rows × 29 columns</p>\n</div>"
     },
     "execution_count": 23,
     "metadata": {},
     "output_type": "execute_result"
    }
   ],
   "source": [
    "df_for_pred"
   ],
   "metadata": {
    "collapsed": false,
    "ExecuteTime": {
     "end_time": "2024-01-09T12:36:07.551067600Z",
     "start_time": "2024-01-09T12:36:07.089218400Z"
    }
   }
  },
  {
   "cell_type": "code",
   "execution_count": 24,
   "outputs": [
    {
     "data": {
      "text/plain": "148.7175084025652"
     },
     "metadata": {},
     "output_type": "display_data"
    }
   ],
   "source": [
    "lat1 = radians(50.0802361)\n",
    "lat2 = radians(50.5874192)\n",
    "lon1 = radians(14.3913172)\n",
    "lon2 = radians(16.3301897)\n",
    "R = 6371\n",
    "diff_lat = abs(lat1 - lat2)\n",
    "diff_log = abs(lon1 - lon2)\n",
    "a = sin(diff_lat/2)**2 + cos(lat1) * cos(lat2) * sin(diff_log/2)**2\n",
    "c = 2 * atan2(sqrt(a), sqrt(1 - a))\n",
    "display(R * c)"
   ],
   "metadata": {
    "collapsed": false,
    "ExecuteTime": {
     "end_time": "2024-01-09T12:36:07.572066300Z",
     "start_time": "2024-01-09T12:36:07.111399800Z"
    }
   }
  },
  {
   "cell_type": "code",
   "execution_count": 25,
   "outputs": [],
   "source": [
    "df_for_pred.loc[:,'distance'] = df_for_pred.apply(lambda x: get_distance(x['address_id_x'], x['address_id_y']), axis =1)"
   ],
   "metadata": {
    "collapsed": false,
    "ExecuteTime": {
     "end_time": "2024-01-09T12:36:11.244380900Z",
     "start_time": "2024-01-09T12:36:07.180607900Z"
    }
   }
  },
  {
   "cell_type": "code",
   "execution_count": 26,
   "outputs": [],
   "source": [
    "df_for_pred.drop(columns=['id', 'address_id_x', 'address_id_y', 'url', 'contracting_authority_name'], inplace=True)"
   ],
   "metadata": {
    "collapsed": false,
    "ExecuteTime": {
     "end_time": "2024-01-09T12:36:11.246452100Z",
     "start_time": "2024-01-09T12:36:11.207063Z"
    }
   }
  },
  {
   "cell_type": "code",
   "execution_count": 27,
   "outputs": [
    {
     "data": {
      "text/plain": "      is_association_of_suppliers_x  is_rejected_due_too_low  is_withdrawn  \\\n0                              True                    False         False   \n1                             False                    False         False   \n2                             False                    False         False   \n3                              True                    False         False   \n4                             False                    False         False   \n...                             ...                      ...           ...   \n9240                          False                    False         False   \n9241                          False                    False         False   \n9242                          False                    False         False   \n9243                          False                    False         False   \n9244                          False                    False         False   \n\n           price   price_vat  company_id  number_of_offers  \\\n0           0.00        0.00           1                 1   \n1        9832.02    11897.00           2                 1   \n2      130000.00   130000.00           3                 1   \n3           0.00        0.00           4                 1   \n4        8468.00     9314.80           5                 1   \n...          ...         ...         ...               ...   \n9240   138514.50   167602.55         536                 2   \n9241    75752.00    91659.92         118                 2   \n9242  1184815.00  1433626.15         283                 3   \n9243  1189575.00  1439385.75         263                 3   \n9244  1221125.00  1477561.25         346                 3   \n\n     bids_submission_deadline code_from_nipez_codelist  contract_price  ...  \\\n0                         NaN               15710000-8        38973.48  ...   \n1                         NaN               50110000-9         9832.02  ...   \n2                         NaN                      NaN       130000.00  ...   \n3                         NaN               90511000-2        26580.00  ...   \n4                         NaN               90500000-2         8468.00  ...   \n...                       ...                      ...             ...  ...   \n9240                      NaN               39141000-2        75752.00  ...   \n9241                      NaN               39141000-2        75752.00  ...   \n9242                      NaN               30213100-6      1184815.00  ...   \n9243                      NaN               30213100-6      1184815.00  ...   \n9244                      NaN               30213100-6      1184815.00  ...   \n\n      is_association_of_suppliers_y  place_of_performance  \\\n0                             False        Liberecký kraj   \n1                             False        Jihočeský kraj   \n2                             False                   NaN   \n3                             False        Liberecký kraj   \n4                             False      Středočeský kraj   \n...                             ...                   ...   \n9240                          False       Česká republika   \n9241                          False       Česká republika   \n9242                          False       Česká republika   \n9243                          False       Česká republika   \n9244                          False       Česká republika   \n\n           public_contract_regime                            type  \\\n0                             NaN  Public contract for deliveries   \n1                             NaN    Public contract for services   \n2     Small-scale public contract  Public contract for deliveries   \n3                             NaN    Public contract for services   \n4                             NaN    Public contract for services   \n...                           ...                             ...   \n9240                          NaN  Public contract for deliveries   \n9241                          NaN  Public contract for deliveries   \n9242                          NaN  Public contract for deliveries   \n9243                          NaN  Public contract for deliveries   \n9244                          NaN  Public contract for deliveries   \n\n                                      type_of_procedure  contact_person_id  \\\n0     Zadávání VZ na základě rámcové dohody bez obno...                  1   \n1     Zadávání VZ na základě rámcové dohody bez obno...                  2   \n2                                        Otevřená výzva                  1   \n3     Zadávání VZ na základě rámcové dohody bez obno...                  1   \n4     Zadávání VZ na základě rámcové dohody bez obno...                  3   \n...                                                 ...                ...   \n9240  Zadávání VZ na základě rámcové dohody s obnove...                647   \n9241  Zadávání VZ na základě rámcové dohody s obnove...                647   \n9242  Zadávání VZ na základě rámcové dohody s obnove...               1143   \n9243  Zadávání VZ na základě rámcové dohody s obnove...               1143   \n9244  Zadávání VZ na základě rámcové dohody s obnove...               1143   \n\n     contracting_authority_id is_winner organisation_id    distance  \n0                           1      True      66442460.0         NaN  \n1                           1      True      26031868.0         NaN  \n2                           1      True       3566358.0         NaN  \n3                           1      True      62738542.0   89.388459  \n4                           1      True      47538856.0         NaN  \n...                       ...       ...             ...         ...  \n9240                      261     False       5960657.0         NaN  \n9241                      261      True      45790604.0         NaN  \n9242                      110      True      25403435.0         NaN  \n9243                      110     False        174939.0    8.511941  \n9244                      110     False      45194416.0  210.221076  \n\n[9245 rows x 25 columns]",
      "text/html": "<div>\n<style scoped>\n    .dataframe tbody tr th:only-of-type {\n        vertical-align: middle;\n    }\n\n    .dataframe tbody tr th {\n        vertical-align: top;\n    }\n\n    .dataframe thead th {\n        text-align: right;\n    }\n</style>\n<table border=\"1\" class=\"dataframe\">\n  <thead>\n    <tr style=\"text-align: right;\">\n      <th></th>\n      <th>is_association_of_suppliers_x</th>\n      <th>is_rejected_due_too_low</th>\n      <th>is_withdrawn</th>\n      <th>price</th>\n      <th>price_vat</th>\n      <th>company_id</th>\n      <th>number_of_offers</th>\n      <th>bids_submission_deadline</th>\n      <th>code_from_nipez_codelist</th>\n      <th>contract_price</th>\n      <th>...</th>\n      <th>is_association_of_suppliers_y</th>\n      <th>place_of_performance</th>\n      <th>public_contract_regime</th>\n      <th>type</th>\n      <th>type_of_procedure</th>\n      <th>contact_person_id</th>\n      <th>contracting_authority_id</th>\n      <th>is_winner</th>\n      <th>organisation_id</th>\n      <th>distance</th>\n    </tr>\n  </thead>\n  <tbody>\n    <tr>\n      <th>0</th>\n      <td>True</td>\n      <td>False</td>\n      <td>False</td>\n      <td>0.00</td>\n      <td>0.00</td>\n      <td>1</td>\n      <td>1</td>\n      <td>NaN</td>\n      <td>15710000-8</td>\n      <td>38973.48</td>\n      <td>...</td>\n      <td>False</td>\n      <td>Liberecký kraj</td>\n      <td>NaN</td>\n      <td>Public contract for deliveries</td>\n      <td>Zadávání VZ na základě rámcové dohody bez obno...</td>\n      <td>1</td>\n      <td>1</td>\n      <td>True</td>\n      <td>66442460.0</td>\n      <td>NaN</td>\n    </tr>\n    <tr>\n      <th>1</th>\n      <td>False</td>\n      <td>False</td>\n      <td>False</td>\n      <td>9832.02</td>\n      <td>11897.00</td>\n      <td>2</td>\n      <td>1</td>\n      <td>NaN</td>\n      <td>50110000-9</td>\n      <td>9832.02</td>\n      <td>...</td>\n      <td>False</td>\n      <td>Jihočeský kraj</td>\n      <td>NaN</td>\n      <td>Public contract for services</td>\n      <td>Zadávání VZ na základě rámcové dohody bez obno...</td>\n      <td>2</td>\n      <td>1</td>\n      <td>True</td>\n      <td>26031868.0</td>\n      <td>NaN</td>\n    </tr>\n    <tr>\n      <th>2</th>\n      <td>False</td>\n      <td>False</td>\n      <td>False</td>\n      <td>130000.00</td>\n      <td>130000.00</td>\n      <td>3</td>\n      <td>1</td>\n      <td>NaN</td>\n      <td>NaN</td>\n      <td>130000.00</td>\n      <td>...</td>\n      <td>False</td>\n      <td>NaN</td>\n      <td>Small-scale public contract</td>\n      <td>Public contract for deliveries</td>\n      <td>Otevřená výzva</td>\n      <td>1</td>\n      <td>1</td>\n      <td>True</td>\n      <td>3566358.0</td>\n      <td>NaN</td>\n    </tr>\n    <tr>\n      <th>3</th>\n      <td>True</td>\n      <td>False</td>\n      <td>False</td>\n      <td>0.00</td>\n      <td>0.00</td>\n      <td>4</td>\n      <td>1</td>\n      <td>NaN</td>\n      <td>90511000-2</td>\n      <td>26580.00</td>\n      <td>...</td>\n      <td>False</td>\n      <td>Liberecký kraj</td>\n      <td>NaN</td>\n      <td>Public contract for services</td>\n      <td>Zadávání VZ na základě rámcové dohody bez obno...</td>\n      <td>1</td>\n      <td>1</td>\n      <td>True</td>\n      <td>62738542.0</td>\n      <td>89.388459</td>\n    </tr>\n    <tr>\n      <th>4</th>\n      <td>False</td>\n      <td>False</td>\n      <td>False</td>\n      <td>8468.00</td>\n      <td>9314.80</td>\n      <td>5</td>\n      <td>1</td>\n      <td>NaN</td>\n      <td>90500000-2</td>\n      <td>8468.00</td>\n      <td>...</td>\n      <td>False</td>\n      <td>Středočeský kraj</td>\n      <td>NaN</td>\n      <td>Public contract for services</td>\n      <td>Zadávání VZ na základě rámcové dohody bez obno...</td>\n      <td>3</td>\n      <td>1</td>\n      <td>True</td>\n      <td>47538856.0</td>\n      <td>NaN</td>\n    </tr>\n    <tr>\n      <th>...</th>\n      <td>...</td>\n      <td>...</td>\n      <td>...</td>\n      <td>...</td>\n      <td>...</td>\n      <td>...</td>\n      <td>...</td>\n      <td>...</td>\n      <td>...</td>\n      <td>...</td>\n      <td>...</td>\n      <td>...</td>\n      <td>...</td>\n      <td>...</td>\n      <td>...</td>\n      <td>...</td>\n      <td>...</td>\n      <td>...</td>\n      <td>...</td>\n      <td>...</td>\n      <td>...</td>\n    </tr>\n    <tr>\n      <th>9240</th>\n      <td>False</td>\n      <td>False</td>\n      <td>False</td>\n      <td>138514.50</td>\n      <td>167602.55</td>\n      <td>536</td>\n      <td>2</td>\n      <td>NaN</td>\n      <td>39141000-2</td>\n      <td>75752.00</td>\n      <td>...</td>\n      <td>False</td>\n      <td>Česká republika</td>\n      <td>NaN</td>\n      <td>Public contract for deliveries</td>\n      <td>Zadávání VZ na základě rámcové dohody s obnove...</td>\n      <td>647</td>\n      <td>261</td>\n      <td>False</td>\n      <td>5960657.0</td>\n      <td>NaN</td>\n    </tr>\n    <tr>\n      <th>9241</th>\n      <td>False</td>\n      <td>False</td>\n      <td>False</td>\n      <td>75752.00</td>\n      <td>91659.92</td>\n      <td>118</td>\n      <td>2</td>\n      <td>NaN</td>\n      <td>39141000-2</td>\n      <td>75752.00</td>\n      <td>...</td>\n      <td>False</td>\n      <td>Česká republika</td>\n      <td>NaN</td>\n      <td>Public contract for deliveries</td>\n      <td>Zadávání VZ na základě rámcové dohody s obnove...</td>\n      <td>647</td>\n      <td>261</td>\n      <td>True</td>\n      <td>45790604.0</td>\n      <td>NaN</td>\n    </tr>\n    <tr>\n      <th>9242</th>\n      <td>False</td>\n      <td>False</td>\n      <td>False</td>\n      <td>1184815.00</td>\n      <td>1433626.15</td>\n      <td>283</td>\n      <td>3</td>\n      <td>NaN</td>\n      <td>30213100-6</td>\n      <td>1184815.00</td>\n      <td>...</td>\n      <td>False</td>\n      <td>Česká republika</td>\n      <td>NaN</td>\n      <td>Public contract for deliveries</td>\n      <td>Zadávání VZ na základě rámcové dohody s obnove...</td>\n      <td>1143</td>\n      <td>110</td>\n      <td>True</td>\n      <td>25403435.0</td>\n      <td>NaN</td>\n    </tr>\n    <tr>\n      <th>9243</th>\n      <td>False</td>\n      <td>False</td>\n      <td>False</td>\n      <td>1189575.00</td>\n      <td>1439385.75</td>\n      <td>263</td>\n      <td>3</td>\n      <td>NaN</td>\n      <td>30213100-6</td>\n      <td>1184815.00</td>\n      <td>...</td>\n      <td>False</td>\n      <td>Česká republika</td>\n      <td>NaN</td>\n      <td>Public contract for deliveries</td>\n      <td>Zadávání VZ na základě rámcové dohody s obnove...</td>\n      <td>1143</td>\n      <td>110</td>\n      <td>False</td>\n      <td>174939.0</td>\n      <td>8.511941</td>\n    </tr>\n    <tr>\n      <th>9244</th>\n      <td>False</td>\n      <td>False</td>\n      <td>False</td>\n      <td>1221125.00</td>\n      <td>1477561.25</td>\n      <td>346</td>\n      <td>3</td>\n      <td>NaN</td>\n      <td>30213100-6</td>\n      <td>1184815.00</td>\n      <td>...</td>\n      <td>False</td>\n      <td>Česká republika</td>\n      <td>NaN</td>\n      <td>Public contract for deliveries</td>\n      <td>Zadávání VZ na základě rámcové dohody s obnove...</td>\n      <td>1143</td>\n      <td>110</td>\n      <td>False</td>\n      <td>45194416.0</td>\n      <td>210.221076</td>\n    </tr>\n  </tbody>\n</table>\n<p>9245 rows × 25 columns</p>\n</div>"
     },
     "execution_count": 27,
     "metadata": {},
     "output_type": "execute_result"
    }
   ],
   "source": [
    "df_for_pred"
   ],
   "metadata": {
    "collapsed": false,
    "ExecuteTime": {
     "end_time": "2024-01-09T12:36:11.261699500Z",
     "start_time": "2024-01-09T12:36:11.213587700Z"
    }
   }
  },
  {
   "cell_type": "code",
   "execution_count": 29,
   "outputs": [],
   "source": [
    "total_offers = (offer['company_id'].value_counts()).to_frame()"
   ],
   "metadata": {
    "collapsed": false,
    "ExecuteTime": {
     "end_time": "2024-01-09T12:36:11.289683500Z",
     "start_time": "2024-01-09T12:36:11.244380900Z"
    }
   }
  },
  {
   "cell_type": "code",
   "execution_count": 30,
   "outputs": [
    {
     "data": {
      "text/plain": "            count\ncompany_id       \n160           161\n141           139\n529            88\n223            71\n221            60\n...           ...\n1803            1\n1802            1\n1801            1\n1798            1\n3696            1\n\n[3375 rows x 1 columns]",
      "text/html": "<div>\n<style scoped>\n    .dataframe tbody tr th:only-of-type {\n        vertical-align: middle;\n    }\n\n    .dataframe tbody tr th {\n        vertical-align: top;\n    }\n\n    .dataframe thead th {\n        text-align: right;\n    }\n</style>\n<table border=\"1\" class=\"dataframe\">\n  <thead>\n    <tr style=\"text-align: right;\">\n      <th></th>\n      <th>count</th>\n    </tr>\n    <tr>\n      <th>company_id</th>\n      <th></th>\n    </tr>\n  </thead>\n  <tbody>\n    <tr>\n      <th>160</th>\n      <td>161</td>\n    </tr>\n    <tr>\n      <th>141</th>\n      <td>139</td>\n    </tr>\n    <tr>\n      <th>529</th>\n      <td>88</td>\n    </tr>\n    <tr>\n      <th>223</th>\n      <td>71</td>\n    </tr>\n    <tr>\n      <th>221</th>\n      <td>60</td>\n    </tr>\n    <tr>\n      <th>...</th>\n      <td>...</td>\n    </tr>\n    <tr>\n      <th>1803</th>\n      <td>1</td>\n    </tr>\n    <tr>\n      <th>1802</th>\n      <td>1</td>\n    </tr>\n    <tr>\n      <th>1801</th>\n      <td>1</td>\n    </tr>\n    <tr>\n      <th>1798</th>\n      <td>1</td>\n    </tr>\n    <tr>\n      <th>3696</th>\n      <td>1</td>\n    </tr>\n  </tbody>\n</table>\n<p>3375 rows × 1 columns</p>\n</div>"
     },
     "execution_count": 30,
     "metadata": {},
     "output_type": "execute_result"
    }
   ],
   "source": [
    "total_offers"
   ],
   "metadata": {
    "collapsed": false,
    "ExecuteTime": {
     "end_time": "2024-01-09T12:36:11.309313400Z",
     "start_time": "2024-01-09T12:36:11.248962700Z"
    }
   }
  },
  {
   "cell_type": "code",
   "execution_count": 31,
   "outputs": [],
   "source": [
    "total_wins = df_for_pred.groupby('company_id')['is_winner'].sum().to_frame()"
   ],
   "metadata": {
    "collapsed": false,
    "ExecuteTime": {
     "end_time": "2024-01-09T12:36:11.311322800Z",
     "start_time": "2024-01-09T12:36:11.256783900Z"
    }
   }
  },
  {
   "cell_type": "code",
   "execution_count": 32,
   "outputs": [
    {
     "data": {
      "text/plain": "            total_wins\ncompany_id            \n1                    7\n2                    2\n3                    1\n4                    7\n5                   33\n...                ...\n3692                 0\n3693                 1\n3694                 0\n3695                 0\n3696                 0\n\n[3375 rows x 1 columns]",
      "text/html": "<div>\n<style scoped>\n    .dataframe tbody tr th:only-of-type {\n        vertical-align: middle;\n    }\n\n    .dataframe tbody tr th {\n        vertical-align: top;\n    }\n\n    .dataframe thead th {\n        text-align: right;\n    }\n</style>\n<table border=\"1\" class=\"dataframe\">\n  <thead>\n    <tr style=\"text-align: right;\">\n      <th></th>\n      <th>total_wins</th>\n    </tr>\n    <tr>\n      <th>company_id</th>\n      <th></th>\n    </tr>\n  </thead>\n  <tbody>\n    <tr>\n      <th>1</th>\n      <td>7</td>\n    </tr>\n    <tr>\n      <th>2</th>\n      <td>2</td>\n    </tr>\n    <tr>\n      <th>3</th>\n      <td>1</td>\n    </tr>\n    <tr>\n      <th>4</th>\n      <td>7</td>\n    </tr>\n    <tr>\n      <th>5</th>\n      <td>33</td>\n    </tr>\n    <tr>\n      <th>...</th>\n      <td>...</td>\n    </tr>\n    <tr>\n      <th>3692</th>\n      <td>0</td>\n    </tr>\n    <tr>\n      <th>3693</th>\n      <td>1</td>\n    </tr>\n    <tr>\n      <th>3694</th>\n      <td>0</td>\n    </tr>\n    <tr>\n      <th>3695</th>\n      <td>0</td>\n    </tr>\n    <tr>\n      <th>3696</th>\n      <td>0</td>\n    </tr>\n  </tbody>\n</table>\n<p>3375 rows × 1 columns</p>\n</div>"
     },
     "execution_count": 32,
     "metadata": {},
     "output_type": "execute_result"
    }
   ],
   "source": [
    "total_wins.rename(columns={'is_winner' : 'total_wins'}, inplace=True)\n",
    "total_wins"
   ],
   "metadata": {
    "collapsed": false,
    "ExecuteTime": {
     "end_time": "2024-01-09T12:36:11.321187700Z",
     "start_time": "2024-01-09T12:36:11.261699500Z"
    }
   }
  },
  {
   "cell_type": "code",
   "execution_count": 33,
   "outputs": [],
   "source": [
    "total_procurements = (procurement['contracting_authority_id'].value_counts()).to_frame()"
   ],
   "metadata": {
    "collapsed": false,
    "ExecuteTime": {
     "end_time": "2024-01-09T12:36:11.338219900Z",
     "start_time": "2024-01-09T12:36:11.268140300Z"
    }
   }
  },
  {
   "cell_type": "code",
   "execution_count": 34,
   "outputs": [
    {
     "data": {
      "text/plain": "                          count\ncontracting_authority_id       \n1                          2181\n79                          152\n57                          121\n110                         100\n77                           87\n...                         ...\n287                           1\n289                           1\n290                           1\n291                           1\n484                           1\n\n[421 rows x 1 columns]",
      "text/html": "<div>\n<style scoped>\n    .dataframe tbody tr th:only-of-type {\n        vertical-align: middle;\n    }\n\n    .dataframe tbody tr th {\n        vertical-align: top;\n    }\n\n    .dataframe thead th {\n        text-align: right;\n    }\n</style>\n<table border=\"1\" class=\"dataframe\">\n  <thead>\n    <tr style=\"text-align: right;\">\n      <th></th>\n      <th>count</th>\n    </tr>\n    <tr>\n      <th>contracting_authority_id</th>\n      <th></th>\n    </tr>\n  </thead>\n  <tbody>\n    <tr>\n      <th>1</th>\n      <td>2181</td>\n    </tr>\n    <tr>\n      <th>79</th>\n      <td>152</td>\n    </tr>\n    <tr>\n      <th>57</th>\n      <td>121</td>\n    </tr>\n    <tr>\n      <th>110</th>\n      <td>100</td>\n    </tr>\n    <tr>\n      <th>77</th>\n      <td>87</td>\n    </tr>\n    <tr>\n      <th>...</th>\n      <td>...</td>\n    </tr>\n    <tr>\n      <th>287</th>\n      <td>1</td>\n    </tr>\n    <tr>\n      <th>289</th>\n      <td>1</td>\n    </tr>\n    <tr>\n      <th>290</th>\n      <td>1</td>\n    </tr>\n    <tr>\n      <th>291</th>\n      <td>1</td>\n    </tr>\n    <tr>\n      <th>484</th>\n      <td>1</td>\n    </tr>\n  </tbody>\n</table>\n<p>421 rows × 1 columns</p>\n</div>"
     },
     "execution_count": 34,
     "metadata": {},
     "output_type": "execute_result"
    }
   ],
   "source": [
    "total_procurements"
   ],
   "metadata": {
    "collapsed": false,
    "ExecuteTime": {
     "end_time": "2024-01-09T12:36:11.341308800Z",
     "start_time": "2024-01-09T12:36:11.272835100Z"
    }
   }
  },
  {
   "cell_type": "code",
   "execution_count": 35,
   "outputs": [],
   "source": [
    "df_for_pred = pd.merge(df_for_pred, total_offers, left_on='company_id', right_on='company_id', how='left')\n",
    "df_for_pred.rename(columns={'count' : 'total_offers'}, inplace=True)"
   ],
   "metadata": {
    "collapsed": false,
    "ExecuteTime": {
     "end_time": "2024-01-09T12:36:11.393359100Z",
     "start_time": "2024-01-09T12:36:11.280830500Z"
    }
   }
  },
  {
   "cell_type": "code",
   "execution_count": 36,
   "outputs": [],
   "source": [
    "df_for_pred = pd.merge(df_for_pred, total_wins, left_on='company_id', right_on='company_id', how='left')"
   ],
   "metadata": {
    "collapsed": false,
    "ExecuteTime": {
     "end_time": "2024-01-09T12:36:11.420040800Z",
     "start_time": "2024-01-09T12:36:11.288651400Z"
    }
   }
  },
  {
   "cell_type": "code",
   "execution_count": 37,
   "outputs": [],
   "source": [
    "df_for_pred = pd.merge(df_for_pred, total_procurements, left_on='contracting_authority_id', right_on='contracting_authority_id', how='left')\n",
    "df_for_pred.rename(columns={'count' : 'total_procurements'}, inplace=True)"
   ],
   "metadata": {
    "collapsed": false,
    "ExecuteTime": {
     "end_time": "2024-01-09T12:36:11.438609400Z",
     "start_time": "2024-01-09T12:36:11.295339800Z"
    }
   }
  },
  {
   "cell_type": "code",
   "execution_count": 38,
   "outputs": [
    {
     "data": {
      "text/plain": "(9245, 28)"
     },
     "metadata": {},
     "output_type": "display_data"
    },
    {
     "data": {
      "text/plain": "              price     price_vat   company_id  number_of_offers  \\\ncount  7.896000e+03  7.900000e+03  9245.000000       9245.000000   \nmean   8.438423e+07  1.017015e+08  1183.305679          4.194375   \nstd    2.562514e+09  3.100194e+09  1011.543866          3.093448   \nmin    0.000000e+00  0.000000e+00     1.000000          1.000000   \n25%    1.804650e+04  2.163843e+04   300.000000          2.000000   \n50%    1.530058e+05  1.740371e+05   868.000000          3.000000   \n75%    1.149339e+06  1.212226e+06  1893.000000          6.000000   \nmax    1.145797e+11  1.386414e+11  3696.000000         19.000000   \n\n       contract_price  contract_price_vat  contract_price_with_amendments  \\\ncount    9.245000e+03        9.245000e+03                    9.245000e+03   \nmean     1.290810e+07        4.926975e+10                    1.310867e+07   \nstd      7.586431e+07        4.735342e+12                    7.694805e+07   \nmin      0.000000e+00        0.000000e+00                    0.000000e+00   \n25%      2.060000e+04        2.482920e+04                    2.060000e+04   \n50%      2.100000e+05        2.532772e+05                    2.100000e+05   \n75%      1.500000e+06        1.815000e+06                    1.500000e+06   \nmax      1.505337e+09        4.553075e+14                    1.505337e+09   \n\n       contract_price_with_amendments_vat  contact_person_id  \\\ncount                        9.245000e+03        9245.000000   \nmean                         4.926999e+10         472.916928   \nstd                          4.735342e+12         310.848602   \nmin                          0.000000e+00           1.000000   \n25%                          2.482920e+04         202.000000   \n50%                          2.532772e+05         445.000000   \n75%                          1.815000e+06         705.000000   \nmax                          4.553075e+14        1183.000000   \n\n       contracting_authority_id  organisation_id     distance  total_offers  \\\ncount               9245.000000     9.142000e+03  4593.000000   9245.000000   \nmean                  98.565711     3.052879e+07    96.042035     15.780963   \nstd                  116.944190     1.870423e+07    96.887883     29.202462   \nmin                    1.000000     4.930000e+02     0.107971      1.000000   \n25%                    1.000000     2.418517e+07     5.879905      2.000000   \n50%                   64.000000     2.684905e+07    58.124922      5.000000   \n75%                  161.000000     4.590527e+07   188.650247     16.000000   \nmax                  484.000000     8.885864e+07   403.195306    161.000000   \n\n       total_wins  total_procurements  \ncount  9245.00000         9245.000000  \nmean      5.73867          917.682423  \nstd       9.33778         1058.875997  \nmin       0.00000            1.000000  \n25%       0.00000           13.000000  \n50%       2.00000           87.000000  \n75%       6.00000         2181.000000  \nmax      51.00000         2181.000000  ",
      "text/html": "<div>\n<style scoped>\n    .dataframe tbody tr th:only-of-type {\n        vertical-align: middle;\n    }\n\n    .dataframe tbody tr th {\n        vertical-align: top;\n    }\n\n    .dataframe thead th {\n        text-align: right;\n    }\n</style>\n<table border=\"1\" class=\"dataframe\">\n  <thead>\n    <tr style=\"text-align: right;\">\n      <th></th>\n      <th>price</th>\n      <th>price_vat</th>\n      <th>company_id</th>\n      <th>number_of_offers</th>\n      <th>contract_price</th>\n      <th>contract_price_vat</th>\n      <th>contract_price_with_amendments</th>\n      <th>contract_price_with_amendments_vat</th>\n      <th>contact_person_id</th>\n      <th>contracting_authority_id</th>\n      <th>organisation_id</th>\n      <th>distance</th>\n      <th>total_offers</th>\n      <th>total_wins</th>\n      <th>total_procurements</th>\n    </tr>\n  </thead>\n  <tbody>\n    <tr>\n      <th>count</th>\n      <td>7.896000e+03</td>\n      <td>7.900000e+03</td>\n      <td>9245.000000</td>\n      <td>9245.000000</td>\n      <td>9.245000e+03</td>\n      <td>9.245000e+03</td>\n      <td>9.245000e+03</td>\n      <td>9.245000e+03</td>\n      <td>9245.000000</td>\n      <td>9245.000000</td>\n      <td>9.142000e+03</td>\n      <td>4593.000000</td>\n      <td>9245.000000</td>\n      <td>9245.00000</td>\n      <td>9245.000000</td>\n    </tr>\n    <tr>\n      <th>mean</th>\n      <td>8.438423e+07</td>\n      <td>1.017015e+08</td>\n      <td>1183.305679</td>\n      <td>4.194375</td>\n      <td>1.290810e+07</td>\n      <td>4.926975e+10</td>\n      <td>1.310867e+07</td>\n      <td>4.926999e+10</td>\n      <td>472.916928</td>\n      <td>98.565711</td>\n      <td>3.052879e+07</td>\n      <td>96.042035</td>\n      <td>15.780963</td>\n      <td>5.73867</td>\n      <td>917.682423</td>\n    </tr>\n    <tr>\n      <th>std</th>\n      <td>2.562514e+09</td>\n      <td>3.100194e+09</td>\n      <td>1011.543866</td>\n      <td>3.093448</td>\n      <td>7.586431e+07</td>\n      <td>4.735342e+12</td>\n      <td>7.694805e+07</td>\n      <td>4.735342e+12</td>\n      <td>310.848602</td>\n      <td>116.944190</td>\n      <td>1.870423e+07</td>\n      <td>96.887883</td>\n      <td>29.202462</td>\n      <td>9.33778</td>\n      <td>1058.875997</td>\n    </tr>\n    <tr>\n      <th>min</th>\n      <td>0.000000e+00</td>\n      <td>0.000000e+00</td>\n      <td>1.000000</td>\n      <td>1.000000</td>\n      <td>0.000000e+00</td>\n      <td>0.000000e+00</td>\n      <td>0.000000e+00</td>\n      <td>0.000000e+00</td>\n      <td>1.000000</td>\n      <td>1.000000</td>\n      <td>4.930000e+02</td>\n      <td>0.107971</td>\n      <td>1.000000</td>\n      <td>0.00000</td>\n      <td>1.000000</td>\n    </tr>\n    <tr>\n      <th>25%</th>\n      <td>1.804650e+04</td>\n      <td>2.163843e+04</td>\n      <td>300.000000</td>\n      <td>2.000000</td>\n      <td>2.060000e+04</td>\n      <td>2.482920e+04</td>\n      <td>2.060000e+04</td>\n      <td>2.482920e+04</td>\n      <td>202.000000</td>\n      <td>1.000000</td>\n      <td>2.418517e+07</td>\n      <td>5.879905</td>\n      <td>2.000000</td>\n      <td>0.00000</td>\n      <td>13.000000</td>\n    </tr>\n    <tr>\n      <th>50%</th>\n      <td>1.530058e+05</td>\n      <td>1.740371e+05</td>\n      <td>868.000000</td>\n      <td>3.000000</td>\n      <td>2.100000e+05</td>\n      <td>2.532772e+05</td>\n      <td>2.100000e+05</td>\n      <td>2.532772e+05</td>\n      <td>445.000000</td>\n      <td>64.000000</td>\n      <td>2.684905e+07</td>\n      <td>58.124922</td>\n      <td>5.000000</td>\n      <td>2.00000</td>\n      <td>87.000000</td>\n    </tr>\n    <tr>\n      <th>75%</th>\n      <td>1.149339e+06</td>\n      <td>1.212226e+06</td>\n      <td>1893.000000</td>\n      <td>6.000000</td>\n      <td>1.500000e+06</td>\n      <td>1.815000e+06</td>\n      <td>1.500000e+06</td>\n      <td>1.815000e+06</td>\n      <td>705.000000</td>\n      <td>161.000000</td>\n      <td>4.590527e+07</td>\n      <td>188.650247</td>\n      <td>16.000000</td>\n      <td>6.00000</td>\n      <td>2181.000000</td>\n    </tr>\n    <tr>\n      <th>max</th>\n      <td>1.145797e+11</td>\n      <td>1.386414e+11</td>\n      <td>3696.000000</td>\n      <td>19.000000</td>\n      <td>1.505337e+09</td>\n      <td>4.553075e+14</td>\n      <td>1.505337e+09</td>\n      <td>4.553075e+14</td>\n      <td>1183.000000</td>\n      <td>484.000000</td>\n      <td>8.885864e+07</td>\n      <td>403.195306</td>\n      <td>161.000000</td>\n      <td>51.00000</td>\n      <td>2181.000000</td>\n    </tr>\n  </tbody>\n</table>\n</div>"
     },
     "metadata": {},
     "output_type": "display_data"
    },
    {
     "name": "stdout",
     "output_type": "stream",
     "text": [
      "Missing values in %:\n"
     ]
    },
    {
     "data": {
      "text/plain": "is_association_of_suppliers_x          0.000000\nis_rejected_due_too_low                0.000000\nis_withdrawn                           0.000000\nprice                                 14.591671\nprice_vat                             14.548405\ncompany_id                             0.000000\nnumber_of_offers                       0.000000\nbids_submission_deadline              28.934559\ncode_from_nipez_codelist               0.746349\ncontract_price                         0.000000\ncontract_price_vat                     0.000000\ncontract_price_with_amendments         0.000000\ncontract_price_with_amendments_vat     0.000000\ndate_of_contract_close                 0.043267\ndate_of_publication                    6.425095\nis_association_of_suppliers_y          0.000000\nplace_of_performance                   2.239048\npublic_contract_regime                18.896701\ntype                                   0.010817\ntype_of_procedure                      0.000000\ncontact_person_id                      0.000000\ncontracting_authority_id               0.000000\nis_winner                              0.000000\norganisation_id                        1.114116\ndistance                              50.319091\ntotal_offers                           0.000000\ntotal_wins                             0.000000\ntotal_procurements                     0.000000\ndtype: float64"
     },
     "metadata": {},
     "output_type": "display_data"
    },
    {
     "data": {
      "text/plain": "   is_association_of_suppliers_x  is_rejected_due_too_low  is_withdrawn  \\\n0                           True                    False         False   \n1                          False                    False         False   \n2                          False                    False         False   \n3                           True                    False         False   \n4                          False                    False         False   \n5                          False                    False         False   \n6                          False                    False         False   \n7                           True                    False         False   \n8                          False                    False         False   \n9                          False                    False         False   \n\n       price  price_vat  company_id  number_of_offers  \\\n0       0.00       0.00           1                 1   \n1    9832.02   11897.00           2                 1   \n2  130000.00  130000.00           3                 1   \n3       0.00       0.00           4                 1   \n4    8468.00    9314.80           5                 1   \n5   90525.00  109535.25           6                 1   \n6       0.00       0.00           7                 1   \n7       0.00       0.00           8                 1   \n8  130000.00  130000.00          10                 1   \n9        NaN        NaN          12                 2   \n\n  bids_submission_deadline code_from_nipez_codelist  contract_price  ...  \\\n0                      NaN               15710000-8        38973.48  ...   \n1                      NaN               50110000-9         9832.02  ...   \n2                      NaN                      NaN       130000.00  ...   \n3                      NaN               90511000-2        26580.00  ...   \n4                      NaN               90500000-2         8468.00  ...   \n5                      NaN               24612000-7        90525.00  ...   \n6                      NaN               15710000-8       103600.35  ...   \n7                      NaN               15710000-8        23508.00  ...   \n8                      NaN               03322000-2       130000.00  ...   \n9               2023-10-03               38434520-7      5112800.00  ...   \n\n                             type  \\\n0  Public contract for deliveries   \n1    Public contract for services   \n2  Public contract for deliveries   \n3    Public contract for services   \n4    Public contract for services   \n5    Public contract for services   \n6  Public contract for deliveries   \n7  Public contract for deliveries   \n8  Public contract for deliveries   \n9  Public contract for deliveries   \n\n                                   type_of_procedure  contact_person_id  \\\n0  Zadávání VZ na základě rámcové dohody bez obno...                  1   \n1  Zadávání VZ na základě rámcové dohody bez obno...                  2   \n2                                     Otevřená výzva                  1   \n3  Zadávání VZ na základě rámcové dohody bez obno...                  1   \n4  Zadávání VZ na základě rámcové dohody bez obno...                  3   \n5  Zadávání VZ na základě rámcové dohody bez obno...                  1   \n6  Zadávání VZ na základě rámcové dohody bez obno...                  1   \n7  Zadávání VZ na základě rámcové dohody bez obno...                  1   \n8                                     Otevřená výzva                  1   \n9                                    Otevřené řízení                  5   \n\n  contracting_authority_id is_winner  organisation_id    distance  \\\n0                        1      True       66442460.0         NaN   \n1                        1      True       26031868.0         NaN   \n2                        1      True        3566358.0         NaN   \n3                        1      True       62738542.0   89.388459   \n4                        1      True       47538856.0         NaN   \n5                        1      True       25291581.0         NaN   \n6                        1      True       25286366.0         NaN   \n7                        1      True       24663913.0    6.407831   \n8                        1      True              NaN         NaN   \n9                        3     False       46342907.0  181.823931   \n\n  total_offers total_wins total_procurements  \n0            7          7               2181  \n1            3          2               2181  \n2            1          1               2181  \n3            7          7               2181  \n4           34         33               2181  \n5            8          8               2181  \n6           21         21               2181  \n7           17         15               2181  \n8            1          1               2181  \n9            3          2                  2  \n\n[10 rows x 28 columns]",
      "text/html": "<div>\n<style scoped>\n    .dataframe tbody tr th:only-of-type {\n        vertical-align: middle;\n    }\n\n    .dataframe tbody tr th {\n        vertical-align: top;\n    }\n\n    .dataframe thead th {\n        text-align: right;\n    }\n</style>\n<table border=\"1\" class=\"dataframe\">\n  <thead>\n    <tr style=\"text-align: right;\">\n      <th></th>\n      <th>is_association_of_suppliers_x</th>\n      <th>is_rejected_due_too_low</th>\n      <th>is_withdrawn</th>\n      <th>price</th>\n      <th>price_vat</th>\n      <th>company_id</th>\n      <th>number_of_offers</th>\n      <th>bids_submission_deadline</th>\n      <th>code_from_nipez_codelist</th>\n      <th>contract_price</th>\n      <th>...</th>\n      <th>type</th>\n      <th>type_of_procedure</th>\n      <th>contact_person_id</th>\n      <th>contracting_authority_id</th>\n      <th>is_winner</th>\n      <th>organisation_id</th>\n      <th>distance</th>\n      <th>total_offers</th>\n      <th>total_wins</th>\n      <th>total_procurements</th>\n    </tr>\n  </thead>\n  <tbody>\n    <tr>\n      <th>0</th>\n      <td>True</td>\n      <td>False</td>\n      <td>False</td>\n      <td>0.00</td>\n      <td>0.00</td>\n      <td>1</td>\n      <td>1</td>\n      <td>NaN</td>\n      <td>15710000-8</td>\n      <td>38973.48</td>\n      <td>...</td>\n      <td>Public contract for deliveries</td>\n      <td>Zadávání VZ na základě rámcové dohody bez obno...</td>\n      <td>1</td>\n      <td>1</td>\n      <td>True</td>\n      <td>66442460.0</td>\n      <td>NaN</td>\n      <td>7</td>\n      <td>7</td>\n      <td>2181</td>\n    </tr>\n    <tr>\n      <th>1</th>\n      <td>False</td>\n      <td>False</td>\n      <td>False</td>\n      <td>9832.02</td>\n      <td>11897.00</td>\n      <td>2</td>\n      <td>1</td>\n      <td>NaN</td>\n      <td>50110000-9</td>\n      <td>9832.02</td>\n      <td>...</td>\n      <td>Public contract for services</td>\n      <td>Zadávání VZ na základě rámcové dohody bez obno...</td>\n      <td>2</td>\n      <td>1</td>\n      <td>True</td>\n      <td>26031868.0</td>\n      <td>NaN</td>\n      <td>3</td>\n      <td>2</td>\n      <td>2181</td>\n    </tr>\n    <tr>\n      <th>2</th>\n      <td>False</td>\n      <td>False</td>\n      <td>False</td>\n      <td>130000.00</td>\n      <td>130000.00</td>\n      <td>3</td>\n      <td>1</td>\n      <td>NaN</td>\n      <td>NaN</td>\n      <td>130000.00</td>\n      <td>...</td>\n      <td>Public contract for deliveries</td>\n      <td>Otevřená výzva</td>\n      <td>1</td>\n      <td>1</td>\n      <td>True</td>\n      <td>3566358.0</td>\n      <td>NaN</td>\n      <td>1</td>\n      <td>1</td>\n      <td>2181</td>\n    </tr>\n    <tr>\n      <th>3</th>\n      <td>True</td>\n      <td>False</td>\n      <td>False</td>\n      <td>0.00</td>\n      <td>0.00</td>\n      <td>4</td>\n      <td>1</td>\n      <td>NaN</td>\n      <td>90511000-2</td>\n      <td>26580.00</td>\n      <td>...</td>\n      <td>Public contract for services</td>\n      <td>Zadávání VZ na základě rámcové dohody bez obno...</td>\n      <td>1</td>\n      <td>1</td>\n      <td>True</td>\n      <td>62738542.0</td>\n      <td>89.388459</td>\n      <td>7</td>\n      <td>7</td>\n      <td>2181</td>\n    </tr>\n    <tr>\n      <th>4</th>\n      <td>False</td>\n      <td>False</td>\n      <td>False</td>\n      <td>8468.00</td>\n      <td>9314.80</td>\n      <td>5</td>\n      <td>1</td>\n      <td>NaN</td>\n      <td>90500000-2</td>\n      <td>8468.00</td>\n      <td>...</td>\n      <td>Public contract for services</td>\n      <td>Zadávání VZ na základě rámcové dohody bez obno...</td>\n      <td>3</td>\n      <td>1</td>\n      <td>True</td>\n      <td>47538856.0</td>\n      <td>NaN</td>\n      <td>34</td>\n      <td>33</td>\n      <td>2181</td>\n    </tr>\n    <tr>\n      <th>5</th>\n      <td>False</td>\n      <td>False</td>\n      <td>False</td>\n      <td>90525.00</td>\n      <td>109535.25</td>\n      <td>6</td>\n      <td>1</td>\n      <td>NaN</td>\n      <td>24612000-7</td>\n      <td>90525.00</td>\n      <td>...</td>\n      <td>Public contract for services</td>\n      <td>Zadávání VZ na základě rámcové dohody bez obno...</td>\n      <td>1</td>\n      <td>1</td>\n      <td>True</td>\n      <td>25291581.0</td>\n      <td>NaN</td>\n      <td>8</td>\n      <td>8</td>\n      <td>2181</td>\n    </tr>\n    <tr>\n      <th>6</th>\n      <td>False</td>\n      <td>False</td>\n      <td>False</td>\n      <td>0.00</td>\n      <td>0.00</td>\n      <td>7</td>\n      <td>1</td>\n      <td>NaN</td>\n      <td>15710000-8</td>\n      <td>103600.35</td>\n      <td>...</td>\n      <td>Public contract for deliveries</td>\n      <td>Zadávání VZ na základě rámcové dohody bez obno...</td>\n      <td>1</td>\n      <td>1</td>\n      <td>True</td>\n      <td>25286366.0</td>\n      <td>NaN</td>\n      <td>21</td>\n      <td>21</td>\n      <td>2181</td>\n    </tr>\n    <tr>\n      <th>7</th>\n      <td>True</td>\n      <td>False</td>\n      <td>False</td>\n      <td>0.00</td>\n      <td>0.00</td>\n      <td>8</td>\n      <td>1</td>\n      <td>NaN</td>\n      <td>15710000-8</td>\n      <td>23508.00</td>\n      <td>...</td>\n      <td>Public contract for deliveries</td>\n      <td>Zadávání VZ na základě rámcové dohody bez obno...</td>\n      <td>1</td>\n      <td>1</td>\n      <td>True</td>\n      <td>24663913.0</td>\n      <td>6.407831</td>\n      <td>17</td>\n      <td>15</td>\n      <td>2181</td>\n    </tr>\n    <tr>\n      <th>8</th>\n      <td>False</td>\n      <td>False</td>\n      <td>False</td>\n      <td>130000.00</td>\n      <td>130000.00</td>\n      <td>10</td>\n      <td>1</td>\n      <td>NaN</td>\n      <td>03322000-2</td>\n      <td>130000.00</td>\n      <td>...</td>\n      <td>Public contract for deliveries</td>\n      <td>Otevřená výzva</td>\n      <td>1</td>\n      <td>1</td>\n      <td>True</td>\n      <td>NaN</td>\n      <td>NaN</td>\n      <td>1</td>\n      <td>1</td>\n      <td>2181</td>\n    </tr>\n    <tr>\n      <th>9</th>\n      <td>False</td>\n      <td>False</td>\n      <td>False</td>\n      <td>NaN</td>\n      <td>NaN</td>\n      <td>12</td>\n      <td>2</td>\n      <td>2023-10-03</td>\n      <td>38434520-7</td>\n      <td>5112800.00</td>\n      <td>...</td>\n      <td>Public contract for deliveries</td>\n      <td>Otevřené řízení</td>\n      <td>5</td>\n      <td>3</td>\n      <td>False</td>\n      <td>46342907.0</td>\n      <td>181.823931</td>\n      <td>3</td>\n      <td>2</td>\n      <td>2</td>\n    </tr>\n  </tbody>\n</table>\n<p>10 rows × 28 columns</p>\n</div>"
     },
     "metadata": {},
     "output_type": "display_data"
    }
   ],
   "source": [
    "basic_stats(df_for_pred)"
   ],
   "metadata": {
    "collapsed": false,
    "ExecuteTime": {
     "end_time": "2024-01-09T12:36:11.484039500Z",
     "start_time": "2024-01-09T12:36:11.302891200Z"
    }
   }
  },
  {
   "cell_type": "code",
   "execution_count": 39,
   "outputs": [],
   "source": [
    "df_catboost = df_for_pred.copy()\n",
    "df_catboost.drop(columns=['company_id', 'contact_person_id', 'organisation_id', 'contracting_authority_id', 'contract_price_vat', 'code_from_nipez_codelist', 'contract_price_vat', 'contract_price_with_amendments', 'contract_price_with_amendments_vat', 'price_vat', 'contract_price', 'date_of_contract_close', 'date_of_publication', 'bids_submission_deadline', 'number_of_offers'], inplace=True)"
   ],
   "metadata": {
    "collapsed": false,
    "ExecuteTime": {
     "end_time": "2024-01-09T12:36:11.503059700Z",
     "start_time": "2024-01-09T12:36:11.347314900Z"
    }
   }
  },
  {
   "cell_type": "code",
   "execution_count": 40,
   "outputs": [],
   "source": [
    "df_catboost.rename(columns={\"price\" : \"bid_price\" }, inplace=True)"
   ],
   "metadata": {
    "collapsed": false,
    "ExecuteTime": {
     "end_time": "2024-01-09T12:36:11.542936200Z",
     "start_time": "2024-01-09T12:36:11.353476600Z"
    }
   }
  },
  {
   "cell_type": "code",
   "execution_count": 41,
   "outputs": [],
   "source": [
    "df_catboost['total_wins'] = df_catboost['total_wins'].fillna(0)\n",
    "df_catboost['bid_price'] = df_catboost['bid_price'].fillna(0)"
   ],
   "metadata": {
    "collapsed": false,
    "ExecuteTime": {
     "end_time": "2024-01-09T12:36:11.568059500Z",
     "start_time": "2024-01-09T12:36:11.356290800Z"
    }
   }
  },
  {
   "cell_type": "code",
   "execution_count": 42,
   "outputs": [],
   "source": [
    "bins = [0, 15, 50, 100, np.inf]\n",
    "names = ['0-15', '15-50', '50-100', '100+']\n",
    "\n",
    "df_catboost['distance'] = pd.cut(df_catboost['distance'], bins, labels=names)"
   ],
   "metadata": {
    "collapsed": false,
    "ExecuteTime": {
     "end_time": "2024-01-09T12:36:11.607735Z",
     "start_time": "2024-01-09T12:36:11.362695900Z"
    }
   }
  },
  {
   "cell_type": "code",
   "execution_count": 43,
   "outputs": [
    {
     "data": {
      "text/plain": "(9245, 14)"
     },
     "metadata": {},
     "output_type": "display_data"
    },
    {
     "data": {
      "text/plain": "          bid_price  total_offers  total_wins  total_procurements\ncount  9.245000e+03   9245.000000  9245.00000         9245.000000\nmean   7.207116e+07     15.780963     5.73867          917.682423\nstd    2.368355e+09     29.202462     9.33778         1058.875997\nmin    0.000000e+00      1.000000     0.00000            1.000000\n25%    4.637500e+03      2.000000     0.00000           13.000000\n50%    8.220000e+04      5.000000     2.00000           87.000000\n75%    8.000680e+05     16.000000     6.00000         2181.000000\nmax    1.145797e+11    161.000000    51.00000         2181.000000",
      "text/html": "<div>\n<style scoped>\n    .dataframe tbody tr th:only-of-type {\n        vertical-align: middle;\n    }\n\n    .dataframe tbody tr th {\n        vertical-align: top;\n    }\n\n    .dataframe thead th {\n        text-align: right;\n    }\n</style>\n<table border=\"1\" class=\"dataframe\">\n  <thead>\n    <tr style=\"text-align: right;\">\n      <th></th>\n      <th>bid_price</th>\n      <th>total_offers</th>\n      <th>total_wins</th>\n      <th>total_procurements</th>\n    </tr>\n  </thead>\n  <tbody>\n    <tr>\n      <th>count</th>\n      <td>9.245000e+03</td>\n      <td>9245.000000</td>\n      <td>9245.00000</td>\n      <td>9245.000000</td>\n    </tr>\n    <tr>\n      <th>mean</th>\n      <td>7.207116e+07</td>\n      <td>15.780963</td>\n      <td>5.73867</td>\n      <td>917.682423</td>\n    </tr>\n    <tr>\n      <th>std</th>\n      <td>2.368355e+09</td>\n      <td>29.202462</td>\n      <td>9.33778</td>\n      <td>1058.875997</td>\n    </tr>\n    <tr>\n      <th>min</th>\n      <td>0.000000e+00</td>\n      <td>1.000000</td>\n      <td>0.00000</td>\n      <td>1.000000</td>\n    </tr>\n    <tr>\n      <th>25%</th>\n      <td>4.637500e+03</td>\n      <td>2.000000</td>\n      <td>0.00000</td>\n      <td>13.000000</td>\n    </tr>\n    <tr>\n      <th>50%</th>\n      <td>8.220000e+04</td>\n      <td>5.000000</td>\n      <td>2.00000</td>\n      <td>87.000000</td>\n    </tr>\n    <tr>\n      <th>75%</th>\n      <td>8.000680e+05</td>\n      <td>16.000000</td>\n      <td>6.00000</td>\n      <td>2181.000000</td>\n    </tr>\n    <tr>\n      <th>max</th>\n      <td>1.145797e+11</td>\n      <td>161.000000</td>\n      <td>51.00000</td>\n      <td>2181.000000</td>\n    </tr>\n  </tbody>\n</table>\n</div>"
     },
     "metadata": {},
     "output_type": "display_data"
    },
    {
     "name": "stdout",
     "output_type": "stream",
     "text": [
      "Missing values in %:\n"
     ]
    },
    {
     "data": {
      "text/plain": "is_association_of_suppliers_x     0.000000\nis_rejected_due_too_low           0.000000\nis_withdrawn                      0.000000\nbid_price                         0.000000\nis_association_of_suppliers_y     0.000000\nplace_of_performance              2.239048\npublic_contract_regime           18.896701\ntype                              0.010817\ntype_of_procedure                 0.000000\nis_winner                         0.000000\ndistance                         50.319091\ntotal_offers                      0.000000\ntotal_wins                        0.000000\ntotal_procurements                0.000000\ndtype: float64"
     },
     "metadata": {},
     "output_type": "display_data"
    },
    {
     "data": {
      "text/plain": "   is_association_of_suppliers_x  is_rejected_due_too_low  is_withdrawn  \\\n0                           True                    False         False   \n1                          False                    False         False   \n2                          False                    False         False   \n3                           True                    False         False   \n4                          False                    False         False   \n5                          False                    False         False   \n6                          False                    False         False   \n7                           True                    False         False   \n8                          False                    False         False   \n9                          False                    False         False   \n\n   bid_price  is_association_of_suppliers_y place_of_performance  \\\n0       0.00                          False       Liberecký kraj   \n1    9832.02                          False       Jihočeský kraj   \n2  130000.00                          False                  NaN   \n3       0.00                          False       Liberecký kraj   \n4    8468.00                          False     Středočeský kraj   \n5   90525.00                          False       Liberecký kraj   \n6       0.00                          False       Liberecký kraj   \n7       0.00                          False       Liberecký kraj   \n8  130000.00                          False                  NaN   \n9       0.00                          False    Jihomoravský kraj   \n\n        public_contract_regime                            type  \\\n0                          NaN  Public contract for deliveries   \n1                          NaN    Public contract for services   \n2  Small-scale public contract  Public contract for deliveries   \n3                          NaN    Public contract for services   \n4                          NaN    Public contract for services   \n5                          NaN    Public contract for services   \n6                          NaN  Public contract for deliveries   \n7                          NaN  Public contract for deliveries   \n8  Small-scale public contract  Public contract for deliveries   \n9  Above-limit public contract  Public contract for deliveries   \n\n                                   type_of_procedure  is_winner distance  \\\n0  Zadávání VZ na základě rámcové dohody bez obno...       True      NaN   \n1  Zadávání VZ na základě rámcové dohody bez obno...       True      NaN   \n2                                     Otevřená výzva       True      NaN   \n3  Zadávání VZ na základě rámcové dohody bez obno...       True   50-100   \n4  Zadávání VZ na základě rámcové dohody bez obno...       True      NaN   \n5  Zadávání VZ na základě rámcové dohody bez obno...       True      NaN   \n6  Zadávání VZ na základě rámcové dohody bez obno...       True      NaN   \n7  Zadávání VZ na základě rámcové dohody bez obno...       True     0-15   \n8                                     Otevřená výzva       True      NaN   \n9                                    Otevřené řízení      False     100+   \n\n   total_offers  total_wins  total_procurements  \n0             7           7                2181  \n1             3           2                2181  \n2             1           1                2181  \n3             7           7                2181  \n4            34          33                2181  \n5             8           8                2181  \n6            21          21                2181  \n7            17          15                2181  \n8             1           1                2181  \n9             3           2                   2  ",
      "text/html": "<div>\n<style scoped>\n    .dataframe tbody tr th:only-of-type {\n        vertical-align: middle;\n    }\n\n    .dataframe tbody tr th {\n        vertical-align: top;\n    }\n\n    .dataframe thead th {\n        text-align: right;\n    }\n</style>\n<table border=\"1\" class=\"dataframe\">\n  <thead>\n    <tr style=\"text-align: right;\">\n      <th></th>\n      <th>is_association_of_suppliers_x</th>\n      <th>is_rejected_due_too_low</th>\n      <th>is_withdrawn</th>\n      <th>bid_price</th>\n      <th>is_association_of_suppliers_y</th>\n      <th>place_of_performance</th>\n      <th>public_contract_regime</th>\n      <th>type</th>\n      <th>type_of_procedure</th>\n      <th>is_winner</th>\n      <th>distance</th>\n      <th>total_offers</th>\n      <th>total_wins</th>\n      <th>total_procurements</th>\n    </tr>\n  </thead>\n  <tbody>\n    <tr>\n      <th>0</th>\n      <td>True</td>\n      <td>False</td>\n      <td>False</td>\n      <td>0.00</td>\n      <td>False</td>\n      <td>Liberecký kraj</td>\n      <td>NaN</td>\n      <td>Public contract for deliveries</td>\n      <td>Zadávání VZ na základě rámcové dohody bez obno...</td>\n      <td>True</td>\n      <td>NaN</td>\n      <td>7</td>\n      <td>7</td>\n      <td>2181</td>\n    </tr>\n    <tr>\n      <th>1</th>\n      <td>False</td>\n      <td>False</td>\n      <td>False</td>\n      <td>9832.02</td>\n      <td>False</td>\n      <td>Jihočeský kraj</td>\n      <td>NaN</td>\n      <td>Public contract for services</td>\n      <td>Zadávání VZ na základě rámcové dohody bez obno...</td>\n      <td>True</td>\n      <td>NaN</td>\n      <td>3</td>\n      <td>2</td>\n      <td>2181</td>\n    </tr>\n    <tr>\n      <th>2</th>\n      <td>False</td>\n      <td>False</td>\n      <td>False</td>\n      <td>130000.00</td>\n      <td>False</td>\n      <td>NaN</td>\n      <td>Small-scale public contract</td>\n      <td>Public contract for deliveries</td>\n      <td>Otevřená výzva</td>\n      <td>True</td>\n      <td>NaN</td>\n      <td>1</td>\n      <td>1</td>\n      <td>2181</td>\n    </tr>\n    <tr>\n      <th>3</th>\n      <td>True</td>\n      <td>False</td>\n      <td>False</td>\n      <td>0.00</td>\n      <td>False</td>\n      <td>Liberecký kraj</td>\n      <td>NaN</td>\n      <td>Public contract for services</td>\n      <td>Zadávání VZ na základě rámcové dohody bez obno...</td>\n      <td>True</td>\n      <td>50-100</td>\n      <td>7</td>\n      <td>7</td>\n      <td>2181</td>\n    </tr>\n    <tr>\n      <th>4</th>\n      <td>False</td>\n      <td>False</td>\n      <td>False</td>\n      <td>8468.00</td>\n      <td>False</td>\n      <td>Středočeský kraj</td>\n      <td>NaN</td>\n      <td>Public contract for services</td>\n      <td>Zadávání VZ na základě rámcové dohody bez obno...</td>\n      <td>True</td>\n      <td>NaN</td>\n      <td>34</td>\n      <td>33</td>\n      <td>2181</td>\n    </tr>\n    <tr>\n      <th>5</th>\n      <td>False</td>\n      <td>False</td>\n      <td>False</td>\n      <td>90525.00</td>\n      <td>False</td>\n      <td>Liberecký kraj</td>\n      <td>NaN</td>\n      <td>Public contract for services</td>\n      <td>Zadávání VZ na základě rámcové dohody bez obno...</td>\n      <td>True</td>\n      <td>NaN</td>\n      <td>8</td>\n      <td>8</td>\n      <td>2181</td>\n    </tr>\n    <tr>\n      <th>6</th>\n      <td>False</td>\n      <td>False</td>\n      <td>False</td>\n      <td>0.00</td>\n      <td>False</td>\n      <td>Liberecký kraj</td>\n      <td>NaN</td>\n      <td>Public contract for deliveries</td>\n      <td>Zadávání VZ na základě rámcové dohody bez obno...</td>\n      <td>True</td>\n      <td>NaN</td>\n      <td>21</td>\n      <td>21</td>\n      <td>2181</td>\n    </tr>\n    <tr>\n      <th>7</th>\n      <td>True</td>\n      <td>False</td>\n      <td>False</td>\n      <td>0.00</td>\n      <td>False</td>\n      <td>Liberecký kraj</td>\n      <td>NaN</td>\n      <td>Public contract for deliveries</td>\n      <td>Zadávání VZ na základě rámcové dohody bez obno...</td>\n      <td>True</td>\n      <td>0-15</td>\n      <td>17</td>\n      <td>15</td>\n      <td>2181</td>\n    </tr>\n    <tr>\n      <th>8</th>\n      <td>False</td>\n      <td>False</td>\n      <td>False</td>\n      <td>130000.00</td>\n      <td>False</td>\n      <td>NaN</td>\n      <td>Small-scale public contract</td>\n      <td>Public contract for deliveries</td>\n      <td>Otevřená výzva</td>\n      <td>True</td>\n      <td>NaN</td>\n      <td>1</td>\n      <td>1</td>\n      <td>2181</td>\n    </tr>\n    <tr>\n      <th>9</th>\n      <td>False</td>\n      <td>False</td>\n      <td>False</td>\n      <td>0.00</td>\n      <td>False</td>\n      <td>Jihomoravský kraj</td>\n      <td>Above-limit public contract</td>\n      <td>Public contract for deliveries</td>\n      <td>Otevřené řízení</td>\n      <td>False</td>\n      <td>100+</td>\n      <td>3</td>\n      <td>2</td>\n      <td>2</td>\n    </tr>\n  </tbody>\n</table>\n</div>"
     },
     "metadata": {},
     "output_type": "display_data"
    }
   ],
   "source": [
    "basic_stats(df_catboost)"
   ],
   "metadata": {
    "collapsed": false,
    "ExecuteTime": {
     "end_time": "2024-01-09T12:36:11.676814900Z",
     "start_time": "2024-01-09T12:36:11.368339100Z"
    }
   }
  },
  {
   "cell_type": "code",
   "execution_count": 44,
   "outputs": [],
   "source": [
    "df_catboost['place_of_performance'].replace({'Hlavní město Praha': 'Praha', 'EXTRA-REGIO' : 'Extra-Regio', np.nan : 'Unknown'}, inplace=True)"
   ],
   "metadata": {
    "collapsed": false,
    "ExecuteTime": {
     "end_time": "2024-01-09T12:36:11.706108700Z",
     "start_time": "2024-01-09T12:36:11.393359100Z"
    }
   }
  },
  {
   "cell_type": "code",
   "execution_count": 45,
   "outputs": [
    {
     "data": {
      "text/plain": "array(['Liberecký kraj', 'Jihočeský kraj', 'Unknown', 'Středočeský kraj',\n       'Jihomoravský kraj', 'Praha', 'Kraj Vysočina', 'Zlínský kraj',\n       'Plzeňský kraj', 'Česká republika', 'Olomoucký kraj',\n       'Královéhradecký kraj', 'Moravskoslezský kraj', 'Karlovarský kraj',\n       'Pardubický kraj', 'Ústecký kraj', 'Extra-Regio', 'DEUTSCHLAND',\n       'Zahraničí', 'POLSKA'], dtype=object)"
     },
     "execution_count": 45,
     "metadata": {},
     "output_type": "execute_result"
    }
   ],
   "source": [
    "df_catboost.place_of_performance.unique()"
   ],
   "metadata": {
    "collapsed": false,
    "ExecuteTime": {
     "end_time": "2024-01-09T12:36:11.708160Z",
     "start_time": "2024-01-09T12:36:11.399527400Z"
    }
   }
  },
  {
   "cell_type": "code",
   "execution_count": 46,
   "outputs": [],
   "source": [
    "df_catboost['public_contract_regime'].replace({np.nan : 'Unknown'}, inplace=True)\n",
    "df_catboost['type'].replace({np.nan : 'Unknown'}, inplace=True)\n",
    "df_catboost['type_of_procedure'].replace({np.nan : 'Unknown'}, inplace=True)"
   ],
   "metadata": {
    "collapsed": false,
    "ExecuteTime": {
     "end_time": "2024-01-09T12:36:11.710210100Z",
     "start_time": "2024-01-09T12:36:11.404017300Z"
    }
   }
  },
  {
   "cell_type": "code",
   "execution_count": 47,
   "outputs": [],
   "source": [
    "df_catboost['place_of_performance'] = df_catboost['place_of_performance'].astype(\"category\")\n",
    "df_catboost['public_contract_regime'] = df_catboost['public_contract_regime'].astype(\"category\")\n",
    "df_catboost['type'] = df_catboost['type'].astype(\"category\")\n",
    "df_catboost['type_of_procedure'] = df_catboost['type_of_procedure'].astype(\"category\")"
   ],
   "metadata": {
    "collapsed": false,
    "ExecuteTime": {
     "end_time": "2024-01-09T12:36:11.733075700Z",
     "start_time": "2024-01-09T12:36:11.410427600Z"
    }
   }
  },
  {
   "cell_type": "code",
   "execution_count": 48,
   "outputs": [],
   "source": [
    "df_catboost['total_wins'] = df_catboost['total_wins'].astype(\"int\")"
   ],
   "metadata": {
    "collapsed": false,
    "ExecuteTime": {
     "end_time": "2024-01-09T12:36:11.735151200Z",
     "start_time": "2024-01-09T12:36:11.422137200Z"
    }
   }
  },
  {
   "cell_type": "code",
   "execution_count": 49,
   "outputs": [],
   "source": [
    "df_catboost['distance'] = df_catboost['distance'].astype(\"str\")\n",
    "df_catboost['distance'].replace({np.nan : 'Unknown'}, inplace=True)\n",
    "df_catboost['distance'] = df_catboost['distance'].astype(\"category\")"
   ],
   "metadata": {
    "collapsed": false,
    "ExecuteTime": {
     "end_time": "2024-01-09T12:36:11.752344200Z",
     "start_time": "2024-01-09T12:36:11.425914Z"
    }
   }
  },
  {
   "cell_type": "code",
   "execution_count": 50,
   "outputs": [
    {
     "name": "stdout",
     "output_type": "stream",
     "text": [
      "<class 'pandas.core.frame.DataFrame'>\n",
      "RangeIndex: 9245 entries, 0 to 9244\n",
      "Data columns (total 14 columns):\n",
      " #   Column                         Non-Null Count  Dtype   \n",
      "---  ------                         --------------  -----   \n",
      " 0   is_association_of_suppliers_x  9245 non-null   bool    \n",
      " 1   is_rejected_due_too_low        9245 non-null   bool    \n",
      " 2   is_withdrawn                   9245 non-null   bool    \n",
      " 3   bid_price                      9245 non-null   float64 \n",
      " 4   is_association_of_suppliers_y  9245 non-null   bool    \n",
      " 5   place_of_performance           9245 non-null   category\n",
      " 6   public_contract_regime         9245 non-null   category\n",
      " 7   type                           9245 non-null   category\n",
      " 8   type_of_procedure              9245 non-null   category\n",
      " 9   is_winner                      9245 non-null   bool    \n",
      " 10  distance                       9245 non-null   category\n",
      " 11  total_offers                   9245 non-null   int64   \n",
      " 12  total_wins                     9245 non-null   int32   \n",
      " 13  total_procurements             9245 non-null   int64   \n",
      "dtypes: bool(5), category(5), float64(1), int32(1), int64(2)\n",
      "memory usage: 345.3 KB\n"
     ]
    }
   ],
   "source": [
    "df_catboost.info()"
   ],
   "metadata": {
    "collapsed": false,
    "ExecuteTime": {
     "end_time": "2024-01-09T12:36:11.761988700Z",
     "start_time": "2024-01-09T12:36:11.432151300Z"
    }
   }
  },
  {
   "cell_type": "code",
   "execution_count": 51,
   "outputs": [],
   "source": [
    "from catboost import CatBoostClassifier\n",
    "from sklearn.model_selection import train_test_split\n"
   ],
   "metadata": {
    "collapsed": false,
    "ExecuteTime": {
     "end_time": "2024-01-09T12:36:12.210013400Z",
     "start_time": "2024-01-09T12:36:11.444205400Z"
    }
   }
  },
  {
   "cell_type": "code",
   "execution_count": 52,
   "outputs": [],
   "source": [
    "train_data = df_catboost.drop(columns=[\"is_winner\"])\n",
    "train_labels = df_catboost[\"is_winner\"]\n",
    "X_train, X_test, y_train, y_test = train_test_split(train_data, train_labels, test_size=0.20, random_state=88)"
   ],
   "metadata": {
    "collapsed": false,
    "ExecuteTime": {
     "end_time": "2024-01-09T12:36:12.212150600Z",
     "start_time": "2024-01-09T12:36:11.955076800Z"
    }
   }
  },
  {
   "cell_type": "code",
   "execution_count": 53,
   "outputs": [
    {
     "name": "stdout",
     "output_type": "stream",
     "text": [
      "0:\tlearn: 0.4570078\ttotal: 184ms\tremaining: 4.42s\n",
      "1:\tlearn: 0.3637640\ttotal: 218ms\tremaining: 2.5s\n",
      "2:\tlearn: 0.3410194\ttotal: 253ms\tremaining: 1.85s\n",
      "3:\tlearn: 0.3320620\ttotal: 287ms\tremaining: 1.51s\n",
      "4:\tlearn: 0.3236537\ttotal: 343ms\tremaining: 1.37s\n",
      "5:\tlearn: 0.3212954\ttotal: 382ms\tremaining: 1.21s\n",
      "6:\tlearn: 0.3181588\ttotal: 411ms\tremaining: 1.06s\n",
      "7:\tlearn: 0.3138734\ttotal: 452ms\tremaining: 960ms\n",
      "8:\tlearn: 0.3119466\ttotal: 493ms\tremaining: 876ms\n",
      "9:\tlearn: 0.3059239\ttotal: 530ms\tremaining: 795ms\n",
      "10:\tlearn: 0.3053769\ttotal: 569ms\tremaining: 724ms\n",
      "11:\tlearn: 0.3028492\ttotal: 592ms\tremaining: 641ms\n",
      "12:\tlearn: 0.3027122\ttotal: 619ms\tremaining: 571ms\n",
      "13:\tlearn: 0.2997919\ttotal: 659ms\tremaining: 518ms\n",
      "14:\tlearn: 0.2940333\ttotal: 704ms\tremaining: 470ms\n",
      "15:\tlearn: 0.2940245\ttotal: 747ms\tremaining: 420ms\n",
      "16:\tlearn: 0.2907264\ttotal: 796ms\tremaining: 375ms\n",
      "17:\tlearn: 0.2902971\ttotal: 849ms\tremaining: 330ms\n",
      "18:\tlearn: 0.2881642\ttotal: 886ms\tremaining: 280ms\n",
      "19:\tlearn: 0.2879676\ttotal: 928ms\tremaining: 232ms\n",
      "20:\tlearn: 0.2879584\ttotal: 957ms\tremaining: 182ms\n",
      "21:\tlearn: 0.2873481\ttotal: 982ms\tremaining: 134ms\n",
      "22:\tlearn: 0.2864135\ttotal: 1.01s\tremaining: 87.7ms\n",
      "23:\tlearn: 0.2854906\ttotal: 1.03s\tremaining: 42.9ms\n",
      "24:\tlearn: 0.2842002\ttotal: 1.06s\tremaining: 0us\n"
     ]
    },
    {
     "data": {
      "text/plain": "0.8464034613304489"
     },
     "execution_count": 53,
     "metadata": {},
     "output_type": "execute_result"
    }
   ],
   "source": [
    "model = CatBoostClassifier(iterations=25,\n",
    "                           depth=7,\n",
    "                           learning_rate=1,\n",
    "                           loss_function='Logloss',\n",
    "                           verbose=True,\n",
    "                           cat_features=['place_of_performance', 'public_contract_regime', 'type', 'type_of_procedure', 'distance'])\n",
    "# train the model\n",
    "model.fit(X_train, y_train)\n",
    "model.score(X_test, y_test.astype(\"str\"))"
   ],
   "metadata": {
    "collapsed": false,
    "ExecuteTime": {
     "end_time": "2024-01-09T12:36:13.116323100Z",
     "start_time": "2024-01-09T12:36:11.963214200Z"
    }
   }
  },
  {
   "cell_type": "code",
   "execution_count": 54,
   "outputs": [],
   "source": [
    "from sklearn.metrics import balanced_accuracy_score"
   ],
   "metadata": {
    "collapsed": false,
    "ExecuteTime": {
     "end_time": "2024-01-09T12:36:13.118920500Z",
     "start_time": "2024-01-09T12:36:13.108091700Z"
    }
   }
  },
  {
   "cell_type": "code",
   "execution_count": 55,
   "outputs": [],
   "source": [
    "predictions = model.predict(X_test)"
   ],
   "metadata": {
    "collapsed": false,
    "ExecuteTime": {
     "end_time": "2024-01-09T12:36:13.137724500Z",
     "start_time": "2024-01-09T12:36:13.112019100Z"
    }
   }
  },
  {
   "cell_type": "code",
   "execution_count": 56,
   "outputs": [
    {
     "data": {
      "text/plain": "0.8364125706829056"
     },
     "execution_count": 56,
     "metadata": {},
     "output_type": "execute_result"
    }
   ],
   "source": [
    "balanced_accuracy_score(y_test.astype(\"str\"), predictions)"
   ],
   "metadata": {
    "collapsed": false,
    "ExecuteTime": {
     "end_time": "2024-01-09T12:36:13.167901600Z",
     "start_time": "2024-01-09T12:36:13.118986900Z"
    }
   }
  },
  {
   "cell_type": "code",
   "execution_count": 57,
   "outputs": [
    {
     "data": {
      "text/plain": "array([nan, 'Small-scale public contract', 'Above-limit public contract',\n       'Below-limit public contract', 'Zjednodušený režim',\n       'Below-threshold public procurement besides the procurement procedure',\n       'Small-scale concession'], dtype=object)"
     },
     "execution_count": 57,
     "metadata": {},
     "output_type": "execute_result"
    }
   ],
   "source": [
    "df_for_pred.public_contract_regime.unique()"
   ],
   "metadata": {
    "collapsed": false,
    "ExecuteTime": {
     "end_time": "2024-01-09T12:36:13.170414300Z",
     "start_time": "2024-01-09T12:36:13.129659700Z"
    }
   }
  },
  {
   "cell_type": "code",
   "execution_count": 58,
   "outputs": [
    {
     "name": "stdout",
     "output_type": "stream",
     "text": [
      "<class 'pandas.core.frame.DataFrame'>\n",
      "RangeIndex: 9245 entries, 0 to 9244\n",
      "Data columns (total 28 columns):\n",
      " #   Column                              Non-Null Count  Dtype  \n",
      "---  ------                              --------------  -----  \n",
      " 0   is_association_of_suppliers_x       9245 non-null   bool   \n",
      " 1   is_rejected_due_too_low             9245 non-null   bool   \n",
      " 2   is_withdrawn                        9245 non-null   bool   \n",
      " 3   price                               7896 non-null   float64\n",
      " 4   price_vat                           7900 non-null   float64\n",
      " 5   company_id                          9245 non-null   int64  \n",
      " 6   number_of_offers                    9245 non-null   int64  \n",
      " 7   bids_submission_deadline            6570 non-null   object \n",
      " 8   code_from_nipez_codelist            9176 non-null   object \n",
      " 9   contract_price                      9245 non-null   float64\n",
      " 10  contract_price_vat                  9245 non-null   float64\n",
      " 11  contract_price_with_amendments      9245 non-null   float64\n",
      " 12  contract_price_with_amendments_vat  9245 non-null   float64\n",
      " 13  date_of_contract_close              9241 non-null   object \n",
      " 14  date_of_publication                 8651 non-null   object \n",
      " 15  is_association_of_suppliers_y       9245 non-null   bool   \n",
      " 16  place_of_performance                9038 non-null   object \n",
      " 17  public_contract_regime              7498 non-null   object \n",
      " 18  type                                9244 non-null   object \n",
      " 19  type_of_procedure                   9245 non-null   object \n",
      " 20  contact_person_id                   9245 non-null   int64  \n",
      " 21  contracting_authority_id            9245 non-null   int64  \n",
      " 22  is_winner                           9245 non-null   bool   \n",
      " 23  organisation_id                     9142 non-null   float64\n",
      " 24  distance                            4593 non-null   float64\n",
      " 25  total_offers                        9245 non-null   int64  \n",
      " 26  total_wins                          9245 non-null   int64  \n",
      " 27  total_procurements                  9245 non-null   int64  \n",
      "dtypes: bool(5), float64(8), int64(7), object(8)\n",
      "memory usage: 1.7+ MB\n"
     ]
    }
   ],
   "source": [
    "df_for_pred.info()"
   ],
   "metadata": {
    "collapsed": false,
    "ExecuteTime": {
     "end_time": "2024-01-09T12:36:13.194037700Z",
     "start_time": "2024-01-09T12:36:13.134187400Z"
    }
   }
  },
  {
   "cell_type": "code",
   "execution_count": 59,
   "outputs": [
    {
     "data": {
      "text/plain": "code_from_nipez_codelist\n45000000-7    510\n71319000-7    276\n77200000-2    162\n30200000-1    119\n98310000-9    112\n             ... \n35126000-3      1\n48732000-8      1\n48610000-7      1\n39711100-0      1\n02              1\nName: company_id, Length: 1065, dtype: int64"
     },
     "execution_count": 59,
     "metadata": {},
     "output_type": "execute_result"
    }
   ],
   "source": [
    "df_for_pred.groupby('code_from_nipez_codelist')['company_id'].count().sort_values(ascending=False)"
   ],
   "metadata": {
    "collapsed": false,
    "ExecuteTime": {
     "end_time": "2024-01-09T12:36:13.209951400Z",
     "start_time": "2024-01-09T12:36:13.143763200Z"
    }
   }
  },
  {
   "cell_type": "code",
   "execution_count": 60,
   "outputs": [],
   "source": [
    " df_constructions = df_for_pred.loc[df_for_pred['code_from_nipez_codelist'] == '45000000-7']\n"
   ],
   "metadata": {
    "collapsed": false,
    "ExecuteTime": {
     "end_time": "2024-01-09T12:36:13.213054100Z",
     "start_time": "2024-01-09T12:36:13.151597200Z"
    }
   }
  },
  {
   "cell_type": "code",
   "execution_count": 61,
   "outputs": [
    {
     "name": "stdout",
     "output_type": "stream",
     "text": [
      "<class 'pandas.core.frame.DataFrame'>\n",
      "Index: 510 entries, 36 to 9229\n",
      "Data columns (total 28 columns):\n",
      " #   Column                              Non-Null Count  Dtype  \n",
      "---  ------                              --------------  -----  \n",
      " 0   is_association_of_suppliers_x       510 non-null    bool   \n",
      " 1   is_rejected_due_too_low             510 non-null    bool   \n",
      " 2   is_withdrawn                        510 non-null    bool   \n",
      " 3   price                               315 non-null    float64\n",
      " 4   price_vat                           318 non-null    float64\n",
      " 5   company_id                          510 non-null    int64  \n",
      " 6   number_of_offers                    510 non-null    int64  \n",
      " 7   bids_submission_deadline            460 non-null    object \n",
      " 8   code_from_nipez_codelist            510 non-null    object \n",
      " 9   contract_price                      510 non-null    float64\n",
      " 10  contract_price_vat                  510 non-null    float64\n",
      " 11  contract_price_with_amendments      510 non-null    float64\n",
      " 12  contract_price_with_amendments_vat  510 non-null    float64\n",
      " 13  date_of_contract_close              510 non-null    object \n",
      " 14  date_of_publication                 487 non-null    object \n",
      " 15  is_association_of_suppliers_y       510 non-null    bool   \n",
      " 16  place_of_performance                510 non-null    object \n",
      " 17  public_contract_regime              501 non-null    object \n",
      " 18  type                                510 non-null    object \n",
      " 19  type_of_procedure                   510 non-null    object \n",
      " 20  contact_person_id                   510 non-null    int64  \n",
      " 21  contracting_authority_id            510 non-null    int64  \n",
      " 22  is_winner                           510 non-null    bool   \n",
      " 23  organisation_id                     507 non-null    float64\n",
      " 24  distance                            136 non-null    float64\n",
      " 25  total_offers                        510 non-null    int64  \n",
      " 26  total_wins                          510 non-null    int64  \n",
      " 27  total_procurements                  510 non-null    int64  \n",
      "dtypes: bool(5), float64(8), int64(7), object(8)\n",
      "memory usage: 98.1+ KB\n"
     ]
    }
   ],
   "source": [
    "df_constructions.info()"
   ],
   "metadata": {
    "collapsed": false,
    "ExecuteTime": {
     "end_time": "2024-01-09T12:36:13.229042Z",
     "start_time": "2024-01-09T12:36:13.156336600Z"
    }
   }
  },
  {
   "cell_type": "code",
   "execution_count": 62,
   "outputs": [
    {
     "data": {
      "text/plain": "Index(['is_association_of_suppliers_x', 'is_rejected_due_too_low',\n       'is_withdrawn', 'price', 'price_vat', 'company_id', 'number_of_offers',\n       'bids_submission_deadline', 'code_from_nipez_codelist',\n       'contract_price', 'contract_price_vat',\n       'contract_price_with_amendments', 'contract_price_with_amendments_vat',\n       'date_of_contract_close', 'date_of_publication',\n       'is_association_of_suppliers_y', 'place_of_performance',\n       'public_contract_regime', 'type', 'type_of_procedure',\n       'contact_person_id', 'contracting_authority_id', 'is_winner',\n       'organisation_id', 'distance', 'total_offers', 'total_wins',\n       'total_procurements'],\n      dtype='object')"
     },
     "execution_count": 62,
     "metadata": {},
     "output_type": "execute_result"
    }
   ],
   "source": [
    "df_for_pred.columns"
   ],
   "metadata": {
    "collapsed": false,
    "ExecuteTime": {
     "end_time": "2024-01-09T12:36:13.246369200Z",
     "start_time": "2024-01-09T12:36:13.164568100Z"
    }
   }
  },
  {
   "cell_type": "code",
   "execution_count": 63,
   "outputs": [],
   "source": [
    "df_clusters = df_for_pred.copy()"
   ],
   "metadata": {
    "collapsed": false,
    "ExecuteTime": {
     "end_time": "2024-01-09T12:36:13.316729400Z",
     "start_time": "2024-01-09T12:36:13.167901600Z"
    }
   }
  },
  {
   "cell_type": "code",
   "execution_count": 64,
   "outputs": [
    {
     "data": {
      "text/plain": "      is_association_of_suppliers_x  is_rejected_due_too_low  is_withdrawn  \\\n0                              True                    False         False   \n1                             False                    False         False   \n2                             False                    False         False   \n3                              True                    False         False   \n4                             False                    False         False   \n...                             ...                      ...           ...   \n9240                          False                    False         False   \n9241                          False                    False         False   \n9242                          False                    False         False   \n9243                          False                    False         False   \n9244                          False                    False         False   \n\n           price   price_vat  company_id  number_of_offers  \\\n0           0.00        0.00           1                 1   \n1        9832.02    11897.00           2                 1   \n2      130000.00   130000.00           3                 1   \n3           0.00        0.00           4                 1   \n4        8468.00     9314.80           5                 1   \n...          ...         ...         ...               ...   \n9240   138514.50   167602.55         536                 2   \n9241    75752.00    91659.92         118                 2   \n9242  1184815.00  1433626.15         283                 3   \n9243  1189575.00  1439385.75         263                 3   \n9244  1221125.00  1477561.25         346                 3   \n\n     bids_submission_deadline code_from_nipez_codelist  contract_price  ...  \\\n0                         NaN               15710000-8        38973.48  ...   \n1                         NaN               50110000-9         9832.02  ...   \n2                         NaN                      NaN       130000.00  ...   \n3                         NaN               90511000-2        26580.00  ...   \n4                         NaN               90500000-2         8468.00  ...   \n...                       ...                      ...             ...  ...   \n9240                      NaN               39141000-2        75752.00  ...   \n9241                      NaN               39141000-2        75752.00  ...   \n9242                      NaN               30213100-6      1184815.00  ...   \n9243                      NaN               30213100-6      1184815.00  ...   \n9244                      NaN               30213100-6      1184815.00  ...   \n\n                                type  \\\n0     Public contract for deliveries   \n1       Public contract for services   \n2     Public contract for deliveries   \n3       Public contract for services   \n4       Public contract for services   \n...                              ...   \n9240  Public contract for deliveries   \n9241  Public contract for deliveries   \n9242  Public contract for deliveries   \n9243  Public contract for deliveries   \n9244  Public contract for deliveries   \n\n                                      type_of_procedure  contact_person_id  \\\n0     Zadávání VZ na základě rámcové dohody bez obno...                  1   \n1     Zadávání VZ na základě rámcové dohody bez obno...                  2   \n2                                        Otevřená výzva                  1   \n3     Zadávání VZ na základě rámcové dohody bez obno...                  1   \n4     Zadávání VZ na základě rámcové dohody bez obno...                  3   \n...                                                 ...                ...   \n9240  Zadávání VZ na základě rámcové dohody s obnove...                647   \n9241  Zadávání VZ na základě rámcové dohody s obnove...                647   \n9242  Zadávání VZ na základě rámcové dohody s obnove...               1143   \n9243  Zadávání VZ na základě rámcové dohody s obnove...               1143   \n9244  Zadávání VZ na základě rámcové dohody s obnove...               1143   \n\n     contracting_authority_id is_winner  organisation_id    distance  \\\n0                           1      True       66442460.0         NaN   \n1                           1      True       26031868.0         NaN   \n2                           1      True        3566358.0         NaN   \n3                           1      True       62738542.0   89.388459   \n4                           1      True       47538856.0         NaN   \n...                       ...       ...              ...         ...   \n9240                      261     False        5960657.0         NaN   \n9241                      261      True       45790604.0         NaN   \n9242                      110      True       25403435.0         NaN   \n9243                      110     False         174939.0    8.511941   \n9244                      110     False       45194416.0  210.221076   \n\n     total_offers total_wins total_procurements  \n0               7          7               2181  \n1               3          2               2181  \n2               1          1               2181  \n3               7          7               2181  \n4              34         33               2181  \n...           ...        ...                ...  \n9240           10          4                  5  \n9241            8          6                  5  \n9242           17          9                100  \n9243           36         11                100  \n9244           19         10                100  \n\n[9245 rows x 28 columns]",
      "text/html": "<div>\n<style scoped>\n    .dataframe tbody tr th:only-of-type {\n        vertical-align: middle;\n    }\n\n    .dataframe tbody tr th {\n        vertical-align: top;\n    }\n\n    .dataframe thead th {\n        text-align: right;\n    }\n</style>\n<table border=\"1\" class=\"dataframe\">\n  <thead>\n    <tr style=\"text-align: right;\">\n      <th></th>\n      <th>is_association_of_suppliers_x</th>\n      <th>is_rejected_due_too_low</th>\n      <th>is_withdrawn</th>\n      <th>price</th>\n      <th>price_vat</th>\n      <th>company_id</th>\n      <th>number_of_offers</th>\n      <th>bids_submission_deadline</th>\n      <th>code_from_nipez_codelist</th>\n      <th>contract_price</th>\n      <th>...</th>\n      <th>type</th>\n      <th>type_of_procedure</th>\n      <th>contact_person_id</th>\n      <th>contracting_authority_id</th>\n      <th>is_winner</th>\n      <th>organisation_id</th>\n      <th>distance</th>\n      <th>total_offers</th>\n      <th>total_wins</th>\n      <th>total_procurements</th>\n    </tr>\n  </thead>\n  <tbody>\n    <tr>\n      <th>0</th>\n      <td>True</td>\n      <td>False</td>\n      <td>False</td>\n      <td>0.00</td>\n      <td>0.00</td>\n      <td>1</td>\n      <td>1</td>\n      <td>NaN</td>\n      <td>15710000-8</td>\n      <td>38973.48</td>\n      <td>...</td>\n      <td>Public contract for deliveries</td>\n      <td>Zadávání VZ na základě rámcové dohody bez obno...</td>\n      <td>1</td>\n      <td>1</td>\n      <td>True</td>\n      <td>66442460.0</td>\n      <td>NaN</td>\n      <td>7</td>\n      <td>7</td>\n      <td>2181</td>\n    </tr>\n    <tr>\n      <th>1</th>\n      <td>False</td>\n      <td>False</td>\n      <td>False</td>\n      <td>9832.02</td>\n      <td>11897.00</td>\n      <td>2</td>\n      <td>1</td>\n      <td>NaN</td>\n      <td>50110000-9</td>\n      <td>9832.02</td>\n      <td>...</td>\n      <td>Public contract for services</td>\n      <td>Zadávání VZ na základě rámcové dohody bez obno...</td>\n      <td>2</td>\n      <td>1</td>\n      <td>True</td>\n      <td>26031868.0</td>\n      <td>NaN</td>\n      <td>3</td>\n      <td>2</td>\n      <td>2181</td>\n    </tr>\n    <tr>\n      <th>2</th>\n      <td>False</td>\n      <td>False</td>\n      <td>False</td>\n      <td>130000.00</td>\n      <td>130000.00</td>\n      <td>3</td>\n      <td>1</td>\n      <td>NaN</td>\n      <td>NaN</td>\n      <td>130000.00</td>\n      <td>...</td>\n      <td>Public contract for deliveries</td>\n      <td>Otevřená výzva</td>\n      <td>1</td>\n      <td>1</td>\n      <td>True</td>\n      <td>3566358.0</td>\n      <td>NaN</td>\n      <td>1</td>\n      <td>1</td>\n      <td>2181</td>\n    </tr>\n    <tr>\n      <th>3</th>\n      <td>True</td>\n      <td>False</td>\n      <td>False</td>\n      <td>0.00</td>\n      <td>0.00</td>\n      <td>4</td>\n      <td>1</td>\n      <td>NaN</td>\n      <td>90511000-2</td>\n      <td>26580.00</td>\n      <td>...</td>\n      <td>Public contract for services</td>\n      <td>Zadávání VZ na základě rámcové dohody bez obno...</td>\n      <td>1</td>\n      <td>1</td>\n      <td>True</td>\n      <td>62738542.0</td>\n      <td>89.388459</td>\n      <td>7</td>\n      <td>7</td>\n      <td>2181</td>\n    </tr>\n    <tr>\n      <th>4</th>\n      <td>False</td>\n      <td>False</td>\n      <td>False</td>\n      <td>8468.00</td>\n      <td>9314.80</td>\n      <td>5</td>\n      <td>1</td>\n      <td>NaN</td>\n      <td>90500000-2</td>\n      <td>8468.00</td>\n      <td>...</td>\n      <td>Public contract for services</td>\n      <td>Zadávání VZ na základě rámcové dohody bez obno...</td>\n      <td>3</td>\n      <td>1</td>\n      <td>True</td>\n      <td>47538856.0</td>\n      <td>NaN</td>\n      <td>34</td>\n      <td>33</td>\n      <td>2181</td>\n    </tr>\n    <tr>\n      <th>...</th>\n      <td>...</td>\n      <td>...</td>\n      <td>...</td>\n      <td>...</td>\n      <td>...</td>\n      <td>...</td>\n      <td>...</td>\n      <td>...</td>\n      <td>...</td>\n      <td>...</td>\n      <td>...</td>\n      <td>...</td>\n      <td>...</td>\n      <td>...</td>\n      <td>...</td>\n      <td>...</td>\n      <td>...</td>\n      <td>...</td>\n      <td>...</td>\n      <td>...</td>\n      <td>...</td>\n    </tr>\n    <tr>\n      <th>9240</th>\n      <td>False</td>\n      <td>False</td>\n      <td>False</td>\n      <td>138514.50</td>\n      <td>167602.55</td>\n      <td>536</td>\n      <td>2</td>\n      <td>NaN</td>\n      <td>39141000-2</td>\n      <td>75752.00</td>\n      <td>...</td>\n      <td>Public contract for deliveries</td>\n      <td>Zadávání VZ na základě rámcové dohody s obnove...</td>\n      <td>647</td>\n      <td>261</td>\n      <td>False</td>\n      <td>5960657.0</td>\n      <td>NaN</td>\n      <td>10</td>\n      <td>4</td>\n      <td>5</td>\n    </tr>\n    <tr>\n      <th>9241</th>\n      <td>False</td>\n      <td>False</td>\n      <td>False</td>\n      <td>75752.00</td>\n      <td>91659.92</td>\n      <td>118</td>\n      <td>2</td>\n      <td>NaN</td>\n      <td>39141000-2</td>\n      <td>75752.00</td>\n      <td>...</td>\n      <td>Public contract for deliveries</td>\n      <td>Zadávání VZ na základě rámcové dohody s obnove...</td>\n      <td>647</td>\n      <td>261</td>\n      <td>True</td>\n      <td>45790604.0</td>\n      <td>NaN</td>\n      <td>8</td>\n      <td>6</td>\n      <td>5</td>\n    </tr>\n    <tr>\n      <th>9242</th>\n      <td>False</td>\n      <td>False</td>\n      <td>False</td>\n      <td>1184815.00</td>\n      <td>1433626.15</td>\n      <td>283</td>\n      <td>3</td>\n      <td>NaN</td>\n      <td>30213100-6</td>\n      <td>1184815.00</td>\n      <td>...</td>\n      <td>Public contract for deliveries</td>\n      <td>Zadávání VZ na základě rámcové dohody s obnove...</td>\n      <td>1143</td>\n      <td>110</td>\n      <td>True</td>\n      <td>25403435.0</td>\n      <td>NaN</td>\n      <td>17</td>\n      <td>9</td>\n      <td>100</td>\n    </tr>\n    <tr>\n      <th>9243</th>\n      <td>False</td>\n      <td>False</td>\n      <td>False</td>\n      <td>1189575.00</td>\n      <td>1439385.75</td>\n      <td>263</td>\n      <td>3</td>\n      <td>NaN</td>\n      <td>30213100-6</td>\n      <td>1184815.00</td>\n      <td>...</td>\n      <td>Public contract for deliveries</td>\n      <td>Zadávání VZ na základě rámcové dohody s obnove...</td>\n      <td>1143</td>\n      <td>110</td>\n      <td>False</td>\n      <td>174939.0</td>\n      <td>8.511941</td>\n      <td>36</td>\n      <td>11</td>\n      <td>100</td>\n    </tr>\n    <tr>\n      <th>9244</th>\n      <td>False</td>\n      <td>False</td>\n      <td>False</td>\n      <td>1221125.00</td>\n      <td>1477561.25</td>\n      <td>346</td>\n      <td>3</td>\n      <td>NaN</td>\n      <td>30213100-6</td>\n      <td>1184815.00</td>\n      <td>...</td>\n      <td>Public contract for deliveries</td>\n      <td>Zadávání VZ na základě rámcové dohody s obnove...</td>\n      <td>1143</td>\n      <td>110</td>\n      <td>False</td>\n      <td>45194416.0</td>\n      <td>210.221076</td>\n      <td>19</td>\n      <td>10</td>\n      <td>100</td>\n    </tr>\n  </tbody>\n</table>\n<p>9245 rows × 28 columns</p>\n</div>"
     },
     "execution_count": 64,
     "metadata": {},
     "output_type": "execute_result"
    }
   ],
   "source": [
    "df_clusters"
   ],
   "metadata": {
    "collapsed": false,
    "ExecuteTime": {
     "end_time": "2024-01-09T12:36:13.319027Z",
     "start_time": "2024-01-09T12:36:13.174136400Z"
    }
   }
  },
  {
   "cell_type": "code",
   "execution_count": 65,
   "outputs": [
    {
     "data": {
      "text/plain": "                                     is_association_of_suppliers_x  \\\ncompany_id contracting_authority_id                                  \n1          1                                                     4   \n2          1                                                     0   \n3          1                                                     0   \n4          1                                                     2   \n5          1                                                     0   \n...                                                            ...   \n3692       484                                                   0   \n3693       64                                                    0   \n3694       64                                                    0   \n3695       64                                                    0   \n3696       64                                                    0   \n\n                                     is_rejected_due_too_low  is_withdrawn  \\\ncompany_id contracting_authority_id                                          \n1          1                                               0             0   \n2          1                                               0             0   \n3          1                                               0             0   \n4          1                                               0             0   \n5          1                                               0             0   \n...                                                      ...           ...   \n3692       484                                             0             0   \n3693       64                                              0             0   \n3694       64                                              0             0   \n3695       64                                              0             0   \n3696       64                                              0             0   \n\n                                          price   price_vat  number_of_offers  \\\ncompany_id contracting_authority_id                                             \n1          1                              14.24       16.38                 7   \n2          1                           12112.02   202841.30                 9   \n3          1                          130000.00   130000.00                 1   \n4          1                           48615.00    58824.15                 8   \n5          1                         1461740.50  1715061.10                36   \n...                                         ...         ...               ...   \n3692       484                       2059756.00  2368719.40                 5   \n3693       64                        1292000.00  1563320.00                 9   \n3694       64                        1755450.00  2124094.50                 9   \n3695       64                        1689391.17  2044163.32                 9   \n3696       64                        1543000.00  1867030.00                 9   \n\n                                                     bids_submission_deadline  \\\ncompany_id contracting_authority_id                                             \n1          1                                             2021-11-222021-11-22   \n2          1                                                       2023-09-20   \n3          1                                                                0   \n4          1                         2021-03-032021-06-212022-02-112022-02-11   \n5          1                                   2019-02-262023-01-202023-01-24   \n...                                                                       ...   \n3692       484                                                     2023-10-30   \n3693       64                                                      2023-11-20   \n3694       64                                                      2023-11-20   \n3695       64                                                      2023-11-20   \n3696       64                                                      2023-11-20   \n\n                                                              code_from_nipez_codelist  \\\ncompany_id contracting_authority_id                                                      \n1          1                         15710000-815710000-815710000-815710000-8157100...   \n2          1                                            50110000-950110000-924951311-8   \n3          1                                                                         0   \n4          1                         90511000-290511000-290511000-290511000-2905110...   \n5          1                         90500000-290920000-290910000-990500000-2909200...   \n...                                                                                ...   \n3692       484                                                              45000000-7   \n3693       64                                                               39221000-7   \n3694       64                                                               39221000-7   \n3695       64                                                               39221000-7   \n3696       64                                                               39221000-7   \n\n                                     contract_price  contract_price_vat  ...  \\\ncompany_id contracting_authority_id                                      ...   \n1          1                              293709.97           337707.00  ...   \n2          1                               74416.32            90043.74  ...   \n3          1                              130000.00           130000.00  ...   \n4          1                              180645.79           218581.40  ...   \n5          1                             1267255.50          1484074.30  ...   \n...                                             ...                 ...  ...   \n3692       484                           1892334.00          2176184.10  ...   \n3693       64                            1292000.00          1563320.00  ...   \n3694       64                            1292000.00          1563320.00  ...   \n3695       64                            1292000.00          1563320.00  ...   \n3696       64                            1292000.00          1563320.00  ...   \n\n                                                                public_contract_regime  \\\ncompany_id contracting_authority_id                                                      \n1          1                         Small-scale public contractSmall-scale public ...   \n2          1                                               Small-scale public contract   \n3          1                                               Small-scale public contract   \n4          1                         Small-scale public contractSmall-scale public ...   \n5          1                         Small-scale public contractSmall-scale public ...   \n...                                                                                ...   \n3692       484                                             Small-scale public contract   \n3693       64                                              Small-scale public contract   \n3694       64                                              Small-scale public contract   \n3695       64                                              Small-scale public contract   \n3696       64                                              Small-scale public contract   \n\n                                                                                  type  \\\ncompany_id contracting_authority_id                                                      \n1          1                         Public contract for deliveriesPublic contract ...   \n2          1                         Public contract for servicesPublic contract fo...   \n3          1                                            Public contract for deliveries   \n4          1                         Public contract for servicesPublic contract fo...   \n5          1                         Public contract for servicesPublic contract fo...   \n...                                                                                ...   \n3692       484                                   Public contract for construction work   \n3693       64                                           Public contract for deliveries   \n3694       64                                           Public contract for deliveries   \n3695       64                                           Public contract for deliveries   \n3696       64                                           Public contract for deliveries   \n\n                                                                     type_of_procedure  \\\ncompany_id contracting_authority_id                                                      \n1          1                         Zadávání VZ na základě rámcové dohody bez obno...   \n2          1                         Zadávání VZ na základě rámcové dohody bez obno...   \n3          1                                                            Otevřená výzva   \n4          1                         Zadávání VZ na základě rámcové dohody bez obno...   \n5          1                         Zadávání VZ na základě rámcové dohody bez obno...   \n...                                                                                ...   \n3692       484                                                          Otevřená výzva   \n3693       64                                                           Otevřená výzva   \n3694       64                                                           Otevřená výzva   \n3695       64                                                           Otevřená výzva   \n3696       64                                                           Otevřená výzva   \n\n                                    contact_person_id  is_winner  \\\ncompany_id contracting_authority_id                                \n1          1                                        7          7   \n2          1                                      173          2   \n3          1                                        1          1   \n4          1                                        7          7   \n5          1                                    19554         33   \n...                                               ...        ...   \n3692       484                                   1183          0   \n3693       64                                     916          1   \n3694       64                                     916          0   \n3695       64                                     916          0   \n3696       64                                     916          0   \n\n                                    organisation_id    distance total_offers  \\\ncompany_id contracting_authority_id                                            \n1          1                           4.650972e+08    0.000000           49   \n2          1                           7.809560e+07    0.000000            9   \n3          1                           3.566358e+06    0.000000            1   \n4          1                           4.391698e+08  625.719212           49   \n5          1                           1.616321e+09    0.000000         1156   \n...                                             ...         ...          ...   \n3692       484                         2.604004e+07    0.000000            1   \n3693       64                          2.909953e+07    0.000000            1   \n3694       64                          2.781886e+07  196.898200            1   \n3695       64                          2.697758e+07  113.667026            1   \n3696       64                          6.425372e+06  116.190717            1   \n\n                                    total_wins  total_procurements  \ncompany_id contracting_authority_id                                 \n1          1                                49               15267  \n2          1                                 6                6543  \n3          1                                 1                2181  \n4          1                                49               15267  \n5          1                              1122               74154  \n...                                        ...                 ...  \n3692       484                               0                   1  \n3693       64                                1                  28  \n3694       64                                0                  28  \n3695       64                                0                  28  \n3696       64                                0                  28  \n\n[5259 rows x 26 columns]",
      "text/html": "<div>\n<style scoped>\n    .dataframe tbody tr th:only-of-type {\n        vertical-align: middle;\n    }\n\n    .dataframe tbody tr th {\n        vertical-align: top;\n    }\n\n    .dataframe thead th {\n        text-align: right;\n    }\n</style>\n<table border=\"1\" class=\"dataframe\">\n  <thead>\n    <tr style=\"text-align: right;\">\n      <th></th>\n      <th></th>\n      <th>is_association_of_suppliers_x</th>\n      <th>is_rejected_due_too_low</th>\n      <th>is_withdrawn</th>\n      <th>price</th>\n      <th>price_vat</th>\n      <th>number_of_offers</th>\n      <th>bids_submission_deadline</th>\n      <th>code_from_nipez_codelist</th>\n      <th>contract_price</th>\n      <th>contract_price_vat</th>\n      <th>...</th>\n      <th>public_contract_regime</th>\n      <th>type</th>\n      <th>type_of_procedure</th>\n      <th>contact_person_id</th>\n      <th>is_winner</th>\n      <th>organisation_id</th>\n      <th>distance</th>\n      <th>total_offers</th>\n      <th>total_wins</th>\n      <th>total_procurements</th>\n    </tr>\n    <tr>\n      <th>company_id</th>\n      <th>contracting_authority_id</th>\n      <th></th>\n      <th></th>\n      <th></th>\n      <th></th>\n      <th></th>\n      <th></th>\n      <th></th>\n      <th></th>\n      <th></th>\n      <th></th>\n      <th></th>\n      <th></th>\n      <th></th>\n      <th></th>\n      <th></th>\n      <th></th>\n      <th></th>\n      <th></th>\n      <th></th>\n      <th></th>\n      <th></th>\n    </tr>\n  </thead>\n  <tbody>\n    <tr>\n      <th>1</th>\n      <th>1</th>\n      <td>4</td>\n      <td>0</td>\n      <td>0</td>\n      <td>14.24</td>\n      <td>16.38</td>\n      <td>7</td>\n      <td>2021-11-222021-11-22</td>\n      <td>15710000-815710000-815710000-815710000-8157100...</td>\n      <td>293709.97</td>\n      <td>337707.00</td>\n      <td>...</td>\n      <td>Small-scale public contractSmall-scale public ...</td>\n      <td>Public contract for deliveriesPublic contract ...</td>\n      <td>Zadávání VZ na základě rámcové dohody bez obno...</td>\n      <td>7</td>\n      <td>7</td>\n      <td>4.650972e+08</td>\n      <td>0.000000</td>\n      <td>49</td>\n      <td>49</td>\n      <td>15267</td>\n    </tr>\n    <tr>\n      <th>2</th>\n      <th>1</th>\n      <td>0</td>\n      <td>0</td>\n      <td>0</td>\n      <td>12112.02</td>\n      <td>202841.30</td>\n      <td>9</td>\n      <td>2023-09-20</td>\n      <td>50110000-950110000-924951311-8</td>\n      <td>74416.32</td>\n      <td>90043.74</td>\n      <td>...</td>\n      <td>Small-scale public contract</td>\n      <td>Public contract for servicesPublic contract fo...</td>\n      <td>Zadávání VZ na základě rámcové dohody bez obno...</td>\n      <td>173</td>\n      <td>2</td>\n      <td>7.809560e+07</td>\n      <td>0.000000</td>\n      <td>9</td>\n      <td>6</td>\n      <td>6543</td>\n    </tr>\n    <tr>\n      <th>3</th>\n      <th>1</th>\n      <td>0</td>\n      <td>0</td>\n      <td>0</td>\n      <td>130000.00</td>\n      <td>130000.00</td>\n      <td>1</td>\n      <td>0</td>\n      <td>0</td>\n      <td>130000.00</td>\n      <td>130000.00</td>\n      <td>...</td>\n      <td>Small-scale public contract</td>\n      <td>Public contract for deliveries</td>\n      <td>Otevřená výzva</td>\n      <td>1</td>\n      <td>1</td>\n      <td>3.566358e+06</td>\n      <td>0.000000</td>\n      <td>1</td>\n      <td>1</td>\n      <td>2181</td>\n    </tr>\n    <tr>\n      <th>4</th>\n      <th>1</th>\n      <td>2</td>\n      <td>0</td>\n      <td>0</td>\n      <td>48615.00</td>\n      <td>58824.15</td>\n      <td>8</td>\n      <td>2021-03-032021-06-212022-02-112022-02-11</td>\n      <td>90511000-290511000-290511000-290511000-2905110...</td>\n      <td>180645.79</td>\n      <td>218581.40</td>\n      <td>...</td>\n      <td>Small-scale public contractSmall-scale public ...</td>\n      <td>Public contract for servicesPublic contract fo...</td>\n      <td>Zadávání VZ na základě rámcové dohody bez obno...</td>\n      <td>7</td>\n      <td>7</td>\n      <td>4.391698e+08</td>\n      <td>625.719212</td>\n      <td>49</td>\n      <td>49</td>\n      <td>15267</td>\n    </tr>\n    <tr>\n      <th>5</th>\n      <th>1</th>\n      <td>0</td>\n      <td>0</td>\n      <td>0</td>\n      <td>1461740.50</td>\n      <td>1715061.10</td>\n      <td>36</td>\n      <td>2019-02-262023-01-202023-01-24</td>\n      <td>90500000-290920000-290910000-990500000-2909200...</td>\n      <td>1267255.50</td>\n      <td>1484074.30</td>\n      <td>...</td>\n      <td>Small-scale public contractSmall-scale public ...</td>\n      <td>Public contract for servicesPublic contract fo...</td>\n      <td>Zadávání VZ na základě rámcové dohody bez obno...</td>\n      <td>19554</td>\n      <td>33</td>\n      <td>1.616321e+09</td>\n      <td>0.000000</td>\n      <td>1156</td>\n      <td>1122</td>\n      <td>74154</td>\n    </tr>\n    <tr>\n      <th>...</th>\n      <th>...</th>\n      <td>...</td>\n      <td>...</td>\n      <td>...</td>\n      <td>...</td>\n      <td>...</td>\n      <td>...</td>\n      <td>...</td>\n      <td>...</td>\n      <td>...</td>\n      <td>...</td>\n      <td>...</td>\n      <td>...</td>\n      <td>...</td>\n      <td>...</td>\n      <td>...</td>\n      <td>...</td>\n      <td>...</td>\n      <td>...</td>\n      <td>...</td>\n      <td>...</td>\n      <td>...</td>\n    </tr>\n    <tr>\n      <th>3692</th>\n      <th>484</th>\n      <td>0</td>\n      <td>0</td>\n      <td>0</td>\n      <td>2059756.00</td>\n      <td>2368719.40</td>\n      <td>5</td>\n      <td>2023-10-30</td>\n      <td>45000000-7</td>\n      <td>1892334.00</td>\n      <td>2176184.10</td>\n      <td>...</td>\n      <td>Small-scale public contract</td>\n      <td>Public contract for construction work</td>\n      <td>Otevřená výzva</td>\n      <td>1183</td>\n      <td>0</td>\n      <td>2.604004e+07</td>\n      <td>0.000000</td>\n      <td>1</td>\n      <td>0</td>\n      <td>1</td>\n    </tr>\n    <tr>\n      <th>3693</th>\n      <th>64</th>\n      <td>0</td>\n      <td>0</td>\n      <td>0</td>\n      <td>1292000.00</td>\n      <td>1563320.00</td>\n      <td>9</td>\n      <td>2023-11-20</td>\n      <td>39221000-7</td>\n      <td>1292000.00</td>\n      <td>1563320.00</td>\n      <td>...</td>\n      <td>Small-scale public contract</td>\n      <td>Public contract for deliveries</td>\n      <td>Otevřená výzva</td>\n      <td>916</td>\n      <td>1</td>\n      <td>2.909953e+07</td>\n      <td>0.000000</td>\n      <td>1</td>\n      <td>1</td>\n      <td>28</td>\n    </tr>\n    <tr>\n      <th>3694</th>\n      <th>64</th>\n      <td>0</td>\n      <td>0</td>\n      <td>0</td>\n      <td>1755450.00</td>\n      <td>2124094.50</td>\n      <td>9</td>\n      <td>2023-11-20</td>\n      <td>39221000-7</td>\n      <td>1292000.00</td>\n      <td>1563320.00</td>\n      <td>...</td>\n      <td>Small-scale public contract</td>\n      <td>Public contract for deliveries</td>\n      <td>Otevřená výzva</td>\n      <td>916</td>\n      <td>0</td>\n      <td>2.781886e+07</td>\n      <td>196.898200</td>\n      <td>1</td>\n      <td>0</td>\n      <td>28</td>\n    </tr>\n    <tr>\n      <th>3695</th>\n      <th>64</th>\n      <td>0</td>\n      <td>0</td>\n      <td>0</td>\n      <td>1689391.17</td>\n      <td>2044163.32</td>\n      <td>9</td>\n      <td>2023-11-20</td>\n      <td>39221000-7</td>\n      <td>1292000.00</td>\n      <td>1563320.00</td>\n      <td>...</td>\n      <td>Small-scale public contract</td>\n      <td>Public contract for deliveries</td>\n      <td>Otevřená výzva</td>\n      <td>916</td>\n      <td>0</td>\n      <td>2.697758e+07</td>\n      <td>113.667026</td>\n      <td>1</td>\n      <td>0</td>\n      <td>28</td>\n    </tr>\n    <tr>\n      <th>3696</th>\n      <th>64</th>\n      <td>0</td>\n      <td>0</td>\n      <td>0</td>\n      <td>1543000.00</td>\n      <td>1867030.00</td>\n      <td>9</td>\n      <td>2023-11-20</td>\n      <td>39221000-7</td>\n      <td>1292000.00</td>\n      <td>1563320.00</td>\n      <td>...</td>\n      <td>Small-scale public contract</td>\n      <td>Public contract for deliveries</td>\n      <td>Otevřená výzva</td>\n      <td>916</td>\n      <td>0</td>\n      <td>6.425372e+06</td>\n      <td>116.190717</td>\n      <td>1</td>\n      <td>0</td>\n      <td>28</td>\n    </tr>\n  </tbody>\n</table>\n<p>5259 rows × 26 columns</p>\n</div>"
     },
     "execution_count": 65,
     "metadata": {},
     "output_type": "execute_result"
    }
   ],
   "source": [
    "df_clusters.groupby(['company_id', 'contracting_authority_id']).sum()"
   ],
   "metadata": {
    "collapsed": false,
    "ExecuteTime": {
     "end_time": "2024-01-09T12:36:13.364730100Z",
     "start_time": "2024-01-09T12:36:13.190931600Z"
    }
   }
  },
  {
   "cell_type": "code",
   "execution_count": 66,
   "outputs": [],
   "source": [
    "grouped_by_comp_id = df_clusters.groupby('company_id')\n",
    "number_of_unique_con_auth = grouped_by_comp_id[\"contracting_authority_id\"].nunique()\n",
    "grouped_by_comp_con_auth = df_clusters.groupby('contracting_authority_id')\n",
    "number_of_unique_comp_id = grouped_by_comp_con_auth[\"company_id\"].nunique()"
   ],
   "metadata": {
    "collapsed": false,
    "ExecuteTime": {
     "end_time": "2024-01-09T12:36:13.366801100Z",
     "start_time": "2024-01-09T12:36:13.222021100Z"
    }
   }
  },
  {
   "cell_type": "code",
   "execution_count": 67,
   "outputs": [
    {
     "data": {
      "text/plain": "<pandas.core.groupby.generic.DataFrameGroupBy object at 0x000001C0B337D410>"
     },
     "execution_count": 67,
     "metadata": {},
     "output_type": "execute_result"
    }
   ],
   "source": [
    "grouped_by_comp_con_auth"
   ],
   "metadata": {
    "collapsed": false,
    "ExecuteTime": {
     "end_time": "2024-01-09T12:36:13.385111600Z",
     "start_time": "2024-01-09T12:36:13.229042Z"
    }
   }
  },
  {
   "cell_type": "code",
   "execution_count": 68,
   "outputs": [
    {
     "data": {
      "text/plain": "      is_association_of_suppliers_x  is_rejected_due_too_low  is_withdrawn  \\\n25                            False                    False         False   \n38                            False                    False         False   \n557                           False                    False         False   \n586                           False                    False         False   \n618                           False                    False         False   \n1461                          False                    False         False   \n1474                          False                    False         False   \n1503                          False                    False         False   \n2144                          False                    False         False   \n2212                          False                    False         False   \n4110                          False                    False         False   \n4267                          False                    False         False   \n5117                          False                    False         False   \n6294                          False                    False         False   \n7591                          False                    False         False   \n7978                          False                    False         False   \n8279                          False                    False         False   \n8377                          False                    False         False   \n\n             price     price_vat  company_id  number_of_offers  \\\n25    1.693786e+07  2.049482e+07          26                 4   \n38    5.655473e+06  6.843122e+06          26                12   \n557   1.850525e+08  2.239135e+08          26                 4   \n586            NaN           NaN          26                 7   \n618            NaN           NaN          26                 7   \n1461  9.147739e+08           NaN          26                 6   \n1474  9.181834e+06  1.111002e+07          26                 8   \n1503  2.994623e+07  3.623493e+07          26                 5   \n2144           NaN           NaN          26                 5   \n2212  1.777565e+08  2.150854e+08          26                 9   \n4110  1.951510e+07  2.361327e+07          26                 9   \n4267  1.614435e+07  1.953466e+07          26                 6   \n5117           NaN           NaN          26                 4   \n6294           NaN           NaN          26                10   \n7591           NaN           NaN          26                17   \n7978  3.645839e+06  4.411465e+06          26                 8   \n8279           NaN           NaN          26                 5   \n8377  7.390770e+06  8.942831e+06          26                 2   \n\n     bids_submission_deadline code_from_nipez_codelist  contract_price  ...  \\\n25                 2023-05-17               45233140-2    1.597708e+07  ...   \n38                 2023-02-17               45000000-7    5.306957e+06  ...   \n557                2021-12-27               45000000-7    1.546592e+08  ...   \n586                       NaN               45232400-6    0.000000e+00  ...   \n618                       NaN               45232150-8    3.078400e+07  ...   \n1461               2020-11-20               45000000-7    7.879914e+08  ...   \n1474               2023-02-16               45000000-7    7.517363e+06  ...   \n1503               2022-11-21               45233140-2    2.994623e+07  ...   \n2144               2023-06-19               45213316-1    4.868732e+06  ...   \n2212               2021-07-27               45214200-2    1.388492e+08  ...   \n4110               2022-11-15               45233140-2    1.858560e+07  ...   \n4267               2023-02-16               45231300-8    1.614435e+07  ...   \n5117               2022-01-10               45000000-7    5.945345e+08  ...   \n6294               2023-07-17               45233162-2    1.120120e+07  ...   \n7591               2020-07-30               45000000-7    0.000000e+00  ...   \n7978               2023-07-10               45233162-2    3.598860e+06  ...   \n8279               2023-02-24               45000000-7    3.735406e+07  ...   \n8377                      NaN                      NaN    4.337554e+06  ...   \n\n                                       type               type_of_procedure  \\\n25    Public contract for construction work  Zjednodušené podlimitní řízení   \n38    Public contract for construction work  Zjednodušené podlimitní řízení   \n557   Public contract for construction work                 Otevřené řízení   \n586   Public contract for construction work                     Užší řízení   \n618   Public contract for construction work                     Užší řízení   \n1461  Public contract for construction work                 Otevřené řízení   \n1474  Public contract for construction work  Zjednodušené podlimitní řízení   \n1503  Public contract for construction work  Zjednodušené podlimitní řízení   \n2144  Public contract for construction work  Zjednodušené podlimitní řízení   \n2212  Public contract for construction work                 Otevřené řízení   \n4110  Public contract for construction work  Zjednodušené podlimitní řízení   \n4267  Public contract for construction work  Zjednodušené podlimitní řízení   \n5117  Public contract for construction work                 Otevřené řízení   \n6294  Public contract for construction work  Zjednodušené podlimitní řízení   \n7591  Public contract for construction work                     Užší řízení   \n7978  Public contract for construction work                  Otevřená výzva   \n8279  Public contract for construction work                     Užší řízení   \n8377  Public contract for construction work                  Uzavřená výzva   \n\n      contact_person_id contracting_authority_id is_winner  organisation_id  \\\n25                   11                        7     False       43005560.0   \n38                   56                       54     False       43005560.0   \n557                 170                      116     False       43005560.0   \n586                 172                      118     False       43005560.0   \n618                 181                      123     False       43005560.0   \n1461                368                        4     False       43005560.0   \n1474                240                      206     False       43005560.0   \n1503                 11                        7      True       43005560.0   \n2144                453                      238     False       43005560.0   \n2212                463                       97     False       43005560.0   \n4110                691                        7     False       43005560.0   \n4267                709                      284      True       43005560.0   \n5117                170                      116      True       43005560.0   \n6294                906                      395     False       43005560.0   \n7591               1062                      456     False       43005560.0   \n7978                552                       73     False       43005560.0   \n8279                971                      472     False       43005560.0   \n8377               1123                      285     False       43005560.0   \n\n        distance total_offers total_wins total_procurements  \n25           NaN           18          3                  3  \n38    229.373415           18          3                  1  \n557     6.527547           18          3                  2  \n586          NaN           18          3                  1  \n618          NaN           18          3                  1  \n1461    5.189248           18          3                 39  \n1474         NaN           18          3                  1  \n1503         NaN           18          3                  3  \n2144         NaN           18          3                  1  \n2212  270.990504           18          3                 13  \n4110         NaN           18          3                  3  \n4267  117.557648           18          3                 11  \n5117    6.527547           18          3                  2  \n6294         NaN           18          3                  1  \n7591         NaN           18          3                  1  \n7978  222.148031           18          3                  9  \n8279         NaN           18          3                  1  \n8377         NaN           18          3                  4  \n\n[18 rows x 28 columns]",
      "text/html": "<div>\n<style scoped>\n    .dataframe tbody tr th:only-of-type {\n        vertical-align: middle;\n    }\n\n    .dataframe tbody tr th {\n        vertical-align: top;\n    }\n\n    .dataframe thead th {\n        text-align: right;\n    }\n</style>\n<table border=\"1\" class=\"dataframe\">\n  <thead>\n    <tr style=\"text-align: right;\">\n      <th></th>\n      <th>is_association_of_suppliers_x</th>\n      <th>is_rejected_due_too_low</th>\n      <th>is_withdrawn</th>\n      <th>price</th>\n      <th>price_vat</th>\n      <th>company_id</th>\n      <th>number_of_offers</th>\n      <th>bids_submission_deadline</th>\n      <th>code_from_nipez_codelist</th>\n      <th>contract_price</th>\n      <th>...</th>\n      <th>type</th>\n      <th>type_of_procedure</th>\n      <th>contact_person_id</th>\n      <th>contracting_authority_id</th>\n      <th>is_winner</th>\n      <th>organisation_id</th>\n      <th>distance</th>\n      <th>total_offers</th>\n      <th>total_wins</th>\n      <th>total_procurements</th>\n    </tr>\n  </thead>\n  <tbody>\n    <tr>\n      <th>25</th>\n      <td>False</td>\n      <td>False</td>\n      <td>False</td>\n      <td>1.693786e+07</td>\n      <td>2.049482e+07</td>\n      <td>26</td>\n      <td>4</td>\n      <td>2023-05-17</td>\n      <td>45233140-2</td>\n      <td>1.597708e+07</td>\n      <td>...</td>\n      <td>Public contract for construction work</td>\n      <td>Zjednodušené podlimitní řízení</td>\n      <td>11</td>\n      <td>7</td>\n      <td>False</td>\n      <td>43005560.0</td>\n      <td>NaN</td>\n      <td>18</td>\n      <td>3</td>\n      <td>3</td>\n    </tr>\n    <tr>\n      <th>38</th>\n      <td>False</td>\n      <td>False</td>\n      <td>False</td>\n      <td>5.655473e+06</td>\n      <td>6.843122e+06</td>\n      <td>26</td>\n      <td>12</td>\n      <td>2023-02-17</td>\n      <td>45000000-7</td>\n      <td>5.306957e+06</td>\n      <td>...</td>\n      <td>Public contract for construction work</td>\n      <td>Zjednodušené podlimitní řízení</td>\n      <td>56</td>\n      <td>54</td>\n      <td>False</td>\n      <td>43005560.0</td>\n      <td>229.373415</td>\n      <td>18</td>\n      <td>3</td>\n      <td>1</td>\n    </tr>\n    <tr>\n      <th>557</th>\n      <td>False</td>\n      <td>False</td>\n      <td>False</td>\n      <td>1.850525e+08</td>\n      <td>2.239135e+08</td>\n      <td>26</td>\n      <td>4</td>\n      <td>2021-12-27</td>\n      <td>45000000-7</td>\n      <td>1.546592e+08</td>\n      <td>...</td>\n      <td>Public contract for construction work</td>\n      <td>Otevřené řízení</td>\n      <td>170</td>\n      <td>116</td>\n      <td>False</td>\n      <td>43005560.0</td>\n      <td>6.527547</td>\n      <td>18</td>\n      <td>3</td>\n      <td>2</td>\n    </tr>\n    <tr>\n      <th>586</th>\n      <td>False</td>\n      <td>False</td>\n      <td>False</td>\n      <td>NaN</td>\n      <td>NaN</td>\n      <td>26</td>\n      <td>7</td>\n      <td>NaN</td>\n      <td>45232400-6</td>\n      <td>0.000000e+00</td>\n      <td>...</td>\n      <td>Public contract for construction work</td>\n      <td>Užší řízení</td>\n      <td>172</td>\n      <td>118</td>\n      <td>False</td>\n      <td>43005560.0</td>\n      <td>NaN</td>\n      <td>18</td>\n      <td>3</td>\n      <td>1</td>\n    </tr>\n    <tr>\n      <th>618</th>\n      <td>False</td>\n      <td>False</td>\n      <td>False</td>\n      <td>NaN</td>\n      <td>NaN</td>\n      <td>26</td>\n      <td>7</td>\n      <td>NaN</td>\n      <td>45232150-8</td>\n      <td>3.078400e+07</td>\n      <td>...</td>\n      <td>Public contract for construction work</td>\n      <td>Užší řízení</td>\n      <td>181</td>\n      <td>123</td>\n      <td>False</td>\n      <td>43005560.0</td>\n      <td>NaN</td>\n      <td>18</td>\n      <td>3</td>\n      <td>1</td>\n    </tr>\n    <tr>\n      <th>1461</th>\n      <td>False</td>\n      <td>False</td>\n      <td>False</td>\n      <td>9.147739e+08</td>\n      <td>NaN</td>\n      <td>26</td>\n      <td>6</td>\n      <td>2020-11-20</td>\n      <td>45000000-7</td>\n      <td>7.879914e+08</td>\n      <td>...</td>\n      <td>Public contract for construction work</td>\n      <td>Otevřené řízení</td>\n      <td>368</td>\n      <td>4</td>\n      <td>False</td>\n      <td>43005560.0</td>\n      <td>5.189248</td>\n      <td>18</td>\n      <td>3</td>\n      <td>39</td>\n    </tr>\n    <tr>\n      <th>1474</th>\n      <td>False</td>\n      <td>False</td>\n      <td>False</td>\n      <td>9.181834e+06</td>\n      <td>1.111002e+07</td>\n      <td>26</td>\n      <td>8</td>\n      <td>2023-02-16</td>\n      <td>45000000-7</td>\n      <td>7.517363e+06</td>\n      <td>...</td>\n      <td>Public contract for construction work</td>\n      <td>Zjednodušené podlimitní řízení</td>\n      <td>240</td>\n      <td>206</td>\n      <td>False</td>\n      <td>43005560.0</td>\n      <td>NaN</td>\n      <td>18</td>\n      <td>3</td>\n      <td>1</td>\n    </tr>\n    <tr>\n      <th>1503</th>\n      <td>False</td>\n      <td>False</td>\n      <td>False</td>\n      <td>2.994623e+07</td>\n      <td>3.623493e+07</td>\n      <td>26</td>\n      <td>5</td>\n      <td>2022-11-21</td>\n      <td>45233140-2</td>\n      <td>2.994623e+07</td>\n      <td>...</td>\n      <td>Public contract for construction work</td>\n      <td>Zjednodušené podlimitní řízení</td>\n      <td>11</td>\n      <td>7</td>\n      <td>True</td>\n      <td>43005560.0</td>\n      <td>NaN</td>\n      <td>18</td>\n      <td>3</td>\n      <td>3</td>\n    </tr>\n    <tr>\n      <th>2144</th>\n      <td>False</td>\n      <td>False</td>\n      <td>False</td>\n      <td>NaN</td>\n      <td>NaN</td>\n      <td>26</td>\n      <td>5</td>\n      <td>2023-06-19</td>\n      <td>45213316-1</td>\n      <td>4.868732e+06</td>\n      <td>...</td>\n      <td>Public contract for construction work</td>\n      <td>Zjednodušené podlimitní řízení</td>\n      <td>453</td>\n      <td>238</td>\n      <td>False</td>\n      <td>43005560.0</td>\n      <td>NaN</td>\n      <td>18</td>\n      <td>3</td>\n      <td>1</td>\n    </tr>\n    <tr>\n      <th>2212</th>\n      <td>False</td>\n      <td>False</td>\n      <td>False</td>\n      <td>1.777565e+08</td>\n      <td>2.150854e+08</td>\n      <td>26</td>\n      <td>9</td>\n      <td>2021-07-27</td>\n      <td>45214200-2</td>\n      <td>1.388492e+08</td>\n      <td>...</td>\n      <td>Public contract for construction work</td>\n      <td>Otevřené řízení</td>\n      <td>463</td>\n      <td>97</td>\n      <td>False</td>\n      <td>43005560.0</td>\n      <td>270.990504</td>\n      <td>18</td>\n      <td>3</td>\n      <td>13</td>\n    </tr>\n    <tr>\n      <th>4110</th>\n      <td>False</td>\n      <td>False</td>\n      <td>False</td>\n      <td>1.951510e+07</td>\n      <td>2.361327e+07</td>\n      <td>26</td>\n      <td>9</td>\n      <td>2022-11-15</td>\n      <td>45233140-2</td>\n      <td>1.858560e+07</td>\n      <td>...</td>\n      <td>Public contract for construction work</td>\n      <td>Zjednodušené podlimitní řízení</td>\n      <td>691</td>\n      <td>7</td>\n      <td>False</td>\n      <td>43005560.0</td>\n      <td>NaN</td>\n      <td>18</td>\n      <td>3</td>\n      <td>3</td>\n    </tr>\n    <tr>\n      <th>4267</th>\n      <td>False</td>\n      <td>False</td>\n      <td>False</td>\n      <td>1.614435e+07</td>\n      <td>1.953466e+07</td>\n      <td>26</td>\n      <td>6</td>\n      <td>2023-02-16</td>\n      <td>45231300-8</td>\n      <td>1.614435e+07</td>\n      <td>...</td>\n      <td>Public contract for construction work</td>\n      <td>Zjednodušené podlimitní řízení</td>\n      <td>709</td>\n      <td>284</td>\n      <td>True</td>\n      <td>43005560.0</td>\n      <td>117.557648</td>\n      <td>18</td>\n      <td>3</td>\n      <td>11</td>\n    </tr>\n    <tr>\n      <th>5117</th>\n      <td>False</td>\n      <td>False</td>\n      <td>False</td>\n      <td>NaN</td>\n      <td>NaN</td>\n      <td>26</td>\n      <td>4</td>\n      <td>2022-01-10</td>\n      <td>45000000-7</td>\n      <td>5.945345e+08</td>\n      <td>...</td>\n      <td>Public contract for construction work</td>\n      <td>Otevřené řízení</td>\n      <td>170</td>\n      <td>116</td>\n      <td>True</td>\n      <td>43005560.0</td>\n      <td>6.527547</td>\n      <td>18</td>\n      <td>3</td>\n      <td>2</td>\n    </tr>\n    <tr>\n      <th>6294</th>\n      <td>False</td>\n      <td>False</td>\n      <td>False</td>\n      <td>NaN</td>\n      <td>NaN</td>\n      <td>26</td>\n      <td>10</td>\n      <td>2023-07-17</td>\n      <td>45233162-2</td>\n      <td>1.120120e+07</td>\n      <td>...</td>\n      <td>Public contract for construction work</td>\n      <td>Zjednodušené podlimitní řízení</td>\n      <td>906</td>\n      <td>395</td>\n      <td>False</td>\n      <td>43005560.0</td>\n      <td>NaN</td>\n      <td>18</td>\n      <td>3</td>\n      <td>1</td>\n    </tr>\n    <tr>\n      <th>7591</th>\n      <td>False</td>\n      <td>False</td>\n      <td>False</td>\n      <td>NaN</td>\n      <td>NaN</td>\n      <td>26</td>\n      <td>17</td>\n      <td>2020-07-30</td>\n      <td>45000000-7</td>\n      <td>0.000000e+00</td>\n      <td>...</td>\n      <td>Public contract for construction work</td>\n      <td>Užší řízení</td>\n      <td>1062</td>\n      <td>456</td>\n      <td>False</td>\n      <td>43005560.0</td>\n      <td>NaN</td>\n      <td>18</td>\n      <td>3</td>\n      <td>1</td>\n    </tr>\n    <tr>\n      <th>7978</th>\n      <td>False</td>\n      <td>False</td>\n      <td>False</td>\n      <td>3.645839e+06</td>\n      <td>4.411465e+06</td>\n      <td>26</td>\n      <td>8</td>\n      <td>2023-07-10</td>\n      <td>45233162-2</td>\n      <td>3.598860e+06</td>\n      <td>...</td>\n      <td>Public contract for construction work</td>\n      <td>Otevřená výzva</td>\n      <td>552</td>\n      <td>73</td>\n      <td>False</td>\n      <td>43005560.0</td>\n      <td>222.148031</td>\n      <td>18</td>\n      <td>3</td>\n      <td>9</td>\n    </tr>\n    <tr>\n      <th>8279</th>\n      <td>False</td>\n      <td>False</td>\n      <td>False</td>\n      <td>NaN</td>\n      <td>NaN</td>\n      <td>26</td>\n      <td>5</td>\n      <td>2023-02-24</td>\n      <td>45000000-7</td>\n      <td>3.735406e+07</td>\n      <td>...</td>\n      <td>Public contract for construction work</td>\n      <td>Užší řízení</td>\n      <td>971</td>\n      <td>472</td>\n      <td>False</td>\n      <td>43005560.0</td>\n      <td>NaN</td>\n      <td>18</td>\n      <td>3</td>\n      <td>1</td>\n    </tr>\n    <tr>\n      <th>8377</th>\n      <td>False</td>\n      <td>False</td>\n      <td>False</td>\n      <td>7.390770e+06</td>\n      <td>8.942831e+06</td>\n      <td>26</td>\n      <td>2</td>\n      <td>NaN</td>\n      <td>NaN</td>\n      <td>4.337554e+06</td>\n      <td>...</td>\n      <td>Public contract for construction work</td>\n      <td>Uzavřená výzva</td>\n      <td>1123</td>\n      <td>285</td>\n      <td>False</td>\n      <td>43005560.0</td>\n      <td>NaN</td>\n      <td>18</td>\n      <td>3</td>\n      <td>4</td>\n    </tr>\n  </tbody>\n</table>\n<p>18 rows × 28 columns</p>\n</div>"
     },
     "execution_count": 68,
     "metadata": {},
     "output_type": "execute_result"
    }
   ],
   "source": [
    "df_clusters.loc[df_clusters[\"company_id\"] == 26]"
   ],
   "metadata": {
    "collapsed": false,
    "ExecuteTime": {
     "end_time": "2024-01-09T12:36:13.390229800Z",
     "start_time": "2024-01-09T12:36:13.234310900Z"
    }
   }
  },
  {
   "cell_type": "code",
   "execution_count": 69,
   "outputs": [
    {
     "name": "stdout",
     "output_type": "stream",
     "text": [
      "<class 'pandas.core.frame.DataFrame'>\n",
      "RangeIndex: 9245 entries, 0 to 9244\n",
      "Data columns (total 14 columns):\n",
      " #   Column                         Non-Null Count  Dtype   \n",
      "---  ------                         --------------  -----   \n",
      " 0   is_association_of_suppliers_x  9245 non-null   bool    \n",
      " 1   is_rejected_due_too_low        9245 non-null   bool    \n",
      " 2   is_withdrawn                   9245 non-null   bool    \n",
      " 3   bid_price                      9245 non-null   float64 \n",
      " 4   is_association_of_suppliers_y  9245 non-null   bool    \n",
      " 5   place_of_performance           9245 non-null   category\n",
      " 6   public_contract_regime         9245 non-null   category\n",
      " 7   type                           9245 non-null   category\n",
      " 8   type_of_procedure              9245 non-null   category\n",
      " 9   is_winner                      9245 non-null   bool    \n",
      " 10  distance                       9245 non-null   category\n",
      " 11  total_offers                   9245 non-null   int64   \n",
      " 12  total_wins                     9245 non-null   int32   \n",
      " 13  total_procurements             9245 non-null   int64   \n",
      "dtypes: bool(5), category(5), float64(1), int32(1), int64(2)\n",
      "memory usage: 345.3 KB\n"
     ]
    }
   ],
   "source": [
    "df_catboost.info()"
   ],
   "metadata": {
    "collapsed": false,
    "ExecuteTime": {
     "end_time": "2024-01-09T12:36:13.403035900Z",
     "start_time": "2024-01-09T12:36:13.252158300Z"
    }
   }
  },
  {
   "cell_type": "code",
   "execution_count": 70,
   "outputs": [],
   "source": [
    "from sklearn.preprocessing import OneHotEncoder"
   ],
   "metadata": {
    "collapsed": false,
    "ExecuteTime": {
     "end_time": "2024-01-09T12:36:13.405092400Z",
     "start_time": "2024-01-09T12:36:13.261679Z"
    }
   }
  },
  {
   "cell_type": "code",
   "execution_count": 71,
   "outputs": [],
   "source": [
    "df_anomaly = df_catboost.copy()\n",
    "enc = OneHotEncoder(handle_unknown='ignore')\n",
    "X = enc.fit_transform(df_anomaly)"
   ],
   "metadata": {
    "collapsed": false,
    "ExecuteTime": {
     "end_time": "2024-01-09T12:36:13.455007900Z",
     "start_time": "2024-01-09T12:36:13.265124200Z"
    }
   }
  },
  {
   "cell_type": "code",
   "execution_count": 72,
   "outputs": [
    {
     "data": {
      "text/plain": "<9245x6760 sparse matrix of type '<class 'numpy.float64'>'\n\twith 129430 stored elements in Compressed Sparse Row format>"
     },
     "execution_count": 72,
     "metadata": {},
     "output_type": "execute_result"
    }
   ],
   "source": [
    ";   "
   ],
   "metadata": {
    "collapsed": false,
    "ExecuteTime": {
     "end_time": "2024-01-09T12:36:13.476293100Z",
     "start_time": "2024-01-09T12:36:13.286333600Z"
    }
   }
  },
  {
   "cell_type": "code",
   "execution_count": 73,
   "outputs": [],
   "source": [
    "from pyod.models.ecod import ECOD\n"
   ],
   "metadata": {
    "collapsed": false,
    "ExecuteTime": {
     "end_time": "2024-01-09T12:36:13.926127100Z",
     "start_time": "2024-01-09T12:36:13.290954200Z"
    }
   }
  },
  {
   "cell_type": "code",
   "execution_count": 74,
   "outputs": [
    {
     "data": {
      "text/plain": "ECOD(contamination=0.1, n_jobs=1)"
     },
     "execution_count": 74,
     "metadata": {},
     "output_type": "execute_result"
    }
   ],
   "source": [
    "clf = ECOD()\n",
    "clf.fit(X.toarray())"
   ],
   "metadata": {
    "collapsed": false,
    "ExecuteTime": {
     "end_time": "2024-01-09T12:36:28.024585900Z",
     "start_time": "2024-01-09T12:36:13.912711400Z"
    }
   }
  },
  {
   "cell_type": "code",
   "execution_count": 75,
   "outputs": [
    {
     "data": {
      "text/plain": "array([0, 0, 0, ..., 0, 1, 1])"
     },
     "execution_count": 75,
     "metadata": {},
     "output_type": "execute_result"
    }
   ],
   "source": [
    "clf.labels_"
   ],
   "metadata": {
    "collapsed": false,
    "ExecuteTime": {
     "end_time": "2024-01-09T12:36:28.028339Z",
     "start_time": "2024-01-09T12:36:28.024658900Z"
    }
   }
  },
  {
   "cell_type": "code",
   "execution_count": 76,
   "outputs": [],
   "source": [
    "import torch\n",
    "import torch_geometric"
   ],
   "metadata": {
    "collapsed": false,
    "ExecuteTime": {
     "end_time": "2024-01-09T12:36:31.592475Z",
     "start_time": "2024-01-09T12:36:28.028339Z"
    }
   }
  },
  {
   "cell_type": "code",
   "outputs": [
    {
     "data": {
      "text/plain": "      id                    contracting_authority_name  \\\n0      1                           Ministerstvo obrany   \n1      2                                 Obec Budětice   \n2      3                             Nemocnice Blansko   \n3      4   Institut klinické a experimentální medicíny   \n4      5  Hasičský záchranný sbor Jihomoravského kraje   \n..   ...                                           ...   \n416  480                                     Obec Tisá   \n417  481                     Obec Sudoměřice u Bechyně   \n418  482                                  Obec Klopina   \n419  483                             Městys Černá Hora   \n420  484                                Městys Stádlec   \n\n                                              url  address_id  \n0                  https://nen.nipez.cz/profil/MO           2  \n1        https://nen.nipez.cz/profil/obecbudetice          11  \n2    https://nen.nipez.cz/profil/NemocniceBlansko          13  \n3                https://nen.nipez.cz/profil/ikem          17  \n4              https://nen.nipez.cz/profil/HZSJmK          24  \n..                                            ...         ...  \n416                                           NaN        2944  \n417    https://nen.nipez.cz/profil/obecsudomerice        3536  \n418           https://nen.nipez.cz/profil/klopina        3540  \n419         https://nen.nipez.cz/profil/CernaHora        3553  \n420           https://nen.nipez.cz/profil/stadlec        3606  \n\n[421 rows x 4 columns]",
      "text/html": "<div>\n<style scoped>\n    .dataframe tbody tr th:only-of-type {\n        vertical-align: middle;\n    }\n\n    .dataframe tbody tr th {\n        vertical-align: top;\n    }\n\n    .dataframe thead th {\n        text-align: right;\n    }\n</style>\n<table border=\"1\" class=\"dataframe\">\n  <thead>\n    <tr style=\"text-align: right;\">\n      <th></th>\n      <th>id</th>\n      <th>contracting_authority_name</th>\n      <th>url</th>\n      <th>address_id</th>\n    </tr>\n  </thead>\n  <tbody>\n    <tr>\n      <th>0</th>\n      <td>1</td>\n      <td>Ministerstvo obrany</td>\n      <td>https://nen.nipez.cz/profil/MO</td>\n      <td>2</td>\n    </tr>\n    <tr>\n      <th>1</th>\n      <td>2</td>\n      <td>Obec Budětice</td>\n      <td>https://nen.nipez.cz/profil/obecbudetice</td>\n      <td>11</td>\n    </tr>\n    <tr>\n      <th>2</th>\n      <td>3</td>\n      <td>Nemocnice Blansko</td>\n      <td>https://nen.nipez.cz/profil/NemocniceBlansko</td>\n      <td>13</td>\n    </tr>\n    <tr>\n      <th>3</th>\n      <td>4</td>\n      <td>Institut klinické a experimentální medicíny</td>\n      <td>https://nen.nipez.cz/profil/ikem</td>\n      <td>17</td>\n    </tr>\n    <tr>\n      <th>4</th>\n      <td>5</td>\n      <td>Hasičský záchranný sbor Jihomoravského kraje</td>\n      <td>https://nen.nipez.cz/profil/HZSJmK</td>\n      <td>24</td>\n    </tr>\n    <tr>\n      <th>...</th>\n      <td>...</td>\n      <td>...</td>\n      <td>...</td>\n      <td>...</td>\n    </tr>\n    <tr>\n      <th>416</th>\n      <td>480</td>\n      <td>Obec Tisá</td>\n      <td>NaN</td>\n      <td>2944</td>\n    </tr>\n    <tr>\n      <th>417</th>\n      <td>481</td>\n      <td>Obec Sudoměřice u Bechyně</td>\n      <td>https://nen.nipez.cz/profil/obecsudomerice</td>\n      <td>3536</td>\n    </tr>\n    <tr>\n      <th>418</th>\n      <td>482</td>\n      <td>Obec Klopina</td>\n      <td>https://nen.nipez.cz/profil/klopina</td>\n      <td>3540</td>\n    </tr>\n    <tr>\n      <th>419</th>\n      <td>483</td>\n      <td>Městys Černá Hora</td>\n      <td>https://nen.nipez.cz/profil/CernaHora</td>\n      <td>3553</td>\n    </tr>\n    <tr>\n      <th>420</th>\n      <td>484</td>\n      <td>Městys Stádlec</td>\n      <td>https://nen.nipez.cz/profil/stadlec</td>\n      <td>3606</td>\n    </tr>\n  </tbody>\n</table>\n<p>421 rows × 4 columns</p>\n</div>"
     },
     "execution_count": 77,
     "metadata": {},
     "output_type": "execute_result"
    }
   ],
   "source": [
    "contract_authority"
   ],
   "metadata": {
    "collapsed": false,
    "ExecuteTime": {
     "end_time": "2024-01-09T12:36:31.608377100Z",
     "start_time": "2024-01-09T12:36:31.592475Z"
    }
   },
   "execution_count": 77
  },
  {
   "cell_type": "code",
   "outputs": [
    {
     "data": {
      "text/plain": "        id vat_id_number                         company_name  \\\n0        1  CZ7303070038                           Dušan Pirc   \n1        2    CZ26031868                         CB Auto a.s.   \n2        3           NaN             Pes profesionál s. r. o.   \n3        4    CZ62738542  Severočeské komunální služby s.r.o.   \n4        5    CZ47538856                 JOHNNY SERVIS s.r.o.   \n...    ...           ...                                  ...   \n3669  3693           NaN                GASTRONOMIK KV s.r.o.   \n3670  3694    CZ27818861                  GASTRO MACH, s.r.o.   \n3671  3695    CZ26977583                         STEVY s.r.o.   \n3672  3696           NaN            Skymill Consulting s.r.o.   \n3673  3697           NaN               Kuřátková Zuzana, BcA.   \n\n      organisation_id  address_id  \n0          66442460.0           1  \n1          26031868.0           3  \n2           3566358.0           4  \n3          62738542.0           5  \n4          47538856.0           6  \n...               ...         ...  \n3669       29099528.0        3611  \n3670       27818861.0        3612  \n3671       26977583.0        3613  \n3672        6425372.0        3614  \n3673       72923628.0        3615  \n\n[3674 rows x 5 columns]",
      "text/html": "<div>\n<style scoped>\n    .dataframe tbody tr th:only-of-type {\n        vertical-align: middle;\n    }\n\n    .dataframe tbody tr th {\n        vertical-align: top;\n    }\n\n    .dataframe thead th {\n        text-align: right;\n    }\n</style>\n<table border=\"1\" class=\"dataframe\">\n  <thead>\n    <tr style=\"text-align: right;\">\n      <th></th>\n      <th>id</th>\n      <th>vat_id_number</th>\n      <th>company_name</th>\n      <th>organisation_id</th>\n      <th>address_id</th>\n    </tr>\n  </thead>\n  <tbody>\n    <tr>\n      <th>0</th>\n      <td>1</td>\n      <td>CZ7303070038</td>\n      <td>Dušan Pirc</td>\n      <td>66442460.0</td>\n      <td>1</td>\n    </tr>\n    <tr>\n      <th>1</th>\n      <td>2</td>\n      <td>CZ26031868</td>\n      <td>CB Auto a.s.</td>\n      <td>26031868.0</td>\n      <td>3</td>\n    </tr>\n    <tr>\n      <th>2</th>\n      <td>3</td>\n      <td>NaN</td>\n      <td>Pes profesionál s. r. o.</td>\n      <td>3566358.0</td>\n      <td>4</td>\n    </tr>\n    <tr>\n      <th>3</th>\n      <td>4</td>\n      <td>CZ62738542</td>\n      <td>Severočeské komunální služby s.r.o.</td>\n      <td>62738542.0</td>\n      <td>5</td>\n    </tr>\n    <tr>\n      <th>4</th>\n      <td>5</td>\n      <td>CZ47538856</td>\n      <td>JOHNNY SERVIS s.r.o.</td>\n      <td>47538856.0</td>\n      <td>6</td>\n    </tr>\n    <tr>\n      <th>...</th>\n      <td>...</td>\n      <td>...</td>\n      <td>...</td>\n      <td>...</td>\n      <td>...</td>\n    </tr>\n    <tr>\n      <th>3669</th>\n      <td>3693</td>\n      <td>NaN</td>\n      <td>GASTRONOMIK KV s.r.o.</td>\n      <td>29099528.0</td>\n      <td>3611</td>\n    </tr>\n    <tr>\n      <th>3670</th>\n      <td>3694</td>\n      <td>CZ27818861</td>\n      <td>GASTRO MACH, s.r.o.</td>\n      <td>27818861.0</td>\n      <td>3612</td>\n    </tr>\n    <tr>\n      <th>3671</th>\n      <td>3695</td>\n      <td>CZ26977583</td>\n      <td>STEVY s.r.o.</td>\n      <td>26977583.0</td>\n      <td>3613</td>\n    </tr>\n    <tr>\n      <th>3672</th>\n      <td>3696</td>\n      <td>NaN</td>\n      <td>Skymill Consulting s.r.o.</td>\n      <td>6425372.0</td>\n      <td>3614</td>\n    </tr>\n    <tr>\n      <th>3673</th>\n      <td>3697</td>\n      <td>NaN</td>\n      <td>Kuřátková Zuzana, BcA.</td>\n      <td>72923628.0</td>\n      <td>3615</td>\n    </tr>\n  </tbody>\n</table>\n<p>3674 rows × 5 columns</p>\n</div>"
     },
     "execution_count": 78,
     "metadata": {},
     "output_type": "execute_result"
    }
   ],
   "source": [
    "company"
   ],
   "metadata": {
    "collapsed": false,
    "ExecuteTime": {
     "end_time": "2024-01-09T12:36:31.616191500Z",
     "start_time": "2024-01-09T12:36:31.600066100Z"
    }
   },
   "execution_count": 78
  },
  {
   "cell_type": "code",
   "outputs": [],
   "source": [
    "CA_nodes = contract_authority['id']\n",
    "AT_nodes = company['id']"
   ],
   "metadata": {
    "collapsed": false,
    "ExecuteTime": {
     "end_time": "2024-01-09T12:36:31.619882300Z",
     "start_time": "2024-01-09T12:36:31.610477800Z"
    }
   },
   "execution_count": 79
  },
  {
   "cell_type": "code",
   "outputs": [],
   "source": [
    "df_edges = df_for_pred.copy()"
   ],
   "metadata": {
    "collapsed": false,
    "ExecuteTime": {
     "end_time": "2024-01-09T12:36:31.635078800Z",
     "start_time": "2024-01-09T12:36:31.613905400Z"
    }
   },
   "execution_count": 80
  },
  {
   "cell_type": "code",
   "outputs": [],
   "source": [
    "df_edges.drop(columns=['is_association_of_suppliers_x', 'is_association_of_suppliers_y', 'is_rejected_due_too_low', 'is_withdrawn', 'price', 'bids_submission_deadline', 'number_of_offers', 'contract_price', 'contract_price_with_amendments', 'contract_price_with_amendments_vat', 'date_of_contract_close', 'date_of_publication', 'place_of_performance', 'public_contract_regime', 'type', 'type_of_procedure', 'contact_person_id', 'organisation_id', 'distance'], inplace=True)"
   ],
   "metadata": {
    "collapsed": false,
    "ExecuteTime": {
     "end_time": "2024-01-09T12:36:31.663396100Z",
     "start_time": "2024-01-09T12:36:31.619882300Z"
    }
   },
   "execution_count": 81
  },
  {
   "cell_type": "code",
   "outputs": [],
   "source": [
    "df_edges['price_vat'] = df_edges['price_vat'].fillna(0)\n",
    "df_edges['total_wins'] = df_edges['total_wins'].fillna(0)\n",
    "df_edges['code_from_nipez_codelist'] = df_edges['code_from_nipez_codelist'].fillna('Other')"
   ],
   "metadata": {
    "collapsed": false,
    "ExecuteTime": {
     "end_time": "2024-01-09T12:36:53.070371900Z",
     "start_time": "2024-01-09T12:36:53.046718900Z"
    }
   },
   "execution_count": 83
  },
  {
   "cell_type": "code",
   "outputs": [
    {
     "name": "stdout",
     "output_type": "stream",
     "text": [
      "<class 'pandas.core.frame.DataFrame'>\n",
      "RangeIndex: 9245 entries, 0 to 9244\n",
      "Data columns (total 9 columns):\n",
      " #   Column                    Non-Null Count  Dtype  \n",
      "---  ------                    --------------  -----  \n",
      " 0   price_vat                 9245 non-null   float64\n",
      " 1   company_id                9245 non-null   int64  \n",
      " 2   code_from_nipez_codelist  9245 non-null   object \n",
      " 3   contract_price_vat        9245 non-null   float64\n",
      " 4   contracting_authority_id  9245 non-null   int64  \n",
      " 5   is_winner                 9245 non-null   bool   \n",
      " 6   total_offers              9245 non-null   int64  \n",
      " 7   total_wins                9245 non-null   int64  \n",
      " 8   total_procurements        9245 non-null   int64  \n",
      "dtypes: bool(1), float64(2), int64(5), object(1)\n",
      "memory usage: 587.0+ KB\n"
     ]
    }
   ],
   "source": [
    "df_edges.info()"
   ],
   "metadata": {
    "collapsed": false,
    "ExecuteTime": {
     "end_time": "2024-01-09T12:36:53.583762100Z",
     "start_time": "2024-01-09T12:36:53.544403600Z"
    }
   },
   "execution_count": 84
  },
  {
   "cell_type": "code",
   "outputs": [],
   "source": [
    "grouped = df_edges.groupby(['company_id', 'contracting_authority_id'])"
   ],
   "metadata": {
    "collapsed": false,
    "ExecuteTime": {
     "end_time": "2024-01-09T12:36:54.352912700Z",
     "start_time": "2024-01-09T12:36:54.333261100Z"
    }
   },
   "execution_count": 85
  },
  {
   "cell_type": "code",
   "outputs": [],
   "source": [
    "num_of_offers = grouped.count()['is_winner'].to_frame()\n",
    "num_of_offers.rename(columns={'is_winner' : 'num_of_offers'}, inplace=True)"
   ],
   "metadata": {
    "collapsed": false,
    "ExecuteTime": {
     "end_time": "2024-01-09T13:06:47.063047500Z",
     "start_time": "2024-01-09T13:06:47.004044300Z"
    }
   },
   "execution_count": 137
  },
  {
   "cell_type": "code",
   "outputs": [],
   "source": [
    "num_of_wins = grouped.sum()['is_winner'].to_frame()\n",
    "num_of_wins.rename(columns={'is_winner' : 'num_of_wins'},  inplace=True)"
   ],
   "metadata": {
    "collapsed": false,
    "ExecuteTime": {
     "end_time": "2024-01-09T13:06:47.823343800Z",
     "start_time": "2024-01-09T13:06:47.806926400Z"
    }
   },
   "execution_count": 138
  },
  {
   "cell_type": "code",
   "outputs": [],
   "source": [
    "bid_price_sum = grouped.sum()['price_vat'].to_frame()\n",
    "bid_price_sum.rename(columns={'price_vat' : 'bid_price_sum'},  inplace=True)"
   ],
   "metadata": {
    "collapsed": false,
    "ExecuteTime": {
     "end_time": "2024-01-09T13:06:48.953344400Z",
     "start_time": "2024-01-09T13:06:48.936188200Z"
    }
   },
   "execution_count": 139
  },
  {
   "cell_type": "code",
   "outputs": [],
   "source": [
    "bid_price_median = grouped.median('price_vat')['price_vat'].to_frame()\n",
    "bid_price_median.rename(columns={'price_vat' : 'bid_price_median'},  inplace=True)"
   ],
   "metadata": {
    "collapsed": false,
    "ExecuteTime": {
     "end_time": "2024-01-09T13:06:49.592241500Z",
     "start_time": "2024-01-09T13:06:49.578608700Z"
    }
   },
   "execution_count": 140
  },
  {
   "cell_type": "code",
   "outputs": [],
   "source": [
    "contract_price_sum = grouped.sum()['contract_price_vat'].to_frame()\n",
    "contract_price_sum.rename(columns={'contract_price_vat' : 'contract_price_sum'},  inplace=True)"
   ],
   "metadata": {
    "collapsed": false,
    "ExecuteTime": {
     "end_time": "2024-01-09T13:06:49.872643400Z",
     "start_time": "2024-01-09T13:06:49.858010100Z"
    }
   },
   "execution_count": 141
  },
  {
   "cell_type": "code",
   "outputs": [],
   "source": [
    "contract_price_median = grouped.median('contract_price_vat')['contract_price_vat'].to_frame()\n",
    "contract_price_median.rename(columns={'contract_price_vat' : 'contract_price_median'},  inplace=True)"
   ],
   "metadata": {
    "collapsed": false,
    "ExecuteTime": {
     "end_time": "2024-01-09T13:06:50.529570100Z",
     "start_time": "2024-01-09T13:06:50.510116Z"
    }
   },
   "execution_count": 142
  },
  {
   "cell_type": "code",
   "outputs": [],
   "source": [
    "num_of_unique_nipez = grouped.nunique('code_from_nipez_codelist')['code_from_nipez_codelist'].to_frame()\n",
    "num_of_unique_nipez.rename(columns={'code_from_nipez_codelist' : 'num_of_unique_nipez_codes'},  inplace=True)"
   ],
   "metadata": {
    "collapsed": false,
    "ExecuteTime": {
     "end_time": "2024-01-09T13:06:50.832830400Z",
     "start_time": "2024-01-09T13:06:50.804134700Z"
    }
   },
   "execution_count": 143
  },
  {
   "cell_type": "code",
   "outputs": [],
   "source": [
    "df_edges = num_of_offers.merge(num_of_wins, on=['company_id', 'contracting_authority_id'])\n",
    "df_edges = df_edges.merge(bid_price_sum, on=['company_id', 'contracting_authority_id'])\n",
    "df_edges = df_edges.merge(bid_price_median, on=['company_id', 'contracting_authority_id'])\n",
    "df_edges = df_edges.merge(contract_price_sum, on=['company_id', 'contracting_authority_id'])\n",
    "df_edges = df_edges.merge(contract_price_median, on=['company_id', 'contracting_authority_id'])\n",
    "df_edges = df_edges.merge(num_of_unique_nipez, on=['company_id', 'contracting_authority_id'])"
   ],
   "metadata": {
    "collapsed": false,
    "ExecuteTime": {
     "end_time": "2024-01-09T13:09:02.296420800Z",
     "start_time": "2024-01-09T13:09:02.233228500Z"
    }
   },
   "execution_count": 146
  },
  {
   "cell_type": "code",
   "outputs": [
    {
     "data": {
      "text/plain": "                                     num_of_offers  num_of_wins  \\\ncompany_id contracting_authority_id                               \n1          1                                     7            7   \n2          1                                     3            2   \n3          1                                     1            1   \n4          1                                     7            7   \n5          1                                    34           33   \n...                                            ...          ...   \n3692       484                                   1            0   \n3693       64                                    1            1   \n3694       64                                    1            0   \n3695       64                                    1            0   \n3696       64                                    1            0   \n\n                                     bid_price_sum  bid_price_median  \\\ncompany_id contracting_authority_id                                    \n1          1                                 16.38              0.00   \n2          1                             202841.30          11897.00   \n3          1                             130000.00         130000.00   \n4          1                              58824.15           1560.90   \n5          1                            1715061.10           1028.50   \n...                                            ...               ...   \n3692       484                          2368719.40        2368719.40   \n3693       64                           1563320.00        1563320.00   \n3694       64                           2124094.50        2124094.50   \n3695       64                           2044163.32        2044163.32   \n3696       64                           1867030.00        1867030.00   \n\n                                     contract_price_sum  \\\ncompany_id contracting_authority_id                       \n1          1                                  337707.00   \n2          1                                   90043.74   \n3          1                                  130000.00   \n4          1                                  218581.40   \n5          1                                 1484074.30   \n...                                                 ...   \n3692       484                               2176184.10   \n3693       64                                1563320.00   \n3694       64                                1563320.00   \n3695       64                                1563320.00   \n3696       64                                1563320.00   \n\n                                     contract_price_median  \\\ncompany_id contracting_authority_id                          \n1          1                                      40000.00   \n2          1                                      11896.74   \n3          1                                     130000.00   \n4          1                                      25000.00   \n5          1                                       5493.40   \n...                                                    ...   \n3692       484                                  2176184.10   \n3693       64                                   1563320.00   \n3694       64                                   1563320.00   \n3695       64                                   1563320.00   \n3696       64                                   1563320.00   \n\n                                     num_of_unique_nipez_codes  \ncompany_id contracting_authority_id                             \n1          1                                                 1  \n2          1                                                 2  \n3          1                                                 1  \n4          1                                                 1  \n5          1                                                 4  \n...                                                        ...  \n3692       484                                               1  \n3693       64                                                1  \n3694       64                                                1  \n3695       64                                                1  \n3696       64                                                1  \n\n[5259 rows x 7 columns]",
      "text/html": "<div>\n<style scoped>\n    .dataframe tbody tr th:only-of-type {\n        vertical-align: middle;\n    }\n\n    .dataframe tbody tr th {\n        vertical-align: top;\n    }\n\n    .dataframe thead th {\n        text-align: right;\n    }\n</style>\n<table border=\"1\" class=\"dataframe\">\n  <thead>\n    <tr style=\"text-align: right;\">\n      <th></th>\n      <th></th>\n      <th>num_of_offers</th>\n      <th>num_of_wins</th>\n      <th>bid_price_sum</th>\n      <th>bid_price_median</th>\n      <th>contract_price_sum</th>\n      <th>contract_price_median</th>\n      <th>num_of_unique_nipez_codes</th>\n    </tr>\n    <tr>\n      <th>company_id</th>\n      <th>contracting_authority_id</th>\n      <th></th>\n      <th></th>\n      <th></th>\n      <th></th>\n      <th></th>\n      <th></th>\n      <th></th>\n    </tr>\n  </thead>\n  <tbody>\n    <tr>\n      <th>1</th>\n      <th>1</th>\n      <td>7</td>\n      <td>7</td>\n      <td>16.38</td>\n      <td>0.00</td>\n      <td>337707.00</td>\n      <td>40000.00</td>\n      <td>1</td>\n    </tr>\n    <tr>\n      <th>2</th>\n      <th>1</th>\n      <td>3</td>\n      <td>2</td>\n      <td>202841.30</td>\n      <td>11897.00</td>\n      <td>90043.74</td>\n      <td>11896.74</td>\n      <td>2</td>\n    </tr>\n    <tr>\n      <th>3</th>\n      <th>1</th>\n      <td>1</td>\n      <td>1</td>\n      <td>130000.00</td>\n      <td>130000.00</td>\n      <td>130000.00</td>\n      <td>130000.00</td>\n      <td>1</td>\n    </tr>\n    <tr>\n      <th>4</th>\n      <th>1</th>\n      <td>7</td>\n      <td>7</td>\n      <td>58824.15</td>\n      <td>1560.90</td>\n      <td>218581.40</td>\n      <td>25000.00</td>\n      <td>1</td>\n    </tr>\n    <tr>\n      <th>5</th>\n      <th>1</th>\n      <td>34</td>\n      <td>33</td>\n      <td>1715061.10</td>\n      <td>1028.50</td>\n      <td>1484074.30</td>\n      <td>5493.40</td>\n      <td>4</td>\n    </tr>\n    <tr>\n      <th>...</th>\n      <th>...</th>\n      <td>...</td>\n      <td>...</td>\n      <td>...</td>\n      <td>...</td>\n      <td>...</td>\n      <td>...</td>\n      <td>...</td>\n    </tr>\n    <tr>\n      <th>3692</th>\n      <th>484</th>\n      <td>1</td>\n      <td>0</td>\n      <td>2368719.40</td>\n      <td>2368719.40</td>\n      <td>2176184.10</td>\n      <td>2176184.10</td>\n      <td>1</td>\n    </tr>\n    <tr>\n      <th>3693</th>\n      <th>64</th>\n      <td>1</td>\n      <td>1</td>\n      <td>1563320.00</td>\n      <td>1563320.00</td>\n      <td>1563320.00</td>\n      <td>1563320.00</td>\n      <td>1</td>\n    </tr>\n    <tr>\n      <th>3694</th>\n      <th>64</th>\n      <td>1</td>\n      <td>0</td>\n      <td>2124094.50</td>\n      <td>2124094.50</td>\n      <td>1563320.00</td>\n      <td>1563320.00</td>\n      <td>1</td>\n    </tr>\n    <tr>\n      <th>3695</th>\n      <th>64</th>\n      <td>1</td>\n      <td>0</td>\n      <td>2044163.32</td>\n      <td>2044163.32</td>\n      <td>1563320.00</td>\n      <td>1563320.00</td>\n      <td>1</td>\n    </tr>\n    <tr>\n      <th>3696</th>\n      <th>64</th>\n      <td>1</td>\n      <td>0</td>\n      <td>1867030.00</td>\n      <td>1867030.00</td>\n      <td>1563320.00</td>\n      <td>1563320.00</td>\n      <td>1</td>\n    </tr>\n  </tbody>\n</table>\n<p>5259 rows × 7 columns</p>\n</div>"
     },
     "execution_count": 147,
     "metadata": {},
     "output_type": "execute_result"
    }
   ],
   "source": [
    "df_edges"
   ],
   "metadata": {
    "collapsed": false,
    "ExecuteTime": {
     "end_time": "2024-01-09T13:09:05.104053900Z",
     "start_time": "2024-01-09T13:09:05.080197800Z"
    }
   },
   "execution_count": 147
  },
  {
   "cell_type": "code",
   "outputs": [],
   "source": [],
   "metadata": {
    "collapsed": false
   }
  }
 ],
 "metadata": {
  "kernelspec": {
   "display_name": "Python 3",
   "language": "python",
   "name": "python3"
  },
  "language_info": {
   "codemirror_mode": {
    "name": "ipython",
    "version": 2
   },
   "file_extension": ".py",
   "mimetype": "text/x-python",
   "name": "python",
   "nbconvert_exporter": "python",
   "pygments_lexer": "ipython2",
   "version": "2.7.6"
  }
 },
 "nbformat": 4,
 "nbformat_minor": 0
}
