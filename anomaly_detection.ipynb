{
 "cells": [
  {
   "cell_type": "code",
   "outputs": [],
   "source": [
    "import pandas as pd\n",
    "import numpy as np\n",
    "from sklearn.decomposition import PCA\n",
    "import matplotlib.pyplot as plt\n",
    "import seaborn as sns\n",
    "from numpy import sqrt\n",
    "from math import sin, cos, atan2, radians\n",
    "from sklearn.preprocessing import StandardScaler\n",
    "\n",
    "import sklearn"
   ],
   "metadata": {
    "collapsed": false,
    "ExecuteTime": {
     "end_time": "2024-04-02T10:20:00.168270400Z",
     "start_time": "2024-04-02T10:20:00.112969Z"
    }
   },
   "id": "e9783f2351bc2fad",
   "execution_count": 53
  },
  {
   "cell_type": "code",
   "execution_count": 54,
   "id": "initial_id",
   "metadata": {
    "collapsed": true,
    "ExecuteTime": {
     "end_time": "2024-04-02T10:20:00.502626Z",
     "start_time": "2024-04-02T10:20:00.171269900Z"
    }
   },
   "outputs": [],
   "source": [
    "address = pd.read_csv('data_2/address_2.csv', low_memory=False)\n",
    "company = pd.read_csv('data_2/company_2.csv', low_memory=False)\n",
    "contract_person = pd.read_csv('data_2/contact_person_2.csv', low_memory=False)\n",
    "contract_authority = pd.read_csv('data_2/contracting_authority_2.csv', low_memory=False)\n",
    "offer = pd.read_csv('data_2/offer_2.csv', low_memory=False)\n",
    "procurement = pd.read_csv('data_2/procurement_2.csv', low_memory=False)"
   ]
  },
  {
   "cell_type": "code",
   "outputs": [],
   "source": [
    "procurement[\"bids_submission_deadline\"] = pd.to_datetime(procurement[\"bids_submission_deadline\"], format='%Y-%m-%d', errors = 'coerce')\n",
    "procurement[\"date_of_contract_close\"] = pd.to_datetime(procurement[\"date_of_contract_close\"], format='%Y-%m-%d', errors = 'coerce')\n",
    "procurement[\"date_of_publication\"] = pd.to_datetime(procurement[\"date_of_publication\"], format='%Y-%m-%d', errors = 'coerce')\n",
    "procurement['publication_close_interval'] = (procurement['date_of_contract_close'] - procurement['date_of_publication']).dt.days\n",
    "procurement['bids_close_interval'] = (procurement['bids_submission_deadline'] - procurement['date_of_publication']).dt.days"
   ],
   "metadata": {
    "collapsed": false,
    "ExecuteTime": {
     "end_time": "2024-04-02T10:20:00.531103400Z",
     "start_time": "2024-04-02T10:20:00.471493200Z"
    }
   },
   "id": "4d8d67e172a0ed19",
   "execution_count": 55
  },
  {
   "cell_type": "code",
   "outputs": [],
   "source": [
    "num_of_offers = (offer['procurement_id'].value_counts()).to_frame()\n",
    "num_of_offers.rename(columns={\"count\": \"number_of_offers\"}, inplace=True)"
   ],
   "metadata": {
    "collapsed": false,
    "ExecuteTime": {
     "end_time": "2024-04-02T10:20:00.532117Z",
     "start_time": "2024-04-02T10:20:00.492344300Z"
    }
   },
   "id": "9eaff12f9483105f",
   "execution_count": 56
  },
  {
   "cell_type": "code",
   "outputs": [],
   "source": [
    "offer_with_counts = pd.merge(offer, num_of_offers, on='procurement_id', how='outer')\n",
    "df_anomaly = pd.merge(offer_with_counts, procurement, left_on='procurement_id', right_on='id', how='left')\n",
    "df_anomaly['is_winner'] = (df_anomaly['company_id'] == df_anomaly['supplier_id'])\n",
    "df_anomaly.drop(columns=['id_y', 'procurement_id'], inplace=True)\n",
    "df_anomaly = pd.merge(df_anomaly, company, left_on='company_id', right_on='id', how='left')\n",
    "df_anomaly.drop(columns=['id'], inplace=True)\n",
    "df_anomaly.drop(columns=['supplier_id', 'id_x', 'procurement_name', 'name_from_nipez_codelist', 'system_number', 'vat_id_number', 'company_name'], inplace=True)\n",
    "df_anomaly = pd.merge(df_anomaly, contract_authority, left_on='contracting_authority_id', right_on='id', how='left')"
   ],
   "metadata": {
    "collapsed": false,
    "ExecuteTime": {
     "end_time": "2024-04-02T10:20:00.670924200Z",
     "start_time": "2024-04-02T10:20:00.503684600Z"
    }
   },
   "id": "337b35fed5760a65",
   "execution_count": 57
  },
  {
   "cell_type": "code",
   "outputs": [],
   "source": [
    "total_wins = df_anomaly.groupby('company_id')['is_winner'].sum().to_frame()\n",
    "total_wins.rename(columns={'is_winner' : 'total_wins'}, inplace=True)\n",
    "total_offers = (df_anomaly['company_id'].value_counts()).to_frame()\n",
    "total_offers.rename(columns={'count' : 'total_offers'}, inplace=True)\n",
    "total_procurements = (df_anomaly['contracting_authority_id'].value_counts()).to_frame()\n",
    "total_procurements.rename(columns={'count' : 'total_procurements'}, inplace=True)"
   ],
   "metadata": {
    "collapsed": false,
    "ExecuteTime": {
     "end_time": "2024-04-02T10:20:00.701656700Z",
     "start_time": "2024-04-02T10:20:00.660244700Z"
    }
   },
   "id": "d3dc71b4d0c36fe5",
   "execution_count": 58
  },
  {
   "cell_type": "code",
   "outputs": [],
   "source": [
    "df_anomaly = pd.merge(df_anomaly, total_wins, on='company_id', how='left')\n",
    "df_anomaly = pd.merge(df_anomaly, total_offers, on='company_id', how='left')\n",
    "df_anomaly = pd.merge(df_anomaly, total_procurements, on='contracting_authority_id', how='left')"
   ],
   "metadata": {
    "collapsed": false,
    "ExecuteTime": {
     "end_time": "2024-04-02T10:20:00.751844700Z",
     "start_time": "2024-04-02T10:20:00.674788200Z"
    }
   },
   "id": "4c7bc64edbfab0bc",
   "execution_count": 59
  },
  {
   "cell_type": "code",
   "outputs": [],
   "source": [
    "def get_distance(id_company, id_contracter):\n",
    "    company_address = address.loc[address['id'] == id_company]\n",
    "    contracter_address = address.loc[address['id'] == id_contracter]\n",
    "    try:\n",
    "        lat1 = radians(company_address.latitude.iloc[0])\n",
    "        lat2 = radians(contracter_address.latitude.iloc[0])\n",
    "        lon1 = radians(company_address.longitude.iloc[0])\n",
    "        lon2 = radians(contracter_address.longitude.iloc[0])\n",
    "        R = 6371\n",
    "        diff_lat = abs(lat1 - lat2)\n",
    "        diff_log = abs(lon1 - lon2)\n",
    "        a = sin(diff_lat/2)**2 + cos(lat1) * cos(lat2) * sin(diff_log/2)**2\n",
    "        c = 2 * atan2(sqrt(a), sqrt(1 - a))\n",
    "        return R * c\n",
    "    except:\n",
    "        return np.NAN"
   ],
   "metadata": {
    "collapsed": false,
    "ExecuteTime": {
     "end_time": "2024-04-02T10:20:00.766686200Z",
     "start_time": "2024-04-02T10:20:00.733055600Z"
    }
   },
   "id": "9577cd11997de33e",
   "execution_count": 60
  },
  {
   "cell_type": "code",
   "outputs": [],
   "source": [
    "df_anomaly.loc[:,'distance'] = df_anomaly.apply(lambda x: get_distance(x['address_id_x'], x['address_id_y']), axis =1)"
   ],
   "metadata": {
    "collapsed": false,
    "ExecuteTime": {
     "end_time": "2024-04-02T10:20:29.352551400Z",
     "start_time": "2024-04-02T10:20:00.739470800Z"
    }
   },
   "id": "e2b4e7ce483bfc54",
   "execution_count": 61
  },
  {
   "cell_type": "code",
   "outputs": [],
   "source": [
    "names_to_drop = ['company_id', 'contact_person_id', 'organisation_id', 'contracting_authority_id', 'code_from_nipez_codelist', 'date_of_contract_close', 'date_of_publication', 'bids_submission_deadline', 'address_id_y', 'address_id_x', 'url', 'contracting_authority_name', 'id']\n",
    "\n",
    "df_anomaly.drop(columns=names_to_drop, inplace=True)"
   ],
   "metadata": {
    "collapsed": false,
    "ExecuteTime": {
     "end_time": "2024-04-02T10:20:29.365733700Z",
     "start_time": "2024-04-02T10:20:29.352551400Z"
    }
   },
   "id": "927758acdde9e780",
   "execution_count": 62
  },
  {
   "cell_type": "code",
   "outputs": [],
   "source": [
    "df_anomaly['num_of_nan'] = df_anomaly.isna().sum(axis=1)"
   ],
   "metadata": {
    "collapsed": false,
    "ExecuteTime": {
     "end_time": "2024-04-02T10:20:29.397337800Z",
     "start_time": "2024-04-02T10:20:29.366817800Z"
    }
   },
   "id": "e908f0fbcc690760",
   "execution_count": 63
  },
  {
   "cell_type": "code",
   "outputs": [],
   "source": [
    "df_anomaly['place_of_performance'].replace({'Hlavní město Praha': 'Praha', 'EXTRA-REGIO' : 'Extra-Regio', np.nan : 'Unknown'}, inplace=True)\n",
    "df_anomaly['public_contract_regime'].replace({np.nan : 'Unknown'}, inplace=True)\n",
    "df_anomaly['type'].replace({np.nan : 'Unknown'}, inplace=True)\n",
    "df_anomaly['type_of_procedure'].replace({np.nan : 'Unknown'}, inplace=True)\n",
    "df_anomaly['total_wins'] = df_anomaly['total_wins'].astype(\"int\")\n",
    "\n"
   ],
   "metadata": {
    "collapsed": false,
    "ExecuteTime": {
     "end_time": "2024-04-02T10:20:29.410524200Z",
     "start_time": "2024-04-02T10:20:29.390339800Z"
    }
   },
   "id": "51d1fc5419784746",
   "execution_count": 64
  },
  {
   "cell_type": "code",
   "outputs": [
    {
     "data": {
      "text/plain": "(70338, 23)"
     },
     "execution_count": 65,
     "metadata": {},
     "output_type": "execute_result"
    }
   ],
   "source": [
    "df_anomaly.shape"
   ],
   "metadata": {
    "collapsed": false,
    "ExecuteTime": {
     "end_time": "2024-04-02T10:20:29.420530600Z",
     "start_time": "2024-04-02T10:20:29.407878200Z"
    }
   },
   "id": "3f68a88dd82486f5",
   "execution_count": 65
  },
  {
   "cell_type": "code",
   "outputs": [],
   "source": [
    "df_anomaly.dropna(inplace=True)"
   ],
   "metadata": {
    "collapsed": false,
    "ExecuteTime": {
     "end_time": "2024-04-02T10:20:29.438846Z",
     "start_time": "2024-04-02T10:20:29.412591200Z"
    }
   },
   "id": "a38502dacbaecb60",
   "execution_count": 66
  },
  {
   "cell_type": "code",
   "outputs": [
    {
     "data": {
      "text/plain": "(19289, 23)"
     },
     "execution_count": 67,
     "metadata": {},
     "output_type": "execute_result"
    }
   ],
   "source": [
    "df_anomaly.shape"
   ],
   "metadata": {
    "collapsed": false,
    "ExecuteTime": {
     "end_time": "2024-04-02T10:20:29.439856100Z",
     "start_time": "2024-04-02T10:20:29.435030Z"
    }
   },
   "id": "3311ae4569ceccd5",
   "execution_count": 67
  },
  {
   "cell_type": "code",
   "outputs": [],
   "source": [
    "df_anomaly_one_hot = pd.get_dummies(df_anomaly, columns=['place_of_performance', 'public_contract_regime', 'type', 'type_of_procedure'])"
   ],
   "metadata": {
    "collapsed": false,
    "ExecuteTime": {
     "end_time": "2024-04-02T10:20:29.460630800Z",
     "start_time": "2024-04-02T10:20:29.439856100Z"
    }
   },
   "id": "8e4fdb904b75e1d6",
   "execution_count": 68
  },
  {
   "cell_type": "code",
   "outputs": [],
   "source": [
    "df_anomaly_one_hot_scaled = StandardScaler().fit_transform(df_anomaly_one_hot) "
   ],
   "metadata": {
    "collapsed": false,
    "ExecuteTime": {
     "end_time": "2024-04-02T10:20:29.524426900Z",
     "start_time": "2024-04-02T10:20:29.460122100Z"
    }
   },
   "id": "efeafbdc0265a4d3",
   "execution_count": 69
  },
  {
   "cell_type": "code",
   "outputs": [],
   "source": [
    "import umap.umap_ as umap"
   ],
   "metadata": {
    "collapsed": false,
    "ExecuteTime": {
     "end_time": "2024-04-02T10:20:29.524426900Z",
     "start_time": "2024-04-02T10:20:29.521409700Z"
    }
   },
   "id": "8f27d6f0a625c43a",
   "execution_count": 70
  },
  {
   "cell_type": "code",
   "outputs": [],
   "source": [
    "reducer = umap.UMAP()"
   ],
   "metadata": {
    "collapsed": false,
    "ExecuteTime": {
     "end_time": "2024-04-02T10:20:29.568217200Z",
     "start_time": "2024-04-02T10:20:29.524426900Z"
    }
   },
   "id": "25ff4c6756ee24ee",
   "execution_count": 71
  },
  {
   "cell_type": "code",
   "outputs": [
    {
     "name": "stderr",
     "output_type": "stream",
     "text": [
      "C:\\Users\\marti\\PycharmProjects\\bakalarka\\venv\\Lib\\site-packages\\sklearn\\manifold\\_spectral_embedding.py:273: UserWarning: Graph is not fully connected, spectral embedding may not work as expected.\n",
      "  warnings.warn(\n"
     ]
    }
   ],
   "source": [
    "embedding = reducer.fit_transform(df_anomaly_one_hot)"
   ],
   "metadata": {
    "collapsed": false,
    "ExecuteTime": {
     "end_time": "2024-04-02T10:20:37.945349700Z",
     "start_time": "2024-04-02T10:20:29.558213100Z"
    }
   },
   "id": "d5660b053291928",
   "execution_count": 72
  },
  {
   "cell_type": "code",
   "outputs": [],
   "source": [
    "import umap.plot\n",
    "import umap.utils"
   ],
   "metadata": {
    "collapsed": false,
    "ExecuteTime": {
     "end_time": "2024-04-02T10:20:37.962139800Z",
     "start_time": "2024-04-02T10:20:37.944348Z"
    }
   },
   "id": "96839e74d623ca2",
   "execution_count": 73
  },
  {
   "cell_type": "code",
   "outputs": [
    {
     "name": "stderr",
     "output_type": "stream",
     "text": [
      "C:\\Users\\marti\\PycharmProjects\\bakalarka\\venv\\Lib\\site-packages\\sklearn\\manifold\\_spectral_embedding.py:273: UserWarning: Graph is not fully connected, spectral embedding may not work as expected.\n",
      "  warnings.warn(\n"
     ]
    }
   ],
   "source": [
    "umap_model = umap.UMAP(\n",
    "    n_neighbors=30,\n",
    "    min_dist=0.0,\n",
    "    n_components=3).fit(df_anomaly_one_hot_scaled)\n",
    "umap_transformed = umap_model.transform(df_anomaly_one_hot_scaled)"
   ],
   "metadata": {
    "collapsed": false,
    "ExecuteTime": {
     "end_time": "2024-04-02T10:43:09.289711800Z",
     "start_time": "2024-04-02T10:42:54.271815400Z"
    }
   },
   "id": "93de877ba3672303",
   "execution_count": 95
  },
  {
   "cell_type": "code",
   "outputs": [
    {
     "data": {
      "text/plain": "(19289, 63)"
     },
     "execution_count": 96,
     "metadata": {},
     "output_type": "execute_result"
    }
   ],
   "source": [
    "pca_transformed = PCA(n_components='mle', svd_solver='full').fit_transform(df_anomaly_one_hot_scaled)\n",
    "pca_transformed.shape"
   ],
   "metadata": {
    "collapsed": false,
    "ExecuteTime": {
     "end_time": "2024-04-02T10:43:09.425714200Z",
     "start_time": "2024-04-02T10:43:09.290711300Z"
    }
   },
   "id": "f8bffd72eead9070",
   "execution_count": 96
  },
  {
   "cell_type": "code",
   "outputs": [],
   "source": [
    "from sklearn.cluster import HDBSCAN"
   ],
   "metadata": {
    "collapsed": false,
    "ExecuteTime": {
     "end_time": "2024-04-02T10:43:09.436026600Z",
     "start_time": "2024-04-02T10:43:09.426720300Z"
    }
   },
   "id": "d8398d5adf91c49a",
   "execution_count": 97
  },
  {
   "cell_type": "code",
   "outputs": [],
   "source": [
    "clusters = HDBSCAN(min_cluster_size=250, min_samples=50).fit_predict(umap_transformed)"
   ],
   "metadata": {
    "collapsed": false,
    "ExecuteTime": {
     "end_time": "2024-04-02T10:43:11.612637200Z",
     "start_time": "2024-04-02T10:43:09.430696Z"
    }
   },
   "id": "ed1b1555f109f331",
   "execution_count": 98
  },
  {
   "cell_type": "code",
   "outputs": [
    {
     "name": "stderr",
     "output_type": "stream",
     "text": [
      "C:\\Users\\marti\\PycharmProjects\\bakalarka\\venv\\Lib\\site-packages\\sklearn\\manifold\\_spectral_embedding.py:273: UserWarning: Graph is not fully connected, spectral embedding may not work as expected.\n",
      "  warnings.warn(\n"
     ]
    },
    {
     "data": {
      "text/plain": "<Axes: >"
     },
     "execution_count": 99,
     "metadata": {},
     "output_type": "execute_result"
    },
    {
     "data": {
      "text/plain": "<Figure size 800x800 with 1 Axes>",
      "image/png": "[encoded data removed]"
     },
     "metadata": {},
     "output_type": "display_data"
    }
   ],
   "source": [
    "umap_model_visualization = umap.UMAP(\n",
    "    n_neighbors=15,\n",
    "    min_dist=0.1,\n",
    "    n_components=2).fit(df_anomaly_one_hot_scaled)\n",
    "umap.plot.points(umap_model_visualization, labels=clusters)"
   ],
   "metadata": {
    "collapsed": false,
    "ExecuteTime": {
     "end_time": "2024-04-02T10:43:23.519729800Z",
     "start_time": "2024-04-02T10:43:11.612637200Z"
    }
   },
   "id": "3e55661a13590172",
   "execution_count": 99
  },
  {
   "cell_type": "code",
   "outputs": [
    {
     "data": {
      "text/plain": "-0.1432458911516732"
     },
     "execution_count": 100,
     "metadata": {},
     "output_type": "execute_result"
    }
   ],
   "source": [
    "from sklearn.metrics import silhouette_score\n",
    "silhouette_score(df_anomaly_one_hot_scaled, clusters)"
   ],
   "metadata": {
    "collapsed": false,
    "ExecuteTime": {
     "end_time": "2024-04-02T10:43:28.095905800Z",
     "start_time": "2024-04-02T10:43:23.520805600Z"
    }
   },
   "id": "ef5f8ba4164e094",
   "execution_count": 100
  },
  {
   "cell_type": "code",
   "outputs": [],
   "source": [],
   "metadata": {
    "collapsed": false
   },
   "id": "39b863f508e387a3"
  }
 ],
 "metadata": {
  "kernelspec": {
   "display_name": "Python 3",
   "language": "python",
   "name": "python3"
  },
  "language_info": {
   "codemirror_mode": {
    "name": "ipython",
    "version": 2
   },
   "file_extension": ".py",
   "mimetype": "text/x-python",
   "name": "python",
   "nbconvert_exporter": "python",
   "pygments_lexer": "ipython2",
   "version": "2.7.6"
  }
 },
 "nbformat": 4,
 "nbformat_minor": 5
}
