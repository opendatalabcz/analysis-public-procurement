{
 "cells": [
  {
   "cell_type": "code",
   "outputs": [],
   "source": [
    "import pandas as pd"
   ],
   "metadata": {
    "collapsed": false,
    "ExecuteTime": {
     "end_time": "2024-02-20T08:37:36.333998500Z",
     "start_time": "2024-02-20T08:37:35.362485500Z"
    }
   },
   "id": "b0c22a39900a0a17",
   "execution_count": 1
  },
  {
   "cell_type": "code",
   "execution_count": 2,
   "id": "initial_id",
   "metadata": {
    "collapsed": true,
    "ExecuteTime": {
     "end_time": "2024-02-20T08:37:36.398482Z",
     "start_time": "2024-02-20T08:37:36.293314900Z"
    }
   },
   "outputs": [],
   "source": [
    "address = pd.read_csv('data/address.csv')\n",
    "company = pd.read_csv('data/company.csv')\n",
    "contract_person = pd.read_csv('data/contact_person.csv')\n",
    "contract_authority = pd.read_csv('data/contracting_authority.csv')\n",
    "offer = pd.read_csv('data/offer.csv')\n",
    "procurement = pd.read_csv('data/procurement.csv')"
   ]
  },
  {
   "cell_type": "code",
   "outputs": [],
   "source": [
    "def basic_stats(df):\n",
    "    display(df.shape)\n",
    "    display(df.describe())\n",
    "    print(f\"Missing values for each column in %:\")\n",
    "    display(df.isna().sum() / df.shape[0] * 100)\n",
    "    display(df.head(10))"
   ],
   "metadata": {
    "collapsed": false,
    "ExecuteTime": {
     "end_time": "2024-02-20T08:44:09.293154200Z",
     "start_time": "2024-02-20T08:44:09.280101900Z"
    }
   },
   "id": "4ad945df51049f1a",
   "execution_count": 5
  },
  {
   "cell_type": "code",
   "outputs": [
    {
     "data": {
      "text/plain": "(3578, 9)"
     },
     "metadata": {},
     "output_type": "display_data"
    },
    {
     "data": {
      "text/plain": "                id  land_registry_number     latitude    longitude\ncount  3578.000000           3432.000000  1982.000000  1982.000000\nmean   1811.293740            899.398601    49.834196    15.506733\nstd    1036.345691            981.801996     0.424095     1.482787\nmin       1.000000              1.000000    48.144619    12.371860\n25%     915.250000            189.000000    49.558013    14.428739\n50%    1809.500000            567.000000    50.035616    14.514808\n75%    2703.750000           1272.000000    50.088154    16.643086\nmax    3615.000000           7061.000000    50.906588    19.123288",
      "text/html": "<div>\n<style scoped>\n    .dataframe tbody tr th:only-of-type {\n        vertical-align: middle;\n    }\n\n    .dataframe tbody tr th {\n        vertical-align: top;\n    }\n\n    .dataframe thead th {\n        text-align: right;\n    }\n</style>\n<table border=\"1\" class=\"dataframe\">\n  <thead>\n    <tr style=\"text-align: right;\">\n      <th></th>\n      <th>id</th>\n      <th>land_registry_number</th>\n      <th>latitude</th>\n      <th>longitude</th>\n    </tr>\n  </thead>\n  <tbody>\n    <tr>\n      <th>count</th>\n      <td>3578.000000</td>\n      <td>3432.000000</td>\n      <td>1982.000000</td>\n      <td>1982.000000</td>\n    </tr>\n    <tr>\n      <th>mean</th>\n      <td>1811.293740</td>\n      <td>899.398601</td>\n      <td>49.834196</td>\n      <td>15.506733</td>\n    </tr>\n    <tr>\n      <th>std</th>\n      <td>1036.345691</td>\n      <td>981.801996</td>\n      <td>0.424095</td>\n      <td>1.482787</td>\n    </tr>\n    <tr>\n      <th>min</th>\n      <td>1.000000</td>\n      <td>1.000000</td>\n      <td>48.144619</td>\n      <td>12.371860</td>\n    </tr>\n    <tr>\n      <th>25%</th>\n      <td>915.250000</td>\n      <td>189.000000</td>\n      <td>49.558013</td>\n      <td>14.428739</td>\n    </tr>\n    <tr>\n      <th>50%</th>\n      <td>1809.500000</td>\n      <td>567.000000</td>\n      <td>50.035616</td>\n      <td>14.514808</td>\n    </tr>\n    <tr>\n      <th>75%</th>\n      <td>2703.750000</td>\n      <td>1272.000000</td>\n      <td>50.088154</td>\n      <td>16.643086</td>\n    </tr>\n    <tr>\n      <th>max</th>\n      <td>3615.000000</td>\n      <td>7061.000000</td>\n      <td>50.906588</td>\n      <td>19.123288</td>\n    </tr>\n  </tbody>\n</table>\n</div>"
     },
     "metadata": {},
     "output_type": "display_data"
    },
    {
     "name": "stdout",
     "output_type": "stream",
     "text": [
      "Missing values for each column in %:\n"
     ]
    },
    {
     "data": {
      "text/plain": "id                       0.000000\nbuilding_number         44.186696\ncity                     0.027949\ncountry_code            38.457239\nland_registry_number     4.080492\nlatitude                44.605925\nlongitude               44.605925\npostal_code              0.950252\nstreet                  13.834544\ndtype: float64"
     },
     "metadata": {},
     "output_type": "display_data"
    },
    {
     "data": {
      "text/plain": "   id building_number                city country_code  land_registry_number  \\\n0   1             NaN               Praha          NaN                 682.0   \n1   2               1               Praha           CZ                 221.0   \n2   3             NaN    České Budějovice          NaN                   NaN   \n3   4             NaN                 NaN          NaN                   NaN   \n4   5              91  Jablonec nad Nisou           CZ                4588.0   \n5   6             NaN               Tetín          NaN                   1.0   \n6   7             NaN           Pardubice          NaN                 107.0   \n7   8             NaN         Helvíkovice          NaN                  90.0   \n8   9              58               Praha           CZ                1552.0   \n9  10             NaN     Klatovy, 339 01          NaN                   NaN   \n\n    latitude  longitude postal_code                  street  \n0        NaN        NaN       19016              Zalešanská  \n1  50.095041  14.403276       16000               Tychonova  \n2        NaN        NaN       37005                     NaN  \n3        NaN        NaN         NaN                     NaN  \n4  50.731404  15.174121       46601               Smetanova  \n5        NaN        NaN       26601  náměstí Kněžny Ludmily  \n6        NaN        NaN       53002                     NaN  \n7        NaN        NaN       56401                     NaN  \n8  50.049737  14.458768       14100               Michelská  \n9        NaN        NaN         NaN           Ostravská 169  ",
      "text/html": "<div>\n<style scoped>\n    .dataframe tbody tr th:only-of-type {\n        vertical-align: middle;\n    }\n\n    .dataframe tbody tr th {\n        vertical-align: top;\n    }\n\n    .dataframe thead th {\n        text-align: right;\n    }\n</style>\n<table border=\"1\" class=\"dataframe\">\n  <thead>\n    <tr style=\"text-align: right;\">\n      <th></th>\n      <th>id</th>\n      <th>building_number</th>\n      <th>city</th>\n      <th>country_code</th>\n      <th>land_registry_number</th>\n      <th>latitude</th>\n      <th>longitude</th>\n      <th>postal_code</th>\n      <th>street</th>\n    </tr>\n  </thead>\n  <tbody>\n    <tr>\n      <th>0</th>\n      <td>1</td>\n      <td>NaN</td>\n      <td>Praha</td>\n      <td>NaN</td>\n      <td>682.0</td>\n      <td>NaN</td>\n      <td>NaN</td>\n      <td>19016</td>\n      <td>Zalešanská</td>\n    </tr>\n    <tr>\n      <th>1</th>\n      <td>2</td>\n      <td>1</td>\n      <td>Praha</td>\n      <td>CZ</td>\n      <td>221.0</td>\n      <td>50.095041</td>\n      <td>14.403276</td>\n      <td>16000</td>\n      <td>Tychonova</td>\n    </tr>\n    <tr>\n      <th>2</th>\n      <td>3</td>\n      <td>NaN</td>\n      <td>České Budějovice</td>\n      <td>NaN</td>\n      <td>NaN</td>\n      <td>NaN</td>\n      <td>NaN</td>\n      <td>37005</td>\n      <td>NaN</td>\n    </tr>\n    <tr>\n      <th>3</th>\n      <td>4</td>\n      <td>NaN</td>\n      <td>NaN</td>\n      <td>NaN</td>\n      <td>NaN</td>\n      <td>NaN</td>\n      <td>NaN</td>\n      <td>NaN</td>\n      <td>NaN</td>\n    </tr>\n    <tr>\n      <th>4</th>\n      <td>5</td>\n      <td>91</td>\n      <td>Jablonec nad Nisou</td>\n      <td>CZ</td>\n      <td>4588.0</td>\n      <td>50.731404</td>\n      <td>15.174121</td>\n      <td>46601</td>\n      <td>Smetanova</td>\n    </tr>\n    <tr>\n      <th>5</th>\n      <td>6</td>\n      <td>NaN</td>\n      <td>Tetín</td>\n      <td>NaN</td>\n      <td>1.0</td>\n      <td>NaN</td>\n      <td>NaN</td>\n      <td>26601</td>\n      <td>náměstí Kněžny Ludmily</td>\n    </tr>\n    <tr>\n      <th>6</th>\n      <td>7</td>\n      <td>NaN</td>\n      <td>Pardubice</td>\n      <td>NaN</td>\n      <td>107.0</td>\n      <td>NaN</td>\n      <td>NaN</td>\n      <td>53002</td>\n      <td>NaN</td>\n    </tr>\n    <tr>\n      <th>7</th>\n      <td>8</td>\n      <td>NaN</td>\n      <td>Helvíkovice</td>\n      <td>NaN</td>\n      <td>90.0</td>\n      <td>NaN</td>\n      <td>NaN</td>\n      <td>56401</td>\n      <td>NaN</td>\n    </tr>\n    <tr>\n      <th>8</th>\n      <td>9</td>\n      <td>58</td>\n      <td>Praha</td>\n      <td>CZ</td>\n      <td>1552.0</td>\n      <td>50.049737</td>\n      <td>14.458768</td>\n      <td>14100</td>\n      <td>Michelská</td>\n    </tr>\n    <tr>\n      <th>9</th>\n      <td>10</td>\n      <td>NaN</td>\n      <td>Klatovy, 339 01</td>\n      <td>NaN</td>\n      <td>NaN</td>\n      <td>NaN</td>\n      <td>NaN</td>\n      <td>NaN</td>\n      <td>Ostravská 169</td>\n    </tr>\n  </tbody>\n</table>\n</div>"
     },
     "metadata": {},
     "output_type": "display_data"
    }
   ],
   "source": [
    "basic_stats(address)"
   ],
   "metadata": {
    "collapsed": false,
    "ExecuteTime": {
     "end_time": "2024-02-20T08:44:10.287242700Z",
     "start_time": "2024-02-20T08:44:10.260919300Z"
    }
   },
   "id": "9398839546d2e660",
   "execution_count": 6
  },
  {
   "cell_type": "code",
   "outputs": [
    {
     "data": {
      "text/plain": "(3674, 5)"
     },
     "metadata": {},
     "output_type": "display_data"
    },
    {
     "data": {
      "text/plain": "                id  organisation_id   address_id\ncount  3674.000000     3.591000e+03  3674.000000\nmean   1860.324714     2.978224e+07  1701.784703\nstd    1061.039946     1.954525e+07  1076.105654\nmin       1.000000     4.930000e+02     1.000000\n25%     942.250000     1.496256e+07   755.750000\n50%    1860.500000     2.668712e+07  1680.000000\n75%    2778.750000     4.495440e+07  2630.750000\nmax    3697.000000     8.885864e+07  3615.000000",
      "text/html": "<div>\n<style scoped>\n    .dataframe tbody tr th:only-of-type {\n        vertical-align: middle;\n    }\n\n    .dataframe tbody tr th {\n        vertical-align: top;\n    }\n\n    .dataframe thead th {\n        text-align: right;\n    }\n</style>\n<table border=\"1\" class=\"dataframe\">\n  <thead>\n    <tr style=\"text-align: right;\">\n      <th></th>\n      <th>id</th>\n      <th>organisation_id</th>\n      <th>address_id</th>\n    </tr>\n  </thead>\n  <tbody>\n    <tr>\n      <th>count</th>\n      <td>3674.000000</td>\n      <td>3.591000e+03</td>\n      <td>3674.000000</td>\n    </tr>\n    <tr>\n      <th>mean</th>\n      <td>1860.324714</td>\n      <td>2.978224e+07</td>\n      <td>1701.784703</td>\n    </tr>\n    <tr>\n      <th>std</th>\n      <td>1061.039946</td>\n      <td>1.954525e+07</td>\n      <td>1076.105654</td>\n    </tr>\n    <tr>\n      <th>min</th>\n      <td>1.000000</td>\n      <td>4.930000e+02</td>\n      <td>1.000000</td>\n    </tr>\n    <tr>\n      <th>25%</th>\n      <td>942.250000</td>\n      <td>1.496256e+07</td>\n      <td>755.750000</td>\n    </tr>\n    <tr>\n      <th>50%</th>\n      <td>1860.500000</td>\n      <td>2.668712e+07</td>\n      <td>1680.000000</td>\n    </tr>\n    <tr>\n      <th>75%</th>\n      <td>2778.750000</td>\n      <td>4.495440e+07</td>\n      <td>2630.750000</td>\n    </tr>\n    <tr>\n      <th>max</th>\n      <td>3697.000000</td>\n      <td>8.885864e+07</td>\n      <td>3615.000000</td>\n    </tr>\n  </tbody>\n</table>\n</div>"
     },
     "metadata": {},
     "output_type": "display_data"
    },
    {
     "name": "stdout",
     "output_type": "stream",
     "text": [
      "Missing values for each column in %:\n"
     ]
    },
    {
     "data": {
      "text/plain": "id                  0.000000\nvat_id_number      44.011976\ncompany_name        0.000000\norganisation_id     2.259118\naddress_id          0.000000\ndtype: float64"
     },
     "metadata": {},
     "output_type": "display_data"
    },
    {
     "data": {
      "text/plain": "   id vat_id_number                                 company_name  \\\n0   1  CZ7303070038                                   Dušan Pirc   \n1   2    CZ26031868                                 CB Auto a.s.   \n2   3           NaN                     Pes profesionál s. r. o.   \n3   4    CZ62738542          Severočeské komunální služby s.r.o.   \n4   5    CZ47538856                         JOHNNY SERVIS s.r.o.   \n5   6           NaN                                Explosia a.s.   \n6   7    CZ25286366                                   Dibaq a.s.   \n7   8           NaN  Royal Canin Czech & Slovak Republics s.r.o.   \n8   9           NaN                             RC-eltech s.r.o.   \n9  10           NaN                                Lada Tittlová   \n\n   organisation_id  address_id  \n0       66442460.0           1  \n1       26031868.0           3  \n2        3566358.0           4  \n3       62738542.0           5  \n4       47538856.0           6  \n5       25291581.0           7  \n6       25286366.0           8  \n7       24663913.0           9  \n8        6909981.0          10  \n9              NaN           4  ",
      "text/html": "<div>\n<style scoped>\n    .dataframe tbody tr th:only-of-type {\n        vertical-align: middle;\n    }\n\n    .dataframe tbody tr th {\n        vertical-align: top;\n    }\n\n    .dataframe thead th {\n        text-align: right;\n    }\n</style>\n<table border=\"1\" class=\"dataframe\">\n  <thead>\n    <tr style=\"text-align: right;\">\n      <th></th>\n      <th>id</th>\n      <th>vat_id_number</th>\n      <th>company_name</th>\n      <th>organisation_id</th>\n      <th>address_id</th>\n    </tr>\n  </thead>\n  <tbody>\n    <tr>\n      <th>0</th>\n      <td>1</td>\n      <td>CZ7303070038</td>\n      <td>Dušan Pirc</td>\n      <td>66442460.0</td>\n      <td>1</td>\n    </tr>\n    <tr>\n      <th>1</th>\n      <td>2</td>\n      <td>CZ26031868</td>\n      <td>CB Auto a.s.</td>\n      <td>26031868.0</td>\n      <td>3</td>\n    </tr>\n    <tr>\n      <th>2</th>\n      <td>3</td>\n      <td>NaN</td>\n      <td>Pes profesionál s. r. o.</td>\n      <td>3566358.0</td>\n      <td>4</td>\n    </tr>\n    <tr>\n      <th>3</th>\n      <td>4</td>\n      <td>CZ62738542</td>\n      <td>Severočeské komunální služby s.r.o.</td>\n      <td>62738542.0</td>\n      <td>5</td>\n    </tr>\n    <tr>\n      <th>4</th>\n      <td>5</td>\n      <td>CZ47538856</td>\n      <td>JOHNNY SERVIS s.r.o.</td>\n      <td>47538856.0</td>\n      <td>6</td>\n    </tr>\n    <tr>\n      <th>5</th>\n      <td>6</td>\n      <td>NaN</td>\n      <td>Explosia a.s.</td>\n      <td>25291581.0</td>\n      <td>7</td>\n    </tr>\n    <tr>\n      <th>6</th>\n      <td>7</td>\n      <td>CZ25286366</td>\n      <td>Dibaq a.s.</td>\n      <td>25286366.0</td>\n      <td>8</td>\n    </tr>\n    <tr>\n      <th>7</th>\n      <td>8</td>\n      <td>NaN</td>\n      <td>Royal Canin Czech &amp; Slovak Republics s.r.o.</td>\n      <td>24663913.0</td>\n      <td>9</td>\n    </tr>\n    <tr>\n      <th>8</th>\n      <td>9</td>\n      <td>NaN</td>\n      <td>RC-eltech s.r.o.</td>\n      <td>6909981.0</td>\n      <td>10</td>\n    </tr>\n    <tr>\n      <th>9</th>\n      <td>10</td>\n      <td>NaN</td>\n      <td>Lada Tittlová</td>\n      <td>NaN</td>\n      <td>4</td>\n    </tr>\n  </tbody>\n</table>\n</div>"
     },
     "metadata": {},
     "output_type": "display_data"
    }
   ],
   "source": [
    "basic_stats(company)"
   ],
   "metadata": {
    "collapsed": false,
    "ExecuteTime": {
     "end_time": "2024-02-20T08:45:01.793838800Z",
     "start_time": "2024-02-20T08:45:01.773645900Z"
    }
   },
   "id": "ec0d60574ac2b034",
   "execution_count": 7
  },
  {
   "cell_type": "markdown",
   "source": [
    "vat_id_number - DIČ\n",
    "organisation_id - IČO"
   ],
   "metadata": {
    "collapsed": false
   },
   "id": "6e36b2edb03787f5"
  },
  {
   "cell_type": "code",
   "outputs": [
    {
     "data": {
      "text/plain": "(1121, 5)"
     },
     "metadata": {},
     "output_type": "display_data"
    },
    {
     "data": {
      "text/plain": "                id  contracting_authority_id\ncount  1121.000000               1121.000000\nmean    603.198037                146.794826\nstd     328.453693                133.305767\nmin       1.000000                  1.000000\n25%     321.000000                  7.000000\n50%     601.000000                111.000000\n75%     881.000000                239.000000\nmax    1183.000000                484.000000",
      "text/html": "<div>\n<style scoped>\n    .dataframe tbody tr th:only-of-type {\n        vertical-align: middle;\n    }\n\n    .dataframe tbody tr th {\n        vertical-align: top;\n    }\n\n    .dataframe thead th {\n        text-align: right;\n    }\n</style>\n<table border=\"1\" class=\"dataframe\">\n  <thead>\n    <tr style=\"text-align: right;\">\n      <th></th>\n      <th>id</th>\n      <th>contracting_authority_id</th>\n    </tr>\n  </thead>\n  <tbody>\n    <tr>\n      <th>count</th>\n      <td>1121.000000</td>\n      <td>1121.000000</td>\n    </tr>\n    <tr>\n      <th>mean</th>\n      <td>603.198037</td>\n      <td>146.794826</td>\n    </tr>\n    <tr>\n      <th>std</th>\n      <td>328.453693</td>\n      <td>133.305767</td>\n    </tr>\n    <tr>\n      <th>min</th>\n      <td>1.000000</td>\n      <td>1.000000</td>\n    </tr>\n    <tr>\n      <th>25%</th>\n      <td>321.000000</td>\n      <td>7.000000</td>\n    </tr>\n    <tr>\n      <th>50%</th>\n      <td>601.000000</td>\n      <td>111.000000</td>\n    </tr>\n    <tr>\n      <th>75%</th>\n      <td>881.000000</td>\n      <td>239.000000</td>\n    </tr>\n    <tr>\n      <th>max</th>\n      <td>1183.000000</td>\n      <td>484.000000</td>\n    </tr>\n  </tbody>\n</table>\n</div>"
     },
     "metadata": {},
     "output_type": "display_data"
    },
    {
     "name": "stdout",
     "output_type": "stream",
     "text": [
      "Missing values for each column in %:\n"
     ]
    },
    {
     "data": {
      "text/plain": "id                          0.0\nemail                       0.0\nname                        0.0\nsurname                     0.0\ncontracting_authority_id    0.0\ndtype: float64"
     },
     "metadata": {},
     "output_type": "display_data"
    },
    {
     "data": {
      "text/plain": "   id                          email     name    surname  \\\n0   1             matyasovaa@army.cz   Andrea  Matyášová   \n1   2           Igor.Mathias@army.cz     Igor    Mathias   \n2   3                 karchp@army.cz    Pavel      Karch   \n3   4  mistostarosta@obecbudetice.cz    Pavel       Huda   \n4   5               straka@nemobk.cz  Antonín     Straka   \n5   6             eva.sikova@ikem.cz      Eva     Siková   \n6   7               mlakovad@army.cz     Dana    Mlaková   \n7   8                skurekz@army.cz   Zdeněk     Škůrek   \n8   9    monika.dedicova@firebrno.cz   Monika   Dědičová   \n9  10        tatana.chajmova@cuzk.cz   Taťána   Chajmová   \n\n   contracting_authority_id  \n0                         1  \n1                         1  \n2                         1  \n3                         2  \n4                         3  \n5                         4  \n6                         1  \n7                         1  \n8                         5  \n9                         6  ",
      "text/html": "<div>\n<style scoped>\n    .dataframe tbody tr th:only-of-type {\n        vertical-align: middle;\n    }\n\n    .dataframe tbody tr th {\n        vertical-align: top;\n    }\n\n    .dataframe thead th {\n        text-align: right;\n    }\n</style>\n<table border=\"1\" class=\"dataframe\">\n  <thead>\n    <tr style=\"text-align: right;\">\n      <th></th>\n      <th>id</th>\n      <th>email</th>\n      <th>name</th>\n      <th>surname</th>\n      <th>contracting_authority_id</th>\n    </tr>\n  </thead>\n  <tbody>\n    <tr>\n      <th>0</th>\n      <td>1</td>\n      <td>matyasovaa@army.cz</td>\n      <td>Andrea</td>\n      <td>Matyášová</td>\n      <td>1</td>\n    </tr>\n    <tr>\n      <th>1</th>\n      <td>2</td>\n      <td>Igor.Mathias@army.cz</td>\n      <td>Igor</td>\n      <td>Mathias</td>\n      <td>1</td>\n    </tr>\n    <tr>\n      <th>2</th>\n      <td>3</td>\n      <td>karchp@army.cz</td>\n      <td>Pavel</td>\n      <td>Karch</td>\n      <td>1</td>\n    </tr>\n    <tr>\n      <th>3</th>\n      <td>4</td>\n      <td>mistostarosta@obecbudetice.cz</td>\n      <td>Pavel</td>\n      <td>Huda</td>\n      <td>2</td>\n    </tr>\n    <tr>\n      <th>4</th>\n      <td>5</td>\n      <td>straka@nemobk.cz</td>\n      <td>Antonín</td>\n      <td>Straka</td>\n      <td>3</td>\n    </tr>\n    <tr>\n      <th>5</th>\n      <td>6</td>\n      <td>eva.sikova@ikem.cz</td>\n      <td>Eva</td>\n      <td>Siková</td>\n      <td>4</td>\n    </tr>\n    <tr>\n      <th>6</th>\n      <td>7</td>\n      <td>mlakovad@army.cz</td>\n      <td>Dana</td>\n      <td>Mlaková</td>\n      <td>1</td>\n    </tr>\n    <tr>\n      <th>7</th>\n      <td>8</td>\n      <td>skurekz@army.cz</td>\n      <td>Zdeněk</td>\n      <td>Škůrek</td>\n      <td>1</td>\n    </tr>\n    <tr>\n      <th>8</th>\n      <td>9</td>\n      <td>monika.dedicova@firebrno.cz</td>\n      <td>Monika</td>\n      <td>Dědičová</td>\n      <td>5</td>\n    </tr>\n    <tr>\n      <th>9</th>\n      <td>10</td>\n      <td>tatana.chajmova@cuzk.cz</td>\n      <td>Taťána</td>\n      <td>Chajmová</td>\n      <td>6</td>\n    </tr>\n  </tbody>\n</table>\n</div>"
     },
     "metadata": {},
     "output_type": "display_data"
    }
   ],
   "source": [
    "basic_stats(contract_person)"
   ],
   "metadata": {
    "collapsed": false,
    "ExecuteTime": {
     "end_time": "2024-02-20T08:46:04.062487Z",
     "start_time": "2024-02-20T08:46:04.036430900Z"
    }
   },
   "id": "2db7f273dbeb8a6b",
   "execution_count": 8
  },
  {
   "cell_type": "code",
   "outputs": [
    {
     "data": {
      "text/plain": "(421, 4)"
     },
     "metadata": {},
     "output_type": "display_data"
    },
    {
     "data": {
      "text/plain": "               id   address_id\ncount  421.000000   421.000000\nmean   255.757720  1533.133017\nstd    125.491237  1021.438673\nmin      1.000000     2.000000\n25%    150.000000   622.000000\n50%    255.000000  1431.000000\n75%    360.000000  2429.000000\nmax    484.000000  3606.000000",
      "text/html": "<div>\n<style scoped>\n    .dataframe tbody tr th:only-of-type {\n        vertical-align: middle;\n    }\n\n    .dataframe tbody tr th {\n        vertical-align: top;\n    }\n\n    .dataframe thead th {\n        text-align: right;\n    }\n</style>\n<table border=\"1\" class=\"dataframe\">\n  <thead>\n    <tr style=\"text-align: right;\">\n      <th></th>\n      <th>id</th>\n      <th>address_id</th>\n    </tr>\n  </thead>\n  <tbody>\n    <tr>\n      <th>count</th>\n      <td>421.000000</td>\n      <td>421.000000</td>\n    </tr>\n    <tr>\n      <th>mean</th>\n      <td>255.757720</td>\n      <td>1533.133017</td>\n    </tr>\n    <tr>\n      <th>std</th>\n      <td>125.491237</td>\n      <td>1021.438673</td>\n    </tr>\n    <tr>\n      <th>min</th>\n      <td>1.000000</td>\n      <td>2.000000</td>\n    </tr>\n    <tr>\n      <th>25%</th>\n      <td>150.000000</td>\n      <td>622.000000</td>\n    </tr>\n    <tr>\n      <th>50%</th>\n      <td>255.000000</td>\n      <td>1431.000000</td>\n    </tr>\n    <tr>\n      <th>75%</th>\n      <td>360.000000</td>\n      <td>2429.000000</td>\n    </tr>\n    <tr>\n      <th>max</th>\n      <td>484.000000</td>\n      <td>3606.000000</td>\n    </tr>\n  </tbody>\n</table>\n</div>"
     },
     "metadata": {},
     "output_type": "display_data"
    },
    {
     "name": "stdout",
     "output_type": "stream",
     "text": [
      "Missing values for each column in %:\n"
     ]
    },
    {
     "data": {
      "text/plain": "id                            0.000000\ncontracting_authority_name    0.000000\nurl                           8.313539\naddress_id                    0.000000\ndtype: float64"
     },
     "metadata": {},
     "output_type": "display_data"
    },
    {
     "data": {
      "text/plain": "   id                         contracting_authority_name  \\\n0   1                                Ministerstvo obrany   \n1   2                                      Obec Budětice   \n2   3                                  Nemocnice Blansko   \n3   4        Institut klinické a experimentální medicíny   \n4   5       Hasičský záchranný sbor Jihomoravského kraje   \n5   6                                   Zeměměřický úřad   \n6   7  Ředitelství silnic Zlínského kraje,příspěvková...   \n7  52        Hasičský záchranný sbor Středočeského kraje   \n8  53                                Město Nová Včelnice   \n9  54                            Město Lipník nad Bečvou   \n\n                                            url  address_id  \n0                https://nen.nipez.cz/profil/MO           2  \n1      https://nen.nipez.cz/profil/obecbudetice          11  \n2  https://nen.nipez.cz/profil/NemocniceBlansko          13  \n3              https://nen.nipez.cz/profil/ikem          17  \n4            https://nen.nipez.cz/profil/HZSJmK          24  \n5                https://nen.nipez.cz/profil/ZU          26  \n6              https://nen.nipez.cz/profil/RSZK          28  \n7               https://nen.nipez.cz/profil/STC          53  \n8      https://nen.nipez.cz/profil/novavcelnice          55  \n9       https://nen.nipez.cz/profil/mestolipnik          59  ",
      "text/html": "<div>\n<style scoped>\n    .dataframe tbody tr th:only-of-type {\n        vertical-align: middle;\n    }\n\n    .dataframe tbody tr th {\n        vertical-align: top;\n    }\n\n    .dataframe thead th {\n        text-align: right;\n    }\n</style>\n<table border=\"1\" class=\"dataframe\">\n  <thead>\n    <tr style=\"text-align: right;\">\n      <th></th>\n      <th>id</th>\n      <th>contracting_authority_name</th>\n      <th>url</th>\n      <th>address_id</th>\n    </tr>\n  </thead>\n  <tbody>\n    <tr>\n      <th>0</th>\n      <td>1</td>\n      <td>Ministerstvo obrany</td>\n      <td>https://nen.nipez.cz/profil/MO</td>\n      <td>2</td>\n    </tr>\n    <tr>\n      <th>1</th>\n      <td>2</td>\n      <td>Obec Budětice</td>\n      <td>https://nen.nipez.cz/profil/obecbudetice</td>\n      <td>11</td>\n    </tr>\n    <tr>\n      <th>2</th>\n      <td>3</td>\n      <td>Nemocnice Blansko</td>\n      <td>https://nen.nipez.cz/profil/NemocniceBlansko</td>\n      <td>13</td>\n    </tr>\n    <tr>\n      <th>3</th>\n      <td>4</td>\n      <td>Institut klinické a experimentální medicíny</td>\n      <td>https://nen.nipez.cz/profil/ikem</td>\n      <td>17</td>\n    </tr>\n    <tr>\n      <th>4</th>\n      <td>5</td>\n      <td>Hasičský záchranný sbor Jihomoravského kraje</td>\n      <td>https://nen.nipez.cz/profil/HZSJmK</td>\n      <td>24</td>\n    </tr>\n    <tr>\n      <th>5</th>\n      <td>6</td>\n      <td>Zeměměřický úřad</td>\n      <td>https://nen.nipez.cz/profil/ZU</td>\n      <td>26</td>\n    </tr>\n    <tr>\n      <th>6</th>\n      <td>7</td>\n      <td>Ředitelství silnic Zlínského kraje,příspěvková...</td>\n      <td>https://nen.nipez.cz/profil/RSZK</td>\n      <td>28</td>\n    </tr>\n    <tr>\n      <th>7</th>\n      <td>52</td>\n      <td>Hasičský záchranný sbor Středočeského kraje</td>\n      <td>https://nen.nipez.cz/profil/STC</td>\n      <td>53</td>\n    </tr>\n    <tr>\n      <th>8</th>\n      <td>53</td>\n      <td>Město Nová Včelnice</td>\n      <td>https://nen.nipez.cz/profil/novavcelnice</td>\n      <td>55</td>\n    </tr>\n    <tr>\n      <th>9</th>\n      <td>54</td>\n      <td>Město Lipník nad Bečvou</td>\n      <td>https://nen.nipez.cz/profil/mestolipnik</td>\n      <td>59</td>\n    </tr>\n  </tbody>\n</table>\n</div>"
     },
     "metadata": {},
     "output_type": "display_data"
    }
   ],
   "source": [
    "basic_stats(contract_authority)"
   ],
   "metadata": {
    "collapsed": false,
    "ExecuteTime": {
     "end_time": "2024-02-20T08:54:24.428047100Z",
     "start_time": "2024-02-20T08:54:24.409050900Z"
    }
   },
   "id": "11d64764845cdea3",
   "execution_count": 11
  },
  {
   "cell_type": "code",
   "outputs": [
    {
     "data": {
      "text/plain": "(9245, 8)"
     },
     "metadata": {},
     "output_type": "display_data"
    },
    {
     "data": {
      "text/plain": "                id         price     price_vat   company_id  procurement_id\ncount  9245.000000  7.896000e+03  7.900000e+03  9245.000000     9245.000000\nmean   4651.419362  8.438423e+07  1.017015e+08  1183.305679     2384.309465\nstd    2676.688056  2.562514e+09  3.100194e+09  1011.543866     1351.703446\nmin       1.000000  0.000000e+00  0.000000e+00     1.000000        1.000000\n25%    2335.000000  1.804650e+04  2.163843e+04   300.000000     1239.000000\n50%    4646.000000  1.530058e+05  1.740371e+05   868.000000     2370.000000\n75%    6959.000000  1.149339e+06  1.212226e+06  1893.000000     3533.000000\nmax    9296.000000  1.145797e+11  1.386414e+11  3696.000000     4746.000000",
      "text/html": "<div>\n<style scoped>\n    .dataframe tbody tr th:only-of-type {\n        vertical-align: middle;\n    }\n\n    .dataframe tbody tr th {\n        vertical-align: top;\n    }\n\n    .dataframe thead th {\n        text-align: right;\n    }\n</style>\n<table border=\"1\" class=\"dataframe\">\n  <thead>\n    <tr style=\"text-align: right;\">\n      <th></th>\n      <th>id</th>\n      <th>price</th>\n      <th>price_vat</th>\n      <th>company_id</th>\n      <th>procurement_id</th>\n    </tr>\n  </thead>\n  <tbody>\n    <tr>\n      <th>count</th>\n      <td>9245.000000</td>\n      <td>7.896000e+03</td>\n      <td>7.900000e+03</td>\n      <td>9245.000000</td>\n      <td>9245.000000</td>\n    </tr>\n    <tr>\n      <th>mean</th>\n      <td>4651.419362</td>\n      <td>8.438423e+07</td>\n      <td>1.017015e+08</td>\n      <td>1183.305679</td>\n      <td>2384.309465</td>\n    </tr>\n    <tr>\n      <th>std</th>\n      <td>2676.688056</td>\n      <td>2.562514e+09</td>\n      <td>3.100194e+09</td>\n      <td>1011.543866</td>\n      <td>1351.703446</td>\n    </tr>\n    <tr>\n      <th>min</th>\n      <td>1.000000</td>\n      <td>0.000000e+00</td>\n      <td>0.000000e+00</td>\n      <td>1.000000</td>\n      <td>1.000000</td>\n    </tr>\n    <tr>\n      <th>25%</th>\n      <td>2335.000000</td>\n      <td>1.804650e+04</td>\n      <td>2.163843e+04</td>\n      <td>300.000000</td>\n      <td>1239.000000</td>\n    </tr>\n    <tr>\n      <th>50%</th>\n      <td>4646.000000</td>\n      <td>1.530058e+05</td>\n      <td>1.740371e+05</td>\n      <td>868.000000</td>\n      <td>2370.000000</td>\n    </tr>\n    <tr>\n      <th>75%</th>\n      <td>6959.000000</td>\n      <td>1.149339e+06</td>\n      <td>1.212226e+06</td>\n      <td>1893.000000</td>\n      <td>3533.000000</td>\n    </tr>\n    <tr>\n      <th>max</th>\n      <td>9296.000000</td>\n      <td>1.145797e+11</td>\n      <td>1.386414e+11</td>\n      <td>3696.000000</td>\n      <td>4746.000000</td>\n    </tr>\n  </tbody>\n</table>\n</div>"
     },
     "metadata": {},
     "output_type": "display_data"
    },
    {
     "name": "stdout",
     "output_type": "stream",
     "text": [
      "Missing values for each column in %:\n"
     ]
    },
    {
     "data": {
      "text/plain": "id                              0.000000\nis_association_of_suppliers     0.000000\nis_rejected_due_too_low         0.000000\nis_withdrawn                    0.000000\nprice                          14.591671\nprice_vat                      14.548405\ncompany_id                      0.000000\nprocurement_id                  0.000000\ndtype: float64"
     },
     "metadata": {},
     "output_type": "display_data"
    },
    {
     "data": {
      "text/plain": "   id  is_association_of_suppliers  is_rejected_due_too_low  is_withdrawn  \\\n0   1                         True                    False         False   \n1   2                        False                    False         False   \n2   3                        False                    False         False   \n3   4                         True                    False         False   \n4   5                        False                    False         False   \n5   6                        False                    False         False   \n6   7                        False                    False         False   \n7   8                         True                    False         False   \n8   9                        False                    False         False   \n9  10                        False                    False         False   \n\n       price  price_vat  company_id  procurement_id  \n0       0.00       0.00           1               1  \n1    9832.02   11897.00           2               2  \n2  130000.00  130000.00           3               3  \n3       0.00       0.00           4               4  \n4    8468.00    9314.80           5               5  \n5   90525.00  109535.25           6               6  \n6       0.00       0.00           7               7  \n7       0.00       0.00           8               8  \n8  130000.00  130000.00          10              10  \n9        NaN        NaN          12              11  ",
      "text/html": "<div>\n<style scoped>\n    .dataframe tbody tr th:only-of-type {\n        vertical-align: middle;\n    }\n\n    .dataframe tbody tr th {\n        vertical-align: top;\n    }\n\n    .dataframe thead th {\n        text-align: right;\n    }\n</style>\n<table border=\"1\" class=\"dataframe\">\n  <thead>\n    <tr style=\"text-align: right;\">\n      <th></th>\n      <th>id</th>\n      <th>is_association_of_suppliers</th>\n      <th>is_rejected_due_too_low</th>\n      <th>is_withdrawn</th>\n      <th>price</th>\n      <th>price_vat</th>\n      <th>company_id</th>\n      <th>procurement_id</th>\n    </tr>\n  </thead>\n  <tbody>\n    <tr>\n      <th>0</th>\n      <td>1</td>\n      <td>True</td>\n      <td>False</td>\n      <td>False</td>\n      <td>0.00</td>\n      <td>0.00</td>\n      <td>1</td>\n      <td>1</td>\n    </tr>\n    <tr>\n      <th>1</th>\n      <td>2</td>\n      <td>False</td>\n      <td>False</td>\n      <td>False</td>\n      <td>9832.02</td>\n      <td>11897.00</td>\n      <td>2</td>\n      <td>2</td>\n    </tr>\n    <tr>\n      <th>2</th>\n      <td>3</td>\n      <td>False</td>\n      <td>False</td>\n      <td>False</td>\n      <td>130000.00</td>\n      <td>130000.00</td>\n      <td>3</td>\n      <td>3</td>\n    </tr>\n    <tr>\n      <th>3</th>\n      <td>4</td>\n      <td>True</td>\n      <td>False</td>\n      <td>False</td>\n      <td>0.00</td>\n      <td>0.00</td>\n      <td>4</td>\n      <td>4</td>\n    </tr>\n    <tr>\n      <th>4</th>\n      <td>5</td>\n      <td>False</td>\n      <td>False</td>\n      <td>False</td>\n      <td>8468.00</td>\n      <td>9314.80</td>\n      <td>5</td>\n      <td>5</td>\n    </tr>\n    <tr>\n      <th>5</th>\n      <td>6</td>\n      <td>False</td>\n      <td>False</td>\n      <td>False</td>\n      <td>90525.00</td>\n      <td>109535.25</td>\n      <td>6</td>\n      <td>6</td>\n    </tr>\n    <tr>\n      <th>6</th>\n      <td>7</td>\n      <td>False</td>\n      <td>False</td>\n      <td>False</td>\n      <td>0.00</td>\n      <td>0.00</td>\n      <td>7</td>\n      <td>7</td>\n    </tr>\n    <tr>\n      <th>7</th>\n      <td>8</td>\n      <td>True</td>\n      <td>False</td>\n      <td>False</td>\n      <td>0.00</td>\n      <td>0.00</td>\n      <td>8</td>\n      <td>8</td>\n    </tr>\n    <tr>\n      <th>8</th>\n      <td>9</td>\n      <td>False</td>\n      <td>False</td>\n      <td>False</td>\n      <td>130000.00</td>\n      <td>130000.00</td>\n      <td>10</td>\n      <td>10</td>\n    </tr>\n    <tr>\n      <th>9</th>\n      <td>10</td>\n      <td>False</td>\n      <td>False</td>\n      <td>False</td>\n      <td>NaN</td>\n      <td>NaN</td>\n      <td>12</td>\n      <td>11</td>\n    </tr>\n  </tbody>\n</table>\n</div>"
     },
     "metadata": {},
     "output_type": "display_data"
    }
   ],
   "source": [
    "basic_stats(offer)"
   ],
   "metadata": {
    "collapsed": false,
    "ExecuteTime": {
     "end_time": "2024-02-20T08:54:45.088202300Z",
     "start_time": "2024-02-20T08:54:45.056111Z"
    }
   },
   "id": "1cd4e676198295da",
   "execution_count": 12
  },
  {
   "cell_type": "markdown",
   "source": [
    "is_association_of_suppliers - Sdružení dodavatelů\n",
    "is_rejected_due_too_low - Nabídka byla zamítnuta, vzhledem k mimořádně nízké ceně\n",
    "is_withdrawn - Nabídka byla stáhnuta ze strany účastníka\n",
    "company_id - id účastníka\n",
    "procurement_id - id zúčastněné zakázky"
   ],
   "metadata": {
    "collapsed": false
   },
   "id": "c4e7226b4437212e"
  },
  {
   "cell_type": "code",
   "outputs": [
    {
     "data": {
      "text/plain": "(4675, 20)"
     },
     "metadata": {},
     "output_type": "display_data"
    },
    {
     "data": {
      "text/plain": "                id  contract_price  contract_price_vat  \\\ncount  4675.000000    4.675000e+03        4.675000e+03   \nmean   2373.381604    6.949599e+06        9.740506e+10   \nstd    1361.882448    5.382124e+07        6.659077e+12   \nmin       1.000000    0.000000e+00        0.000000e+00   \n25%    1196.500000    1.145000e+04        1.383635e+04   \n50%    2365.000000    1.147670e+05        1.346089e+05   \n75%    3534.500000    8.744530e+05        1.051344e+06   \nmax    4746.000000    1.505337e+09        4.553075e+14   \n\n       contract_price_with_amendments  contract_price_with_amendments_vat  \\\ncount                    4.675000e+03                        4.675000e+03   \nmean                     7.032596e+06                        9.740516e+10   \nstd                      5.435479e+07                        6.659077e+12   \nmin                      0.000000e+00                        0.000000e+00   \n25%                      1.145000e+04                        1.383635e+04   \n50%                      1.147670e+05                        1.346089e+05   \n75%                      8.744530e+05                        1.051344e+06   \nmax                      1.505337e+09                        4.553075e+14   \n\n       contact_person_id  contracting_authority_id  supplier_id  \ncount        4675.000000               4675.000000  4675.000000  \nmean          454.022674                 88.445775  1231.234652  \nstd           310.835333                115.396351  1048.143363  \nmin             1.000000                  1.000000     1.000000  \n25%           193.000000                  1.000000   309.500000  \n50%           415.000000                 52.000000   930.000000  \n75%           695.000000                146.500000  2016.000000  \nmax          1183.000000                484.000000  3697.000000  ",
      "text/html": "<div>\n<style scoped>\n    .dataframe tbody tr th:only-of-type {\n        vertical-align: middle;\n    }\n\n    .dataframe tbody tr th {\n        vertical-align: top;\n    }\n\n    .dataframe thead th {\n        text-align: right;\n    }\n</style>\n<table border=\"1\" class=\"dataframe\">\n  <thead>\n    <tr style=\"text-align: right;\">\n      <th></th>\n      <th>id</th>\n      <th>contract_price</th>\n      <th>contract_price_vat</th>\n      <th>contract_price_with_amendments</th>\n      <th>contract_price_with_amendments_vat</th>\n      <th>contact_person_id</th>\n      <th>contracting_authority_id</th>\n      <th>supplier_id</th>\n    </tr>\n  </thead>\n  <tbody>\n    <tr>\n      <th>count</th>\n      <td>4675.000000</td>\n      <td>4.675000e+03</td>\n      <td>4.675000e+03</td>\n      <td>4.675000e+03</td>\n      <td>4.675000e+03</td>\n      <td>4675.000000</td>\n      <td>4675.000000</td>\n      <td>4675.000000</td>\n    </tr>\n    <tr>\n      <th>mean</th>\n      <td>2373.381604</td>\n      <td>6.949599e+06</td>\n      <td>9.740506e+10</td>\n      <td>7.032596e+06</td>\n      <td>9.740516e+10</td>\n      <td>454.022674</td>\n      <td>88.445775</td>\n      <td>1231.234652</td>\n    </tr>\n    <tr>\n      <th>std</th>\n      <td>1361.882448</td>\n      <td>5.382124e+07</td>\n      <td>6.659077e+12</td>\n      <td>5.435479e+07</td>\n      <td>6.659077e+12</td>\n      <td>310.835333</td>\n      <td>115.396351</td>\n      <td>1048.143363</td>\n    </tr>\n    <tr>\n      <th>min</th>\n      <td>1.000000</td>\n      <td>0.000000e+00</td>\n      <td>0.000000e+00</td>\n      <td>0.000000e+00</td>\n      <td>0.000000e+00</td>\n      <td>1.000000</td>\n      <td>1.000000</td>\n      <td>1.000000</td>\n    </tr>\n    <tr>\n      <th>25%</th>\n      <td>1196.500000</td>\n      <td>1.145000e+04</td>\n      <td>1.383635e+04</td>\n      <td>1.145000e+04</td>\n      <td>1.383635e+04</td>\n      <td>193.000000</td>\n      <td>1.000000</td>\n      <td>309.500000</td>\n    </tr>\n    <tr>\n      <th>50%</th>\n      <td>2365.000000</td>\n      <td>1.147670e+05</td>\n      <td>1.346089e+05</td>\n      <td>1.147670e+05</td>\n      <td>1.346089e+05</td>\n      <td>415.000000</td>\n      <td>52.000000</td>\n      <td>930.000000</td>\n    </tr>\n    <tr>\n      <th>75%</th>\n      <td>3534.500000</td>\n      <td>8.744530e+05</td>\n      <td>1.051344e+06</td>\n      <td>8.744530e+05</td>\n      <td>1.051344e+06</td>\n      <td>695.000000</td>\n      <td>146.500000</td>\n      <td>2016.000000</td>\n    </tr>\n    <tr>\n      <th>max</th>\n      <td>4746.000000</td>\n      <td>1.505337e+09</td>\n      <td>4.553075e+14</td>\n      <td>1.505337e+09</td>\n      <td>4.553075e+14</td>\n      <td>1183.000000</td>\n      <td>484.000000</td>\n      <td>3697.000000</td>\n    </tr>\n  </tbody>\n</table>\n</div>"
     },
     "metadata": {},
     "output_type": "display_data"
    },
    {
     "name": "stdout",
     "output_type": "stream",
     "text": [
      "Missing values for each column in %:\n"
     ]
    },
    {
     "data": {
      "text/plain": "id                                     0.000000\nbids_submission_deadline              52.834225\ncode_from_nipez_codelist               6.631016\ncontract_price                         0.000000\ncontract_price_vat                     0.000000\ncontract_price_with_amendments         0.000000\ncontract_price_with_amendments_vat     0.000000\ndate_of_contract_close                 0.064171\ndate_of_publication                    6.951872\nis_association_of_suppliers            0.000000\nprocurement_name                       0.000000\nname_from_nipez_codelist               6.631016\nplace_of_performance                  10.930481\npublic_contract_regime                38.374332\nsystem_number                          0.000000\ntype                                   0.085561\ntype_of_procedure                      0.000000\ncontact_person_id                      0.000000\ncontracting_authority_id               0.000000\nsupplier_id                            0.000000\ndtype: float64"
     },
     "metadata": {},
     "output_type": "display_data"
    },
    {
     "data": {
      "text/plain": "   id bids_submission_deadline code_from_nipez_codelist  contract_price  \\\n0   1                      NaN               15710000-8        38973.48   \n1   2                      NaN               50110000-9         9832.02   \n2   3                      NaN                      NaN       130000.00   \n3   4                      NaN               90511000-2        26580.00   \n4   5                      NaN               90500000-2         8468.00   \n5   6                      NaN               24612000-7        90525.00   \n6   7                      NaN               15710000-8       103600.35   \n7   8                      NaN               15710000-8        23508.00   \n8   9                      NaN               45000000-7      1078673.00   \n9  10                      NaN               03322000-2       130000.00   \n\n   contract_price_vat  contract_price_with_amendments  \\\n0            44820.00                        38973.48   \n1            11896.74                         9832.02   \n2           130000.00                       130000.00   \n3            32161.80                        26580.00   \n4             9314.80                         8468.00   \n5           109535.25                        90525.00   \n6           119141.40                       103600.35   \n7            27034.20                        23508.00   \n8          1305194.33                      1078673.00   \n9           130000.00                       130000.00   \n\n   contract_price_with_amendments_vat date_of_contract_close  \\\n0                            44820.00             2022-03-02   \n1                            11896.74             2023-11-23   \n2                           130000.00             2022-02-24   \n3                            32161.80             2022-03-07   \n4                             9314.80             2023-10-24   \n5                           109535.25             2022-03-31   \n6                           119141.40             2022-04-01   \n7                            27034.20             2022-04-28   \n8                          1305194.33             2023-11-24   \n9                           130000.00             2022-03-31   \n\n  date_of_publication  is_association_of_suppliers  \\\n0          2022-03-02                        False   \n1          2023-11-30                        False   \n2          2022-03-02                        False   \n3          2022-03-07                        False   \n4          2023-10-24                        False   \n5          2022-04-01                        False   \n6          2022-04-01                        False   \n7          2022-05-03                        False   \n8          2023-11-30                        False   \n9          2022-04-21                        False   \n\n                                    procurement_name  \\\n0                  Výzva k rámcové dohodě č. 12/2022   \n1  DP-RD Prohlídka s výměnou oleje Š-Karoq 4x4 VP...   \n2  Nákup služebního psa 24. 2. 2022 - hlídkový ob...   \n3                  Výzva k rámcové dohodě č. 14/2022   \n4          RD 2022/25 Servis mobilních toalet 16. dp   \n5                  Výzva k rámcové dohodě č. 17/2022   \n6                  Výzva k rámcové dohodě č. 21/2022   \n7                  Výzva k rámcové dohodě č. 23/2022   \n8           Oprava vodních zdrojů Budětice, Vlkonice   \n9  Nákup služebního psa 31. 3. 2021 speciální pac...   \n\n                            name_from_nipez_codelist place_of_performance  \\\n0   Průmyslová krmiva pro hospodářská a jiná zvířata       Liberecký kraj   \n1  Opravy a údržba motorových vozidel a příslušen...       Jihočeský kraj   \n2                                                NaN                  NaN   \n3                                        Sběr odpadu       Liberecký kraj   \n4     Služby související s likvidací odpadů a odpady     Středočeský kraj   \n5                                    Různé výbušniny       Liberecký kraj   \n6   Průmyslová krmiva pro hospodářská a jiná zvířata       Liberecký kraj   \n7   Průmyslová krmiva pro hospodářská a jiná zvířata       Liberecký kraj   \n8                                     Stavební práce        Plzeňský kraj   \n9                                Hospodářská zvířata                  NaN   \n\n        public_contract_regime      system_number  \\\n0                          NaN  N006/22/V00004456   \n1                          NaN  N006/23/V00033550   \n2  Small-scale public contract  N006/22/V00004676   \n3                          NaN  N006/22/V00004924   \n4                          NaN  N006/23/V00030140   \n5                          NaN  N006/22/V00007031   \n6                          NaN  N006/22/V00007590   \n7                          NaN  N006/22/V00009380   \n8  Small-scale public contract  N006/23/V00034233   \n9  Small-scale public contract  N006/22/V00009384   \n\n                                    type  \\\n0         Public contract for deliveries   \n1           Public contract for services   \n2         Public contract for deliveries   \n3           Public contract for services   \n4           Public contract for services   \n5           Public contract for services   \n6         Public contract for deliveries   \n7         Public contract for deliveries   \n8  Public contract for construction work   \n9         Public contract for deliveries   \n\n                                   type_of_procedure  contact_person_id  \\\n0  Zadávání VZ na základě rámcové dohody bez obno...                  1   \n1  Zadávání VZ na základě rámcové dohody bez obno...                  2   \n2                                     Otevřená výzva                  1   \n3  Zadávání VZ na základě rámcové dohody bez obno...                  1   \n4  Zadávání VZ na základě rámcové dohody bez obno...                  3   \n5  Zadávání VZ na základě rámcové dohody bez obno...                  1   \n6  Zadávání VZ na základě rámcové dohody bez obno...                  1   \n7  Zadávání VZ na základě rámcové dohody bez obno...                  1   \n8                                     Uzavřená výzva                  4   \n9                                     Otevřená výzva                  1   \n\n   contracting_authority_id  supplier_id  \n0                         1            1  \n1                         1            2  \n2                         1            3  \n3                         1            4  \n4                         1            5  \n5                         1            6  \n6                         1            7  \n7                         1            8  \n8                         2            9  \n9                         1           10  ",
      "text/html": "<div>\n<style scoped>\n    .dataframe tbody tr th:only-of-type {\n        vertical-align: middle;\n    }\n\n    .dataframe tbody tr th {\n        vertical-align: top;\n    }\n\n    .dataframe thead th {\n        text-align: right;\n    }\n</style>\n<table border=\"1\" class=\"dataframe\">\n  <thead>\n    <tr style=\"text-align: right;\">\n      <th></th>\n      <th>id</th>\n      <th>bids_submission_deadline</th>\n      <th>code_from_nipez_codelist</th>\n      <th>contract_price</th>\n      <th>contract_price_vat</th>\n      <th>contract_price_with_amendments</th>\n      <th>contract_price_with_amendments_vat</th>\n      <th>date_of_contract_close</th>\n      <th>date_of_publication</th>\n      <th>is_association_of_suppliers</th>\n      <th>procurement_name</th>\n      <th>name_from_nipez_codelist</th>\n      <th>place_of_performance</th>\n      <th>public_contract_regime</th>\n      <th>system_number</th>\n      <th>type</th>\n      <th>type_of_procedure</th>\n      <th>contact_person_id</th>\n      <th>contracting_authority_id</th>\n      <th>supplier_id</th>\n    </tr>\n  </thead>\n  <tbody>\n    <tr>\n      <th>0</th>\n      <td>1</td>\n      <td>NaN</td>\n      <td>15710000-8</td>\n      <td>38973.48</td>\n      <td>44820.00</td>\n      <td>38973.48</td>\n      <td>44820.00</td>\n      <td>2022-03-02</td>\n      <td>2022-03-02</td>\n      <td>False</td>\n      <td>Výzva k rámcové dohodě č. 12/2022</td>\n      <td>Průmyslová krmiva pro hospodářská a jiná zvířata</td>\n      <td>Liberecký kraj</td>\n      <td>NaN</td>\n      <td>N006/22/V00004456</td>\n      <td>Public contract for deliveries</td>\n      <td>Zadávání VZ na základě rámcové dohody bez obno...</td>\n      <td>1</td>\n      <td>1</td>\n      <td>1</td>\n    </tr>\n    <tr>\n      <th>1</th>\n      <td>2</td>\n      <td>NaN</td>\n      <td>50110000-9</td>\n      <td>9832.02</td>\n      <td>11896.74</td>\n      <td>9832.02</td>\n      <td>11896.74</td>\n      <td>2023-11-23</td>\n      <td>2023-11-30</td>\n      <td>False</td>\n      <td>DP-RD Prohlídka s výměnou oleje Š-Karoq 4x4 VP...</td>\n      <td>Opravy a údržba motorových vozidel a příslušen...</td>\n      <td>Jihočeský kraj</td>\n      <td>NaN</td>\n      <td>N006/23/V00033550</td>\n      <td>Public contract for services</td>\n      <td>Zadávání VZ na základě rámcové dohody bez obno...</td>\n      <td>2</td>\n      <td>1</td>\n      <td>2</td>\n    </tr>\n    <tr>\n      <th>2</th>\n      <td>3</td>\n      <td>NaN</td>\n      <td>NaN</td>\n      <td>130000.00</td>\n      <td>130000.00</td>\n      <td>130000.00</td>\n      <td>130000.00</td>\n      <td>2022-02-24</td>\n      <td>2022-03-02</td>\n      <td>False</td>\n      <td>Nákup služebního psa 24. 2. 2022 - hlídkový ob...</td>\n      <td>NaN</td>\n      <td>NaN</td>\n      <td>Small-scale public contract</td>\n      <td>N006/22/V00004676</td>\n      <td>Public contract for deliveries</td>\n      <td>Otevřená výzva</td>\n      <td>1</td>\n      <td>1</td>\n      <td>3</td>\n    </tr>\n    <tr>\n      <th>3</th>\n      <td>4</td>\n      <td>NaN</td>\n      <td>90511000-2</td>\n      <td>26580.00</td>\n      <td>32161.80</td>\n      <td>26580.00</td>\n      <td>32161.80</td>\n      <td>2022-03-07</td>\n      <td>2022-03-07</td>\n      <td>False</td>\n      <td>Výzva k rámcové dohodě č. 14/2022</td>\n      <td>Sběr odpadu</td>\n      <td>Liberecký kraj</td>\n      <td>NaN</td>\n      <td>N006/22/V00004924</td>\n      <td>Public contract for services</td>\n      <td>Zadávání VZ na základě rámcové dohody bez obno...</td>\n      <td>1</td>\n      <td>1</td>\n      <td>4</td>\n    </tr>\n    <tr>\n      <th>4</th>\n      <td>5</td>\n      <td>NaN</td>\n      <td>90500000-2</td>\n      <td>8468.00</td>\n      <td>9314.80</td>\n      <td>8468.00</td>\n      <td>9314.80</td>\n      <td>2023-10-24</td>\n      <td>2023-10-24</td>\n      <td>False</td>\n      <td>RD 2022/25 Servis mobilních toalet 16. dp</td>\n      <td>Služby související s likvidací odpadů a odpady</td>\n      <td>Středočeský kraj</td>\n      <td>NaN</td>\n      <td>N006/23/V00030140</td>\n      <td>Public contract for services</td>\n      <td>Zadávání VZ na základě rámcové dohody bez obno...</td>\n      <td>3</td>\n      <td>1</td>\n      <td>5</td>\n    </tr>\n    <tr>\n      <th>5</th>\n      <td>6</td>\n      <td>NaN</td>\n      <td>24612000-7</td>\n      <td>90525.00</td>\n      <td>109535.25</td>\n      <td>90525.00</td>\n      <td>109535.25</td>\n      <td>2022-03-31</td>\n      <td>2022-04-01</td>\n      <td>False</td>\n      <td>Výzva k rámcové dohodě č. 17/2022</td>\n      <td>Různé výbušniny</td>\n      <td>Liberecký kraj</td>\n      <td>NaN</td>\n      <td>N006/22/V00007031</td>\n      <td>Public contract for services</td>\n      <td>Zadávání VZ na základě rámcové dohody bez obno...</td>\n      <td>1</td>\n      <td>1</td>\n      <td>6</td>\n    </tr>\n    <tr>\n      <th>6</th>\n      <td>7</td>\n      <td>NaN</td>\n      <td>15710000-8</td>\n      <td>103600.35</td>\n      <td>119141.40</td>\n      <td>103600.35</td>\n      <td>119141.40</td>\n      <td>2022-04-01</td>\n      <td>2022-04-01</td>\n      <td>False</td>\n      <td>Výzva k rámcové dohodě č. 21/2022</td>\n      <td>Průmyslová krmiva pro hospodářská a jiná zvířata</td>\n      <td>Liberecký kraj</td>\n      <td>NaN</td>\n      <td>N006/22/V00007590</td>\n      <td>Public contract for deliveries</td>\n      <td>Zadávání VZ na základě rámcové dohody bez obno...</td>\n      <td>1</td>\n      <td>1</td>\n      <td>7</td>\n    </tr>\n    <tr>\n      <th>7</th>\n      <td>8</td>\n      <td>NaN</td>\n      <td>15710000-8</td>\n      <td>23508.00</td>\n      <td>27034.20</td>\n      <td>23508.00</td>\n      <td>27034.20</td>\n      <td>2022-04-28</td>\n      <td>2022-05-03</td>\n      <td>False</td>\n      <td>Výzva k rámcové dohodě č. 23/2022</td>\n      <td>Průmyslová krmiva pro hospodářská a jiná zvířata</td>\n      <td>Liberecký kraj</td>\n      <td>NaN</td>\n      <td>N006/22/V00009380</td>\n      <td>Public contract for deliveries</td>\n      <td>Zadávání VZ na základě rámcové dohody bez obno...</td>\n      <td>1</td>\n      <td>1</td>\n      <td>8</td>\n    </tr>\n    <tr>\n      <th>8</th>\n      <td>9</td>\n      <td>NaN</td>\n      <td>45000000-7</td>\n      <td>1078673.00</td>\n      <td>1305194.33</td>\n      <td>1078673.00</td>\n      <td>1305194.33</td>\n      <td>2023-11-24</td>\n      <td>2023-11-30</td>\n      <td>False</td>\n      <td>Oprava vodních zdrojů Budětice, Vlkonice</td>\n      <td>Stavební práce</td>\n      <td>Plzeňský kraj</td>\n      <td>Small-scale public contract</td>\n      <td>N006/23/V00034233</td>\n      <td>Public contract for construction work</td>\n      <td>Uzavřená výzva</td>\n      <td>4</td>\n      <td>2</td>\n      <td>9</td>\n    </tr>\n    <tr>\n      <th>9</th>\n      <td>10</td>\n      <td>NaN</td>\n      <td>03322000-2</td>\n      <td>130000.00</td>\n      <td>130000.00</td>\n      <td>130000.00</td>\n      <td>130000.00</td>\n      <td>2022-03-31</td>\n      <td>2022-04-21</td>\n      <td>False</td>\n      <td>Nákup služebního psa 31. 3. 2021 speciální pac...</td>\n      <td>Hospodářská zvířata</td>\n      <td>NaN</td>\n      <td>Small-scale public contract</td>\n      <td>N006/22/V00009384</td>\n      <td>Public contract for deliveries</td>\n      <td>Otevřená výzva</td>\n      <td>1</td>\n      <td>1</td>\n      <td>10</td>\n    </tr>\n  </tbody>\n</table>\n</div>"
     },
     "metadata": {},
     "output_type": "display_data"
    }
   ],
   "source": [
    "basic_stats(procurement)"
   ],
   "metadata": {
    "collapsed": false,
    "ExecuteTime": {
     "end_time": "2024-02-20T09:05:45.150045300Z",
     "start_time": "2024-02-20T09:05:45.101939600Z"
    }
   },
   "id": "98f94ce9308f6019",
   "execution_count": 13
  },
  {
   "cell_type": "markdown",
   "source": [
    "bids_submission_deadline - deadline pro podání nabídek, pokud byl zveřejněn\n",
    "code_from_nipez_codelist - NIPEZ kód\n",
    "contract_price_with_amendments - výsledná cena zakázky s dodatky - změny jsou omezeny podle §222 (nesmí překročit 10% popř. 15% pro stavební práce - možná anomálie?\n",
    "date_of_contract_close - datum uzavření smlouvy s výhercem\n",
    "date_of_publication - datum zveřejnění na portálu\n",
    "public_contract_regime - režim veřejné zakázky - od něj se odvíjí pravidla pro určování ceny, zda-li je nutné zveřejňovat zakázku atd.."
   ],
   "metadata": {
    "collapsed": false
   },
   "id": "9a0003328515660b"
  },
  {
   "cell_type": "code",
   "outputs": [
    {
     "data": {
      "text/plain": "array([nan, 'Small-scale public contract', 'Above-limit public contract',\n       'Below-limit public contract', 'Zjednodušený režim',\n       'Small-scale concession',\n       'Below-threshold public procurement besides the procurement procedure'],\n      dtype=object)"
     },
     "execution_count": 16,
     "metadata": {},
     "output_type": "execute_result"
    }
   ],
   "source": [
    "procurement['public_contract_regime'].unique()"
   ],
   "metadata": {
    "collapsed": false,
    "ExecuteTime": {
     "end_time": "2024-02-20T09:25:45.068958800Z",
     "start_time": "2024-02-20T09:25:45.051317200Z"
    }
   },
   "id": "2f714c442c70ca2a",
   "execution_count": 16
  },
  {
   "cell_type": "markdown",
   "source": [
    "type - typ veřejné zakázky (služby, stavební práce, dodávky) nebo koncese (stavební práce, služby)"
   ],
   "metadata": {
    "collapsed": false
   },
   "id": "9c23b1d6c26d5dc6"
  },
  {
   "cell_type": "code",
   "outputs": [
    {
     "data": {
      "text/plain": "array(['Public contract for deliveries', 'Public contract for services',\n       'Public contract for construction work', 'Service concessions',\n       'Concession for construction works', nan], dtype=object)"
     },
     "execution_count": 17,
     "metadata": {},
     "output_type": "execute_result"
    }
   ],
   "source": [
    "procurement['type'].unique()"
   ],
   "metadata": {
    "collapsed": false,
    "ExecuteTime": {
     "end_time": "2024-02-20T09:32:01.260054300Z",
     "start_time": "2024-02-20T09:32:01.254043300Z"
    }
   },
   "id": "798896dc6cfcaf68",
   "execution_count": 17
  },
  {
   "cell_type": "markdown",
   "source": [
    "type_of_procedure - druh zadávacího postupu"
   ],
   "metadata": {
    "collapsed": false
   },
   "id": "3a1dc6c89265b935"
  },
  {
   "cell_type": "code",
   "outputs": [
    {
     "data": {
      "text/plain": "array(['Zadávání VZ na základě rámcové dohody bez obnovení soutěže (mimo zadávací řízení)',\n       'Otevřená výzva', 'Uzavřená výzva', 'Otevřené řízení',\n       'Přímé zadání', 'Zjednodušené podlimitní řízení',\n       'Zadávání VZ na základě rámcové dohody s obnovením soutěže (mimo zadávací řízení)',\n       'Zadávání VZ na základě rámcové dohody bez obnovení soutěže na základě zadávacího řízení',\n       'Zadávání VZ na základě rámcové dohody s obnovením soutěže na základě zadávacího řízení',\n       'Užší řízení', 'Jednací řízení s uveřejněním', 'Zadávání VZ v DNS',\n       'Jednací řízení bez uveřejnění',\n       'Řízení pro zadání veřejné zakázky ve zjednodušeném režimu',\n       'Řízení se soutěžním dialogem', 'E-aukce malého rozsahu',\n       'Zadávání VZ na základě RS s jedním uchazečem v režimu ZVZ',\n       'Zadávání VZ na základě RS s jedním uchazečem (mimo režim ZVZ)',\n       'Zadávání VZ na základě RS s více uchazeči (mimo režim ZVZ)'],\n      dtype=object)"
     },
     "execution_count": 18,
     "metadata": {},
     "output_type": "execute_result"
    }
   ],
   "source": [
    "procurement['type_of_procedure'].unique()"
   ],
   "metadata": {
    "collapsed": false,
    "ExecuteTime": {
     "end_time": "2024-02-20T09:35:48.779439200Z",
     "start_time": "2024-02-20T09:35:48.764729700Z"
    }
   },
   "id": "22441278e0091fcd",
   "execution_count": 18
  },
  {
   "cell_type": "code",
   "outputs": [],
   "source": [],
   "metadata": {
    "collapsed": false
   },
   "id": "aa09cc87ca5c7fde"
  }
 ],
 "metadata": {
  "kernelspec": {
   "display_name": "Python 3",
   "language": "python",
   "name": "python3"
  },
  "language_info": {
   "codemirror_mode": {
    "name": "ipython",
    "version": 2
   },
   "file_extension": ".py",
   "mimetype": "text/x-python",
   "name": "python",
   "nbconvert_exporter": "python",
   "pygments_lexer": "ipython2",
   "version": "2.7.6"
  }
 },
 "nbformat": 4,
 "nbformat_minor": 5
}
